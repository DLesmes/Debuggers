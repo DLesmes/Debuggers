{
 "cells": [
  {
   "cell_type": "markdown",
   "id": "interpreted-venture",
   "metadata": {},
   "source": [
    "## Requeriments"
   ]
  },
  {
   "cell_type": "code",
   "execution_count": 1,
   "id": "skilled-enzyme",
   "metadata": {},
   "outputs": [
    {
     "name": "stderr",
     "output_type": "stream",
     "text": [
      "/pip_envs/Debuggers3.6/lib/python3.6/site-packages/pandas/compat/__init__.py:120: UserWarning: Could not import the lzma module. Your installed Python is incomplete. Attempting to use lzma compression will result in a RuntimeError.\n",
      "  warnings.warn(msg)\n"
     ]
    }
   ],
   "source": [
    "import numpy                 as np\n",
    "import pandas                as pd\n",
    "import matplotlib.pyplot     as plt\n",
    "import seaborn               as sns\n",
    "import missingno as msno\n",
    "from zipfile import ZipFile as zf\n",
    "import random\n",
    "#import sklearn.metrics       as Metrics\n",
    "\n",
    "from sklearn.impute import SimpleImputer"
   ]
  },
  {
   "cell_type": "code",
   "execution_count": 2,
   "id": "rolled-polymer",
   "metadata": {
    "scrolled": true
   },
   "outputs": [],
   "source": [
    "#df = pd.read_csv(\"/mnt/workstation/data/input_Pesos_Dic_20.csv\")#, sep= \",\", names =header)\n",
    "topten = pd.read_csv(\"/mnt/workstation/data/Input_Topten.csv\")\n",
    "middleten = pd.read_csv(\"/mnt/workstation/data/Aggregate_20_30.csv\")\n",
    "lastten = pd.read_csv(\"/mnt/workstation/data/Aggregate_last_10_v2.csv\")\n",
    "labels = pd.read_csv(\"/mnt/workstation/data/labels.csv\")"
   ]
  },
  {
   "cell_type": "code",
   "execution_count": 3,
   "id": "willing-capture",
   "metadata": {},
   "outputs": [
    {
     "data": {
      "text/plain": [
       "Index(['id_cli', 'edad', 'mora_max', 'cant_moras_30_ult_12_meses',\n",
       "       'cant_moras_60_ult_12_meses', 'cant_moras_90_ult_12_meses',\n",
       "       'cupo_total_tc', 'codigo_ciiu', 'ctas_activas', 'ctas_embargadas',\n",
       "       'mediana_nom3', 'genero', 'estado_civil', 'nivel_academico',\n",
       "       'profesion', 'ocupacion', 'tipo_vivienda', 'ciudad_residencia',\n",
       "       'departamento_residencia', 'ciudad_laboral', 'departamento_laboral',\n",
       "       'rechazo_credito', 'cat_ingreso', 'rep_calif_cred', 'ind_mora_vigente',\n",
       "       'cartera_castigada', 'tenencia_tc', 'tiene_consumo', 'tiene_crediagil',\n",
       "       'tiene_ctas_activas', 'tiene_ctas_embargadas', 'pension_fopep',\n",
       "       'tiene_cred_hipo_1', 'tiene_cred_hipo_2'],\n",
       "      dtype='object')"
      ]
     },
     "execution_count": 3,
     "metadata": {},
     "output_type": "execute_result"
    }
   ],
   "source": [
    "topten.columns"
   ]
  },
  {
   "cell_type": "code",
   "execution_count": 4,
   "id": "increased-thong",
   "metadata": {},
   "outputs": [],
   "source": [
    "topten = topten.drop(columns=['departamento_residencia',\n",
    "                                    'ciudad_laboral',\n",
    "                                    'departamento_laboral',\n",
    "                                ], axis=0)"
   ]
  },
  {
   "cell_type": "code",
   "execution_count": 5,
   "id": "northern-acting",
   "metadata": {},
   "outputs": [
    {
     "data": {
      "text/plain": [
       "Index(['Unnamed: 0', 'id_cli', 'cant_mora_30_tdc_ult_3m_sf',\n",
       "       'cant_mora_30_consum_ult_3m_sf', 'periodo', 'ctas_activas',\n",
       "       'ctas_embargadas', 'cupo_tc_mdo', 'saldo_prom3_tdc_mdo',\n",
       "       'mediana_nom3_desv', 'mediana_pen3_desv', 'ingreso_nompen_desv',\n",
       "       'ingreso_final_desv', 'ingreso_nompen', 'ingreso_final',\n",
       "       'cuota_de_vivienda', 'cuota_de_consumo', 'cuota_rotativos',\n",
       "       'cuota_de_sector_solidario', 'cuota_sector_real_comercio'],\n",
       "      dtype='object')"
      ]
     },
     "execution_count": 5,
     "metadata": {},
     "output_type": "execute_result"
    }
   ],
   "source": [
    "middleten.columns"
   ]
  },
  {
   "cell_type": "code",
   "execution_count": 6,
   "id": "palestinian-relaxation",
   "metadata": {
    "scrolled": true
   },
   "outputs": [],
   "source": [
    "middleten = middleten.drop(columns=['periodo',\n",
    "                                    'ctas_activas',\n",
    "                                    'ctas_embargadas',\n",
    "                                    'saldo_prom3_tdc_mdo',\n",
    "                                    'cupo_tc_mdo'\n",
    "                                    ], axis=0)"
   ]
  },
  {
   "cell_type": "code",
   "execution_count": 7,
   "id": "purple-inflation",
   "metadata": {},
   "outputs": [
    {
     "data": {
      "text/plain": [
       "Index(['Unnamed: 0', 'id_cli', 'pol_centr_ext', 'saldo_prom3_tdc_mdo',\n",
       "       'cupo_tc_mdo', 'cant_oblig_tot_sf', 'cant_cast_ult_12m_sr',\n",
       "       'saldo_no_rot_mdo', 'ind', 'gasto_familiar'],\n",
       "      dtype='object')"
      ]
     },
     "execution_count": 7,
     "metadata": {},
     "output_type": "execute_result"
    }
   ],
   "source": [
    "lastten.columns"
   ]
  },
  {
   "cell_type": "code",
   "execution_count": 8,
   "id": "sharp-ghost",
   "metadata": {},
   "outputs": [
    {
     "data": {
      "text/plain": [
       "(1047955, 31)"
      ]
     },
     "execution_count": 8,
     "metadata": {},
     "output_type": "execute_result"
    }
   ],
   "source": [
    "topten.shape"
   ]
  },
  {
   "cell_type": "code",
   "execution_count": 9,
   "id": "third-blake",
   "metadata": {},
   "outputs": [
    {
     "data": {
      "text/plain": [
       "(1047955, 44)"
      ]
     },
     "execution_count": 9,
     "metadata": {},
     "output_type": "execute_result"
    }
   ],
   "source": [
    "df_Xcli = topten.merge(middleten.iloc[:,1:], on=\"id_cli\", how='left')\n",
    "df_Xcli.shape"
   ]
  },
  {
   "cell_type": "code",
   "execution_count": 10,
   "id": "aware-glass",
   "metadata": {},
   "outputs": [
    {
     "data": {
      "text/plain": [
       "(1092553, 52)"
      ]
     },
     "execution_count": 10,
     "metadata": {},
     "output_type": "execute_result"
    }
   ],
   "source": [
    "df_Xcli = df_Xcli.merge(lastten.iloc[:,1:], on=\"id_cli\", how='left')\n",
    "df_Xcli.shape"
   ]
  },
  {
   "cell_type": "code",
   "execution_count": 11,
   "id": "intellectual-neutral",
   "metadata": {},
   "outputs": [],
   "source": [
    "df_Xcli['mora_max'] = df_Xcli['mora_max'].replace(np.nan,0)\n",
    "df_Xcli['cant_moras_30_ult_12_meses'] = df_Xcli['cant_moras_30_ult_12_meses'].replace(np.nan,0)\n",
    "df_Xcli['cant_moras_60_ult_12_meses'] = df_Xcli['cant_moras_60_ult_12_meses'].replace(np.nan,0)\n",
    "df_Xcli['cant_moras_90_ult_12_meses'] = df_Xcli['cant_moras_90_ult_12_meses'].replace(np.nan,0)"
   ]
  },
  {
   "cell_type": "code",
   "execution_count": 12,
   "id": "inclusive-renaissance",
   "metadata": {},
   "outputs": [],
   "source": [
    "features = pd.DataFrame(df_Xcli.dtypes)\n",
    "features.columns = ['type']\n",
    "features_f = features[features['type'] == 'float64'].index\n",
    "features_o = features[features['type'] == 'object'].index\n",
    "features_i = features[features['type'] == 'int64'].index\n",
    "features_b = features[features['type'] == 'bool'].index"
   ]
  },
  {
   "cell_type": "code",
   "execution_count": 13,
   "id": "dried-horizontal",
   "metadata": {},
   "outputs": [],
   "source": [
    "for i in features_b:\n",
    "    df_Xcli[i] = df_Xcli[i].astype('int')"
   ]
  },
  {
   "cell_type": "code",
   "execution_count": 14,
   "id": "revised-shock",
   "metadata": {},
   "outputs": [],
   "source": [
    "features = pd.DataFrame(df_Xcli.dtypes)\n",
    "features.columns = ['type']\n",
    "features_f = features[features['type'] == 'float64'].index\n",
    "features_o = features[features['type'] == 'object'].index\n",
    "features_i = features[features['type'] == 'int64'].index\n",
    "features_b = features[features['type'] == 'bool'].index"
   ]
  },
  {
   "cell_type": "code",
   "execution_count": null,
   "id": "hollywood-hammer",
   "metadata": {},
   "outputs": [],
   "source": [
    "df_Xcli[features_o].describe(include='all').T"
   ]
  },
  {
   "cell_type": "code",
   "execution_count": null,
   "id": "contemporary-binary",
   "metadata": {},
   "outputs": [],
   "source": [
    "df_Xcli[features_f].describe().T"
   ]
  },
  {
   "cell_type": "code",
   "execution_count": null,
   "id": "appointed-tuner",
   "metadata": {},
   "outputs": [],
   "source": [
    "sns.set_style('darkgrid')\n",
    "plt.rcParams.update({'font.size':15})\n",
    "plt.figure(figsize=(25,10))\n",
    "sns.heatmap(df_Xcli.isnull(), cbar=False)\n",
    "plt.title(\"Top Ten Variables\")\n",
    "plt.xlabel('Variables')\n",
    "plt.ylabel('rows')"
   ]
  },
  {
   "cell_type": "code",
   "execution_count": null,
   "id": "checked-technology",
   "metadata": {},
   "outputs": [],
   "source": [
    "Nulos = 100*df_Xcli.isnull().sum()/df_Xcli.shape[0]\n",
    "Nulos = pd.DataFrame(Nulos)\n",
    "variables_nulas = Nulos[Nulos[0]>30]\n",
    "variables_nulas"
   ]
  },
  {
   "cell_type": "code",
   "execution_count": null,
   "id": "painful-embassy",
   "metadata": {},
   "outputs": [],
   "source": [
    "df_Xcli = df_Xcli.drop(list(variables_nulas.index), axis=1)\n",
    "df_Xcli.shape"
   ]
  },
  {
   "cell_type": "code",
   "execution_count": null,
   "id": "voluntary-split",
   "metadata": {},
   "outputs": [],
   "source": [
    "Nulos = 100*df_Xcli.isnull().sum()/df_Xcli.shape[0]\n",
    "Nulos"
   ]
  },
  {
   "cell_type": "markdown",
   "id": "swiss-adapter",
   "metadata": {},
   "source": [
    "## Missing Values Treatment"
   ]
  },
  {
   "cell_type": "code",
   "execution_count": null,
   "id": "concrete-pixel",
   "metadata": {},
   "outputs": [],
   "source": [
    "Nulos = pd.DataFrame(Nulos)\n",
    "Nulos.columns = ['%Null']\n",
    "Variables_Completar = Nulos[Nulos['%Null']>0]\n",
    "Variables_Completar"
   ]
  },
  {
   "cell_type": "code",
   "execution_count": null,
   "id": "gorgeous-cincinnati",
   "metadata": {},
   "outputs": [],
   "source": [
    "df_Xcli[Variables_Completar.index]"
   ]
  },
  {
   "cell_type": "code",
   "execution_count": null,
   "id": "requested-retirement",
   "metadata": {},
   "outputs": [],
   "source": [
    "features = pd.DataFrame(df_Xcli[Variables_Completar.index].dtypes)\n",
    "features.columns = ['type']\n",
    "features_f = features[features['type'] == 'float64'].index\n",
    "features_o = features[features['type'] == 'object'].index\n",
    "features_i = features[features['type'] == 'int64'].index\n",
    "features_b = features[features['type'] == 'bool'].index"
   ]
  },
  {
   "cell_type": "markdown",
   "id": "addressed-coordinate",
   "metadata": {},
   "source": [
    "## Categorical Variables"
   ]
  },
  {
   "cell_type": "code",
   "execution_count": null,
   "id": "champion-newman",
   "metadata": {},
   "outputs": [],
   "source": [
    "100*df_Xcli[features_o].isnull().sum()/df_Xcli.shape[0]"
   ]
  },
  {
   "cell_type": "code",
   "execution_count": null,
   "id": "invisible-compilation",
   "metadata": {},
   "outputs": [],
   "source": [
    "imp = SimpleImputer(strategy=\"most_frequent\")\n",
    "imp.fit(df_Xcli[features_o])\n",
    "imputed_cat_training = imp.transform(df_Xcli[features_o])\n",
    "imputed_cat_training"
   ]
  },
  {
   "cell_type": "code",
   "execution_count": null,
   "id": "representative-bridges",
   "metadata": {},
   "outputs": [],
   "source": [
    "df_Xcli[features_o] = imputed_cat_training"
   ]
  },
  {
   "cell_type": "code",
   "execution_count": null,
   "id": "preceding-consultation",
   "metadata": {},
   "outputs": [],
   "source": [
    "100*df_Xcli[features_o].isnull().sum()/df_Xcli.shape[0]"
   ]
  },
  {
   "cell_type": "code",
   "execution_count": null,
   "id": "therapeutic-overhead",
   "metadata": {},
   "outputs": [],
   "source": [
    "df_Xcli[features_o].describe(include='all').T"
   ]
  },
  {
   "cell_type": "markdown",
   "id": "based-mounting",
   "metadata": {},
   "source": [
    "## Numerical variables"
   ]
  },
  {
   "cell_type": "code",
   "execution_count": null,
   "id": "common-safety",
   "metadata": {},
   "outputs": [],
   "source": [
    "100*df_Xcli[features_f].isnull().sum()/df_Xcli.shape[0]"
   ]
  },
  {
   "cell_type": "code",
   "execution_count": null,
   "id": "thick-wellington",
   "metadata": {},
   "outputs": [],
   "source": [
    "means = df_Xcli[features_f].mean(axis=0)\n",
    "#means.reset_index(inplce = True)\n",
    "#means.columns = ['Variable','Mean']\n",
    "means"
   ]
  },
  {
   "cell_type": "code",
   "execution_count": null,
   "id": "twenty-permission",
   "metadata": {},
   "outputs": [],
   "source": [
    "for i in features_f:\n",
    "    ind = df_Xcli[i].isnull().index\n",
    "    df_Xcli.loc[ind,i] = means.loc[i]"
   ]
  },
  {
   "cell_type": "code",
   "execution_count": null,
   "id": "failing-insider",
   "metadata": {},
   "outputs": [],
   "source": [
    "100*df_Xcli[features_f].isnull().sum()/df_Xcli.shape[0]"
   ]
  },
  {
   "cell_type": "code",
   "execution_count": null,
   "id": "million-participant",
   "metadata": {
    "scrolled": false
   },
   "outputs": [],
   "source": [
    "df_Xcli[features_f].describe().T"
   ]
  },
  {
   "cell_type": "markdown",
   "id": "ranging-paintball",
   "metadata": {},
   "source": [
    "## Labeling"
   ]
  },
  {
   "cell_type": "code",
   "execution_count": null,
   "id": "multiple-depth",
   "metadata": {},
   "outputs": [],
   "source": [
    "labels"
   ]
  },
  {
   "cell_type": "code",
   "execution_count": null,
   "id": "irish-testing",
   "metadata": {
    "scrolled": false
   },
   "outputs": [],
   "source": [
    "for j in ['ind','gasto_familiar','ingreso_nompen']:\n",
    "    for i in features_o:\n",
    "        tag = labels[labels['Var_mean'] ==j]\n",
    "        tmp = pd.pivot_table(tag[tag['Categoria'].isin(df_Xcli[i].unique())][['Categoria','Label']],\n",
    "                       values='Label',\n",
    "                       columns='Categoria').round()\n",
    "        tmp = tmp.T.to_dict()['Label']\n",
    "        nueva_variable = i+'_tag_'+j\n",
    "        df_Xcli[nueva_variable] = df_Xcli[i].map(tmp)"
   ]
  },
  {
   "cell_type": "code",
   "execution_count": null,
   "id": "pregnant-mattress",
   "metadata": {},
   "outputs": [],
   "source": [
    "conditions = [\n",
    "    (df_Xcli['genero'] == 'M'),\n",
    "    (df_Xcli['genero'] == 'F')\n",
    "]\n",
    "values = [2,1]\n",
    "df_Xcli['genero_tag'] = np.select(conditions, values)"
   ]
  },
  {
   "cell_type": "code",
   "execution_count": null,
   "id": "radical-antigua",
   "metadata": {
    "scrolled": false
   },
   "outputs": [],
   "source": [
    "df_Xcli.columns"
   ]
  },
  {
   "cell_type": "code",
   "execution_count": null,
   "id": "parental-transformation",
   "metadata": {},
   "outputs": [],
   "source": [
    "features = pd.DataFrame(df_Xcli.dtypes)\n",
    "features.columns = ['type']\n",
    "features_f = features[features['type'] == 'float64'].index\n",
    "features_o = features[features['type'] == 'object'].index\n",
    "features_i = features[features['type'] == 'int64'].index\n",
    "features_b = features[features['type'] == 'bool'].index"
   ]
  },
  {
   "cell_type": "code",
   "execution_count": null,
   "id": "committed-minute",
   "metadata": {},
   "outputs": [],
   "source": [
    "df_Xcli.shape"
   ]
  },
  {
   "cell_type": "code",
   "execution_count": null,
   "id": "current-eleven",
   "metadata": {},
   "outputs": [],
   "source": [
    "df_Xcli[features_o].describe(include='all').T"
   ]
  },
  {
   "cell_type": "code",
   "execution_count": null,
   "id": "frank-scholar",
   "metadata": {},
   "outputs": [],
   "source": [
    "df_Xcli.describe().T.head(60)"
   ]
  },
  {
   "cell_type": "code",
   "execution_count": null,
   "id": "cognitive-abortion",
   "metadata": {},
   "outputs": [],
   "source": [
    "df_Xcli.to_csv(\"/mnt/workstation/data/dataXid.csv\", index=False)"
   ]
  }
 ],
 "metadata": {
  "kernelspec": {
   "display_name": "Python 3",
   "language": "python",
   "name": "python3"
  },
  "language_info": {
   "codemirror_mode": {
    "name": "ipython",
    "version": 3
   },
   "file_extension": ".py",
   "mimetype": "text/x-python",
   "name": "python",
   "nbconvert_exporter": "python",
   "pygments_lexer": "ipython3",
   "version": "3.6.3"
  }
 },
 "nbformat": 4,
 "nbformat_minor": 5
}
