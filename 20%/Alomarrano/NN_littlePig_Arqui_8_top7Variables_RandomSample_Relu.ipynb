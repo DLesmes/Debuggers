{
 "cells": [
  {
   "cell_type": "markdown",
   "metadata": {
    "colab_type": "text",
    "id": "view-in-github"
   },
   "source": [
    "<a href=\"https://colab.research.google.com/github/DLesmes/ML_NN_Sk/blob/main/NN_from_Sk.ipynb\" target=\"_parent\"><img src=\"https://colab.research.google.com/assets/colab-badge.svg\" alt=\"Open In Colab\"/></a>"
   ]
  },
  {
   "cell_type": "markdown",
   "metadata": {
    "id": "1H-Mz2tJwpFm"
   },
   "source": [
    "# Requeriments"
   ]
  },
  {
   "cell_type": "code",
   "execution_count": 1,
   "metadata": {
    "scrolled": true
   },
   "outputs": [
    {
     "name": "stderr",
     "output_type": "stream",
     "text": [
      "UserWarning: Modin Ray engine was started with 298 GB free space avaliable, if it is not enough for your application, please set environment variable MODIN_ON_RAY_PLASMA_DIR=/directory/without/space/limiting\n"
     ]
    }
   ],
   "source": [
    "import numpy as np\n",
    "import modin.pandas as pd\n",
    "#import pandas as pd\n",
    "import matplotlib.pyplot     as plt\n",
    "import seaborn  as sns\n",
    "\n",
    "from keras.models import Sequential\n",
    "from keras.layers import Dense, Activation\n",
    "from sklearn.preprocessing import MinMaxScaler\n",
    "from sklearn.model_selection import train_test_split\n",
    "from sklearn.metrics import r2_score"
   ]
  },
  {
   "cell_type": "markdown",
   "metadata": {},
   "source": [
    "## Load Data (Alomarrano)"
   ]
  },
  {
   "cell_type": "code",
   "execution_count": 2,
   "metadata": {},
   "outputs": [
    {
     "data": {
      "text/html": [
       "<div>\n",
       "<style scoped>\n",
       "    .dataframe tbody tr th:only-of-type {\n",
       "        vertical-align: middle;\n",
       "    }\n",
       "\n",
       "    .dataframe tbody tr th {\n",
       "        vertical-align: top;\n",
       "    }\n",
       "\n",
       "    .dataframe thead th {\n",
       "        text-align: right;\n",
       "    }\n",
       "</style>\n",
       "<table border=\"1\" class=\"dataframe\">\n",
       "  <thead>\n",
       "    <tr style=\"text-align: right;\">\n",
       "      <th></th>\n",
       "      <th>periodo</th>\n",
       "      <th>fecha_nacimiento</th>\n",
       "      <th>edad</th>\n",
       "      <th>ult_actual</th>\n",
       "      <th>categoria</th>\n",
       "      <th>codigo_ciiu</th>\n",
       "      <th>ind_mora_vigente</th>\n",
       "      <th>cartera_castigada</th>\n",
       "      <th>mora_max</th>\n",
       "      <th>cant_moras_30_ult_12_meses</th>\n",
       "      <th>...</th>\n",
       "      <th>estado_civil</th>\n",
       "      <th>nivel_academico</th>\n",
       "      <th>profesion</th>\n",
       "      <th>ocupacion</th>\n",
       "      <th>ciudad_residencia</th>\n",
       "      <th>rep_calif_cred</th>\n",
       "      <th>genero</th>\n",
       "      <th>id_registro</th>\n",
       "      <th>anho</th>\n",
       "      <th>mes</th>\n",
       "    </tr>\n",
       "  </thead>\n",
       "  <tbody>\n",
       "    <tr>\n",
       "      <th>0</th>\n",
       "      <td>201908</td>\n",
       "      <td>19840630</td>\n",
       "      <td>35</td>\n",
       "      <td>20180526</td>\n",
       "      <td>1.0</td>\n",
       "      <td>10</td>\n",
       "      <td>1</td>\n",
       "      <td>1</td>\n",
       "      <td>0</td>\n",
       "      <td>0</td>\n",
       "      <td>...</td>\n",
       "      <td>DIVORCIADO</td>\n",
       "      <td>TECNOLOGO</td>\n",
       "      <td>TECNOLOGIA SISTEMAS</td>\n",
       "      <td>Empleado</td>\n",
       "      <td>LORICA</td>\n",
       "      <td>C</td>\n",
       "      <td>M</td>\n",
       "      <td>2089776#201908</td>\n",
       "      <td>2019</td>\n",
       "      <td>8</td>\n",
       "    </tr>\n",
       "    <tr>\n",
       "      <th>1</th>\n",
       "      <td>201909</td>\n",
       "      <td>19840630</td>\n",
       "      <td>35</td>\n",
       "      <td>20180526</td>\n",
       "      <td>1.0</td>\n",
       "      <td>10</td>\n",
       "      <td>1</td>\n",
       "      <td>1</td>\n",
       "      <td>0</td>\n",
       "      <td>0</td>\n",
       "      <td>...</td>\n",
       "      <td>DIVORCIADO</td>\n",
       "      <td>TECNOLOGO</td>\n",
       "      <td>TECNOLOGIA SISTEMAS</td>\n",
       "      <td>Empleado</td>\n",
       "      <td>LORICA</td>\n",
       "      <td>C</td>\n",
       "      <td>M</td>\n",
       "      <td>2089776#201909</td>\n",
       "      <td>2019</td>\n",
       "      <td>9</td>\n",
       "    </tr>\n",
       "    <tr>\n",
       "      <th>2</th>\n",
       "      <td>201907</td>\n",
       "      <td>19840630</td>\n",
       "      <td>35</td>\n",
       "      <td>20180526</td>\n",
       "      <td>1.0</td>\n",
       "      <td>10</td>\n",
       "      <td>1</td>\n",
       "      <td>1</td>\n",
       "      <td>0</td>\n",
       "      <td>0</td>\n",
       "      <td>...</td>\n",
       "      <td>DIVORCIADO</td>\n",
       "      <td>TECNOLOGO</td>\n",
       "      <td>TECNOLOGIA SISTEMAS</td>\n",
       "      <td>Empleado</td>\n",
       "      <td>LORICA</td>\n",
       "      <td>C</td>\n",
       "      <td>M</td>\n",
       "      <td>2089776#201907</td>\n",
       "      <td>2019</td>\n",
       "      <td>7</td>\n",
       "    </tr>\n",
       "    <tr>\n",
       "      <th>3</th>\n",
       "      <td>201903</td>\n",
       "      <td>19840630</td>\n",
       "      <td>35</td>\n",
       "      <td>20180526</td>\n",
       "      <td>1.0</td>\n",
       "      <td>10</td>\n",
       "      <td>1</td>\n",
       "      <td>1</td>\n",
       "      <td>0</td>\n",
       "      <td>0</td>\n",
       "      <td>...</td>\n",
       "      <td>DIVORCIADO</td>\n",
       "      <td>TECNOLOGO</td>\n",
       "      <td>TECNOLOGIA SISTEMAS</td>\n",
       "      <td>Empleado</td>\n",
       "      <td>LORICA</td>\n",
       "      <td>C</td>\n",
       "      <td>M</td>\n",
       "      <td>2089776#201903</td>\n",
       "      <td>2019</td>\n",
       "      <td>3</td>\n",
       "    </tr>\n",
       "    <tr>\n",
       "      <th>4</th>\n",
       "      <td>201911</td>\n",
       "      <td>19840630</td>\n",
       "      <td>35</td>\n",
       "      <td>20180526</td>\n",
       "      <td>1.0</td>\n",
       "      <td>10</td>\n",
       "      <td>1</td>\n",
       "      <td>1</td>\n",
       "      <td>0</td>\n",
       "      <td>0</td>\n",
       "      <td>...</td>\n",
       "      <td>DIVORCIADO</td>\n",
       "      <td>TECNOLOGO</td>\n",
       "      <td>TECNOLOGIA SISTEMAS</td>\n",
       "      <td>Empleado</td>\n",
       "      <td>LORICA</td>\n",
       "      <td>C</td>\n",
       "      <td>M</td>\n",
       "      <td>2089776#201911</td>\n",
       "      <td>2019</td>\n",
       "      <td>11</td>\n",
       "    </tr>\n",
       "    <tr>\n",
       "      <th>...</th>\n",
       "      <td>...</td>\n",
       "      <td>...</td>\n",
       "      <td>...</td>\n",
       "      <td>...</td>\n",
       "      <td>...</td>\n",
       "      <td>...</td>\n",
       "      <td>...</td>\n",
       "      <td>...</td>\n",
       "      <td>...</td>\n",
       "      <td>...</td>\n",
       "      <td>...</td>\n",
       "      <td>...</td>\n",
       "      <td>...</td>\n",
       "      <td>...</td>\n",
       "      <td>...</td>\n",
       "      <td>...</td>\n",
       "      <td>...</td>\n",
       "      <td>...</td>\n",
       "      <td>...</td>\n",
       "      <td>...</td>\n",
       "      <td>...</td>\n",
       "    </tr>\n",
       "    <tr>\n",
       "      <th>9527188</th>\n",
       "      <td>202011</td>\n",
       "      <td>19740415</td>\n",
       "      <td>47</td>\n",
       "      <td>20201010</td>\n",
       "      <td>2.0</td>\n",
       "      <td>10</td>\n",
       "      <td>1</td>\n",
       "      <td>1</td>\n",
       "      <td>0</td>\n",
       "      <td>0</td>\n",
       "      <td>...</td>\n",
       "      <td>SOLTERO</td>\n",
       "      <td>UNIVERSITARIO</td>\n",
       "      <td>OTROS</td>\n",
       "      <td>Empleado</td>\n",
       "      <td>PUERRES</td>\n",
       "      <td>A</td>\n",
       "      <td>F</td>\n",
       "      <td>8596193#202011</td>\n",
       "      <td>2020</td>\n",
       "      <td>11</td>\n",
       "    </tr>\n",
       "    <tr>\n",
       "      <th>9527189</th>\n",
       "      <td>202011</td>\n",
       "      <td>19850620</td>\n",
       "      <td>35</td>\n",
       "      <td>20201003</td>\n",
       "      <td>3.0</td>\n",
       "      <td>90</td>\n",
       "      <td>1</td>\n",
       "      <td>1</td>\n",
       "      <td>28</td>\n",
       "      <td>0</td>\n",
       "      <td>...</td>\n",
       "      <td>DIVORCIADO</td>\n",
       "      <td>UNIVERSITARIO</td>\n",
       "      <td>CARRERA MILITAR</td>\n",
       "      <td>Empleado</td>\n",
       "      <td>PEDRAZA</td>\n",
       "      <td>C</td>\n",
       "      <td>M</td>\n",
       "      <td>8616083#202011</td>\n",
       "      <td>2020</td>\n",
       "      <td>11</td>\n",
       "    </tr>\n",
       "    <tr>\n",
       "      <th>9527190</th>\n",
       "      <td>202011</td>\n",
       "      <td>19740316</td>\n",
       "      <td>47</td>\n",
       "      <td>20200616</td>\n",
       "      <td>3.0</td>\n",
       "      <td>10</td>\n",
       "      <td>1</td>\n",
       "      <td>1</td>\n",
       "      <td>23</td>\n",
       "      <td>0</td>\n",
       "      <td>...</td>\n",
       "      <td>DIVORCIADO</td>\n",
       "      <td>UNIVERSITARIO</td>\n",
       "      <td>QUIMICA FARMACEUTICA</td>\n",
       "      <td>Independiente</td>\n",
       "      <td>MURILLO</td>\n",
       "      <td>D</td>\n",
       "      <td>M</td>\n",
       "      <td>8670207#202011</td>\n",
       "      <td>2020</td>\n",
       "      <td>11</td>\n",
       "    </tr>\n",
       "    <tr>\n",
       "      <th>9527191</th>\n",
       "      <td>202011</td>\n",
       "      <td>19780722</td>\n",
       "      <td>42</td>\n",
       "      <td>20200423</td>\n",
       "      <td>2.0</td>\n",
       "      <td>10</td>\n",
       "      <td>1</td>\n",
       "      <td>1</td>\n",
       "      <td>0</td>\n",
       "      <td>0</td>\n",
       "      <td>...</td>\n",
       "      <td>CASADO</td>\n",
       "      <td>ESPECIALIZACION</td>\n",
       "      <td>ECONOMIA</td>\n",
       "      <td>Empleado</td>\n",
       "      <td>PUERRES</td>\n",
       "      <td>B</td>\n",
       "      <td>F</td>\n",
       "      <td>8677655#202011</td>\n",
       "      <td>2020</td>\n",
       "      <td>11</td>\n",
       "    </tr>\n",
       "    <tr>\n",
       "      <th>9527192</th>\n",
       "      <td>202011</td>\n",
       "      <td>19801025</td>\n",
       "      <td>40</td>\n",
       "      <td>20200221</td>\n",
       "      <td>2.0</td>\n",
       "      <td>10</td>\n",
       "      <td>1</td>\n",
       "      <td>1</td>\n",
       "      <td>20</td>\n",
       "      <td>0</td>\n",
       "      <td>...</td>\n",
       "      <td>UNION LIBRE</td>\n",
       "      <td>UNIVERSITARIO</td>\n",
       "      <td>OTROS</td>\n",
       "      <td>Empleado</td>\n",
       "      <td>PEDRAZA</td>\n",
       "      <td>E</td>\n",
       "      <td>F</td>\n",
       "      <td>8692808#202011</td>\n",
       "      <td>2020</td>\n",
       "      <td>11</td>\n",
       "    </tr>\n",
       "  </tbody>\n",
       "</table>\n",
       "<p>9527193 rows x 64 columns</p>\n",
       "</div>"
      ],
      "text/plain": [
       "         periodo  fecha_nacimiento  edad  ult_actual  categoria  codigo_ciiu  \\\n",
       "0         201908          19840630    35    20180526        1.0           10   \n",
       "1         201909          19840630    35    20180526        1.0           10   \n",
       "2         201907          19840630    35    20180526        1.0           10   \n",
       "3         201903          19840630    35    20180526        1.0           10   \n",
       "4         201911          19840630    35    20180526        1.0           10   \n",
       "...          ...               ...   ...         ...        ...          ...   \n",
       "9527188   202011          19740415    47    20201010        2.0           10   \n",
       "9527189   202011          19850620    35    20201003        3.0           90   \n",
       "9527190   202011          19740316    47    20200616        3.0           10   \n",
       "9527191   202011          19780722    42    20200423        2.0           10   \n",
       "9527192   202011          19801025    40    20200221        2.0           10   \n",
       "\n",
       "         ind_mora_vigente  cartera_castigada  mora_max  \\\n",
       "0                       1                  1         0   \n",
       "1                       1                  1         0   \n",
       "2                       1                  1         0   \n",
       "3                       1                  1         0   \n",
       "4                       1                  1         0   \n",
       "...                   ...                ...       ...   \n",
       "9527188                 1                  1         0   \n",
       "9527189                 1                  1        28   \n",
       "9527190                 1                  1        23   \n",
       "9527191                 1                  1         0   \n",
       "9527192                 1                  1        20   \n",
       "\n",
       "         cant_moras_30_ult_12_meses  ...  estado_civil  nivel_academico  \\\n",
       "0                                 0  ...    DIVORCIADO        TECNOLOGO   \n",
       "1                                 0  ...    DIVORCIADO        TECNOLOGO   \n",
       "2                                 0  ...    DIVORCIADO        TECNOLOGO   \n",
       "3                                 0  ...    DIVORCIADO        TECNOLOGO   \n",
       "4                                 0  ...    DIVORCIADO        TECNOLOGO   \n",
       "...                             ...  ...           ...              ...   \n",
       "9527188                           0  ...       SOLTERO    UNIVERSITARIO   \n",
       "9527189                           0  ...    DIVORCIADO    UNIVERSITARIO   \n",
       "9527190                           0  ...    DIVORCIADO    UNIVERSITARIO   \n",
       "9527191                           0  ...        CASADO  ESPECIALIZACION   \n",
       "9527192                           0  ...   UNION LIBRE    UNIVERSITARIO   \n",
       "\n",
       "                    profesion      ocupacion ciudad_residencia rep_calif_cred  \\\n",
       "0         TECNOLOGIA SISTEMAS       Empleado            LORICA              C   \n",
       "1         TECNOLOGIA SISTEMAS       Empleado            LORICA              C   \n",
       "2         TECNOLOGIA SISTEMAS       Empleado            LORICA              C   \n",
       "3         TECNOLOGIA SISTEMAS       Empleado            LORICA              C   \n",
       "4         TECNOLOGIA SISTEMAS       Empleado            LORICA              C   \n",
       "...                       ...            ...               ...            ...   \n",
       "9527188                 OTROS       Empleado           PUERRES              A   \n",
       "9527189       CARRERA MILITAR       Empleado           PEDRAZA              C   \n",
       "9527190  QUIMICA FARMACEUTICA  Independiente           MURILLO              D   \n",
       "9527191              ECONOMIA       Empleado           PUERRES              B   \n",
       "9527192                 OTROS       Empleado           PEDRAZA              E   \n",
       "\n",
       "        genero     id_registro  anho mes  \n",
       "0            M  2089776#201908  2019   8  \n",
       "1            M  2089776#201909  2019   9  \n",
       "2            M  2089776#201907  2019   7  \n",
       "3            M  2089776#201903  2019   3  \n",
       "4            M  2089776#201911  2019  11  \n",
       "...        ...             ...   ...  ..  \n",
       "9527188      F  8596193#202011  2020  11  \n",
       "9527189      M  8616083#202011  2020  11  \n",
       "9527190      M  8670207#202011  2020  11  \n",
       "9527191      F  8677655#202011  2020  11  \n",
       "9527192      F  8692808#202011  2020  11  \n",
       "\n",
       "[9527193 rows x 64 columns]"
      ]
     },
     "execution_count": 2,
     "metadata": {},
     "output_type": "execute_result"
    }
   ],
   "source": [
    "df = pd.read_csv(\"/mnt/workstation/data/Alomarrano/littlepig_full_ok.csv\")\n",
    "id_cli = df['id_registro']\n",
    "#df = df.drop(['id_registro'], axis=1)\n",
    "df"
   ]
  },
  {
   "cell_type": "code",
   "execution_count": 3,
   "metadata": {},
   "outputs": [
    {
     "data": {
      "text/plain": [
       "['categoria',\n",
       " 'ingreso_final',\n",
       " 'mediana_nom3',\n",
       " 'profesion',\n",
       " 'nivel_academico',\n",
       " 'ocupacion',\n",
       " 'ocupacion_tag_gasto_familiar',\n",
       " 'estado_civil',\n",
       " 'rep_calif_cred',\n",
       " 'genero',\n",
       " 'cartera_castigada',\n",
       " 'ind_mora_vigente',\n",
       " 'rep_calif_cred_tag_gasto_familiar',\n",
       " 'genero_tag',\n",
       " 'estado_civil_tag_gasto_familiar',\n",
       " 'nivel_academico_tag_gasto_familiar',\n",
       " 'profesion_tag_gasto_familiar',\n",
       " 'ctas_activas',\n",
       " 'ult_actual',\n",
       " 'tiene_cred_hipo_2',\n",
       " 'tiene_cred_hipo_1',\n",
       " 'cant_oblig_tot_sf',\n",
       " 'periodo',\n",
       " 'tenencia_tc',\n",
       " 'cupo_total_tc',\n",
       " 'mes',\n",
       " 'saldo_no_rot_mdo',\n",
       " 'mediana_pen3',\n",
       " 'ciudad_residencia',\n",
       " 'edad',\n",
       " 'gasto_familiar']"
      ]
     },
     "execution_count": 3,
     "metadata": {},
     "output_type": "execute_result"
    }
   ],
   "source": [
    "mejores_variables = pd.read_csv(\"/mnt/workstation/data/Alomarrano/littlepig_Variables.csv\")\n",
    "mejores_variables = list(mejores_variables['Selected_variables'])\n",
    "mejores_variables"
   ]
  },
  {
   "cell_type": "code",
   "execution_count": 4,
   "metadata": {},
   "outputs": [
    {
     "data": {
      "text/html": [
       "<div>\n",
       "<style scoped>\n",
       "    .dataframe tbody tr th:only-of-type {\n",
       "        vertical-align: middle;\n",
       "    }\n",
       "\n",
       "    .dataframe tbody tr th {\n",
       "        vertical-align: top;\n",
       "    }\n",
       "\n",
       "    .dataframe thead th {\n",
       "        text-align: right;\n",
       "    }\n",
       "</style>\n",
       "<table border=\"1\" class=\"dataframe\">\n",
       "  <thead>\n",
       "    <tr style=\"text-align: right;\">\n",
       "      <th></th>\n",
       "      <th>categoria</th>\n",
       "      <th>ingreso_final</th>\n",
       "      <th>mediana_nom3</th>\n",
       "      <th>profesion</th>\n",
       "      <th>nivel_academico</th>\n",
       "      <th>ocupacion</th>\n",
       "      <th>ocupacion_tag_gasto_familiar</th>\n",
       "      <th>estado_civil</th>\n",
       "      <th>rep_calif_cred</th>\n",
       "      <th>genero</th>\n",
       "      <th>...</th>\n",
       "      <th>cant_oblig_tot_sf</th>\n",
       "      <th>periodo</th>\n",
       "      <th>tenencia_tc</th>\n",
       "      <th>cupo_total_tc</th>\n",
       "      <th>mes</th>\n",
       "      <th>saldo_no_rot_mdo</th>\n",
       "      <th>mediana_pen3</th>\n",
       "      <th>ciudad_residencia</th>\n",
       "      <th>edad</th>\n",
       "      <th>gasto_familiar</th>\n",
       "    </tr>\n",
       "  </thead>\n",
       "  <tbody>\n",
       "    <tr>\n",
       "      <th>0</th>\n",
       "      <td>1.0</td>\n",
       "      <td>1173431.0</td>\n",
       "      <td>1255032.0</td>\n",
       "      <td>TECNOLOGIA SISTEMAS</td>\n",
       "      <td>TECNOLOGO</td>\n",
       "      <td>Empleado</td>\n",
       "      <td>6</td>\n",
       "      <td>DIVORCIADO</td>\n",
       "      <td>C</td>\n",
       "      <td>M</td>\n",
       "      <td>...</td>\n",
       "      <td>1</td>\n",
       "      <td>201908</td>\n",
       "      <td>0</td>\n",
       "      <td>0.0</td>\n",
       "      <td>8</td>\n",
       "      <td>903000.0</td>\n",
       "      <td>0.0</td>\n",
       "      <td>LORICA</td>\n",
       "      <td>35</td>\n",
       "      <td>2.325260e+05</td>\n",
       "    </tr>\n",
       "    <tr>\n",
       "      <th>1</th>\n",
       "      <td>1.0</td>\n",
       "      <td>1173431.0</td>\n",
       "      <td>1255032.0</td>\n",
       "      <td>TECNOLOGIA SISTEMAS</td>\n",
       "      <td>TECNOLOGO</td>\n",
       "      <td>Empleado</td>\n",
       "      <td>6</td>\n",
       "      <td>DIVORCIADO</td>\n",
       "      <td>C</td>\n",
       "      <td>M</td>\n",
       "      <td>...</td>\n",
       "      <td>1</td>\n",
       "      <td>201909</td>\n",
       "      <td>0</td>\n",
       "      <td>0.0</td>\n",
       "      <td>9</td>\n",
       "      <td>903000.0</td>\n",
       "      <td>0.0</td>\n",
       "      <td>LORICA</td>\n",
       "      <td>35</td>\n",
       "      <td>2.659000e+05</td>\n",
       "    </tr>\n",
       "    <tr>\n",
       "      <th>2</th>\n",
       "      <td>1.0</td>\n",
       "      <td>1172612.0</td>\n",
       "      <td>1255032.0</td>\n",
       "      <td>TECNOLOGIA SISTEMAS</td>\n",
       "      <td>TECNOLOGO</td>\n",
       "      <td>Empleado</td>\n",
       "      <td>6</td>\n",
       "      <td>DIVORCIADO</td>\n",
       "      <td>C</td>\n",
       "      <td>M</td>\n",
       "      <td>...</td>\n",
       "      <td>1</td>\n",
       "      <td>201907</td>\n",
       "      <td>0</td>\n",
       "      <td>0.0</td>\n",
       "      <td>7</td>\n",
       "      <td>903000.0</td>\n",
       "      <td>0.0</td>\n",
       "      <td>LORICA</td>\n",
       "      <td>35</td>\n",
       "      <td>2.430520e+05</td>\n",
       "    </tr>\n",
       "    <tr>\n",
       "      <th>3</th>\n",
       "      <td>1.0</td>\n",
       "      <td>1172612.0</td>\n",
       "      <td>1282673.0</td>\n",
       "      <td>TECNOLOGIA SISTEMAS</td>\n",
       "      <td>TECNOLOGO</td>\n",
       "      <td>Empleado</td>\n",
       "      <td>6</td>\n",
       "      <td>DIVORCIADO</td>\n",
       "      <td>C</td>\n",
       "      <td>M</td>\n",
       "      <td>...</td>\n",
       "      <td>1</td>\n",
       "      <td>201903</td>\n",
       "      <td>0</td>\n",
       "      <td>0.0</td>\n",
       "      <td>3</td>\n",
       "      <td>2433000.0</td>\n",
       "      <td>0.0</td>\n",
       "      <td>LORICA</td>\n",
       "      <td>35</td>\n",
       "      <td>2.760140e+05</td>\n",
       "    </tr>\n",
       "    <tr>\n",
       "      <th>4</th>\n",
       "      <td>1.0</td>\n",
       "      <td>1355032.0</td>\n",
       "      <td>1255032.0</td>\n",
       "      <td>TECNOLOGIA SISTEMAS</td>\n",
       "      <td>TECNOLOGO</td>\n",
       "      <td>Empleado</td>\n",
       "      <td>6</td>\n",
       "      <td>DIVORCIADO</td>\n",
       "      <td>C</td>\n",
       "      <td>M</td>\n",
       "      <td>...</td>\n",
       "      <td>0</td>\n",
       "      <td>201911</td>\n",
       "      <td>0</td>\n",
       "      <td>0.0</td>\n",
       "      <td>11</td>\n",
       "      <td>0.0</td>\n",
       "      <td>0.0</td>\n",
       "      <td>LORICA</td>\n",
       "      <td>35</td>\n",
       "      <td>4.188660e+05</td>\n",
       "    </tr>\n",
       "    <tr>\n",
       "      <th>...</th>\n",
       "      <td>...</td>\n",
       "      <td>...</td>\n",
       "      <td>...</td>\n",
       "      <td>...</td>\n",
       "      <td>...</td>\n",
       "      <td>...</td>\n",
       "      <td>...</td>\n",
       "      <td>...</td>\n",
       "      <td>...</td>\n",
       "      <td>...</td>\n",
       "      <td>...</td>\n",
       "      <td>...</td>\n",
       "      <td>...</td>\n",
       "      <td>...</td>\n",
       "      <td>...</td>\n",
       "      <td>...</td>\n",
       "      <td>...</td>\n",
       "      <td>...</td>\n",
       "      <td>...</td>\n",
       "      <td>...</td>\n",
       "      <td>...</td>\n",
       "    </tr>\n",
       "    <tr>\n",
       "      <th>9527188</th>\n",
       "      <td>2.0</td>\n",
       "      <td>3876343.0</td>\n",
       "      <td>2281362.0</td>\n",
       "      <td>OTROS</td>\n",
       "      <td>UNIVERSITARIO</td>\n",
       "      <td>Empleado</td>\n",
       "      <td>6</td>\n",
       "      <td>SOLTERO</td>\n",
       "      <td>A</td>\n",
       "      <td>F</td>\n",
       "      <td>...</td>\n",
       "      <td>2</td>\n",
       "      <td>202011</td>\n",
       "      <td>1</td>\n",
       "      <td>6000000.0</td>\n",
       "      <td>11</td>\n",
       "      <td>0.0</td>\n",
       "      <td>0.0</td>\n",
       "      <td>PUERRES</td>\n",
       "      <td>47</td>\n",
       "      <td>7.431714e+05</td>\n",
       "    </tr>\n",
       "    <tr>\n",
       "      <th>9527189</th>\n",
       "      <td>3.0</td>\n",
       "      <td>26913722.0</td>\n",
       "      <td>14956096.0</td>\n",
       "      <td>CARRERA MILITAR</td>\n",
       "      <td>UNIVERSITARIO</td>\n",
       "      <td>Empleado</td>\n",
       "      <td>6</td>\n",
       "      <td>DIVORCIADO</td>\n",
       "      <td>C</td>\n",
       "      <td>M</td>\n",
       "      <td>...</td>\n",
       "      <td>12</td>\n",
       "      <td>202011</td>\n",
       "      <td>1</td>\n",
       "      <td>71000000.0</td>\n",
       "      <td>11</td>\n",
       "      <td>99000.0</td>\n",
       "      <td>0.0</td>\n",
       "      <td>PEDRAZA</td>\n",
       "      <td>35</td>\n",
       "      <td>8.502165e+05</td>\n",
       "    </tr>\n",
       "    <tr>\n",
       "      <th>9527190</th>\n",
       "      <td>3.0</td>\n",
       "      <td>16301000.0</td>\n",
       "      <td>0.0</td>\n",
       "      <td>QUIMICA FARMACEUTICA</td>\n",
       "      <td>UNIVERSITARIO</td>\n",
       "      <td>Independiente</td>\n",
       "      <td>8</td>\n",
       "      <td>DIVORCIADO</td>\n",
       "      <td>D</td>\n",
       "      <td>M</td>\n",
       "      <td>...</td>\n",
       "      <td>17</td>\n",
       "      <td>202011</td>\n",
       "      <td>1</td>\n",
       "      <td>150800000.0</td>\n",
       "      <td>11</td>\n",
       "      <td>300000.0</td>\n",
       "      <td>0.0</td>\n",
       "      <td>MURILLO</td>\n",
       "      <td>47</td>\n",
       "      <td>7.853290e+05</td>\n",
       "    </tr>\n",
       "    <tr>\n",
       "      <th>9527191</th>\n",
       "      <td>2.0</td>\n",
       "      <td>14481371.0</td>\n",
       "      <td>11916465.0</td>\n",
       "      <td>ECONOMIA</td>\n",
       "      <td>ESPECIALIZACION</td>\n",
       "      <td>Empleado</td>\n",
       "      <td>6</td>\n",
       "      <td>CASADO</td>\n",
       "      <td>B</td>\n",
       "      <td>F</td>\n",
       "      <td>...</td>\n",
       "      <td>18</td>\n",
       "      <td>202011</td>\n",
       "      <td>1</td>\n",
       "      <td>26000000.0</td>\n",
       "      <td>11</td>\n",
       "      <td>184811000.0</td>\n",
       "      <td>0.0</td>\n",
       "      <td>PUERRES</td>\n",
       "      <td>42</td>\n",
       "      <td>1.029045e+06</td>\n",
       "    </tr>\n",
       "    <tr>\n",
       "      <th>9527192</th>\n",
       "      <td>2.0</td>\n",
       "      <td>8407800.0</td>\n",
       "      <td>0.0</td>\n",
       "      <td>OTROS</td>\n",
       "      <td>UNIVERSITARIO</td>\n",
       "      <td>Empleado</td>\n",
       "      <td>6</td>\n",
       "      <td>UNION LIBRE</td>\n",
       "      <td>E</td>\n",
       "      <td>F</td>\n",
       "      <td>...</td>\n",
       "      <td>14</td>\n",
       "      <td>202011</td>\n",
       "      <td>1</td>\n",
       "      <td>30000000.0</td>\n",
       "      <td>11</td>\n",
       "      <td>25769000.0</td>\n",
       "      <td>0.0</td>\n",
       "      <td>PEDRAZA</td>\n",
       "      <td>40</td>\n",
       "      <td>9.110522e+05</td>\n",
       "    </tr>\n",
       "  </tbody>\n",
       "</table>\n",
       "<p>9527193 rows x 31 columns</p>\n",
       "</div>"
      ],
      "text/plain": [
       "         categoria  ingreso_final  mediana_nom3             profesion  \\\n",
       "0              1.0      1173431.0     1255032.0   TECNOLOGIA SISTEMAS   \n",
       "1              1.0      1173431.0     1255032.0   TECNOLOGIA SISTEMAS   \n",
       "2              1.0      1172612.0     1255032.0   TECNOLOGIA SISTEMAS   \n",
       "3              1.0      1172612.0     1282673.0   TECNOLOGIA SISTEMAS   \n",
       "4              1.0      1355032.0     1255032.0   TECNOLOGIA SISTEMAS   \n",
       "...            ...            ...           ...                   ...   \n",
       "9527188        2.0      3876343.0     2281362.0                 OTROS   \n",
       "9527189        3.0     26913722.0    14956096.0       CARRERA MILITAR   \n",
       "9527190        3.0     16301000.0           0.0  QUIMICA FARMACEUTICA   \n",
       "9527191        2.0     14481371.0    11916465.0              ECONOMIA   \n",
       "9527192        2.0      8407800.0           0.0                 OTROS   \n",
       "\n",
       "         nivel_academico      ocupacion  ocupacion_tag_gasto_familiar  \\\n",
       "0              TECNOLOGO       Empleado                             6   \n",
       "1              TECNOLOGO       Empleado                             6   \n",
       "2              TECNOLOGO       Empleado                             6   \n",
       "3              TECNOLOGO       Empleado                             6   \n",
       "4              TECNOLOGO       Empleado                             6   \n",
       "...                  ...            ...                           ...   \n",
       "9527188    UNIVERSITARIO       Empleado                             6   \n",
       "9527189    UNIVERSITARIO       Empleado                             6   \n",
       "9527190    UNIVERSITARIO  Independiente                             8   \n",
       "9527191  ESPECIALIZACION       Empleado                             6   \n",
       "9527192    UNIVERSITARIO       Empleado                             6   \n",
       "\n",
       "        estado_civil rep_calif_cred genero  ...  cant_oblig_tot_sf  periodo  \\\n",
       "0         DIVORCIADO              C      M  ...                  1   201908   \n",
       "1         DIVORCIADO              C      M  ...                  1   201909   \n",
       "2         DIVORCIADO              C      M  ...                  1   201907   \n",
       "3         DIVORCIADO              C      M  ...                  1   201903   \n",
       "4         DIVORCIADO              C      M  ...                  0   201911   \n",
       "...              ...            ...    ...  ...                ...      ...   \n",
       "9527188      SOLTERO              A      F  ...                  2   202011   \n",
       "9527189   DIVORCIADO              C      M  ...                 12   202011   \n",
       "9527190   DIVORCIADO              D      M  ...                 17   202011   \n",
       "9527191       CASADO              B      F  ...                 18   202011   \n",
       "9527192  UNION LIBRE              E      F  ...                 14   202011   \n",
       "\n",
       "         tenencia_tc  cupo_total_tc  mes  saldo_no_rot_mdo  mediana_pen3  \\\n",
       "0                  0            0.0    8          903000.0           0.0   \n",
       "1                  0            0.0    9          903000.0           0.0   \n",
       "2                  0            0.0    7          903000.0           0.0   \n",
       "3                  0            0.0    3         2433000.0           0.0   \n",
       "4                  0            0.0   11               0.0           0.0   \n",
       "...              ...            ...  ...               ...           ...   \n",
       "9527188            1      6000000.0   11               0.0           0.0   \n",
       "9527189            1     71000000.0   11           99000.0           0.0   \n",
       "9527190            1    150800000.0   11          300000.0           0.0   \n",
       "9527191            1     26000000.0   11       184811000.0           0.0   \n",
       "9527192            1     30000000.0   11        25769000.0           0.0   \n",
       "\n",
       "         ciudad_residencia  edad gasto_familiar  \n",
       "0                   LORICA    35   2.325260e+05  \n",
       "1                   LORICA    35   2.659000e+05  \n",
       "2                   LORICA    35   2.430520e+05  \n",
       "3                   LORICA    35   2.760140e+05  \n",
       "4                   LORICA    35   4.188660e+05  \n",
       "...                    ...   ...            ...  \n",
       "9527188            PUERRES    47   7.431714e+05  \n",
       "9527189            PEDRAZA    35   8.502165e+05  \n",
       "9527190            MURILLO    47   7.853290e+05  \n",
       "9527191            PUERRES    42   1.029045e+06  \n",
       "9527192            PEDRAZA    40   9.110522e+05  \n",
       "\n",
       "[9527193 rows x 31 columns]"
      ]
     },
     "execution_count": 4,
     "metadata": {},
     "output_type": "execute_result"
    }
   ],
   "source": [
    "df = df[mejores_variables]\n",
    "df"
   ]
  },
  {
   "cell_type": "code",
   "execution_count": 5,
   "metadata": {},
   "outputs": [
    {
     "name": "stderr",
     "output_type": "stream",
     "text": [
      "UserWarning: Distributing <class 'pandas.core.series.Series'> object. This may take some time.\n"
     ]
    }
   ],
   "source": [
    "features = pd.DataFrame(df.dtypes)\n",
    "features.columns = ['type']\n",
    "features_f = features[features['type'] == 'float64'].index\n",
    "features_o = features[features['type'] == 'object'].index\n",
    "#features_i = features[features['type'] == 'int64'].index\n",
    "#features_b = features[features['type'] == 'bool'].index"
   ]
  },
  {
   "cell_type": "code",
   "execution_count": 6,
   "metadata": {},
   "outputs": [],
   "source": [
    "ind = np.random.randint(1, 9245527, 6000000)"
   ]
  },
  {
   "cell_type": "code",
   "execution_count": 7,
   "metadata": {},
   "outputs": [
    {
     "data": {
      "text/html": [
       "<div>\n",
       "<style scoped>\n",
       "    .dataframe tbody tr th:only-of-type {\n",
       "        vertical-align: middle;\n",
       "    }\n",
       "\n",
       "    .dataframe tbody tr th {\n",
       "        vertical-align: top;\n",
       "    }\n",
       "\n",
       "    .dataframe thead th {\n",
       "        text-align: right;\n",
       "    }\n",
       "</style>\n",
       "<table border=\"1\" class=\"dataframe\">\n",
       "  <thead>\n",
       "    <tr style=\"text-align: right;\">\n",
       "      <th></th>\n",
       "      <th>categoria</th>\n",
       "      <th>ingreso_final</th>\n",
       "      <th>mediana_nom3</th>\n",
       "      <th>profesion</th>\n",
       "      <th>nivel_academico</th>\n",
       "      <th>ocupacion</th>\n",
       "      <th>ocupacion_tag_gasto_familiar</th>\n",
       "      <th>estado_civil</th>\n",
       "      <th>rep_calif_cred</th>\n",
       "      <th>genero</th>\n",
       "      <th>...</th>\n",
       "      <th>cant_oblig_tot_sf</th>\n",
       "      <th>periodo</th>\n",
       "      <th>tenencia_tc</th>\n",
       "      <th>cupo_total_tc</th>\n",
       "      <th>mes</th>\n",
       "      <th>saldo_no_rot_mdo</th>\n",
       "      <th>mediana_pen3</th>\n",
       "      <th>ciudad_residencia</th>\n",
       "      <th>edad</th>\n",
       "      <th>gasto_familiar</th>\n",
       "    </tr>\n",
       "  </thead>\n",
       "  <tbody>\n",
       "    <tr>\n",
       "      <th>2636340</th>\n",
       "      <td>1.0</td>\n",
       "      <td>2664532.00</td>\n",
       "      <td>2183868.00</td>\n",
       "      <td>MEDICINA</td>\n",
       "      <td>ESPECIALIZACION</td>\n",
       "      <td>Empleado</td>\n",
       "      <td>6</td>\n",
       "      <td>SOLTERO</td>\n",
       "      <td>G</td>\n",
       "      <td>F</td>\n",
       "      <td>...</td>\n",
       "      <td>0</td>\n",
       "      <td>202002</td>\n",
       "      <td>0</td>\n",
       "      <td>0.0</td>\n",
       "      <td>2</td>\n",
       "      <td>0.0</td>\n",
       "      <td>0.0</td>\n",
       "      <td>PUERRES</td>\n",
       "      <td>31</td>\n",
       "      <td>53449.99</td>\n",
       "    </tr>\n",
       "    <tr>\n",
       "      <th>4309024</th>\n",
       "      <td>2.0</td>\n",
       "      <td>4855052.00</td>\n",
       "      <td>0.00</td>\n",
       "      <td>INGENIERIA INDUSTRIAL</td>\n",
       "      <td>UNIVERSITARIO</td>\n",
       "      <td>Independiente</td>\n",
       "      <td>8</td>\n",
       "      <td>SOLTERO</td>\n",
       "      <td>B</td>\n",
       "      <td>F</td>\n",
       "      <td>...</td>\n",
       "      <td>6</td>\n",
       "      <td>202005</td>\n",
       "      <td>0</td>\n",
       "      <td>0.0</td>\n",
       "      <td>5</td>\n",
       "      <td>44489000.0</td>\n",
       "      <td>0.0</td>\n",
       "      <td>VALPARAISO</td>\n",
       "      <td>42</td>\n",
       "      <td>1768056.00</td>\n",
       "    </tr>\n",
       "    <tr>\n",
       "      <th>8203030</th>\n",
       "      <td>1.0</td>\n",
       "      <td>1938347.00</td>\n",
       "      <td>1303347.00</td>\n",
       "      <td>OTROS</td>\n",
       "      <td>NINGUNO</td>\n",
       "      <td>Empleado</td>\n",
       "      <td>6</td>\n",
       "      <td>SOLTERO</td>\n",
       "      <td>C</td>\n",
       "      <td>F</td>\n",
       "      <td>...</td>\n",
       "      <td>4</td>\n",
       "      <td>202004</td>\n",
       "      <td>1</td>\n",
       "      <td>7200000.0</td>\n",
       "      <td>4</td>\n",
       "      <td>27586000.0</td>\n",
       "      <td>0.0</td>\n",
       "      <td>PEDRAZA</td>\n",
       "      <td>32</td>\n",
       "      <td>1451032.00</td>\n",
       "    </tr>\n",
       "    <tr>\n",
       "      <th>3569149</th>\n",
       "      <td>1.0</td>\n",
       "      <td>961000.00</td>\n",
       "      <td>0.00</td>\n",
       "      <td>ECONOMIA</td>\n",
       "      <td>UNIVERSITARIO</td>\n",
       "      <td>Estudiante</td>\n",
       "      <td>1</td>\n",
       "      <td>SOLTERO</td>\n",
       "      <td>C</td>\n",
       "      <td>F</td>\n",
       "      <td>...</td>\n",
       "      <td>1</td>\n",
       "      <td>201904</td>\n",
       "      <td>1</td>\n",
       "      <td>2400000.0</td>\n",
       "      <td>4</td>\n",
       "      <td>0.0</td>\n",
       "      <td>0.0</td>\n",
       "      <td>PEDRAZA</td>\n",
       "      <td>24</td>\n",
       "      <td>276991.82</td>\n",
       "    </tr>\n",
       "    <tr>\n",
       "      <th>6279815</th>\n",
       "      <td>1.0</td>\n",
       "      <td>1873143.40</td>\n",
       "      <td>0.00</td>\n",
       "      <td>OTROS</td>\n",
       "      <td>UNIVERSITARIO</td>\n",
       "      <td>Empleado</td>\n",
       "      <td>6</td>\n",
       "      <td>CASADO</td>\n",
       "      <td>C</td>\n",
       "      <td>M</td>\n",
       "      <td>...</td>\n",
       "      <td>5</td>\n",
       "      <td>202003</td>\n",
       "      <td>1</td>\n",
       "      <td>900000.0</td>\n",
       "      <td>3</td>\n",
       "      <td>47012000.0</td>\n",
       "      <td>0.0</td>\n",
       "      <td>LA CUMBRE</td>\n",
       "      <td>42</td>\n",
       "      <td>740799.00</td>\n",
       "    </tr>\n",
       "    <tr>\n",
       "      <th>...</th>\n",
       "      <td>...</td>\n",
       "      <td>...</td>\n",
       "      <td>...</td>\n",
       "      <td>...</td>\n",
       "      <td>...</td>\n",
       "      <td>...</td>\n",
       "      <td>...</td>\n",
       "      <td>...</td>\n",
       "      <td>...</td>\n",
       "      <td>...</td>\n",
       "      <td>...</td>\n",
       "      <td>...</td>\n",
       "      <td>...</td>\n",
       "      <td>...</td>\n",
       "      <td>...</td>\n",
       "      <td>...</td>\n",
       "      <td>...</td>\n",
       "      <td>...</td>\n",
       "      <td>...</td>\n",
       "      <td>...</td>\n",
       "      <td>...</td>\n",
       "    </tr>\n",
       "    <tr>\n",
       "      <th>2543088</th>\n",
       "      <td>2.0</td>\n",
       "      <td>8000000.00</td>\n",
       "      <td>0.00</td>\n",
       "      <td>ADMINISTRACION</td>\n",
       "      <td>UNIVERSITARIO</td>\n",
       "      <td>Rentista de Capital</td>\n",
       "      <td>10</td>\n",
       "      <td>CASADO</td>\n",
       "      <td>A</td>\n",
       "      <td>F</td>\n",
       "      <td>...</td>\n",
       "      <td>5</td>\n",
       "      <td>202002</td>\n",
       "      <td>1</td>\n",
       "      <td>10000000.0</td>\n",
       "      <td>2</td>\n",
       "      <td>0.0</td>\n",
       "      <td>0.0</td>\n",
       "      <td>PUERRES</td>\n",
       "      <td>38</td>\n",
       "      <td>1924948.00</td>\n",
       "    </tr>\n",
       "    <tr>\n",
       "      <th>8674801</th>\n",
       "      <td>1.0</td>\n",
       "      <td>1452423.00</td>\n",
       "      <td>1728354.00</td>\n",
       "      <td>OTROS</td>\n",
       "      <td>TECNOLOGO</td>\n",
       "      <td>Empleado</td>\n",
       "      <td>6</td>\n",
       "      <td>UNION LIBRE</td>\n",
       "      <td>D</td>\n",
       "      <td>M</td>\n",
       "      <td>...</td>\n",
       "      <td>1</td>\n",
       "      <td>202007</td>\n",
       "      <td>1</td>\n",
       "      <td>600000.0</td>\n",
       "      <td>7</td>\n",
       "      <td>9555000.0</td>\n",
       "      <td>0.0</td>\n",
       "      <td>GUADALAJARA DE BUGA</td>\n",
       "      <td>36</td>\n",
       "      <td>125207.29</td>\n",
       "    </tr>\n",
       "    <tr>\n",
       "      <th>757349</th>\n",
       "      <td>1.0</td>\n",
       "      <td>4069815.54</td>\n",
       "      <td>2714606.26</td>\n",
       "      <td>OTROS</td>\n",
       "      <td>BACHILLER</td>\n",
       "      <td>Empleado</td>\n",
       "      <td>6</td>\n",
       "      <td>SOLTERO</td>\n",
       "      <td>A</td>\n",
       "      <td>M</td>\n",
       "      <td>...</td>\n",
       "      <td>1</td>\n",
       "      <td>201911</td>\n",
       "      <td>1</td>\n",
       "      <td>23000000.0</td>\n",
       "      <td>11</td>\n",
       "      <td>0.0</td>\n",
       "      <td>0.0</td>\n",
       "      <td>PUERRES</td>\n",
       "      <td>24</td>\n",
       "      <td>151405.00</td>\n",
       "    </tr>\n",
       "    <tr>\n",
       "      <th>2159278</th>\n",
       "      <td>1.0</td>\n",
       "      <td>1764143.00</td>\n",
       "      <td>1685037.00</td>\n",
       "      <td>INGENIERIA MECANICA</td>\n",
       "      <td>NINGUNO</td>\n",
       "      <td>Empleado</td>\n",
       "      <td>6</td>\n",
       "      <td>UNION LIBRE</td>\n",
       "      <td>G</td>\n",
       "      <td>M</td>\n",
       "      <td>...</td>\n",
       "      <td>4</td>\n",
       "      <td>201911</td>\n",
       "      <td>0</td>\n",
       "      <td>0.0</td>\n",
       "      <td>11</td>\n",
       "      <td>46662000.0</td>\n",
       "      <td>0.0</td>\n",
       "      <td>EL TOTUMO</td>\n",
       "      <td>29</td>\n",
       "      <td>337788.00</td>\n",
       "    </tr>\n",
       "    <tr>\n",
       "      <th>8761430</th>\n",
       "      <td>1.0</td>\n",
       "      <td>3128936.10</td>\n",
       "      <td>0.00</td>\n",
       "      <td>TECNOLOGIA AGROPECUARIA</td>\n",
       "      <td>TECNOLOGO</td>\n",
       "      <td>Empleado</td>\n",
       "      <td>6</td>\n",
       "      <td>CASADO</td>\n",
       "      <td>B</td>\n",
       "      <td>M</td>\n",
       "      <td>...</td>\n",
       "      <td>4</td>\n",
       "      <td>202003</td>\n",
       "      <td>1</td>\n",
       "      <td>8700000.0</td>\n",
       "      <td>3</td>\n",
       "      <td>0.0</td>\n",
       "      <td>0.0</td>\n",
       "      <td>CALAMAR</td>\n",
       "      <td>45</td>\n",
       "      <td>1551652.00</td>\n",
       "    </tr>\n",
       "  </tbody>\n",
       "</table>\n",
       "<p>6000000 rows x 31 columns</p>\n",
       "</div>"
      ],
      "text/plain": [
       "         categoria  ingreso_final  mediana_nom3                profesion  \\\n",
       "2636340        1.0     2664532.00    2183868.00                 MEDICINA   \n",
       "4309024        2.0     4855052.00          0.00    INGENIERIA INDUSTRIAL   \n",
       "8203030        1.0     1938347.00    1303347.00                    OTROS   \n",
       "3569149        1.0      961000.00          0.00                 ECONOMIA   \n",
       "6279815        1.0     1873143.40          0.00                    OTROS   \n",
       "...            ...            ...           ...                      ...   \n",
       "2543088        2.0     8000000.00          0.00           ADMINISTRACION   \n",
       "8674801        1.0     1452423.00    1728354.00                    OTROS   \n",
       "757349         1.0     4069815.54    2714606.26                    OTROS   \n",
       "2159278        1.0     1764143.00    1685037.00      INGENIERIA MECANICA   \n",
       "8761430        1.0     3128936.10          0.00  TECNOLOGIA AGROPECUARIA   \n",
       "\n",
       "         nivel_academico            ocupacion  ocupacion_tag_gasto_familiar  \\\n",
       "2636340  ESPECIALIZACION             Empleado                             6   \n",
       "4309024    UNIVERSITARIO        Independiente                             8   \n",
       "8203030          NINGUNO             Empleado                             6   \n",
       "3569149    UNIVERSITARIO           Estudiante                             1   \n",
       "6279815    UNIVERSITARIO             Empleado                             6   \n",
       "...                  ...                  ...                           ...   \n",
       "2543088    UNIVERSITARIO  Rentista de Capital                            10   \n",
       "8674801        TECNOLOGO             Empleado                             6   \n",
       "757349         BACHILLER             Empleado                             6   \n",
       "2159278          NINGUNO             Empleado                             6   \n",
       "8761430        TECNOLOGO             Empleado                             6   \n",
       "\n",
       "        estado_civil rep_calif_cred genero  ...  cant_oblig_tot_sf  periodo  \\\n",
       "2636340      SOLTERO              G      F  ...                  0   202002   \n",
       "4309024      SOLTERO              B      F  ...                  6   202005   \n",
       "8203030      SOLTERO              C      F  ...                  4   202004   \n",
       "3569149      SOLTERO              C      F  ...                  1   201904   \n",
       "6279815       CASADO              C      M  ...                  5   202003   \n",
       "...              ...            ...    ...  ...                ...      ...   \n",
       "2543088       CASADO              A      F  ...                  5   202002   \n",
       "8674801  UNION LIBRE              D      M  ...                  1   202007   \n",
       "757349       SOLTERO              A      M  ...                  1   201911   \n",
       "2159278  UNION LIBRE              G      M  ...                  4   201911   \n",
       "8761430       CASADO              B      M  ...                  4   202003   \n",
       "\n",
       "         tenencia_tc  cupo_total_tc  mes  saldo_no_rot_mdo  mediana_pen3  \\\n",
       "2636340            0            0.0    2               0.0           0.0   \n",
       "4309024            0            0.0    5        44489000.0           0.0   \n",
       "8203030            1      7200000.0    4        27586000.0           0.0   \n",
       "3569149            1      2400000.0    4               0.0           0.0   \n",
       "6279815            1       900000.0    3        47012000.0           0.0   \n",
       "...              ...            ...  ...               ...           ...   \n",
       "2543088            1     10000000.0    2               0.0           0.0   \n",
       "8674801            1       600000.0    7         9555000.0           0.0   \n",
       "757349             1     23000000.0   11               0.0           0.0   \n",
       "2159278            0            0.0   11        46662000.0           0.0   \n",
       "8761430            1      8700000.0    3               0.0           0.0   \n",
       "\n",
       "           ciudad_residencia  edad gasto_familiar  \n",
       "2636340              PUERRES    31       53449.99  \n",
       "4309024           VALPARAISO    42     1768056.00  \n",
       "8203030              PEDRAZA    32     1451032.00  \n",
       "3569149              PEDRAZA    24      276991.82  \n",
       "6279815            LA CUMBRE    42      740799.00  \n",
       "...                      ...   ...            ...  \n",
       "2543088              PUERRES    38     1924948.00  \n",
       "8674801  GUADALAJARA DE BUGA    36      125207.29  \n",
       "757349               PUERRES    24      151405.00  \n",
       "2159278            EL TOTUMO    29      337788.00  \n",
       "8761430              CALAMAR    45     1551652.00  \n",
       "\n",
       "[6000000 rows x 31 columns]"
      ]
     },
     "execution_count": 7,
     "metadata": {},
     "output_type": "execute_result"
    }
   ],
   "source": [
    "df_std = df.iloc[ind,:]\n",
    "df_std"
   ]
  },
  {
   "cell_type": "markdown",
   "metadata": {},
   "source": [
    "## One-Hot Encoding"
   ]
  },
  {
   "cell_type": "code",
   "execution_count": null,
   "metadata": {},
   "outputs": [],
   "source": [
    "df_onehot = pd.get_dummies(df_std,\n",
    "                           columns=features_o)\n",
    "list(df_onehot.columns)"
   ]
  },
  {
   "cell_type": "code",
   "execution_count": null,
   "metadata": {
    "scrolled": true
   },
   "outputs": [],
   "source": [
    "df_onehot"
   ]
  },
  {
   "cell_type": "code",
   "execution_count": null,
   "metadata": {
    "scrolled": true
   },
   "outputs": [],
   "source": [
    "(df_onehot.iloc[:,23] == df_onehot['gasto_familiar']).value_counts()"
   ]
  },
  {
   "cell_type": "markdown",
   "metadata": {},
   "source": [
    "## Best Variables"
   ]
  },
  {
   "cell_type": "code",
   "execution_count": null,
   "metadata": {},
   "outputs": [],
   "source": [
    "X = pd.read_csv(\"/mnt/workstation/data/Alomarrano/littlepig_PCAVariables_centred.csv\")\n",
    "top_PCA_Variables = list(X['Variable'])\n",
    "top_PCA_Variables[:7]"
   ]
  },
  {
   "cell_type": "code",
   "execution_count": null,
   "metadata": {},
   "outputs": [],
   "source": [
    "top_PCA_Variables = ['categoria',\n",
    " 'ingreso_final',\n",
    " 'mediana_nom3',\n",
    " 'ocupacion_tag_gasto_familiar',\n",
    " 'cartera_castigada',\n",
    " 'ind_mora_vigente',\n",
    " 'rep_calif_cred_tag_gasto_familiar',\n",
    "                     'gasto_familiar']"
   ]
  },
  {
   "cell_type": "code",
   "execution_count": null,
   "metadata": {
    "scrolled": false
   },
   "outputs": [],
   "source": [
    "df_onehot = df_onehot[top_PCA_Variables]\n",
    "df_onehot"
   ]
  },
  {
   "cell_type": "markdown",
   "metadata": {},
   "source": [
    "## Normalization"
   ]
  },
  {
   "cell_type": "code",
   "execution_count": null,
   "metadata": {},
   "outputs": [],
   "source": [
    "Estandar = MinMaxScaler()\n",
    "Estandar.fit(df_onehot)\n",
    "\n",
    "df_std = Estandar.transform(df_onehot)\n",
    "df_std = pd.DataFrame(df_std)\n",
    "round(df_std.describe().T,2)"
   ]
  },
  {
   "cell_type": "code",
   "execution_count": null,
   "metadata": {},
   "outputs": [],
   "source": [
    "x_val = df_std.iloc[-281666:,:-1]\n",
    "y_val = df_std.iloc[-281666:,-1]\n",
    "y = df_std.iloc[:-281666,-1]"
   ]
  },
  {
   "cell_type": "code",
   "execution_count": null,
   "metadata": {
    "scrolled": true
   },
   "outputs": [],
   "source": [
    "print(x_val.shape)\n",
    "print(y_val.shape)\n",
    "print(y.shape)"
   ]
  },
  {
   "cell_type": "markdown",
   "metadata": {},
   "source": [
    "## Train_Test"
   ]
  },
  {
   "cell_type": "code",
   "execution_count": null,
   "metadata": {},
   "outputs": [],
   "source": [
    "X_train, X_test, y_train, y_test = train_test_split(df_std.iloc[:-281666,:-1],\n",
    "                                                    y,\n",
    "                                                    test_size=0.30)\n",
    "\n",
    "X_train"
   ]
  },
  {
   "cell_type": "code",
   "execution_count": null,
   "metadata": {},
   "outputs": [],
   "source": [
    "X_train = np.asarray(X_train)\n",
    "y_train = np.asarray(y_train)\n",
    "X_test = np.asarray(X_test)\n",
    "y_test = np.asarray(y_test)\n",
    "x_val = np.asarray(x_val)\n",
    "y_val = np.asarray(y_val)"
   ]
  },
  {
   "cell_type": "markdown",
   "metadata": {},
   "source": [
    "# Arquitectura"
   ]
  },
  {
   "cell_type": "code",
   "execution_count": null,
   "metadata": {
    "id": "DiRe69MKyBUM"
   },
   "outputs": [],
   "source": [
    "#Definición de la arquitectura\n",
    "model = Sequential()\n",
    "model.add(Dense(100, input_dim=7, kernel_initializer='normal',activation='relu'))\n",
    "model.add(Dense(100, kernel_initializer='normal',activation='relu'))\n",
    "model.add(Dense(100, kernel_initializer='normal',activation='relu'))\n",
    "model.add(Dense(100, kernel_initializer='normal',activation='relu'))\n",
    "model.add(Dense(1, kernel_initializer='normal'))\n",
    "\n",
    "# Compilación del modelo\n",
    "model.compile(loss='mean_squared_error',\n",
    "              optimizer='adam',\n",
    "              metrics=['mean_absolute_percentage_error'])"
   ]
  },
  {
   "cell_type": "code",
   "execution_count": null,
   "metadata": {
    "colab": {
     "base_uri": "https://localhost:8080/",
     "height": 319
    },
    "id": "jWpsQ20XHkCQ",
    "outputId": "fe679d20-023e-496c-d283-aa58136cde02"
   },
   "outputs": [],
   "source": [
    "print(model.summary())"
   ]
  },
  {
   "cell_type": "code",
   "execution_count": null,
   "metadata": {
    "colab": {
     "base_uri": "https://localhost:8080/",
     "height": 533
    },
    "id": "vjVLCKYHIn6F",
    "outputId": "4e914ef2-4185-4b3f-a58d-ac55af2328f2"
   },
   "outputs": [],
   "source": [
    "from keras.utils import plot_model\n",
    "plot_model(model, to_file='model.png',show_shapes=True)"
   ]
  },
  {
   "cell_type": "markdown",
   "metadata": {
    "id": "0K2FnvFybBQq"
   },
   "source": [
    "# Entrenamiento y Evaluación del modelo</h1>\n"
   ]
  },
  {
   "cell_type": "markdown",
   "metadata": {},
   "source": [
    "# Test 0"
   ]
  },
  {
   "cell_type": "code",
   "execution_count": null,
   "metadata": {
    "id": "v8_7RJYpyBiO"
   },
   "outputs": [],
   "source": [
    "import matplotlib.pyplot as plt\n",
    "\n",
    "history = model.fit(X_train, y_train,\n",
    "                    batch_size=32,\n",
    "                    epochs=1,\n",
    "                    validation_data=(x_val,y_val),\n",
    "                    verbose=0,\n",
    "                   use_multiprocessing=True)\n"
   ]
  },
  {
   "cell_type": "code",
   "execution_count": null,
   "metadata": {
    "id": "0drLqVPmHAMU"
   },
   "outputs": [],
   "source": [
    "results = model.evaluate(X_test, y_test)\n",
    "\n",
    "for i in range(len(model.metrics_names)):\n",
    "  print(model.metrics_names[i],\": \", results[i])"
   ]
  },
  {
   "cell_type": "markdown",
   "metadata": {},
   "source": [
    "## Submission"
   ]
  },
  {
   "cell_type": "code",
   "execution_count": null,
   "metadata": {},
   "outputs": [],
   "source": [
    "y_hat = model.predict(x_val)\n",
    "y_hat"
   ]
  },
  {
   "cell_type": "code",
   "execution_count": null,
   "metadata": {
    "scrolled": true
   },
   "outputs": [],
   "source": [
    "y_val"
   ]
  },
  {
   "cell_type": "code",
   "execution_count": null,
   "metadata": {},
   "outputs": [],
   "source": [
    "plt.rcParams.update({'font.size': 20})\n",
    "plt.figure(figsize=(13,6))\n",
    "sns.set_style('darkgrid')\n",
    "plt.style.use(\"dark_background\")\n",
    "plt.scatter(y= pd.DataFrame(y_hat),\n",
    "                x=pd.DataFrame(y_val),\n",
    "           color = 'red',\n",
    "           alpha=0.9)\n",
    "plt.title('Test 0 - Real vs Predicción')\n",
    "plt.xlabel('y_val')\n",
    "plt.ylabel('y_hat')\n",
    "plt.legend(['R2 :{}'.format(str(r2_score(pd.DataFrame(y_val),\n",
    "                                pd.DataFrame(y_hat))))],\n",
    "           loc='upper right'\n",
    "           )\n",
    "plt.show()"
   ]
  },
  {
   "cell_type": "code",
   "execution_count": null,
   "metadata": {},
   "outputs": [],
   "source": [
    "sub_normalized = pd.DataFrame(x_val)\n",
    "sub_normalized[7] = y_hat\n",
    "sub_normalized"
   ]
  },
  {
   "cell_type": "code",
   "execution_count": null,
   "metadata": {},
   "outputs": [],
   "source": [
    "sub_desnorm = Estandar.inverse_transform(sub_normalized)\n",
    "sub_desnorm = pd.DataFrame(sub_desnorm).iloc[:,-1]\n",
    "sub_desnorm"
   ]
  },
  {
   "cell_type": "code",
   "execution_count": null,
   "metadata": {},
   "outputs": [],
   "source": [
    "sub_record = pd.DataFrame(id_cli.iloc[-281666:,])\n",
    "sub_record.reset_index(inplace = True, drop =True)\n",
    "sub_record.reset_index(inplace = True)\n",
    "sub_gasto = pd.DataFrame(sub_desnorm)\n",
    "sub_gasto.reset_index(inplace = True, drop =True)\n",
    "sub_gasto.reset_index(inplace = True)\n",
    "sub = pd.merge(sub_record,sub_gasto, on = 'index',how=\"left\")\n",
    "sub = sub.drop(columns=['index'], axis=0)\n",
    "sub.columns = ['id_registro','gasto_familiar']\n",
    "sub"
   ]
  },
  {
   "cell_type": "code",
   "execution_count": null,
   "metadata": {},
   "outputs": [],
   "source": [
    "n = 130\n",
    "sub_name = \"/mnt/workstation/data/Alomarrano/Sub/SubNN{}.csv\".format(n)\n",
    "sub_name"
   ]
  },
  {
   "cell_type": "code",
   "execution_count": null,
   "metadata": {},
   "outputs": [],
   "source": [
    "np.mean(sub['gasto_familiar'])"
   ]
  },
  {
   "cell_type": "code",
   "execution_count": null,
   "metadata": {},
   "outputs": [],
   "source": [
    "sub.to_csv(sub_name, index=False)"
   ]
  },
  {
   "cell_type": "markdown",
   "metadata": {},
   "source": [
    "# Test 1"
   ]
  },
  {
   "cell_type": "code",
   "execution_count": null,
   "metadata": {},
   "outputs": [],
   "source": [
    "import matplotlib.pyplot as plt\n",
    "\n",
    "history = model.fit(X_train, y_train,\n",
    "                    batch_size=32,\n",
    "                    epochs=5,\n",
    "                    validation_data=(x_val,y_val),\n",
    "                    verbose=0,\n",
    "                   use_multiprocessing=True)"
   ]
  },
  {
   "cell_type": "code",
   "execution_count": null,
   "metadata": {},
   "outputs": [],
   "source": [
    "# Plot training & validation accuracy values\n",
    "plt.rcParams.update({'font.size': 20})\n",
    "plt.figure(figsize=(13,6))\n",
    "plt.style.use(\"dark_background\")\n",
    "plt.plot(history.history['mean_absolute_percentage_error'])\n",
    "plt.plot(history.history['val_mean_absolute_percentage_error'])\n",
    "plt.title('Test 1 - Model mean_absolute_percentage_error')\n",
    "plt.ylabel('MAPE %')\n",
    "plt.xlabel('Epoch')\n",
    "plt.legend(['Train', 'Test'], loc='upper right')\n",
    "plt.show()\n",
    "\n",
    "# Plot training & validation loss values\n",
    "plt.rcParams.update({'font.size': 20})\n",
    "plt.figure(figsize=(13,6))\n",
    "plt.plot(history.history['loss'])\n",
    "plt.plot(history.history['val_loss'])\n",
    "plt.title('Test 1 - Model loss')\n",
    "plt.ylabel('Loss')\n",
    "plt.xlabel('Epoch')\n",
    "plt.legend(['Train', 'Test'], loc='upper right')\n",
    "plt.show()"
   ]
  },
  {
   "cell_type": "code",
   "execution_count": null,
   "metadata": {},
   "outputs": [],
   "source": [
    "results = model.evaluate(X_test, y_test)\n",
    "\n",
    "for i in range(len(model.metrics_names)):\n",
    "  print(model.metrics_names[i],\": \", results[i])"
   ]
  },
  {
   "cell_type": "markdown",
   "metadata": {},
   "source": [
    "# Submission"
   ]
  },
  {
   "cell_type": "code",
   "execution_count": null,
   "metadata": {},
   "outputs": [],
   "source": [
    "y_hat = model.predict(x_val)\n",
    "y_hat"
   ]
  },
  {
   "cell_type": "code",
   "execution_count": null,
   "metadata": {},
   "outputs": [],
   "source": [
    "plt.rcParams.update({'font.size': 20})\n",
    "plt.figure(figsize=(13,6))\n",
    "sns.set_style('darkgrid')\n",
    "plt.style.use(\"dark_background\")\n",
    "plt.scatter(y= pd.DataFrame(y_hat),\n",
    "                x=pd.DataFrame(y_val),\n",
    "           color = 'red',\n",
    "           alpha=0.9)\n",
    "plt.title('Test 1 - Real vs Predicción')\n",
    "plt.xlabel('y_val')\n",
    "plt.ylabel('y_hat')\n",
    "plt.legend(['R2 :{}'.format(str(r2_score(pd.DataFrame(y_val),\n",
    "                                pd.DataFrame(y_hat))))],\n",
    "           loc='upper right',\n",
    "           )\n",
    "plt.show()"
   ]
  },
  {
   "cell_type": "code",
   "execution_count": null,
   "metadata": {},
   "outputs": [],
   "source": [
    "sub_normalized = pd.DataFrame(x_val)\n",
    "sub_normalized[7] = y_hat\n",
    "sub_normalized"
   ]
  },
  {
   "cell_type": "code",
   "execution_count": null,
   "metadata": {},
   "outputs": [],
   "source": [
    "sub_desnorm = Estandar.inverse_transform(sub_normalized)\n",
    "sub_desnorm = pd.DataFrame(sub_desnorm).iloc[:,-1]\n",
    "sub_desnorm"
   ]
  },
  {
   "cell_type": "code",
   "execution_count": null,
   "metadata": {},
   "outputs": [],
   "source": [
    "sub_record = pd.DataFrame(id_cli.iloc[-281666:,])\n",
    "sub_record.reset_index(inplace = True, drop =True)\n",
    "sub_record.reset_index(inplace = True)\n",
    "sub_gasto = pd.DataFrame(sub_desnorm)\n",
    "sub_gasto.reset_index(inplace = True, drop =True)\n",
    "sub_gasto.reset_index(inplace = True)\n",
    "sub = pd.merge(sub_record,sub_gasto, on = 'index',how=\"left\")\n",
    "sub = sub.drop(columns=['index'], axis=0)\n",
    "sub.columns = ['id_registro','gasto_familiar']\n",
    "sub"
   ]
  },
  {
   "cell_type": "code",
   "execution_count": null,
   "metadata": {},
   "outputs": [],
   "source": [
    "n = 131\n",
    "sub_name = \"/mnt/workstation/data/Alomarrano/Sub/SubNN{}.csv\".format(n)\n",
    "sub_name"
   ]
  },
  {
   "cell_type": "code",
   "execution_count": null,
   "metadata": {},
   "outputs": [],
   "source": [
    "np.mean(sub['gasto_familiar'])"
   ]
  },
  {
   "cell_type": "code",
   "execution_count": null,
   "metadata": {},
   "outputs": [],
   "source": [
    "sub.to_csv(sub_name, index=False)"
   ]
  },
  {
   "cell_type": "markdown",
   "metadata": {},
   "source": [
    "# Test 2"
   ]
  },
  {
   "cell_type": "code",
   "execution_count": null,
   "metadata": {
    "id": "QUtyPQ7xyBl5",
    "scrolled": true
   },
   "outputs": [],
   "source": [
    "import matplotlib.pyplot as plt\n",
    "\n",
    "history = model.fit(X_train, y_train,\n",
    "                    batch_size=32,\n",
    "                    epochs=50,\n",
    "                    validation_data=(x_val,y_val),\n",
    "                    verbose=0,\n",
    "                   use_multiprocessing=True)\n"
   ]
  },
  {
   "cell_type": "code",
   "execution_count": null,
   "metadata": {},
   "outputs": [],
   "source": [
    "# Plot training & validation accuracy values\n",
    "plt.rcParams.update({'font.size': 20})\n",
    "plt.figure(figsize=(13,6))\n",
    "plt.style.use(\"dark_background\")\n",
    "plt.plot(history.history['mean_absolute_percentage_error'])\n",
    "plt.plot(history.history['val_mean_absolute_percentage_error'])\n",
    "plt.title('Test 2 - Model mean_absolute_percentage_error')\n",
    "plt.ylabel('MAPE %')\n",
    "plt.xlabel('Epoch')\n",
    "plt.legend(['Train', 'Test'], loc='upper right')\n",
    "plt.show()\n",
    "\n",
    "# Plot training & validation loss values\n",
    "plt.rcParams.update({'font.size': 20})\n",
    "plt.figure(figsize=(13,6))\n",
    "plt.plot(history.history['loss'])\n",
    "plt.plot(history.history['val_loss'])\n",
    "plt.title('Test 2 - Model loss')\n",
    "plt.ylabel('Loss')\n",
    "plt.xlabel('Epoch')\n",
    "plt.legend(['Train', 'Test'], loc='upper right')\n",
    "plt.show()"
   ]
  },
  {
   "cell_type": "code",
   "execution_count": null,
   "metadata": {
    "id": "CXOs8bbIyBea"
   },
   "outputs": [],
   "source": [
    "results = model.evaluate(X_test, y_test)\n",
    "\n",
    "for i in range(len(model.metrics_names)):\n",
    "  print(model.metrics_names[i],\": \", results[i])"
   ]
  },
  {
   "cell_type": "markdown",
   "metadata": {},
   "source": [
    "# Submission"
   ]
  },
  {
   "cell_type": "code",
   "execution_count": null,
   "metadata": {},
   "outputs": [],
   "source": [
    "y_hat = model.predict(x_val)\n",
    "y_hat"
   ]
  },
  {
   "cell_type": "code",
   "execution_count": null,
   "metadata": {},
   "outputs": [],
   "source": [
    "plt.rcParams.update({'font.size': 20})\n",
    "plt.figure(figsize=(13,6))\n",
    "sns.set_style('darkgrid')\n",
    "plt.style.use(\"dark_background\")\n",
    "plt.scatter(y= pd.DataFrame(y_hat),\n",
    "                x=pd.DataFrame(y_val),\n",
    "           color = 'red',\n",
    "           alpha=0.9)\n",
    "plt.title('Test 2 - Real vs Predicción')\n",
    "plt.xlabel('y_val')\n",
    "plt.ylabel('y_hat')\n",
    "plt.legend(['R2 :{}'.format(str(r2_score(pd.DataFrame(y_val),\n",
    "                                pd.DataFrame(y_hat))))],\n",
    "           loc='upper right',\n",
    "           )\n",
    "plt.show()"
   ]
  },
  {
   "cell_type": "code",
   "execution_count": null,
   "metadata": {},
   "outputs": [],
   "source": [
    "sub_normalized = pd.DataFrame(x_val)\n",
    "sub_normalized[7] = y_hat\n",
    "sub_normalized"
   ]
  },
  {
   "cell_type": "code",
   "execution_count": null,
   "metadata": {},
   "outputs": [],
   "source": [
    "sub_desnorm = Estandar.inverse_transform(sub_normalized)\n",
    "sub_desnorm = pd.DataFrame(sub_desnorm).iloc[:,-1]\n",
    "sub_desnorm"
   ]
  },
  {
   "cell_type": "code",
   "execution_count": null,
   "metadata": {},
   "outputs": [],
   "source": [
    "sub_record = pd.DataFrame(id_cli.iloc[-281666:,])\n",
    "sub_record.reset_index(inplace = True, drop =True)\n",
    "sub_record.reset_index(inplace = True)\n",
    "sub_gasto = pd.DataFrame(sub_desnorm)\n",
    "sub_gasto.reset_index(inplace = True, drop =True)\n",
    "sub_gasto.reset_index(inplace = True)\n",
    "sub = pd.merge(sub_record,sub_gasto, on = 'index',how=\"left\")\n",
    "sub = sub.drop(columns=['index'], axis=0)\n",
    "sub.columns = ['id_registro','gasto_familiar']\n",
    "sub"
   ]
  },
  {
   "cell_type": "code",
   "execution_count": null,
   "metadata": {},
   "outputs": [],
   "source": [
    "n = 132\n",
    "sub_name = \"/mnt/workstation/data/Alomarrano/Sub/SubNN{}.csv\".format(n)\n",
    "sub_name"
   ]
  },
  {
   "cell_type": "code",
   "execution_count": null,
   "metadata": {},
   "outputs": [],
   "source": [
    "np.mean(sub['gasto_familiar'])"
   ]
  },
  {
   "cell_type": "code",
   "execution_count": null,
   "metadata": {},
   "outputs": [],
   "source": [
    "sub.to_csv(sub_name, index=False)"
   ]
  },
  {
   "cell_type": "markdown",
   "metadata": {},
   "source": [
    "# Test 3"
   ]
  },
  {
   "cell_type": "code",
   "execution_count": null,
   "metadata": {
    "colab": {
     "base_uri": "https://localhost:8080/",
     "height": 791
    },
    "id": "33VggdD0JZyt",
    "outputId": "2a86d674-efac-4602-f097-dd3034d07e26"
   },
   "outputs": [],
   "source": [
    "import matplotlib.pyplot as plt\n",
    "\n",
    "history = model.fit(X_train,\n",
    "                    y_train,\n",
    "                    batch_size=32,\n",
    "                    epochs=75,\n",
    "                    validation_data=(x_val,y_val),\n",
    "                    verbose=0,\n",
    "                   use_multiprocessing=True)\n"
   ]
  },
  {
   "cell_type": "code",
   "execution_count": null,
   "metadata": {},
   "outputs": [],
   "source": [
    "# Plot training & validation accuracy values\n",
    "plt.rcParams.update({'font.size': 20})\n",
    "plt.figure(figsize=(13,6))\n",
    "plt.style.use(\"dark_background\")\n",
    "plt.plot(history.history['mean_absolute_percentage_error'])\n",
    "plt.plot(history.history['val_mean_absolute_percentage_error'])\n",
    "plt.title('Test 3 - Model mean_absolute_percentage_error')\n",
    "plt.ylabel('MAPE %')\n",
    "plt.xlabel('Epoch')\n",
    "plt.legend(['Train', 'Test'], loc='upper right')\n",
    "plt.show()\n",
    "\n",
    "# Plot training & validation loss values\n",
    "plt.rcParams.update({'font.size': 20})\n",
    "plt.figure(figsize=(13,6))\n",
    "plt.plot(history.history['loss'])\n",
    "plt.plot(history.history['val_loss'])\n",
    "plt.title('Test 3 - Model loss')\n",
    "plt.ylabel('Loss')\n",
    "plt.xlabel('Epoch')\n",
    "plt.legend(['Train', 'Test'], loc='upper right')\n",
    "plt.show()"
   ]
  },
  {
   "cell_type": "code",
   "execution_count": null,
   "metadata": {
    "scrolled": true
   },
   "outputs": [],
   "source": [
    "results_h = model.evaluate(X_test, y_test)\n",
    "\n",
    "for i in range(len(model.metrics_names)):\n",
    "  print(model.metrics_names[i],\": \", results_h[i])"
   ]
  },
  {
   "cell_type": "markdown",
   "metadata": {},
   "source": [
    "## Submission"
   ]
  },
  {
   "cell_type": "code",
   "execution_count": null,
   "metadata": {},
   "outputs": [],
   "source": [
    "y_hat = model.predict(x_val)\n",
    "y_hat"
   ]
  },
  {
   "cell_type": "code",
   "execution_count": null,
   "metadata": {},
   "outputs": [],
   "source": [
    "plt.rcParams.update({'font.size': 20})\n",
    "plt.figure(figsize=(13,6))\n",
    "sns.set_style('darkgrid')\n",
    "plt.style.use(\"dark_background\")\n",
    "plt.scatter(y= pd.DataFrame(y_hat),\n",
    "                x=pd.DataFrame(y_val),\n",
    "           color = 'red',\n",
    "           alpha=0.9)\n",
    "plt.title('Test 3 - Real vs Predicción')\n",
    "plt.xlabel('y_val')\n",
    "plt.ylabel('y_hat')\n",
    "plt.legend(['R2 :{}'.format(str(r2_score(pd.DataFrame(y_val),\n",
    "                                pd.DataFrame(y_hat))))],\n",
    "           loc='upper right',\n",
    "           )\n",
    "plt.show()"
   ]
  },
  {
   "cell_type": "code",
   "execution_count": null,
   "metadata": {},
   "outputs": [],
   "source": [
    "sub_normalized = pd.DataFrame(x_val)\n",
    "sub_normalized[7] = y_hat\n",
    "sub_normalized"
   ]
  },
  {
   "cell_type": "code",
   "execution_count": null,
   "metadata": {},
   "outputs": [],
   "source": [
    "sub_desnorm = Estandar.inverse_transform(sub_normalized)\n",
    "sub_desnorm = pd.DataFrame(sub_desnorm).iloc[:,-1]\n",
    "sub_desnorm"
   ]
  },
  {
   "cell_type": "code",
   "execution_count": null,
   "metadata": {},
   "outputs": [],
   "source": [
    "sub_record = pd.DataFrame(id_cli.iloc[-281666:,])\n",
    "sub_record.reset_index(inplace = True, drop =True)\n",
    "sub_record.reset_index(inplace = True)\n",
    "sub_gasto = pd.DataFrame(sub_desnorm)\n",
    "sub_gasto.reset_index(inplace = True, drop =True)\n",
    "sub_gasto.reset_index(inplace = True)\n",
    "sub = pd.merge(sub_record,sub_gasto, on = 'index',how=\"left\")\n",
    "sub = sub.drop(columns=['index'], axis=0)\n",
    "sub.columns = ['id_registro','gasto_familiar']\n",
    "sub"
   ]
  },
  {
   "cell_type": "code",
   "execution_count": null,
   "metadata": {},
   "outputs": [],
   "source": [
    "n = 133\n",
    "sub_name = \"/mnt/workstation/data/Alomarrano/Sub/SubNN{}.csv\".format(n)\n",
    "sub_name"
   ]
  },
  {
   "cell_type": "code",
   "execution_count": null,
   "metadata": {},
   "outputs": [],
   "source": [
    "np.mean(sub['gasto_familiar'])"
   ]
  },
  {
   "cell_type": "code",
   "execution_count": null,
   "metadata": {},
   "outputs": [],
   "source": [
    "sub.to_csv(sub_name, index=False)"
   ]
  },
  {
   "cell_type": "markdown",
   "metadata": {},
   "source": [
    "# Test 4"
   ]
  },
  {
   "cell_type": "code",
   "execution_count": null,
   "metadata": {},
   "outputs": [],
   "source": [
    "import matplotlib.pyplot as plt\n",
    "\n",
    "history = model.fit(X_train, y_train,\n",
    "                    batch_size=32,\n",
    "                    epochs=100,\n",
    "                    validation_data=(x_val,y_val),\n",
    "                    verbose=0,\n",
    "                   use_multiprocessing=True)\n"
   ]
  },
  {
   "cell_type": "code",
   "execution_count": null,
   "metadata": {},
   "outputs": [],
   "source": [
    "# Plot training & validation accuracy values\n",
    "plt.rcParams.update({'font.size': 20})\n",
    "plt.figure(figsize=(13,6))\n",
    "plt.style.use(\"dark_background\")\n",
    "plt.plot(history.history['mean_absolute_percentage_error'])\n",
    "plt.plot(history.history['val_mean_absolute_percentage_error'])\n",
    "plt.title('Test 4 - Model mean_absolute_percentage_error')\n",
    "plt.ylabel('MAPE %')\n",
    "plt.xlabel('Epoch')\n",
    "plt.legend(['Train', 'Test'], loc='upper right')\n",
    "plt.show()\n",
    "\n",
    "# Plot training & validation loss values\n",
    "plt.rcParams.update({'font.size': 20})\n",
    "plt.figure(figsize=(13,6))\n",
    "plt.plot(history.history['loss'])\n",
    "plt.plot(history.history['val_loss'])\n",
    "plt.title('Test 4 - Model loss')\n",
    "plt.ylabel('Loss')\n",
    "plt.xlabel('Epoch')\n",
    "plt.legend(['Train', 'Test'], loc='upper right')\n",
    "plt.show()"
   ]
  },
  {
   "cell_type": "code",
   "execution_count": null,
   "metadata": {
    "scrolled": true
   },
   "outputs": [],
   "source": [
    "results_3 = model.evaluate(X_test, y_test)\n",
    "\n",
    "for i in range(len(model.metrics_names)):\n",
    "  print(model.metrics_names[i],\": \", results_3[i])"
   ]
  },
  {
   "cell_type": "markdown",
   "metadata": {},
   "source": [
    "## Submission"
   ]
  },
  {
   "cell_type": "code",
   "execution_count": null,
   "metadata": {},
   "outputs": [],
   "source": [
    "y_hat = model.predict(x_val)\n",
    "y_hat"
   ]
  },
  {
   "cell_type": "code",
   "execution_count": null,
   "metadata": {},
   "outputs": [],
   "source": [
    "plt.rcParams.update({'font.size': 20})\n",
    "plt.figure(figsize=(13,6))\n",
    "sns.set_style('darkgrid')\n",
    "plt.style.use(\"dark_background\")\n",
    "plt.scatter(y= pd.DataFrame(y_hat),\n",
    "                x=pd.DataFrame(y_val),\n",
    "           color = 'red',\n",
    "           alpha=0.9)\n",
    "plt.title('Test 4 - Real vs Predicción')\n",
    "plt.xlabel('y_val')\n",
    "plt.ylabel('y_hat')\n",
    "plt.legend(['R2 :{}'.format(str(r2_score(pd.DataFrame(y_val),\n",
    "                                pd.DataFrame(y_hat))))],\n",
    "           loc='upper right',\n",
    "           )\n",
    "plt.show()"
   ]
  },
  {
   "cell_type": "code",
   "execution_count": null,
   "metadata": {},
   "outputs": [],
   "source": [
    "sub_normalized = pd.DataFrame(x_val)\n",
    "sub_normalized[7] = y_hat\n",
    "sub_normalized"
   ]
  },
  {
   "cell_type": "code",
   "execution_count": null,
   "metadata": {},
   "outputs": [],
   "source": [
    "sub_desnorm = Estandar.inverse_transform(sub_normalized)\n",
    "sub_desnorm = pd.DataFrame(sub_desnorm).iloc[:,-1]\n",
    "sub_desnorm"
   ]
  },
  {
   "cell_type": "code",
   "execution_count": null,
   "metadata": {},
   "outputs": [],
   "source": [
    "sub_record = pd.DataFrame(id_cli.iloc[-281666:,])\n",
    "sub_record.reset_index(inplace = True, drop =True)\n",
    "sub_record.reset_index(inplace = True)\n",
    "sub_gasto = pd.DataFrame(sub_desnorm)\n",
    "sub_gasto.reset_index(inplace = True, drop =True)\n",
    "sub_gasto.reset_index(inplace = True)\n",
    "sub = pd.merge(sub_record,sub_gasto, on = 'index',how=\"left\")\n",
    "sub = sub.drop(columns=['index'], axis=0)\n",
    "sub.columns = ['id_registro','gasto_familiar']\n",
    "sub"
   ]
  },
  {
   "cell_type": "code",
   "execution_count": null,
   "metadata": {},
   "outputs": [],
   "source": [
    "n = 134\n",
    "sub_name = \"/mnt/workstation/data/Alomarrano/Sub/SubNN{}.csv\".format(n)\n",
    "sub_name"
   ]
  },
  {
   "cell_type": "code",
   "execution_count": null,
   "metadata": {},
   "outputs": [],
   "source": [
    "np.mean(sub['gasto_familiar'])"
   ]
  },
  {
   "cell_type": "code",
   "execution_count": null,
   "metadata": {},
   "outputs": [],
   "source": [
    "sub.to_csv(sub_name, index=False)"
   ]
  },
  {
   "cell_type": "markdown",
   "metadata": {},
   "source": [
    "# Test 5"
   ]
  },
  {
   "cell_type": "code",
   "execution_count": null,
   "metadata": {
    "scrolled": false
   },
   "outputs": [],
   "source": [
    "import matplotlib.pyplot as plt\n",
    "\n",
    "history = model.fit(X_train, y_train,\n",
    "                    batch_size=32,\n",
    "                    epochs=150,\n",
    "                    validation_data=(x_val,y_val),\n",
    "                    verbose=0,\n",
    "                   use_multiprocessing=True)\n",
    "\n"
   ]
  },
  {
   "cell_type": "code",
   "execution_count": null,
   "metadata": {},
   "outputs": [],
   "source": [
    "# Plot training & validation accuracy values\n",
    "plt.rcParams.update({'font.size': 20})\n",
    "plt.figure(figsize=(13,6))\n",
    "plt.style.use(\"dark_background\")\n",
    "plt.plot(history.history['mean_absolute_percentage_error'])\n",
    "plt.plot(history.history['val_mean_absolute_percentage_error'])\n",
    "plt.title('Test 5 - Model mean_absolute_percentage_error')\n",
    "plt.ylabel('MAPE %')\n",
    "plt.xlabel('Epoch')\n",
    "plt.legend(['Train', 'Test'], loc='upper right')\n",
    "plt.show()\n",
    "\n",
    "# Plot training & validation loss values\n",
    "plt.rcParams.update({'font.size': 20})\n",
    "plt.figure(figsize=(13,6))\n",
    "plt.plot(history.history['loss'])\n",
    "plt.plot(history.history['val_loss'])\n",
    "plt.title('Test 5 - Model loss')\n",
    "plt.ylabel('Loss')\n",
    "plt.xlabel('Epoch')\n",
    "plt.legend(['Train', 'Test'], loc='upper right')\n",
    "plt.show()"
   ]
  },
  {
   "cell_type": "code",
   "execution_count": null,
   "metadata": {},
   "outputs": [],
   "source": [
    "results_3 = model.evaluate(X_test, y_test)\n",
    "\n",
    "for i in range(len(model.metrics_names)):\n",
    "  print(model.metrics_names[i],\": \", results_3[i])"
   ]
  },
  {
   "cell_type": "markdown",
   "metadata": {},
   "source": [
    "# Submission"
   ]
  },
  {
   "cell_type": "code",
   "execution_count": null,
   "metadata": {},
   "outputs": [],
   "source": [
    "y_hat = model.predict(x_val)\n",
    "y_hat"
   ]
  },
  {
   "cell_type": "code",
   "execution_count": null,
   "metadata": {},
   "outputs": [],
   "source": [
    "plt.rcParams.update({'font.size': 20})\n",
    "plt.figure(figsize=(13,6))\n",
    "sns.set_style('darkgrid')\n",
    "plt.style.use(\"dark_background\")\n",
    "plt.scatter(y= pd.DataFrame(y_hat),\n",
    "                x=pd.DataFrame(y_val),\n",
    "           color = 'red',\n",
    "           alpha=0.9)\n",
    "plt.title('Test 5 Real vs Predicción')\n",
    "plt.xlabel('y_val')\n",
    "plt.ylabel('y_hat')\n",
    "plt.legend(['R2 :{}'.format(str(r2_score(pd.DataFrame(y_val),\n",
    "                                pd.DataFrame(y_hat))))],\n",
    "           loc='upper right',\n",
    "           )\n",
    "plt.show()"
   ]
  },
  {
   "cell_type": "code",
   "execution_count": null,
   "metadata": {},
   "outputs": [],
   "source": [
    "sub_normalized = pd.DataFrame(x_val)\n",
    "sub_normalized[7] = y_hat\n",
    "sub_normalized"
   ]
  },
  {
   "cell_type": "code",
   "execution_count": null,
   "metadata": {},
   "outputs": [],
   "source": [
    "sub_desnorm = Estandar.inverse_transform(sub_normalized)\n",
    "sub_desnorm = pd.DataFrame(sub_desnorm).iloc[:,-1]\n",
    "sub_desnorm"
   ]
  },
  {
   "cell_type": "code",
   "execution_count": null,
   "metadata": {},
   "outputs": [],
   "source": [
    "sub_record = pd.DataFrame(id_cli.iloc[-281666:,])\n",
    "sub_record.reset_index(inplace = True, drop =True)\n",
    "sub_record.reset_index(inplace = True)\n",
    "sub_gasto = pd.DataFrame(sub_desnorm)\n",
    "sub_gasto.reset_index(inplace = True, drop =True)\n",
    "sub_gasto.reset_index(inplace = True)\n",
    "sub = pd.merge(sub_record,sub_gasto, on = 'index',how=\"left\")\n",
    "sub = sub.drop(columns=['index'], axis=0)\n",
    "sub.columns = ['id_registro','gasto_familiar']\n",
    "sub"
   ]
  },
  {
   "cell_type": "code",
   "execution_count": null,
   "metadata": {},
   "outputs": [],
   "source": [
    "n = 135\n",
    "sub_name = \"/mnt/workstation/data/Alomarrano/Sub/SubNN{}.csv\".format(n)\n",
    "sub_name"
   ]
  },
  {
   "cell_type": "code",
   "execution_count": null,
   "metadata": {},
   "outputs": [],
   "source": [
    "np.mean(sub['gasto_familiar'])"
   ]
  },
  {
   "cell_type": "code",
   "execution_count": null,
   "metadata": {},
   "outputs": [],
   "source": [
    "sub.to_csv(sub_name, index=False)"
   ]
  }
 ],
 "metadata": {
  "colab": {
   "include_colab_link": true,
   "name": "4_Creando_Primera_Red_Neuronal.ipynb",
   "provenance": []
  },
  "kernelspec": {
   "display_name": "Python 3",
   "language": "python",
   "name": "python3"
  },
  "language_info": {
   "codemirror_mode": {
    "name": "ipython",
    "version": 3
   },
   "file_extension": ".py",
   "mimetype": "text/x-python",
   "name": "python",
   "nbconvert_exporter": "python",
   "pygments_lexer": "ipython3",
   "version": "3.6.3"
  }
 },
 "nbformat": 4,
 "nbformat_minor": 1
}
