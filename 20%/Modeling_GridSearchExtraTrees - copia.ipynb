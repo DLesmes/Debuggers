{
 "cells": [
  {
   "cell_type": "markdown",
   "metadata": {},
   "source": [
    "# Requirements"
   ]
  },
  {
   "cell_type": "code",
   "execution_count": 19,
   "metadata": {},
   "outputs": [],
   "source": [
    "import numpy                 as np\n",
    "import pandas                as pd\n",
    "import matplotlib.pyplot     as plt\n",
    "import seaborn               as sns\n",
    "\n",
    "from scipy import stats\n",
    "import sklearn.metrics       as Metrics\n",
    "from sklearn.metrics import classification_report, confusion_matrix, accuracy_score, mean_absolute_error\n",
    "from sklearn.model_selection import train_test_split\n",
    "#from sklearn.model_selection import GridSearchCV\n",
    "#from sklearn.model_selection import cross_val_score\n",
    "from sklearn.ensemble import ExtraTreesRegressor\n",
    "#from sklearn.model_selection import RandomizedSearchCV\n",
    "from sklearn.preprocessing import MinMaxScaler"
   ]
  },
  {
   "cell_type": "markdown",
   "metadata": {},
   "source": [
    "# Loading data"
   ]
  },
  {
   "cell_type": "code",
   "execution_count": 2,
   "metadata": {},
   "outputs": [
    {
     "output_type": "execute_result",
     "data": {
      "text/plain": [
       "         categoria  ingreso_final  mediana_nom3  ocupacion_tag_gasto_familiar  \\\n",
       "0              1.0      2406953.0      779157.0                             6   \n",
       "1              1.0      3014036.0           0.0                             6   \n",
       "2              2.0      1242174.0           0.0                             6   \n",
       "3              1.0      2851369.0      741967.0                             6   \n",
       "4              1.0      3171369.0           0.0                             6   \n",
       "...            ...            ...           ...                           ...   \n",
       "1527188        2.0      3876343.0     2281362.0                             6   \n",
       "1527189        3.0     26913722.0    14956096.0                             6   \n",
       "1527190        3.0     16301000.0           0.0                             8   \n",
       "1527191        2.0     14481371.0    11916465.0                             6   \n",
       "1527192        2.0      8407800.0           0.0                             6   \n",
       "\n",
       "         cartera_castigada  ind_mora_vigente  \\\n",
       "0                        1                 1   \n",
       "1                        1                 1   \n",
       "2                        1                 1   \n",
       "3                        1                 1   \n",
       "4                        1                 1   \n",
       "...                    ...               ...   \n",
       "1527188                  1                 1   \n",
       "1527189                  1                 1   \n",
       "1527190                  1                 1   \n",
       "1527191                  1                 1   \n",
       "1527192                  1                 1   \n",
       "\n",
       "         rep_calif_cred_tag_gasto_familiar  genero_tag  \\\n",
       "0                                        2           1   \n",
       "1                                        3           1   \n",
       "2                                        3           1   \n",
       "3                                        4           1   \n",
       "4                                        3           1   \n",
       "...                                    ...         ...   \n",
       "1527188                                  8           1   \n",
       "1527189                                  5           2   \n",
       "1527190                                  3           2   \n",
       "1527191                                  7           1   \n",
       "1527192                                  4           1   \n",
       "\n",
       "         estado_civil_tag_gasto_familiar  profesion_tag_gasto_familiar  \\\n",
       "0                                    1.0                            44   \n",
       "1                                    1.0                            44   \n",
       "2                                    1.0                            44   \n",
       "3                                    1.0                            44   \n",
       "4                                    1.0                            44   \n",
       "...                                  ...                           ...   \n",
       "1527188                              1.0                            44   \n",
       "1527189                              3.0                            47   \n",
       "1527190                              3.0                            46   \n",
       "1527191                              5.0                            64   \n",
       "1527192                              4.0                            44   \n",
       "\n",
       "         ctas_activas  periodo  profesion_AUXILIAR DE ODONTOLOGIA  \\\n",
       "0                   2   201902                                  0   \n",
       "1                   2   202001                                  0   \n",
       "2                   2   202009                                  0   \n",
       "3                   2   201908                                  0   \n",
       "4                   2   201911                                  0   \n",
       "...               ...      ...                                ...   \n",
       "1527188             1   202011                                  0   \n",
       "1527189             2   202011                                  0   \n",
       "1527190             1   202011                                  0   \n",
       "1527191             1   202011                                  0   \n",
       "1527192             1   202011                                  0   \n",
       "\n",
       "         profesion_BACTERIOLOGIA  profesion_CARRERA MILITAR  \\\n",
       "0                              0                          0   \n",
       "1                              0                          0   \n",
       "2                              0                          0   \n",
       "3                              0                          0   \n",
       "4                              0                          0   \n",
       "...                          ...                        ...   \n",
       "1527188                        0                          0   \n",
       "1527189                        0                          1   \n",
       "1527190                        0                          0   \n",
       "1527191                        0                          0   \n",
       "1527192                        0                          0   \n",
       "\n",
       "         profesion_COMERCIO INTERNACIONAL  gasto_familiar  \n",
       "0                                       0    3.663700e+05  \n",
       "1                                       0    7.372630e+05  \n",
       "2                                       0    4.473640e+05  \n",
       "3                                       0    4.797520e+05  \n",
       "4                                       0    1.599610e+05  \n",
       "...                                   ...             ...  \n",
       "1527188                                 0    7.431714e+05  \n",
       "1527189                                 0    8.502165e+05  \n",
       "1527190                                 0    7.853290e+05  \n",
       "1527191                                 0    1.029045e+06  \n",
       "1527192                                 0    9.110522e+05  \n",
       "\n",
       "[1527193 rows x 17 columns]"
      ],
      "text/html": "<div>\n<style scoped>\n    .dataframe tbody tr th:only-of-type {\n        vertical-align: middle;\n    }\n\n    .dataframe tbody tr th {\n        vertical-align: top;\n    }\n\n    .dataframe thead th {\n        text-align: right;\n    }\n</style>\n<table border=\"1\" class=\"dataframe\">\n  <thead>\n    <tr style=\"text-align: right;\">\n      <th></th>\n      <th>categoria</th>\n      <th>ingreso_final</th>\n      <th>mediana_nom3</th>\n      <th>ocupacion_tag_gasto_familiar</th>\n      <th>cartera_castigada</th>\n      <th>ind_mora_vigente</th>\n      <th>rep_calif_cred_tag_gasto_familiar</th>\n      <th>genero_tag</th>\n      <th>estado_civil_tag_gasto_familiar</th>\n      <th>profesion_tag_gasto_familiar</th>\n      <th>ctas_activas</th>\n      <th>periodo</th>\n      <th>profesion_AUXILIAR DE ODONTOLOGIA</th>\n      <th>profesion_BACTERIOLOGIA</th>\n      <th>profesion_CARRERA MILITAR</th>\n      <th>profesion_COMERCIO INTERNACIONAL</th>\n      <th>gasto_familiar</th>\n    </tr>\n  </thead>\n  <tbody>\n    <tr>\n      <th>0</th>\n      <td>1.0</td>\n      <td>2406953.0</td>\n      <td>779157.0</td>\n      <td>6</td>\n      <td>1</td>\n      <td>1</td>\n      <td>2</td>\n      <td>1</td>\n      <td>1.0</td>\n      <td>44</td>\n      <td>2</td>\n      <td>201902</td>\n      <td>0</td>\n      <td>0</td>\n      <td>0</td>\n      <td>0</td>\n      <td>3.663700e+05</td>\n    </tr>\n    <tr>\n      <th>1</th>\n      <td>1.0</td>\n      <td>3014036.0</td>\n      <td>0.0</td>\n      <td>6</td>\n      <td>1</td>\n      <td>1</td>\n      <td>3</td>\n      <td>1</td>\n      <td>1.0</td>\n      <td>44</td>\n      <td>2</td>\n      <td>202001</td>\n      <td>0</td>\n      <td>0</td>\n      <td>0</td>\n      <td>0</td>\n      <td>7.372630e+05</td>\n    </tr>\n    <tr>\n      <th>2</th>\n      <td>2.0</td>\n      <td>1242174.0</td>\n      <td>0.0</td>\n      <td>6</td>\n      <td>1</td>\n      <td>1</td>\n      <td>3</td>\n      <td>1</td>\n      <td>1.0</td>\n      <td>44</td>\n      <td>2</td>\n      <td>202009</td>\n      <td>0</td>\n      <td>0</td>\n      <td>0</td>\n      <td>0</td>\n      <td>4.473640e+05</td>\n    </tr>\n    <tr>\n      <th>3</th>\n      <td>1.0</td>\n      <td>2851369.0</td>\n      <td>741967.0</td>\n      <td>6</td>\n      <td>1</td>\n      <td>1</td>\n      <td>4</td>\n      <td>1</td>\n      <td>1.0</td>\n      <td>44</td>\n      <td>2</td>\n      <td>201908</td>\n      <td>0</td>\n      <td>0</td>\n      <td>0</td>\n      <td>0</td>\n      <td>4.797520e+05</td>\n    </tr>\n    <tr>\n      <th>4</th>\n      <td>1.0</td>\n      <td>3171369.0</td>\n      <td>0.0</td>\n      <td>6</td>\n      <td>1</td>\n      <td>1</td>\n      <td>3</td>\n      <td>1</td>\n      <td>1.0</td>\n      <td>44</td>\n      <td>2</td>\n      <td>201911</td>\n      <td>0</td>\n      <td>0</td>\n      <td>0</td>\n      <td>0</td>\n      <td>1.599610e+05</td>\n    </tr>\n    <tr>\n      <th>...</th>\n      <td>...</td>\n      <td>...</td>\n      <td>...</td>\n      <td>...</td>\n      <td>...</td>\n      <td>...</td>\n      <td>...</td>\n      <td>...</td>\n      <td>...</td>\n      <td>...</td>\n      <td>...</td>\n      <td>...</td>\n      <td>...</td>\n      <td>...</td>\n      <td>...</td>\n      <td>...</td>\n      <td>...</td>\n    </tr>\n    <tr>\n      <th>1527188</th>\n      <td>2.0</td>\n      <td>3876343.0</td>\n      <td>2281362.0</td>\n      <td>6</td>\n      <td>1</td>\n      <td>1</td>\n      <td>8</td>\n      <td>1</td>\n      <td>1.0</td>\n      <td>44</td>\n      <td>1</td>\n      <td>202011</td>\n      <td>0</td>\n      <td>0</td>\n      <td>0</td>\n      <td>0</td>\n      <td>7.431714e+05</td>\n    </tr>\n    <tr>\n      <th>1527189</th>\n      <td>3.0</td>\n      <td>26913722.0</td>\n      <td>14956096.0</td>\n      <td>6</td>\n      <td>1</td>\n      <td>1</td>\n      <td>5</td>\n      <td>2</td>\n      <td>3.0</td>\n      <td>47</td>\n      <td>2</td>\n      <td>202011</td>\n      <td>0</td>\n      <td>0</td>\n      <td>1</td>\n      <td>0</td>\n      <td>8.502165e+05</td>\n    </tr>\n    <tr>\n      <th>1527190</th>\n      <td>3.0</td>\n      <td>16301000.0</td>\n      <td>0.0</td>\n      <td>8</td>\n      <td>1</td>\n      <td>1</td>\n      <td>3</td>\n      <td>2</td>\n      <td>3.0</td>\n      <td>46</td>\n      <td>1</td>\n      <td>202011</td>\n      <td>0</td>\n      <td>0</td>\n      <td>0</td>\n      <td>0</td>\n      <td>7.853290e+05</td>\n    </tr>\n    <tr>\n      <th>1527191</th>\n      <td>2.0</td>\n      <td>14481371.0</td>\n      <td>11916465.0</td>\n      <td>6</td>\n      <td>1</td>\n      <td>1</td>\n      <td>7</td>\n      <td>1</td>\n      <td>5.0</td>\n      <td>64</td>\n      <td>1</td>\n      <td>202011</td>\n      <td>0</td>\n      <td>0</td>\n      <td>0</td>\n      <td>0</td>\n      <td>1.029045e+06</td>\n    </tr>\n    <tr>\n      <th>1527192</th>\n      <td>2.0</td>\n      <td>8407800.0</td>\n      <td>0.0</td>\n      <td>6</td>\n      <td>1</td>\n      <td>1</td>\n      <td>4</td>\n      <td>1</td>\n      <td>4.0</td>\n      <td>44</td>\n      <td>1</td>\n      <td>202011</td>\n      <td>0</td>\n      <td>0</td>\n      <td>0</td>\n      <td>0</td>\n      <td>9.110522e+05</td>\n    </tr>\n  </tbody>\n</table>\n<p>1527193 rows × 17 columns</p>\n</div>"
     },
     "metadata": {},
     "execution_count": 2
    }
   ],
   "source": [
    "#df = pd.read_csv(\"/mnt/workstation/data/Alomarrano/littlepig_full_ok.csv\")\n",
    "df_onehot = pd.read_csv(\"C:/Users/dielesro/Documents/Workstation/Debuggers/data/4rf_full_ok_encoded_bestVar.csv\")\n",
    "id_cli = df_onehot.iloc[-281666:,-1]\n",
    "df_onehot = df_onehot.drop(['id_registro'], axis=1)\n",
    "df_onehot"
   ]
  },
  {
   "source": [
    "## Normalization"
   ],
   "cell_type": "markdown",
   "metadata": {}
  },
  {
   "cell_type": "code",
   "execution_count": 4,
   "metadata": {},
   "outputs": [
    {
     "output_type": "execute_result",
     "data": {
      "text/plain": [
       "        count  mean   std  min   25%   50%   75%  max\n",
       "0   1527193.0  0.31  0.14  0.0  0.20  0.20  0.40  1.0\n",
       "1   1527193.0  0.00  0.00  0.0  0.00  0.00  0.00  1.0\n",
       "2   1527193.0  0.00  0.01  0.0  0.00  0.00  0.01  1.0\n",
       "3   1527193.0  0.54  0.17  0.0  0.56  0.56  0.56  1.0\n",
       "4   1527193.0  0.00  0.00  0.0  0.00  0.00  0.00  0.0\n",
       "5   1527193.0  0.00  0.00  0.0  0.00  0.00  0.00  0.0\n",
       "6   1527193.0  0.61  0.36  0.0  0.29  0.71  1.00  1.0\n",
       "7   1527193.0  0.49  0.50  0.0  0.00  0.00  1.00  1.0\n",
       "8   1527193.0  0.46  0.46  0.0  0.00  0.50  1.00  1.0\n",
       "9   1527193.0  0.58  0.21  0.0  0.55  0.55  0.69  1.0\n",
       "10  1527193.0  0.07  0.03  0.0  0.07  0.07  0.07  1.0\n",
       "11  1527193.0  0.52  0.46  0.0  0.05  0.91  0.96  1.0\n",
       "12  1527193.0  0.00  0.02  0.0  0.00  0.00  0.00  1.0\n",
       "13  1527193.0  0.00  0.06  0.0  0.00  0.00  0.00  1.0\n",
       "14  1527193.0  0.00  0.06  0.0  0.00  0.00  0.00  1.0\n",
       "15  1527193.0  0.01  0.09  0.0  0.00  0.00  0.00  1.0\n",
       "16  1527193.0  0.02  0.00  0.0  0.02  0.02  0.02  1.0"
      ],
      "text/html": "<div>\n<style scoped>\n    .dataframe tbody tr th:only-of-type {\n        vertical-align: middle;\n    }\n\n    .dataframe tbody tr th {\n        vertical-align: top;\n    }\n\n    .dataframe thead th {\n        text-align: right;\n    }\n</style>\n<table border=\"1\" class=\"dataframe\">\n  <thead>\n    <tr style=\"text-align: right;\">\n      <th></th>\n      <th>count</th>\n      <th>mean</th>\n      <th>std</th>\n      <th>min</th>\n      <th>25%</th>\n      <th>50%</th>\n      <th>75%</th>\n      <th>max</th>\n    </tr>\n  </thead>\n  <tbody>\n    <tr>\n      <th>0</th>\n      <td>1527193.0</td>\n      <td>0.31</td>\n      <td>0.14</td>\n      <td>0.0</td>\n      <td>0.20</td>\n      <td>0.20</td>\n      <td>0.40</td>\n      <td>1.0</td>\n    </tr>\n    <tr>\n      <th>1</th>\n      <td>1527193.0</td>\n      <td>0.00</td>\n      <td>0.00</td>\n      <td>0.0</td>\n      <td>0.00</td>\n      <td>0.00</td>\n      <td>0.00</td>\n      <td>1.0</td>\n    </tr>\n    <tr>\n      <th>2</th>\n      <td>1527193.0</td>\n      <td>0.00</td>\n      <td>0.01</td>\n      <td>0.0</td>\n      <td>0.00</td>\n      <td>0.00</td>\n      <td>0.01</td>\n      <td>1.0</td>\n    </tr>\n    <tr>\n      <th>3</th>\n      <td>1527193.0</td>\n      <td>0.54</td>\n      <td>0.17</td>\n      <td>0.0</td>\n      <td>0.56</td>\n      <td>0.56</td>\n      <td>0.56</td>\n      <td>1.0</td>\n    </tr>\n    <tr>\n      <th>4</th>\n      <td>1527193.0</td>\n      <td>0.00</td>\n      <td>0.00</td>\n      <td>0.0</td>\n      <td>0.00</td>\n      <td>0.00</td>\n      <td>0.00</td>\n      <td>0.0</td>\n    </tr>\n    <tr>\n      <th>5</th>\n      <td>1527193.0</td>\n      <td>0.00</td>\n      <td>0.00</td>\n      <td>0.0</td>\n      <td>0.00</td>\n      <td>0.00</td>\n      <td>0.00</td>\n      <td>0.0</td>\n    </tr>\n    <tr>\n      <th>6</th>\n      <td>1527193.0</td>\n      <td>0.61</td>\n      <td>0.36</td>\n      <td>0.0</td>\n      <td>0.29</td>\n      <td>0.71</td>\n      <td>1.00</td>\n      <td>1.0</td>\n    </tr>\n    <tr>\n      <th>7</th>\n      <td>1527193.0</td>\n      <td>0.49</td>\n      <td>0.50</td>\n      <td>0.0</td>\n      <td>0.00</td>\n      <td>0.00</td>\n      <td>1.00</td>\n      <td>1.0</td>\n    </tr>\n    <tr>\n      <th>8</th>\n      <td>1527193.0</td>\n      <td>0.46</td>\n      <td>0.46</td>\n      <td>0.0</td>\n      <td>0.00</td>\n      <td>0.50</td>\n      <td>1.00</td>\n      <td>1.0</td>\n    </tr>\n    <tr>\n      <th>9</th>\n      <td>1527193.0</td>\n      <td>0.58</td>\n      <td>0.21</td>\n      <td>0.0</td>\n      <td>0.55</td>\n      <td>0.55</td>\n      <td>0.69</td>\n      <td>1.0</td>\n    </tr>\n    <tr>\n      <th>10</th>\n      <td>1527193.0</td>\n      <td>0.07</td>\n      <td>0.03</td>\n      <td>0.0</td>\n      <td>0.07</td>\n      <td>0.07</td>\n      <td>0.07</td>\n      <td>1.0</td>\n    </tr>\n    <tr>\n      <th>11</th>\n      <td>1527193.0</td>\n      <td>0.52</td>\n      <td>0.46</td>\n      <td>0.0</td>\n      <td>0.05</td>\n      <td>0.91</td>\n      <td>0.96</td>\n      <td>1.0</td>\n    </tr>\n    <tr>\n      <th>12</th>\n      <td>1527193.0</td>\n      <td>0.00</td>\n      <td>0.02</td>\n      <td>0.0</td>\n      <td>0.00</td>\n      <td>0.00</td>\n      <td>0.00</td>\n      <td>1.0</td>\n    </tr>\n    <tr>\n      <th>13</th>\n      <td>1527193.0</td>\n      <td>0.00</td>\n      <td>0.06</td>\n      <td>0.0</td>\n      <td>0.00</td>\n      <td>0.00</td>\n      <td>0.00</td>\n      <td>1.0</td>\n    </tr>\n    <tr>\n      <th>14</th>\n      <td>1527193.0</td>\n      <td>0.00</td>\n      <td>0.06</td>\n      <td>0.0</td>\n      <td>0.00</td>\n      <td>0.00</td>\n      <td>0.00</td>\n      <td>1.0</td>\n    </tr>\n    <tr>\n      <th>15</th>\n      <td>1527193.0</td>\n      <td>0.01</td>\n      <td>0.09</td>\n      <td>0.0</td>\n      <td>0.00</td>\n      <td>0.00</td>\n      <td>0.00</td>\n      <td>1.0</td>\n    </tr>\n    <tr>\n      <th>16</th>\n      <td>1527193.0</td>\n      <td>0.02</td>\n      <td>0.00</td>\n      <td>0.0</td>\n      <td>0.02</td>\n      <td>0.02</td>\n      <td>0.02</td>\n      <td>1.0</td>\n    </tr>\n  </tbody>\n</table>\n</div>"
     },
     "metadata": {},
     "execution_count": 4
    }
   ],
   "source": [
    "Estandar = MinMaxScaler()\n",
    "Estandar.fit(df_onehot)\n",
    "\n",
    "df_std = Estandar.transform(df_onehot)\n",
    "df_std = pd.DataFrame(df_std)\n",
    "round(df_std.describe().T,2)"
   ]
  },
  {
   "cell_type": "code",
   "execution_count": 23,
   "metadata": {},
   "outputs": [],
   "source": [
    "x_val = df_std.iloc[-281666:,:-1]\n",
    "y_val = df_std.iloc[-281666:,-1]\n",
    "y = df_std.iloc[:-281666,-1]"
   ]
  },
  {
   "cell_type": "code",
   "execution_count": 24,
   "metadata": {},
   "outputs": [
    {
     "output_type": "stream",
     "name": "stdout",
     "text": [
      "(281666, 16)\n(281666,)\n(1245527,)\n"
     ]
    }
   ],
   "source": [
    "print(x_val.shape)\n",
    "print(y_val.shape)\n",
    "print(y.shape)"
   ]
  },
  {
   "cell_type": "markdown",
   "metadata": {},
   "source": [
    "### Train/test Sets"
   ]
  },
  {
   "cell_type": "code",
   "execution_count": 7,
   "metadata": {},
   "outputs": [
    {
     "output_type": "execute_result",
     "data": {
      "text/plain": [
       "          0         1         2         3    4    5         6    7     8   \\\n",
       "395337   0.2  0.000320  0.004263  0.555556  0.0  0.0  0.857143  1.0  0.00   \n",
       "636940   0.2  0.000457  0.000000  0.777778  0.0  0.0  0.571429  0.0  1.00   \n",
       "367237   0.2  0.000302  0.004024  0.555556  0.0  0.0  1.000000  0.0  0.00   \n",
       "270508   0.2  0.000268  0.003795  0.555556  0.0  0.0  0.428571  0.0  0.00   \n",
       "786527   0.2  0.000262  0.003944  0.555556  0.0  0.0  0.571429  0.0  0.00   \n",
       "...      ...       ...       ...       ...  ...  ...       ...  ...   ...   \n",
       "1212494  0.8  0.000951  0.000000  0.777778  0.0  0.0  1.000000  0.0  1.00   \n",
       "757051   0.2  0.000289  0.004307  0.555556  0.0  0.0  0.857143  1.0  1.00   \n",
       "1149114  0.2  0.000249  0.002056  0.555556  0.0  0.0  0.571429  1.0  0.00   \n",
       "384418   0.2  0.000504  0.000000  0.555556  0.0  0.0  0.285714  0.0  0.75   \n",
       "609453   0.4  0.001229  0.005906  0.555556  0.0  0.0  1.000000  1.0  1.00   \n",
       "\n",
       "               9         10        11   12   13   14   15  \n",
       "395337   0.551282  0.071429  0.073394  0.0  0.0  0.0  0.0  \n",
       "636940   0.487179  0.071429  0.064220  0.0  0.0  0.0  0.0  \n",
       "367237   0.512821  0.071429  0.064220  0.0  0.0  0.0  1.0  \n",
       "270508   0.551282  0.000000  1.000000  0.0  0.0  0.0  0.0  \n",
       "786527   0.551282  0.071429  0.926606  0.0  0.0  0.0  0.0  \n",
       "...           ...       ...       ...  ...  ...  ...  ...  \n",
       "1212494  0.692308  0.071429  1.000000  0.0  0.0  0.0  0.0  \n",
       "757051   0.679487  0.071429  0.045872  0.0  0.0  0.0  0.0  \n",
       "1149114  0.871795  0.071429  0.082569  0.0  0.0  0.0  0.0  \n",
       "384418   0.551282  0.071429  0.000000  0.0  0.0  0.0  0.0  \n",
       "609453   0.551282  0.071429  0.073394  0.0  0.0  0.0  0.0  \n",
       "\n",
       "[871868 rows x 16 columns]"
      ],
      "text/html": "<div>\n<style scoped>\n    .dataframe tbody tr th:only-of-type {\n        vertical-align: middle;\n    }\n\n    .dataframe tbody tr th {\n        vertical-align: top;\n    }\n\n    .dataframe thead th {\n        text-align: right;\n    }\n</style>\n<table border=\"1\" class=\"dataframe\">\n  <thead>\n    <tr style=\"text-align: right;\">\n      <th></th>\n      <th>0</th>\n      <th>1</th>\n      <th>2</th>\n      <th>3</th>\n      <th>4</th>\n      <th>5</th>\n      <th>6</th>\n      <th>7</th>\n      <th>8</th>\n      <th>9</th>\n      <th>10</th>\n      <th>11</th>\n      <th>12</th>\n      <th>13</th>\n      <th>14</th>\n      <th>15</th>\n    </tr>\n  </thead>\n  <tbody>\n    <tr>\n      <th>395337</th>\n      <td>0.2</td>\n      <td>0.000320</td>\n      <td>0.004263</td>\n      <td>0.555556</td>\n      <td>0.0</td>\n      <td>0.0</td>\n      <td>0.857143</td>\n      <td>1.0</td>\n      <td>0.00</td>\n      <td>0.551282</td>\n      <td>0.071429</td>\n      <td>0.073394</td>\n      <td>0.0</td>\n      <td>0.0</td>\n      <td>0.0</td>\n      <td>0.0</td>\n    </tr>\n    <tr>\n      <th>636940</th>\n      <td>0.2</td>\n      <td>0.000457</td>\n      <td>0.000000</td>\n      <td>0.777778</td>\n      <td>0.0</td>\n      <td>0.0</td>\n      <td>0.571429</td>\n      <td>0.0</td>\n      <td>1.00</td>\n      <td>0.487179</td>\n      <td>0.071429</td>\n      <td>0.064220</td>\n      <td>0.0</td>\n      <td>0.0</td>\n      <td>0.0</td>\n      <td>0.0</td>\n    </tr>\n    <tr>\n      <th>367237</th>\n      <td>0.2</td>\n      <td>0.000302</td>\n      <td>0.004024</td>\n      <td>0.555556</td>\n      <td>0.0</td>\n      <td>0.0</td>\n      <td>1.000000</td>\n      <td>0.0</td>\n      <td>0.00</td>\n      <td>0.512821</td>\n      <td>0.071429</td>\n      <td>0.064220</td>\n      <td>0.0</td>\n      <td>0.0</td>\n      <td>0.0</td>\n      <td>1.0</td>\n    </tr>\n    <tr>\n      <th>270508</th>\n      <td>0.2</td>\n      <td>0.000268</td>\n      <td>0.003795</td>\n      <td>0.555556</td>\n      <td>0.0</td>\n      <td>0.0</td>\n      <td>0.428571</td>\n      <td>0.0</td>\n      <td>0.00</td>\n      <td>0.551282</td>\n      <td>0.000000</td>\n      <td>1.000000</td>\n      <td>0.0</td>\n      <td>0.0</td>\n      <td>0.0</td>\n      <td>0.0</td>\n    </tr>\n    <tr>\n      <th>786527</th>\n      <td>0.2</td>\n      <td>0.000262</td>\n      <td>0.003944</td>\n      <td>0.555556</td>\n      <td>0.0</td>\n      <td>0.0</td>\n      <td>0.571429</td>\n      <td>0.0</td>\n      <td>0.00</td>\n      <td>0.551282</td>\n      <td>0.071429</td>\n      <td>0.926606</td>\n      <td>0.0</td>\n      <td>0.0</td>\n      <td>0.0</td>\n      <td>0.0</td>\n    </tr>\n    <tr>\n      <th>...</th>\n      <td>...</td>\n      <td>...</td>\n      <td>...</td>\n      <td>...</td>\n      <td>...</td>\n      <td>...</td>\n      <td>...</td>\n      <td>...</td>\n      <td>...</td>\n      <td>...</td>\n      <td>...</td>\n      <td>...</td>\n      <td>...</td>\n      <td>...</td>\n      <td>...</td>\n      <td>...</td>\n    </tr>\n    <tr>\n      <th>1212494</th>\n      <td>0.8</td>\n      <td>0.000951</td>\n      <td>0.000000</td>\n      <td>0.777778</td>\n      <td>0.0</td>\n      <td>0.0</td>\n      <td>1.000000</td>\n      <td>0.0</td>\n      <td>1.00</td>\n      <td>0.692308</td>\n      <td>0.071429</td>\n      <td>1.000000</td>\n      <td>0.0</td>\n      <td>0.0</td>\n      <td>0.0</td>\n      <td>0.0</td>\n    </tr>\n    <tr>\n      <th>757051</th>\n      <td>0.2</td>\n      <td>0.000289</td>\n      <td>0.004307</td>\n      <td>0.555556</td>\n      <td>0.0</td>\n      <td>0.0</td>\n      <td>0.857143</td>\n      <td>1.0</td>\n      <td>1.00</td>\n      <td>0.679487</td>\n      <td>0.071429</td>\n      <td>0.045872</td>\n      <td>0.0</td>\n      <td>0.0</td>\n      <td>0.0</td>\n      <td>0.0</td>\n    </tr>\n    <tr>\n      <th>1149114</th>\n      <td>0.2</td>\n      <td>0.000249</td>\n      <td>0.002056</td>\n      <td>0.555556</td>\n      <td>0.0</td>\n      <td>0.0</td>\n      <td>0.571429</td>\n      <td>1.0</td>\n      <td>0.00</td>\n      <td>0.871795</td>\n      <td>0.071429</td>\n      <td>0.082569</td>\n      <td>0.0</td>\n      <td>0.0</td>\n      <td>0.0</td>\n      <td>0.0</td>\n    </tr>\n    <tr>\n      <th>384418</th>\n      <td>0.2</td>\n      <td>0.000504</td>\n      <td>0.000000</td>\n      <td>0.555556</td>\n      <td>0.0</td>\n      <td>0.0</td>\n      <td>0.285714</td>\n      <td>0.0</td>\n      <td>0.75</td>\n      <td>0.551282</td>\n      <td>0.071429</td>\n      <td>0.000000</td>\n      <td>0.0</td>\n      <td>0.0</td>\n      <td>0.0</td>\n      <td>0.0</td>\n    </tr>\n    <tr>\n      <th>609453</th>\n      <td>0.4</td>\n      <td>0.001229</td>\n      <td>0.005906</td>\n      <td>0.555556</td>\n      <td>0.0</td>\n      <td>0.0</td>\n      <td>1.000000</td>\n      <td>1.0</td>\n      <td>1.00</td>\n      <td>0.551282</td>\n      <td>0.071429</td>\n      <td>0.073394</td>\n      <td>0.0</td>\n      <td>0.0</td>\n      <td>0.0</td>\n      <td>0.0</td>\n    </tr>\n  </tbody>\n</table>\n<p>871868 rows × 16 columns</p>\n</div>"
     },
     "metadata": {},
     "execution_count": 7
    }
   ],
   "source": [
    "X_train, X_test, y_train, y_test = train_test_split(df_std.iloc[:-281666,:-1],\n",
    "                                                    y,\n",
    "                                                    test_size=0.30)\n",
    "\n",
    "X_train"
   ]
  },
  {
   "source": [
    "# Default ~ _ExtraTrees_"
   ],
   "cell_type": "markdown",
   "metadata": {}
  },
  {
   "source": [
    "## Submission"
   ],
   "cell_type": "markdown",
   "metadata": {}
  },
  {
   "cell_type": "code",
   "execution_count": null,
   "metadata": {},
   "outputs": [],
   "source": [
    "etr = ExtraTreesRegressor(n_jobs=-1, \n",
    "                            random_state=42,\n",
    "                            criterion='mae',\n",
    "                            max_features = 'sqrt',\n",
    "                            n_estimators = 10, \n",
    "                            max_depth = 10)\n",
    "etr.fit(X_train,y_train)\n",
    "y_hat=etr.predict(X_test)#[::,1]\n",
    "mean_absolute_error(y_test, y_hat)"
   ]
  },
  {
   "cell_type": "code",
   "execution_count": null,
   "metadata": {},
   "outputs": [],
   "source": [
    "sum((y_hat_rf0/y_test).abs()/len(y_hat_rf0))"
   ]
  },
  {
   "cell_type": "code",
   "execution_count": 25,
   "metadata": {},
   "outputs": [
    {
     "output_type": "execute_result",
     "data": {
      "text/plain": [
       "array([0.01815012, 0.01639075, 0.01783303, ..., 0.02050752, 0.01825865,\n",
       "       0.01804297])"
      ]
     },
     "metadata": {},
     "execution_count": 25
    }
   ],
   "source": [
    "y_hat = r0.predict(x_val)\n",
    "y_hat"
   ]
  },
  {
   "cell_type": "code",
   "execution_count": 26,
   "metadata": {},
   "outputs": [
    {
     "output_type": "execute_result",
     "data": {
      "text/plain": [
       "          0         1         2         3    4    5         6    7     8   \\\n",
       "1245527  0.4  0.000723  0.016087  0.555556  0.0  0.0  1.000000  1.0  1.00   \n",
       "1245528  0.2  0.000347  0.005197  0.555556  0.0  0.0  0.000000  1.0  0.00   \n",
       "1245529  0.4  0.000802  0.013274  0.555556  0.0  0.0  1.000000  1.0  1.00   \n",
       "1245530  0.2  0.000556  0.000000  0.555556  0.0  0.0  0.142857  1.0  0.50   \n",
       "1245531  0.6  0.001357  0.000000  0.555556  0.0  0.0  1.000000  0.0  0.50   \n",
       "...      ...       ...       ...       ...  ...  ...       ...  ...   ...   \n",
       "1527188  0.4  0.000580  0.005085  0.555556  0.0  0.0  1.000000  0.0  0.00   \n",
       "1527189  0.6  0.004030  0.033339  0.555556  0.0  0.0  0.571429  1.0  0.50   \n",
       "1527190  0.6  0.002441  0.000000  0.777778  0.0  0.0  0.285714  1.0  0.50   \n",
       "1527191  0.4  0.002168  0.026563  0.555556  0.0  0.0  0.857143  0.0  1.00   \n",
       "1527192  0.4  0.001259  0.000000  0.555556  0.0  0.0  0.428571  0.0  0.75   \n",
       "\n",
       "               9         10   11   12   13   14   15        16  \n",
       "1245527  0.474359  0.142857  0.0  0.0  0.0  0.0  0.0  0.018150  \n",
       "1245528  0.692308  0.071429  0.0  0.0  0.0  0.0  0.0  0.016391  \n",
       "1245529  0.551282  0.142857  0.0  0.0  0.0  0.0  0.0  0.017833  \n",
       "1245530  0.576923  0.071429  0.0  0.0  0.0  0.0  0.0  0.016309  \n",
       "1245531  0.974359  0.071429  0.0  0.0  0.0  0.0  0.0  0.017679  \n",
       "...           ...       ...  ...  ...  ...  ...  ...       ...  \n",
       "1527188  0.551282  0.071429  1.0  0.0  0.0  0.0  0.0  0.018814  \n",
       "1527189  0.589744  0.142857  1.0  0.0  0.0  1.0  0.0  0.023832  \n",
       "1527190  0.576923  0.071429  1.0  0.0  0.0  0.0  0.0  0.020508  \n",
       "1527191  0.807692  0.071429  1.0  0.0  0.0  0.0  0.0  0.018259  \n",
       "1527192  0.551282  0.071429  1.0  0.0  0.0  0.0  0.0  0.018043  \n",
       "\n",
       "[281666 rows x 17 columns]"
      ],
      "text/html": "<div>\n<style scoped>\n    .dataframe tbody tr th:only-of-type {\n        vertical-align: middle;\n    }\n\n    .dataframe tbody tr th {\n        vertical-align: top;\n    }\n\n    .dataframe thead th {\n        text-align: right;\n    }\n</style>\n<table border=\"1\" class=\"dataframe\">\n  <thead>\n    <tr style=\"text-align: right;\">\n      <th></th>\n      <th>0</th>\n      <th>1</th>\n      <th>2</th>\n      <th>3</th>\n      <th>4</th>\n      <th>5</th>\n      <th>6</th>\n      <th>7</th>\n      <th>8</th>\n      <th>9</th>\n      <th>10</th>\n      <th>11</th>\n      <th>12</th>\n      <th>13</th>\n      <th>14</th>\n      <th>15</th>\n      <th>16</th>\n    </tr>\n  </thead>\n  <tbody>\n    <tr>\n      <th>1245527</th>\n      <td>0.4</td>\n      <td>0.000723</td>\n      <td>0.016087</td>\n      <td>0.555556</td>\n      <td>0.0</td>\n      <td>0.0</td>\n      <td>1.000000</td>\n      <td>1.0</td>\n      <td>1.00</td>\n      <td>0.474359</td>\n      <td>0.142857</td>\n      <td>0.0</td>\n      <td>0.0</td>\n      <td>0.0</td>\n      <td>0.0</td>\n      <td>0.0</td>\n      <td>0.018150</td>\n    </tr>\n    <tr>\n      <th>1245528</th>\n      <td>0.2</td>\n      <td>0.000347</td>\n      <td>0.005197</td>\n      <td>0.555556</td>\n      <td>0.0</td>\n      <td>0.0</td>\n      <td>0.000000</td>\n      <td>1.0</td>\n      <td>0.00</td>\n      <td>0.692308</td>\n      <td>0.071429</td>\n      <td>0.0</td>\n      <td>0.0</td>\n      <td>0.0</td>\n      <td>0.0</td>\n      <td>0.0</td>\n      <td>0.016391</td>\n    </tr>\n    <tr>\n      <th>1245529</th>\n      <td>0.4</td>\n      <td>0.000802</td>\n      <td>0.013274</td>\n      <td>0.555556</td>\n      <td>0.0</td>\n      <td>0.0</td>\n      <td>1.000000</td>\n      <td>1.0</td>\n      <td>1.00</td>\n      <td>0.551282</td>\n      <td>0.142857</td>\n      <td>0.0</td>\n      <td>0.0</td>\n      <td>0.0</td>\n      <td>0.0</td>\n      <td>0.0</td>\n      <td>0.017833</td>\n    </tr>\n    <tr>\n      <th>1245530</th>\n      <td>0.2</td>\n      <td>0.000556</td>\n      <td>0.000000</td>\n      <td>0.555556</td>\n      <td>0.0</td>\n      <td>0.0</td>\n      <td>0.142857</td>\n      <td>1.0</td>\n      <td>0.50</td>\n      <td>0.576923</td>\n      <td>0.071429</td>\n      <td>0.0</td>\n      <td>0.0</td>\n      <td>0.0</td>\n      <td>0.0</td>\n      <td>0.0</td>\n      <td>0.016309</td>\n    </tr>\n    <tr>\n      <th>1245531</th>\n      <td>0.6</td>\n      <td>0.001357</td>\n      <td>0.000000</td>\n      <td>0.555556</td>\n      <td>0.0</td>\n      <td>0.0</td>\n      <td>1.000000</td>\n      <td>0.0</td>\n      <td>0.50</td>\n      <td>0.974359</td>\n      <td>0.071429</td>\n      <td>0.0</td>\n      <td>0.0</td>\n      <td>0.0</td>\n      <td>0.0</td>\n      <td>0.0</td>\n      <td>0.017679</td>\n    </tr>\n    <tr>\n      <th>...</th>\n      <td>...</td>\n      <td>...</td>\n      <td>...</td>\n      <td>...</td>\n      <td>...</td>\n      <td>...</td>\n      <td>...</td>\n      <td>...</td>\n      <td>...</td>\n      <td>...</td>\n      <td>...</td>\n      <td>...</td>\n      <td>...</td>\n      <td>...</td>\n      <td>...</td>\n      <td>...</td>\n      <td>...</td>\n    </tr>\n    <tr>\n      <th>1527188</th>\n      <td>0.4</td>\n      <td>0.000580</td>\n      <td>0.005085</td>\n      <td>0.555556</td>\n      <td>0.0</td>\n      <td>0.0</td>\n      <td>1.000000</td>\n      <td>0.0</td>\n      <td>0.00</td>\n      <td>0.551282</td>\n      <td>0.071429</td>\n      <td>1.0</td>\n      <td>0.0</td>\n      <td>0.0</td>\n      <td>0.0</td>\n      <td>0.0</td>\n      <td>0.018814</td>\n    </tr>\n    <tr>\n      <th>1527189</th>\n      <td>0.6</td>\n      <td>0.004030</td>\n      <td>0.033339</td>\n      <td>0.555556</td>\n      <td>0.0</td>\n      <td>0.0</td>\n      <td>0.571429</td>\n      <td>1.0</td>\n      <td>0.50</td>\n      <td>0.589744</td>\n      <td>0.142857</td>\n      <td>1.0</td>\n      <td>0.0</td>\n      <td>0.0</td>\n      <td>1.0</td>\n      <td>0.0</td>\n      <td>0.023832</td>\n    </tr>\n    <tr>\n      <th>1527190</th>\n      <td>0.6</td>\n      <td>0.002441</td>\n      <td>0.000000</td>\n      <td>0.777778</td>\n      <td>0.0</td>\n      <td>0.0</td>\n      <td>0.285714</td>\n      <td>1.0</td>\n      <td>0.50</td>\n      <td>0.576923</td>\n      <td>0.071429</td>\n      <td>1.0</td>\n      <td>0.0</td>\n      <td>0.0</td>\n      <td>0.0</td>\n      <td>0.0</td>\n      <td>0.020508</td>\n    </tr>\n    <tr>\n      <th>1527191</th>\n      <td>0.4</td>\n      <td>0.002168</td>\n      <td>0.026563</td>\n      <td>0.555556</td>\n      <td>0.0</td>\n      <td>0.0</td>\n      <td>0.857143</td>\n      <td>0.0</td>\n      <td>1.00</td>\n      <td>0.807692</td>\n      <td>0.071429</td>\n      <td>1.0</td>\n      <td>0.0</td>\n      <td>0.0</td>\n      <td>0.0</td>\n      <td>0.0</td>\n      <td>0.018259</td>\n    </tr>\n    <tr>\n      <th>1527192</th>\n      <td>0.4</td>\n      <td>0.001259</td>\n      <td>0.000000</td>\n      <td>0.555556</td>\n      <td>0.0</td>\n      <td>0.0</td>\n      <td>0.428571</td>\n      <td>0.0</td>\n      <td>0.75</td>\n      <td>0.551282</td>\n      <td>0.071429</td>\n      <td>1.0</td>\n      <td>0.0</td>\n      <td>0.0</td>\n      <td>0.0</td>\n      <td>0.0</td>\n      <td>0.018043</td>\n    </tr>\n  </tbody>\n</table>\n<p>281666 rows × 17 columns</p>\n</div>"
     },
     "metadata": {},
     "execution_count": 26
    }
   ],
   "source": [
    "sub_normalized = pd.DataFrame(x_val)\n",
    "sub_normalized[16] = y_hat\n",
    "sub_normalized"
   ]
  },
  {
   "cell_type": "code",
   "execution_count": 27,
   "metadata": {},
   "outputs": [
    {
     "output_type": "execute_result",
     "data": {
      "text/plain": [
       "0         1.303152e+06\n",
       "1         2.753418e+05\n",
       "2         1.117911e+06\n",
       "3         2.273272e+05\n",
       "4         1.028180e+06\n",
       "              ...     \n",
       "281661    1.690963e+06\n",
       "281662    4.622717e+06\n",
       "281663    2.680328e+06\n",
       "281664    1.366555e+06\n",
       "281665    1.240559e+06\n",
       "Name: 16, Length: 281666, dtype: float64"
      ]
     },
     "metadata": {},
     "execution_count": 27
    }
   ],
   "source": [
    "sub_desnorm = Estandar.inverse_transform(sub_normalized)\n",
    "sub_desnorm = pd.DataFrame(sub_desnorm).iloc[:,-1]\n",
    "sub_desnorm"
   ]
  },
  {
   "cell_type": "code",
   "execution_count": 13,
   "metadata": {},
   "outputs": [
    {
     "output_type": "execute_result",
     "data": {
      "text/plain": [
       "10"
      ]
     },
     "metadata": {},
     "execution_count": 13
    }
   ],
   "source": [
    "n = 10\n",
    "n"
   ]
  },
  {
   "cell_type": "code",
   "execution_count": 28,
   "metadata": {},
   "outputs": [
    {
     "output_type": "execute_result",
     "data": {
      "text/plain": [
       "           id_registro  gasto_familiar\n",
       "0          4055#201902    1.303152e+06\n",
       "1         12598#201902    2.753418e+05\n",
       "2         23697#201902    1.117911e+06\n",
       "3         23768#201902    2.273272e+05\n",
       "4          7174#201902    1.028180e+06\n",
       "...                ...             ...\n",
       "281661  8596193#202011    1.690963e+06\n",
       "281662  8616083#202011    4.622717e+06\n",
       "281663  8670207#202011    2.680328e+06\n",
       "281664  8677655#202011    1.366555e+06\n",
       "281665  8692808#202011    1.240559e+06\n",
       "\n",
       "[281666 rows x 2 columns]"
      ],
      "text/html": "<div>\n<style scoped>\n    .dataframe tbody tr th:only-of-type {\n        vertical-align: middle;\n    }\n\n    .dataframe tbody tr th {\n        vertical-align: top;\n    }\n\n    .dataframe thead th {\n        text-align: right;\n    }\n</style>\n<table border=\"1\" class=\"dataframe\">\n  <thead>\n    <tr style=\"text-align: right;\">\n      <th></th>\n      <th>id_registro</th>\n      <th>gasto_familiar</th>\n    </tr>\n  </thead>\n  <tbody>\n    <tr>\n      <th>0</th>\n      <td>4055#201902</td>\n      <td>1.303152e+06</td>\n    </tr>\n    <tr>\n      <th>1</th>\n      <td>12598#201902</td>\n      <td>2.753418e+05</td>\n    </tr>\n    <tr>\n      <th>2</th>\n      <td>23697#201902</td>\n      <td>1.117911e+06</td>\n    </tr>\n    <tr>\n      <th>3</th>\n      <td>23768#201902</td>\n      <td>2.273272e+05</td>\n    </tr>\n    <tr>\n      <th>4</th>\n      <td>7174#201902</td>\n      <td>1.028180e+06</td>\n    </tr>\n    <tr>\n      <th>...</th>\n      <td>...</td>\n      <td>...</td>\n    </tr>\n    <tr>\n      <th>281661</th>\n      <td>8596193#202011</td>\n      <td>1.690963e+06</td>\n    </tr>\n    <tr>\n      <th>281662</th>\n      <td>8616083#202011</td>\n      <td>4.622717e+06</td>\n    </tr>\n    <tr>\n      <th>281663</th>\n      <td>8670207#202011</td>\n      <td>2.680328e+06</td>\n    </tr>\n    <tr>\n      <th>281664</th>\n      <td>8677655#202011</td>\n      <td>1.366555e+06</td>\n    </tr>\n    <tr>\n      <th>281665</th>\n      <td>8692808#202011</td>\n      <td>1.240559e+06</td>\n    </tr>\n  </tbody>\n</table>\n<p>281666 rows × 2 columns</p>\n</div>"
     },
     "metadata": {},
     "execution_count": 28
    }
   ],
   "source": [
    "sub_record = pd.DataFrame(id_cli.iloc[-281666:,])\n",
    "sub_record.reset_index(inplace = True, drop =True)\n",
    "sub_record.reset_index(inplace = True)\n",
    "sub_gasto = pd.DataFrame(sub_desnorm)\n",
    "sub_gasto.reset_index(inplace = True, drop =True)\n",
    "sub_gasto.reset_index(inplace = True)\n",
    "sub = pd.merge(sub_record,sub_gasto, on = 'index',how=\"left\")\n",
    "sub = sub.drop(columns=['index'], axis=0)\n",
    "sub.columns = ['id_registro','gasto_familiar']\n",
    "sub"
   ]
  },
  {
   "cell_type": "code",
   "execution_count": 29,
   "metadata": {},
   "outputs": [
    {
     "output_type": "execute_result",
     "data": {
      "text/plain": [
       "'C:/Users/dielesro/Documents/Workstation/Debuggers/data/SubNN12.csv'"
      ]
     },
     "metadata": {},
     "execution_count": 29
    }
   ],
   "source": [
    "n\n",
    "n = n+1\n",
    "sub_name = \"C:/Users/dielesro/Documents/Workstation/Debuggers/data/Subet{}.csv\".format(n)\n",
    "sub_name"
   ]
  },
  {
   "cell_type": "code",
   "execution_count": 30,
   "metadata": {},
   "outputs": [
    {
     "output_type": "execute_result",
     "data": {
      "text/plain": [
       "1088778.4692728156"
      ]
     },
     "metadata": {},
     "execution_count": 30
    }
   ],
   "source": [
    "np.mean(sub['gasto_familiar'])"
   ]
  },
  {
   "cell_type": "code",
   "execution_count": 31,
   "metadata": {},
   "outputs": [],
   "source": [
    "sub.to_csv(sub_name, index=False)"
   ]
  }
 ],
 "metadata": {
  "kernelspec": {
   "display_name": "Python 3",
   "language": "python",
   "name": "python3"
  },
  "language_info": {
   "codemirror_mode": {
    "name": "ipython",
    "version": 3
   },
   "file_extension": ".py",
   "mimetype": "text/x-python",
   "name": "python",
   "nbconvert_exporter": "python",
   "pygments_lexer": "ipython3",
   "version": "3.8.6-final"
  }
 },
 "nbformat": 4,
 "nbformat_minor": 4
}