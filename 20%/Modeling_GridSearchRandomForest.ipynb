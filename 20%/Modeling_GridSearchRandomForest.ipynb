{
 "cells": [
  {
   "cell_type": "markdown",
   "metadata": {},
   "source": [
    "# Requirements"
   ]
  },
  {
   "cell_type": "code",
   "execution_count": 27,
   "metadata": {},
   "outputs": [],
   "source": [
    "import numpy                 as np\n",
    "import pandas                as pd\n",
    "import matplotlib.pyplot     as plt\n",
    "import seaborn               as sns\n",
    "\n",
    "from scipy import stats\n",
    "import sklearn.metrics       as Metrics\n",
    "from sklearn.metrics import classification_report, confusion_matrix, accuracy_score, mean_absolute_error\n",
    "from sklearn.model_selection import train_test_split\n",
    "from sklearn.model_selection import GridSearchCV\n",
    "from sklearn.model_selection import cross_val_score\n",
    "from sklearn.ensemble import RandomForestRegressor\n",
    "from sklearn.model_selection import RandomizedSearchCV\n",
    "from sklearn.preprocessing import MinMaxScaler"
   ]
  },
  {
   "cell_type": "markdown",
   "metadata": {},
   "source": [
    "# Loading data"
   ]
  },
  {
   "cell_type": "code",
   "execution_count": 19,
   "metadata": {},
   "outputs": [
    {
     "output_type": "execute_result",
     "data": {
      "text/plain": [
       "         categoria  ingreso_final  mediana_nom3  ocupacion_tag_gasto_familiar  \\\n",
       "0              1.0      2406953.0      779157.0                             6   \n",
       "1              1.0      3014036.0           0.0                             6   \n",
       "2              2.0      1242174.0           0.0                             6   \n",
       "3              1.0      2851369.0      741967.0                             6   \n",
       "4              1.0      3171369.0           0.0                             6   \n",
       "...            ...            ...           ...                           ...   \n",
       "1527188        2.0      3876343.0     2281362.0                             6   \n",
       "1527189        3.0     26913722.0    14956096.0                             6   \n",
       "1527190        3.0     16301000.0           0.0                             8   \n",
       "1527191        2.0     14481371.0    11916465.0                             6   \n",
       "1527192        2.0      8407800.0           0.0                             6   \n",
       "\n",
       "         cartera_castigada  ind_mora_vigente  \\\n",
       "0                        1                 1   \n",
       "1                        1                 1   \n",
       "2                        1                 1   \n",
       "3                        1                 1   \n",
       "4                        1                 1   \n",
       "...                    ...               ...   \n",
       "1527188                  1                 1   \n",
       "1527189                  1                 1   \n",
       "1527190                  1                 1   \n",
       "1527191                  1                 1   \n",
       "1527192                  1                 1   \n",
       "\n",
       "         rep_calif_cred_tag_gasto_familiar  genero_tag  \\\n",
       "0                                        2           1   \n",
       "1                                        3           1   \n",
       "2                                        3           1   \n",
       "3                                        4           1   \n",
       "4                                        3           1   \n",
       "...                                    ...         ...   \n",
       "1527188                                  8           1   \n",
       "1527189                                  5           2   \n",
       "1527190                                  3           2   \n",
       "1527191                                  7           1   \n",
       "1527192                                  4           1   \n",
       "\n",
       "         estado_civil_tag_gasto_familiar  profesion_tag_gasto_familiar  \\\n",
       "0                                    1.0                            44   \n",
       "1                                    1.0                            44   \n",
       "2                                    1.0                            44   \n",
       "3                                    1.0                            44   \n",
       "4                                    1.0                            44   \n",
       "...                                  ...                           ...   \n",
       "1527188                              1.0                            44   \n",
       "1527189                              3.0                            47   \n",
       "1527190                              3.0                            46   \n",
       "1527191                              5.0                            64   \n",
       "1527192                              4.0                            44   \n",
       "\n",
       "         ctas_activas  periodo  profesion_AUXILIAR DE ODONTOLOGIA  \\\n",
       "0                   2   201902                                  0   \n",
       "1                   2   202001                                  0   \n",
       "2                   2   202009                                  0   \n",
       "3                   2   201908                                  0   \n",
       "4                   2   201911                                  0   \n",
       "...               ...      ...                                ...   \n",
       "1527188             1   202011                                  0   \n",
       "1527189             2   202011                                  0   \n",
       "1527190             1   202011                                  0   \n",
       "1527191             1   202011                                  0   \n",
       "1527192             1   202011                                  0   \n",
       "\n",
       "         profesion_BACTERIOLOGIA  profesion_CARRERA MILITAR  \\\n",
       "0                              0                          0   \n",
       "1                              0                          0   \n",
       "2                              0                          0   \n",
       "3                              0                          0   \n",
       "4                              0                          0   \n",
       "...                          ...                        ...   \n",
       "1527188                        0                          0   \n",
       "1527189                        0                          1   \n",
       "1527190                        0                          0   \n",
       "1527191                        0                          0   \n",
       "1527192                        0                          0   \n",
       "\n",
       "         profesion_COMERCIO INTERNACIONAL  gasto_familiar  \n",
       "0                                       0    3.663700e+05  \n",
       "1                                       0    7.372630e+05  \n",
       "2                                       0    4.473640e+05  \n",
       "3                                       0    4.797520e+05  \n",
       "4                                       0    1.599610e+05  \n",
       "...                                   ...             ...  \n",
       "1527188                                 0    7.431714e+05  \n",
       "1527189                                 0    8.502165e+05  \n",
       "1527190                                 0    7.853290e+05  \n",
       "1527191                                 0    1.029045e+06  \n",
       "1527192                                 0    9.110522e+05  \n",
       "\n",
       "[1527193 rows x 17 columns]"
      ],
      "text/html": "<div>\n<style scoped>\n    .dataframe tbody tr th:only-of-type {\n        vertical-align: middle;\n    }\n\n    .dataframe tbody tr th {\n        vertical-align: top;\n    }\n\n    .dataframe thead th {\n        text-align: right;\n    }\n</style>\n<table border=\"1\" class=\"dataframe\">\n  <thead>\n    <tr style=\"text-align: right;\">\n      <th></th>\n      <th>categoria</th>\n      <th>ingreso_final</th>\n      <th>mediana_nom3</th>\n      <th>ocupacion_tag_gasto_familiar</th>\n      <th>cartera_castigada</th>\n      <th>ind_mora_vigente</th>\n      <th>rep_calif_cred_tag_gasto_familiar</th>\n      <th>genero_tag</th>\n      <th>estado_civil_tag_gasto_familiar</th>\n      <th>profesion_tag_gasto_familiar</th>\n      <th>ctas_activas</th>\n      <th>periodo</th>\n      <th>profesion_AUXILIAR DE ODONTOLOGIA</th>\n      <th>profesion_BACTERIOLOGIA</th>\n      <th>profesion_CARRERA MILITAR</th>\n      <th>profesion_COMERCIO INTERNACIONAL</th>\n      <th>gasto_familiar</th>\n    </tr>\n  </thead>\n  <tbody>\n    <tr>\n      <th>0</th>\n      <td>1.0</td>\n      <td>2406953.0</td>\n      <td>779157.0</td>\n      <td>6</td>\n      <td>1</td>\n      <td>1</td>\n      <td>2</td>\n      <td>1</td>\n      <td>1.0</td>\n      <td>44</td>\n      <td>2</td>\n      <td>201902</td>\n      <td>0</td>\n      <td>0</td>\n      <td>0</td>\n      <td>0</td>\n      <td>3.663700e+05</td>\n    </tr>\n    <tr>\n      <th>1</th>\n      <td>1.0</td>\n      <td>3014036.0</td>\n      <td>0.0</td>\n      <td>6</td>\n      <td>1</td>\n      <td>1</td>\n      <td>3</td>\n      <td>1</td>\n      <td>1.0</td>\n      <td>44</td>\n      <td>2</td>\n      <td>202001</td>\n      <td>0</td>\n      <td>0</td>\n      <td>0</td>\n      <td>0</td>\n      <td>7.372630e+05</td>\n    </tr>\n    <tr>\n      <th>2</th>\n      <td>2.0</td>\n      <td>1242174.0</td>\n      <td>0.0</td>\n      <td>6</td>\n      <td>1</td>\n      <td>1</td>\n      <td>3</td>\n      <td>1</td>\n      <td>1.0</td>\n      <td>44</td>\n      <td>2</td>\n      <td>202009</td>\n      <td>0</td>\n      <td>0</td>\n      <td>0</td>\n      <td>0</td>\n      <td>4.473640e+05</td>\n    </tr>\n    <tr>\n      <th>3</th>\n      <td>1.0</td>\n      <td>2851369.0</td>\n      <td>741967.0</td>\n      <td>6</td>\n      <td>1</td>\n      <td>1</td>\n      <td>4</td>\n      <td>1</td>\n      <td>1.0</td>\n      <td>44</td>\n      <td>2</td>\n      <td>201908</td>\n      <td>0</td>\n      <td>0</td>\n      <td>0</td>\n      <td>0</td>\n      <td>4.797520e+05</td>\n    </tr>\n    <tr>\n      <th>4</th>\n      <td>1.0</td>\n      <td>3171369.0</td>\n      <td>0.0</td>\n      <td>6</td>\n      <td>1</td>\n      <td>1</td>\n      <td>3</td>\n      <td>1</td>\n      <td>1.0</td>\n      <td>44</td>\n      <td>2</td>\n      <td>201911</td>\n      <td>0</td>\n      <td>0</td>\n      <td>0</td>\n      <td>0</td>\n      <td>1.599610e+05</td>\n    </tr>\n    <tr>\n      <th>...</th>\n      <td>...</td>\n      <td>...</td>\n      <td>...</td>\n      <td>...</td>\n      <td>...</td>\n      <td>...</td>\n      <td>...</td>\n      <td>...</td>\n      <td>...</td>\n      <td>...</td>\n      <td>...</td>\n      <td>...</td>\n      <td>...</td>\n      <td>...</td>\n      <td>...</td>\n      <td>...</td>\n      <td>...</td>\n    </tr>\n    <tr>\n      <th>1527188</th>\n      <td>2.0</td>\n      <td>3876343.0</td>\n      <td>2281362.0</td>\n      <td>6</td>\n      <td>1</td>\n      <td>1</td>\n      <td>8</td>\n      <td>1</td>\n      <td>1.0</td>\n      <td>44</td>\n      <td>1</td>\n      <td>202011</td>\n      <td>0</td>\n      <td>0</td>\n      <td>0</td>\n      <td>0</td>\n      <td>7.431714e+05</td>\n    </tr>\n    <tr>\n      <th>1527189</th>\n      <td>3.0</td>\n      <td>26913722.0</td>\n      <td>14956096.0</td>\n      <td>6</td>\n      <td>1</td>\n      <td>1</td>\n      <td>5</td>\n      <td>2</td>\n      <td>3.0</td>\n      <td>47</td>\n      <td>2</td>\n      <td>202011</td>\n      <td>0</td>\n      <td>0</td>\n      <td>1</td>\n      <td>0</td>\n      <td>8.502165e+05</td>\n    </tr>\n    <tr>\n      <th>1527190</th>\n      <td>3.0</td>\n      <td>16301000.0</td>\n      <td>0.0</td>\n      <td>8</td>\n      <td>1</td>\n      <td>1</td>\n      <td>3</td>\n      <td>2</td>\n      <td>3.0</td>\n      <td>46</td>\n      <td>1</td>\n      <td>202011</td>\n      <td>0</td>\n      <td>0</td>\n      <td>0</td>\n      <td>0</td>\n      <td>7.853290e+05</td>\n    </tr>\n    <tr>\n      <th>1527191</th>\n      <td>2.0</td>\n      <td>14481371.0</td>\n      <td>11916465.0</td>\n      <td>6</td>\n      <td>1</td>\n      <td>1</td>\n      <td>7</td>\n      <td>1</td>\n      <td>5.0</td>\n      <td>64</td>\n      <td>1</td>\n      <td>202011</td>\n      <td>0</td>\n      <td>0</td>\n      <td>0</td>\n      <td>0</td>\n      <td>1.029045e+06</td>\n    </tr>\n    <tr>\n      <th>1527192</th>\n      <td>2.0</td>\n      <td>8407800.0</td>\n      <td>0.0</td>\n      <td>6</td>\n      <td>1</td>\n      <td>1</td>\n      <td>4</td>\n      <td>1</td>\n      <td>4.0</td>\n      <td>44</td>\n      <td>1</td>\n      <td>202011</td>\n      <td>0</td>\n      <td>0</td>\n      <td>0</td>\n      <td>0</td>\n      <td>9.110522e+05</td>\n    </tr>\n  </tbody>\n</table>\n<p>1527193 rows × 17 columns</p>\n</div>"
     },
     "metadata": {},
     "execution_count": 19
    }
   ],
   "source": [
    "#df = pd.read_csv(\"/mnt/workstation/data/Alomarrano/littlepig_full_ok.csv\")\n",
    "df_onehot = pd.read_csv(\"C:/Users/dielesro/Documents/Workstation/Debuggers/data/4rf_full_ok_encoded_bestVar.csv\")\n",
    "id_cli = df_onehot.iloc[-281666:,-1]\n",
    "df_onehot = df_onehot.drop(['id_registro'], axis=1)\n",
    "df_onehot"
   ]
  },
  {
   "source": [
    "mejores_variables = pd.read_csv(\"/mnt/workstation/data/Alomarrano/littlepig_Variables.csv\")\n",
    "mejores_variables = list(mejores_variables['Selected_variables'])\n",
    "mejores_variables"
   ],
   "cell_type": "markdown",
   "metadata": {}
  },
  {
   "source": [
    "df = df[mejores_variables]\n",
    "df"
   ],
   "cell_type": "markdown",
   "metadata": {}
  },
  {
   "source": [
    "features = pd.DataFrame(df.dtypes)\n",
    "features.columns = ['type']\n",
    "features_f = features[features['type'] == 'float64'].index\n",
    "features_o = features[features['type'] == 'object'].index\n",
    "#features_i = features[features['type'] == 'int64'].index\n",
    "#features_b = features[features['type'] == 'bool'].index"
   ],
   "cell_type": "markdown",
   "metadata": {}
  },
  {
   "source": [
    "df.iloc[8000000:-281666,:]"
   ],
   "cell_type": "markdown",
   "metadata": {}
  },
  {
   "cell_type": "markdown",
   "metadata": {},
   "source": [
    "# One-Hot Encoding"
   ]
  },
  {
   "source": [
    "df_onehot = pd.get_dummies(df.iloc[8000000:,:],\n",
    "                           columns=features_o)\n",
    "list(df_onehot.columns)"
   ],
   "cell_type": "markdown",
   "metadata": {}
  },
  {
   "source": [
    "df_onehot"
   ],
   "cell_type": "markdown",
   "metadata": {}
  },
  {
   "source": [
    "(df_onehot.iloc[:,23] == df_onehot['gasto_familiar']).value_counts()"
   ],
   "cell_type": "markdown",
   "metadata": {}
  },
  {
   "cell_type": "markdown",
   "metadata": {},
   "source": [
    "### Best Variables"
   ]
  },
  {
   "source": [
    "X = pd.read_csv(\"/mnt/workstation/data/Alomarrano/littlepig_PCAVariables.csv\")\n",
    "top_PCA_Variables = list(X['Variable'])\n",
    "top_PCA_Variables[:16]"
   ],
   "cell_type": "markdown",
   "metadata": {}
  },
  {
   "source": [
    "df = df_std[list(X['Variable'])[:16]]\n",
    "df"
   ],
   "cell_type": "markdown",
   "metadata": {}
  },
  {
   "source": [
    "top_PCA_Variables = ['categoria',\n",
    " 'ingreso_final',\n",
    " 'mediana_nom3',\n",
    " 'ocupacion_tag_gasto_familiar',\n",
    " 'cartera_castigada',\n",
    " 'ind_mora_vigente',\n",
    " 'rep_calif_cred_tag_gasto_familiar',\n",
    " 'genero_tag',\n",
    " 'estado_civil_tag_gasto_familiar',\n",
    " 'profesion_tag_gasto_familiar',\n",
    " 'ctas_activas',\n",
    " 'periodo',\n",
    " 'profesion_AUXILIAR DE ODONTOLOGIA',\n",
    " 'profesion_BACTERIOLOGIA',\n",
    " 'profesion_CARRERA MILITAR',\n",
    " 'profesion_COMERCIO INTERNACIONAL',\n",
    "                     'gasto_familiar']"
   ],
   "cell_type": "markdown",
   "metadata": {}
  },
  {
   "source": [
    "df_onehot = df_onehot[top_PCA_Variables]\n",
    "df_onehot"
   ],
   "cell_type": "markdown",
   "metadata": {}
  },
  {
   "cell_type": "code",
   "execution_count": 20,
   "metadata": {},
   "outputs": [
    {
     "output_type": "execute_result",
     "data": {
      "text/plain": [
       "         categoria  ingreso_final  mediana_nom3  ocupacion_tag_gasto_familiar  \\\n",
       "0              1.0      2406953.0      779157.0                             6   \n",
       "1              1.0      3014036.0           0.0                             6   \n",
       "2              2.0      1242174.0           0.0                             6   \n",
       "3              1.0      2851369.0      741967.0                             6   \n",
       "4              1.0      3171369.0           0.0                             6   \n",
       "...            ...            ...           ...                           ...   \n",
       "1527188        2.0      3876343.0     2281362.0                             6   \n",
       "1527189        3.0     26913722.0    14956096.0                             6   \n",
       "1527190        3.0     16301000.0           0.0                             8   \n",
       "1527191        2.0     14481371.0    11916465.0                             6   \n",
       "1527192        2.0      8407800.0           0.0                             6   \n",
       "\n",
       "         cartera_castigada  ind_mora_vigente  \\\n",
       "0                        1                 1   \n",
       "1                        1                 1   \n",
       "2                        1                 1   \n",
       "3                        1                 1   \n",
       "4                        1                 1   \n",
       "...                    ...               ...   \n",
       "1527188                  1                 1   \n",
       "1527189                  1                 1   \n",
       "1527190                  1                 1   \n",
       "1527191                  1                 1   \n",
       "1527192                  1                 1   \n",
       "\n",
       "         rep_calif_cred_tag_gasto_familiar  genero_tag  \\\n",
       "0                                        2           1   \n",
       "1                                        3           1   \n",
       "2                                        3           1   \n",
       "3                                        4           1   \n",
       "4                                        3           1   \n",
       "...                                    ...         ...   \n",
       "1527188                                  8           1   \n",
       "1527189                                  5           2   \n",
       "1527190                                  3           2   \n",
       "1527191                                  7           1   \n",
       "1527192                                  4           1   \n",
       "\n",
       "         estado_civil_tag_gasto_familiar  profesion_tag_gasto_familiar  \\\n",
       "0                                    1.0                            44   \n",
       "1                                    1.0                            44   \n",
       "2                                    1.0                            44   \n",
       "3                                    1.0                            44   \n",
       "4                                    1.0                            44   \n",
       "...                                  ...                           ...   \n",
       "1527188                              1.0                            44   \n",
       "1527189                              3.0                            47   \n",
       "1527190                              3.0                            46   \n",
       "1527191                              5.0                            64   \n",
       "1527192                              4.0                            44   \n",
       "\n",
       "         ctas_activas  periodo  profesion_AUXILIAR DE ODONTOLOGIA  \\\n",
       "0                   2   201902                                  0   \n",
       "1                   2   202001                                  0   \n",
       "2                   2   202009                                  0   \n",
       "3                   2   201908                                  0   \n",
       "4                   2   201911                                  0   \n",
       "...               ...      ...                                ...   \n",
       "1527188             1   202011                                  0   \n",
       "1527189             2   202011                                  0   \n",
       "1527190             1   202011                                  0   \n",
       "1527191             1   202011                                  0   \n",
       "1527192             1   202011                                  0   \n",
       "\n",
       "         profesion_BACTERIOLOGIA  profesion_CARRERA MILITAR  \\\n",
       "0                              0                          0   \n",
       "1                              0                          0   \n",
       "2                              0                          0   \n",
       "3                              0                          0   \n",
       "4                              0                          0   \n",
       "...                          ...                        ...   \n",
       "1527188                        0                          0   \n",
       "1527189                        0                          1   \n",
       "1527190                        0                          0   \n",
       "1527191                        0                          0   \n",
       "1527192                        0                          0   \n",
       "\n",
       "         profesion_COMERCIO INTERNACIONAL  gasto_familiar  \n",
       "0                                       0    3.663700e+05  \n",
       "1                                       0    7.372630e+05  \n",
       "2                                       0    4.473640e+05  \n",
       "3                                       0    4.797520e+05  \n",
       "4                                       0    1.599610e+05  \n",
       "...                                   ...             ...  \n",
       "1527188                                 0    7.431714e+05  \n",
       "1527189                                 0    8.502165e+05  \n",
       "1527190                                 0    7.853290e+05  \n",
       "1527191                                 0    1.029045e+06  \n",
       "1527192                                 0    9.110522e+05  \n",
       "\n",
       "[1527193 rows x 17 columns]"
      ],
      "text/html": "<div>\n<style scoped>\n    .dataframe tbody tr th:only-of-type {\n        vertical-align: middle;\n    }\n\n    .dataframe tbody tr th {\n        vertical-align: top;\n    }\n\n    .dataframe thead th {\n        text-align: right;\n    }\n</style>\n<table border=\"1\" class=\"dataframe\">\n  <thead>\n    <tr style=\"text-align: right;\">\n      <th></th>\n      <th>categoria</th>\n      <th>ingreso_final</th>\n      <th>mediana_nom3</th>\n      <th>ocupacion_tag_gasto_familiar</th>\n      <th>cartera_castigada</th>\n      <th>ind_mora_vigente</th>\n      <th>rep_calif_cred_tag_gasto_familiar</th>\n      <th>genero_tag</th>\n      <th>estado_civil_tag_gasto_familiar</th>\n      <th>profesion_tag_gasto_familiar</th>\n      <th>ctas_activas</th>\n      <th>periodo</th>\n      <th>profesion_AUXILIAR DE ODONTOLOGIA</th>\n      <th>profesion_BACTERIOLOGIA</th>\n      <th>profesion_CARRERA MILITAR</th>\n      <th>profesion_COMERCIO INTERNACIONAL</th>\n      <th>gasto_familiar</th>\n    </tr>\n  </thead>\n  <tbody>\n    <tr>\n      <th>0</th>\n      <td>1.0</td>\n      <td>2406953.0</td>\n      <td>779157.0</td>\n      <td>6</td>\n      <td>1</td>\n      <td>1</td>\n      <td>2</td>\n      <td>1</td>\n      <td>1.0</td>\n      <td>44</td>\n      <td>2</td>\n      <td>201902</td>\n      <td>0</td>\n      <td>0</td>\n      <td>0</td>\n      <td>0</td>\n      <td>3.663700e+05</td>\n    </tr>\n    <tr>\n      <th>1</th>\n      <td>1.0</td>\n      <td>3014036.0</td>\n      <td>0.0</td>\n      <td>6</td>\n      <td>1</td>\n      <td>1</td>\n      <td>3</td>\n      <td>1</td>\n      <td>1.0</td>\n      <td>44</td>\n      <td>2</td>\n      <td>202001</td>\n      <td>0</td>\n      <td>0</td>\n      <td>0</td>\n      <td>0</td>\n      <td>7.372630e+05</td>\n    </tr>\n    <tr>\n      <th>2</th>\n      <td>2.0</td>\n      <td>1242174.0</td>\n      <td>0.0</td>\n      <td>6</td>\n      <td>1</td>\n      <td>1</td>\n      <td>3</td>\n      <td>1</td>\n      <td>1.0</td>\n      <td>44</td>\n      <td>2</td>\n      <td>202009</td>\n      <td>0</td>\n      <td>0</td>\n      <td>0</td>\n      <td>0</td>\n      <td>4.473640e+05</td>\n    </tr>\n    <tr>\n      <th>3</th>\n      <td>1.0</td>\n      <td>2851369.0</td>\n      <td>741967.0</td>\n      <td>6</td>\n      <td>1</td>\n      <td>1</td>\n      <td>4</td>\n      <td>1</td>\n      <td>1.0</td>\n      <td>44</td>\n      <td>2</td>\n      <td>201908</td>\n      <td>0</td>\n      <td>0</td>\n      <td>0</td>\n      <td>0</td>\n      <td>4.797520e+05</td>\n    </tr>\n    <tr>\n      <th>4</th>\n      <td>1.0</td>\n      <td>3171369.0</td>\n      <td>0.0</td>\n      <td>6</td>\n      <td>1</td>\n      <td>1</td>\n      <td>3</td>\n      <td>1</td>\n      <td>1.0</td>\n      <td>44</td>\n      <td>2</td>\n      <td>201911</td>\n      <td>0</td>\n      <td>0</td>\n      <td>0</td>\n      <td>0</td>\n      <td>1.599610e+05</td>\n    </tr>\n    <tr>\n      <th>...</th>\n      <td>...</td>\n      <td>...</td>\n      <td>...</td>\n      <td>...</td>\n      <td>...</td>\n      <td>...</td>\n      <td>...</td>\n      <td>...</td>\n      <td>...</td>\n      <td>...</td>\n      <td>...</td>\n      <td>...</td>\n      <td>...</td>\n      <td>...</td>\n      <td>...</td>\n      <td>...</td>\n      <td>...</td>\n    </tr>\n    <tr>\n      <th>1527188</th>\n      <td>2.0</td>\n      <td>3876343.0</td>\n      <td>2281362.0</td>\n      <td>6</td>\n      <td>1</td>\n      <td>1</td>\n      <td>8</td>\n      <td>1</td>\n      <td>1.0</td>\n      <td>44</td>\n      <td>1</td>\n      <td>202011</td>\n      <td>0</td>\n      <td>0</td>\n      <td>0</td>\n      <td>0</td>\n      <td>7.431714e+05</td>\n    </tr>\n    <tr>\n      <th>1527189</th>\n      <td>3.0</td>\n      <td>26913722.0</td>\n      <td>14956096.0</td>\n      <td>6</td>\n      <td>1</td>\n      <td>1</td>\n      <td>5</td>\n      <td>2</td>\n      <td>3.0</td>\n      <td>47</td>\n      <td>2</td>\n      <td>202011</td>\n      <td>0</td>\n      <td>0</td>\n      <td>1</td>\n      <td>0</td>\n      <td>8.502165e+05</td>\n    </tr>\n    <tr>\n      <th>1527190</th>\n      <td>3.0</td>\n      <td>16301000.0</td>\n      <td>0.0</td>\n      <td>8</td>\n      <td>1</td>\n      <td>1</td>\n      <td>3</td>\n      <td>2</td>\n      <td>3.0</td>\n      <td>46</td>\n      <td>1</td>\n      <td>202011</td>\n      <td>0</td>\n      <td>0</td>\n      <td>0</td>\n      <td>0</td>\n      <td>7.853290e+05</td>\n    </tr>\n    <tr>\n      <th>1527191</th>\n      <td>2.0</td>\n      <td>14481371.0</td>\n      <td>11916465.0</td>\n      <td>6</td>\n      <td>1</td>\n      <td>1</td>\n      <td>7</td>\n      <td>1</td>\n      <td>5.0</td>\n      <td>64</td>\n      <td>1</td>\n      <td>202011</td>\n      <td>0</td>\n      <td>0</td>\n      <td>0</td>\n      <td>0</td>\n      <td>1.029045e+06</td>\n    </tr>\n    <tr>\n      <th>1527192</th>\n      <td>2.0</td>\n      <td>8407800.0</td>\n      <td>0.0</td>\n      <td>6</td>\n      <td>1</td>\n      <td>1</td>\n      <td>4</td>\n      <td>1</td>\n      <td>4.0</td>\n      <td>44</td>\n      <td>1</td>\n      <td>202011</td>\n      <td>0</td>\n      <td>0</td>\n      <td>0</td>\n      <td>0</td>\n      <td>9.110522e+05</td>\n    </tr>\n  </tbody>\n</table>\n<p>1527193 rows × 17 columns</p>\n</div>"
     },
     "metadata": {},
     "execution_count": 20
    }
   ],
   "source": [
    "df_onehot"
   ]
  },
  {
   "source": [
    "## Normalization"
   ],
   "cell_type": "markdown",
   "metadata": {}
  },
  {
   "cell_type": "code",
   "execution_count": 21,
   "metadata": {},
   "outputs": [
    {
     "output_type": "execute_result",
     "data": {
      "text/plain": [
       "        count  mean   std  min   25%   50%   75%  max\n",
       "0   1527193.0  0.31  0.14  0.0  0.20  0.20  0.40  1.0\n",
       "1   1527193.0  0.00  0.00  0.0  0.00  0.00  0.00  1.0\n",
       "2   1527193.0  0.00  0.01  0.0  0.00  0.00  0.01  1.0\n",
       "3   1527193.0  0.54  0.17  0.0  0.56  0.56  0.56  1.0\n",
       "4   1527193.0  0.00  0.00  0.0  0.00  0.00  0.00  0.0\n",
       "5   1527193.0  0.00  0.00  0.0  0.00  0.00  0.00  0.0\n",
       "6   1527193.0  0.61  0.36  0.0  0.29  0.71  1.00  1.0\n",
       "7   1527193.0  0.49  0.50  0.0  0.00  0.00  1.00  1.0\n",
       "8   1527193.0  0.46  0.46  0.0  0.00  0.50  1.00  1.0\n",
       "9   1527193.0  0.58  0.21  0.0  0.55  0.55  0.69  1.0\n",
       "10  1527193.0  0.07  0.03  0.0  0.07  0.07  0.07  1.0\n",
       "11  1527193.0  0.52  0.46  0.0  0.05  0.91  0.96  1.0\n",
       "12  1527193.0  0.00  0.02  0.0  0.00  0.00  0.00  1.0\n",
       "13  1527193.0  0.00  0.06  0.0  0.00  0.00  0.00  1.0\n",
       "14  1527193.0  0.00  0.06  0.0  0.00  0.00  0.00  1.0\n",
       "15  1527193.0  0.01  0.09  0.0  0.00  0.00  0.00  1.0\n",
       "16  1527193.0  0.02  0.00  0.0  0.02  0.02  0.02  1.0"
      ],
      "text/html": "<div>\n<style scoped>\n    .dataframe tbody tr th:only-of-type {\n        vertical-align: middle;\n    }\n\n    .dataframe tbody tr th {\n        vertical-align: top;\n    }\n\n    .dataframe thead th {\n        text-align: right;\n    }\n</style>\n<table border=\"1\" class=\"dataframe\">\n  <thead>\n    <tr style=\"text-align: right;\">\n      <th></th>\n      <th>count</th>\n      <th>mean</th>\n      <th>std</th>\n      <th>min</th>\n      <th>25%</th>\n      <th>50%</th>\n      <th>75%</th>\n      <th>max</th>\n    </tr>\n  </thead>\n  <tbody>\n    <tr>\n      <th>0</th>\n      <td>1527193.0</td>\n      <td>0.31</td>\n      <td>0.14</td>\n      <td>0.0</td>\n      <td>0.20</td>\n      <td>0.20</td>\n      <td>0.40</td>\n      <td>1.0</td>\n    </tr>\n    <tr>\n      <th>1</th>\n      <td>1527193.0</td>\n      <td>0.00</td>\n      <td>0.00</td>\n      <td>0.0</td>\n      <td>0.00</td>\n      <td>0.00</td>\n      <td>0.00</td>\n      <td>1.0</td>\n    </tr>\n    <tr>\n      <th>2</th>\n      <td>1527193.0</td>\n      <td>0.00</td>\n      <td>0.01</td>\n      <td>0.0</td>\n      <td>0.00</td>\n      <td>0.00</td>\n      <td>0.01</td>\n      <td>1.0</td>\n    </tr>\n    <tr>\n      <th>3</th>\n      <td>1527193.0</td>\n      <td>0.54</td>\n      <td>0.17</td>\n      <td>0.0</td>\n      <td>0.56</td>\n      <td>0.56</td>\n      <td>0.56</td>\n      <td>1.0</td>\n    </tr>\n    <tr>\n      <th>4</th>\n      <td>1527193.0</td>\n      <td>0.00</td>\n      <td>0.00</td>\n      <td>0.0</td>\n      <td>0.00</td>\n      <td>0.00</td>\n      <td>0.00</td>\n      <td>0.0</td>\n    </tr>\n    <tr>\n      <th>5</th>\n      <td>1527193.0</td>\n      <td>0.00</td>\n      <td>0.00</td>\n      <td>0.0</td>\n      <td>0.00</td>\n      <td>0.00</td>\n      <td>0.00</td>\n      <td>0.0</td>\n    </tr>\n    <tr>\n      <th>6</th>\n      <td>1527193.0</td>\n      <td>0.61</td>\n      <td>0.36</td>\n      <td>0.0</td>\n      <td>0.29</td>\n      <td>0.71</td>\n      <td>1.00</td>\n      <td>1.0</td>\n    </tr>\n    <tr>\n      <th>7</th>\n      <td>1527193.0</td>\n      <td>0.49</td>\n      <td>0.50</td>\n      <td>0.0</td>\n      <td>0.00</td>\n      <td>0.00</td>\n      <td>1.00</td>\n      <td>1.0</td>\n    </tr>\n    <tr>\n      <th>8</th>\n      <td>1527193.0</td>\n      <td>0.46</td>\n      <td>0.46</td>\n      <td>0.0</td>\n      <td>0.00</td>\n      <td>0.50</td>\n      <td>1.00</td>\n      <td>1.0</td>\n    </tr>\n    <tr>\n      <th>9</th>\n      <td>1527193.0</td>\n      <td>0.58</td>\n      <td>0.21</td>\n      <td>0.0</td>\n      <td>0.55</td>\n      <td>0.55</td>\n      <td>0.69</td>\n      <td>1.0</td>\n    </tr>\n    <tr>\n      <th>10</th>\n      <td>1527193.0</td>\n      <td>0.07</td>\n      <td>0.03</td>\n      <td>0.0</td>\n      <td>0.07</td>\n      <td>0.07</td>\n      <td>0.07</td>\n      <td>1.0</td>\n    </tr>\n    <tr>\n      <th>11</th>\n      <td>1527193.0</td>\n      <td>0.52</td>\n      <td>0.46</td>\n      <td>0.0</td>\n      <td>0.05</td>\n      <td>0.91</td>\n      <td>0.96</td>\n      <td>1.0</td>\n    </tr>\n    <tr>\n      <th>12</th>\n      <td>1527193.0</td>\n      <td>0.00</td>\n      <td>0.02</td>\n      <td>0.0</td>\n      <td>0.00</td>\n      <td>0.00</td>\n      <td>0.00</td>\n      <td>1.0</td>\n    </tr>\n    <tr>\n      <th>13</th>\n      <td>1527193.0</td>\n      <td>0.00</td>\n      <td>0.06</td>\n      <td>0.0</td>\n      <td>0.00</td>\n      <td>0.00</td>\n      <td>0.00</td>\n      <td>1.0</td>\n    </tr>\n    <tr>\n      <th>14</th>\n      <td>1527193.0</td>\n      <td>0.00</td>\n      <td>0.06</td>\n      <td>0.0</td>\n      <td>0.00</td>\n      <td>0.00</td>\n      <td>0.00</td>\n      <td>1.0</td>\n    </tr>\n    <tr>\n      <th>15</th>\n      <td>1527193.0</td>\n      <td>0.01</td>\n      <td>0.09</td>\n      <td>0.0</td>\n      <td>0.00</td>\n      <td>0.00</td>\n      <td>0.00</td>\n      <td>1.0</td>\n    </tr>\n    <tr>\n      <th>16</th>\n      <td>1527193.0</td>\n      <td>0.02</td>\n      <td>0.00</td>\n      <td>0.0</td>\n      <td>0.02</td>\n      <td>0.02</td>\n      <td>0.02</td>\n      <td>1.0</td>\n    </tr>\n  </tbody>\n</table>\n</div>"
     },
     "metadata": {},
     "execution_count": 21
    }
   ],
   "source": [
    "Estandar = MinMaxScaler()\n",
    "Estandar.fit(df_onehot)\n",
    "\n",
    "df_std = Estandar.transform(df_onehot)\n",
    "df_std = pd.DataFrame(df_std)\n",
    "round(df_std.describe().T,2)"
   ]
  },
  {
   "cell_type": "code",
   "execution_count": 22,
   "metadata": {},
   "outputs": [],
   "source": [
    "x_val = df_std.iloc[-281666:,:-1]\n",
    "y_val = df_std.iloc[-281666:,-1]\n",
    "y = df_std.iloc[:-281666,-1]"
   ]
  },
  {
   "cell_type": "code",
   "execution_count": 23,
   "metadata": {},
   "outputs": [
    {
     "output_type": "stream",
     "name": "stdout",
     "text": [
      "(281666, 16)\n(281666,)\n(1245527,)\n"
     ]
    }
   ],
   "source": [
    "print(x_val.shape)\n",
    "print(y_val.shape)\n",
    "print(y.shape)"
   ]
  },
  {
   "cell_type": "markdown",
   "metadata": {},
   "source": [
    "### Train/test Sets"
   ]
  },
  {
   "cell_type": "code",
   "execution_count": 24,
   "metadata": {},
   "outputs": [
    {
     "output_type": "execute_result",
     "data": {
      "text/plain": [
       "          0         1         2         3    4    5         6    7     8   \\\n",
       "1152976  0.2  0.000271  0.000000  0.555556  0.0  0.0  0.857143  1.0  0.00   \n",
       "406402   0.2  0.000240  0.004818  0.555556  0.0  0.0  0.857143  1.0  0.00   \n",
       "508397   0.2  0.000130  0.001959  0.555556  0.0  0.0  0.857143  1.0  1.00   \n",
       "354394   0.4  0.000165  0.003011  0.555556  0.0  0.0  0.857143  1.0  0.75   \n",
       "322905   0.2  0.000394  0.003772  0.555556  0.0  0.0  0.142857  1.0  1.00   \n",
       "...      ...       ...       ...       ...  ...  ...       ...  ...   ...   \n",
       "996559   0.6  0.001619  0.011704  0.555556  0.0  0.0  1.000000  1.0  1.00   \n",
       "248587   0.2  0.000549  0.017739  0.000000  0.0  0.0  0.000000  0.0  0.75   \n",
       "932765   0.2  0.000323  0.000000  0.555556  0.0  0.0  0.000000  1.0  0.75   \n",
       "696886   0.2  0.000832  0.013319  0.555556  0.0  0.0  0.857143  1.0  0.00   \n",
       "1057785  0.2  0.000545  0.006544  0.555556  0.0  0.0  1.000000  1.0  0.00   \n",
       "\n",
       "               9         10        11   12   13   14   15  \n",
       "1152976  0.551282  0.071429  0.045872  0.0  0.0  0.0  0.0  \n",
       "406402   0.551282  0.142857  0.055046  0.0  0.0  0.0  0.0  \n",
       "508397   0.551282  0.071429  0.908257  0.0  0.0  0.0  0.0  \n",
       "354394   0.487179  0.071429  0.990826  0.0  0.0  0.0  0.0  \n",
       "322905   0.666667  0.071429  0.990826  0.0  0.0  0.0  0.0  \n",
       "...           ...       ...       ...  ...  ...  ...  ...  \n",
       "996559   0.807692  0.142857  0.027523  0.0  0.0  0.0  0.0  \n",
       "248587   0.551282  0.071429  0.009174  0.0  0.0  0.0  0.0  \n",
       "932765   0.423077  0.071429  0.018349  0.0  0.0  0.0  0.0  \n",
       "696886   0.653846  0.071429  0.000000  0.0  0.0  0.0  0.0  \n",
       "1057785  0.705128  0.071429  0.027523  0.0  0.0  0.0  0.0  \n",
       "\n",
       "[871868 rows x 16 columns]"
      ],
      "text/html": "<div>\n<style scoped>\n    .dataframe tbody tr th:only-of-type {\n        vertical-align: middle;\n    }\n\n    .dataframe tbody tr th {\n        vertical-align: top;\n    }\n\n    .dataframe thead th {\n        text-align: right;\n    }\n</style>\n<table border=\"1\" class=\"dataframe\">\n  <thead>\n    <tr style=\"text-align: right;\">\n      <th></th>\n      <th>0</th>\n      <th>1</th>\n      <th>2</th>\n      <th>3</th>\n      <th>4</th>\n      <th>5</th>\n      <th>6</th>\n      <th>7</th>\n      <th>8</th>\n      <th>9</th>\n      <th>10</th>\n      <th>11</th>\n      <th>12</th>\n      <th>13</th>\n      <th>14</th>\n      <th>15</th>\n    </tr>\n  </thead>\n  <tbody>\n    <tr>\n      <th>1152976</th>\n      <td>0.2</td>\n      <td>0.000271</td>\n      <td>0.000000</td>\n      <td>0.555556</td>\n      <td>0.0</td>\n      <td>0.0</td>\n      <td>0.857143</td>\n      <td>1.0</td>\n      <td>0.00</td>\n      <td>0.551282</td>\n      <td>0.071429</td>\n      <td>0.045872</td>\n      <td>0.0</td>\n      <td>0.0</td>\n      <td>0.0</td>\n      <td>0.0</td>\n    </tr>\n    <tr>\n      <th>406402</th>\n      <td>0.2</td>\n      <td>0.000240</td>\n      <td>0.004818</td>\n      <td>0.555556</td>\n      <td>0.0</td>\n      <td>0.0</td>\n      <td>0.857143</td>\n      <td>1.0</td>\n      <td>0.00</td>\n      <td>0.551282</td>\n      <td>0.142857</td>\n      <td>0.055046</td>\n      <td>0.0</td>\n      <td>0.0</td>\n      <td>0.0</td>\n      <td>0.0</td>\n    </tr>\n    <tr>\n      <th>508397</th>\n      <td>0.2</td>\n      <td>0.000130</td>\n      <td>0.001959</td>\n      <td>0.555556</td>\n      <td>0.0</td>\n      <td>0.0</td>\n      <td>0.857143</td>\n      <td>1.0</td>\n      <td>1.00</td>\n      <td>0.551282</td>\n      <td>0.071429</td>\n      <td>0.908257</td>\n      <td>0.0</td>\n      <td>0.0</td>\n      <td>0.0</td>\n      <td>0.0</td>\n    </tr>\n    <tr>\n      <th>354394</th>\n      <td>0.4</td>\n      <td>0.000165</td>\n      <td>0.003011</td>\n      <td>0.555556</td>\n      <td>0.0</td>\n      <td>0.0</td>\n      <td>0.857143</td>\n      <td>1.0</td>\n      <td>0.75</td>\n      <td>0.487179</td>\n      <td>0.071429</td>\n      <td>0.990826</td>\n      <td>0.0</td>\n      <td>0.0</td>\n      <td>0.0</td>\n      <td>0.0</td>\n    </tr>\n    <tr>\n      <th>322905</th>\n      <td>0.2</td>\n      <td>0.000394</td>\n      <td>0.003772</td>\n      <td>0.555556</td>\n      <td>0.0</td>\n      <td>0.0</td>\n      <td>0.142857</td>\n      <td>1.0</td>\n      <td>1.00</td>\n      <td>0.666667</td>\n      <td>0.071429</td>\n      <td>0.990826</td>\n      <td>0.0</td>\n      <td>0.0</td>\n      <td>0.0</td>\n      <td>0.0</td>\n    </tr>\n    <tr>\n      <th>...</th>\n      <td>...</td>\n      <td>...</td>\n      <td>...</td>\n      <td>...</td>\n      <td>...</td>\n      <td>...</td>\n      <td>...</td>\n      <td>...</td>\n      <td>...</td>\n      <td>...</td>\n      <td>...</td>\n      <td>...</td>\n      <td>...</td>\n      <td>...</td>\n      <td>...</td>\n      <td>...</td>\n    </tr>\n    <tr>\n      <th>996559</th>\n      <td>0.6</td>\n      <td>0.001619</td>\n      <td>0.011704</td>\n      <td>0.555556</td>\n      <td>0.0</td>\n      <td>0.0</td>\n      <td>1.000000</td>\n      <td>1.0</td>\n      <td>1.00</td>\n      <td>0.807692</td>\n      <td>0.142857</td>\n      <td>0.027523</td>\n      <td>0.0</td>\n      <td>0.0</td>\n      <td>0.0</td>\n      <td>0.0</td>\n    </tr>\n    <tr>\n      <th>248587</th>\n      <td>0.2</td>\n      <td>0.000549</td>\n      <td>0.017739</td>\n      <td>0.000000</td>\n      <td>0.0</td>\n      <td>0.0</td>\n      <td>0.000000</td>\n      <td>0.0</td>\n      <td>0.75</td>\n      <td>0.551282</td>\n      <td>0.071429</td>\n      <td>0.009174</td>\n      <td>0.0</td>\n      <td>0.0</td>\n      <td>0.0</td>\n      <td>0.0</td>\n    </tr>\n    <tr>\n      <th>932765</th>\n      <td>0.2</td>\n      <td>0.000323</td>\n      <td>0.000000</td>\n      <td>0.555556</td>\n      <td>0.0</td>\n      <td>0.0</td>\n      <td>0.000000</td>\n      <td>1.0</td>\n      <td>0.75</td>\n      <td>0.423077</td>\n      <td>0.071429</td>\n      <td>0.018349</td>\n      <td>0.0</td>\n      <td>0.0</td>\n      <td>0.0</td>\n      <td>0.0</td>\n    </tr>\n    <tr>\n      <th>696886</th>\n      <td>0.2</td>\n      <td>0.000832</td>\n      <td>0.013319</td>\n      <td>0.555556</td>\n      <td>0.0</td>\n      <td>0.0</td>\n      <td>0.857143</td>\n      <td>1.0</td>\n      <td>0.00</td>\n      <td>0.653846</td>\n      <td>0.071429</td>\n      <td>0.000000</td>\n      <td>0.0</td>\n      <td>0.0</td>\n      <td>0.0</td>\n      <td>0.0</td>\n    </tr>\n    <tr>\n      <th>1057785</th>\n      <td>0.2</td>\n      <td>0.000545</td>\n      <td>0.006544</td>\n      <td>0.555556</td>\n      <td>0.0</td>\n      <td>0.0</td>\n      <td>1.000000</td>\n      <td>1.0</td>\n      <td>0.00</td>\n      <td>0.705128</td>\n      <td>0.071429</td>\n      <td>0.027523</td>\n      <td>0.0</td>\n      <td>0.0</td>\n      <td>0.0</td>\n      <td>0.0</td>\n    </tr>\n  </tbody>\n</table>\n<p>871868 rows × 16 columns</p>\n</div>"
     },
     "metadata": {},
     "execution_count": 24
    }
   ],
   "source": [
    "X_train, X_test, y_train, y_test = train_test_split(df_std.iloc[:-281666,:-1],\n",
    "                                                    y,\n",
    "                                                    test_size=0.30)\n",
    "\n",
    "X_train"
   ]
  },
  {
   "source": [
    "# Default ~ _RandomForest_"
   ],
   "cell_type": "markdown",
   "metadata": {}
  },
  {
   "cell_type": "code",
   "execution_count": 28,
   "metadata": {},
   "outputs": [
    {
     "output_type": "execute_result",
     "data": {
      "text/plain": [
       "0.001041903279061446"
      ]
     },
     "metadata": {},
     "execution_count": 28
    }
   ],
   "source": [
    "rfr0 = RandomForestRegressor(n_jobs=-1, random_state=42)\n",
    "rfr0.fit(X_train,y_train)\n",
    "y_hat_rf0=rfr0.predict(X_test)#[::,1]\n",
    "mean_absolute_error(y_test, y_hat_rf0)"
   ]
  },
  {
   "cell_type": "code",
   "execution_count": 33,
   "metadata": {},
   "outputs": [
    {
     "output_type": "execute_result",
     "data": {
      "text/plain": [
       "0.054819039064256184"
      ]
     },
     "metadata": {},
     "execution_count": 33
    }
   ],
   "source": [
    "mape0 = sum((y_test-y_hat_rf0).abs()\n",
    "                 .div(y_test)\n",
    "                 /len(y_hat_rf0)\n",
    "             )\n",
    "\n",
    "mape0"
   ]
  },
  {
   "cell_type": "markdown",
   "metadata": {},
   "source": [
    "# Grid Search ~ _RandomForest_"
   ]
  },
  {
   "cell_type": "code",
   "execution_count": 34,
   "metadata": {},
   "outputs": [],
   "source": [
    "rfr1 = RandomForestRegressor(n_jobs=-1,random_state=42)"
   ]
  },
  {
   "cell_type": "code",
   "execution_count": 39,
   "metadata": {},
   "outputs": [],
   "source": [
    "param_grid = { \n",
    "    #'n_estimators': [200, 500, 1000],\n",
    "    #'max_features': ['sqrt', 'log2'],\n",
    "    #'max_depth' : [5,10,20,30],\n",
    "    'criterion' :['mse', 'mae']\n",
    "}"
   ]
  },
  {
   "cell_type": "code",
   "execution_count": 38,
   "metadata": {},
   "outputs": [
    {
     "output_type": "error",
     "ename": "KeyError",
     "evalue": "'gini'",
     "traceback": [
      "\u001b[1;31m---------------------------------------------------------------------------\u001b[0m",
      "\u001b[1;31mKeyError\u001b[0m                                  Traceback (most recent call last)",
      "\u001b[1;32m<ipython-input-38-5ff17dbfffdf>\u001b[0m in \u001b[0;36m<module>\u001b[1;34m\u001b[0m\n\u001b[0;32m      1\u001b[0m \u001b[0mCV_rfr\u001b[0m \u001b[1;33m=\u001b[0m \u001b[0mGridSearchCV\u001b[0m\u001b[1;33m(\u001b[0m\u001b[0mestimator\u001b[0m\u001b[1;33m=\u001b[0m\u001b[0mrfr1\u001b[0m\u001b[1;33m,\u001b[0m \u001b[0mparam_grid\u001b[0m\u001b[1;33m=\u001b[0m\u001b[0mparam_grid\u001b[0m\u001b[1;33m,\u001b[0m \u001b[0mcv\u001b[0m\u001b[1;33m=\u001b[0m \u001b[1;36m5\u001b[0m\u001b[1;33m)\u001b[0m\u001b[1;33m\u001b[0m\u001b[1;33m\u001b[0m\u001b[0m\n\u001b[0;32m      2\u001b[0m \u001b[1;31m#CV_rfr.best_params\u001b[0m\u001b[1;33m\u001b[0m\u001b[1;33m\u001b[0m\u001b[1;33m\u001b[0m\u001b[0m\n\u001b[1;32m----> 3\u001b[1;33m \u001b[0mCV_rfr\u001b[0m\u001b[1;33m.\u001b[0m\u001b[0mfit\u001b[0m\u001b[1;33m(\u001b[0m\u001b[0mX_train\u001b[0m\u001b[1;33m,\u001b[0m \u001b[0my_train\u001b[0m\u001b[1;33m)\u001b[0m\u001b[1;33m\u001b[0m\u001b[1;33m\u001b[0m\u001b[0m\n\u001b[0m",
      "\u001b[1;32mc:\\Users\\dielesro\\pip_envs\\ICETEX\\lib\\site-packages\\sklearn\\utils\\validation.py\u001b[0m in \u001b[0;36minner_f\u001b[1;34m(*args, **kwargs)\u001b[0m\n\u001b[0;32m     70\u001b[0m                           FutureWarning)\n\u001b[0;32m     71\u001b[0m         \u001b[0mkwargs\u001b[0m\u001b[1;33m.\u001b[0m\u001b[0mupdate\u001b[0m\u001b[1;33m(\u001b[0m\u001b[1;33m{\u001b[0m\u001b[0mk\u001b[0m\u001b[1;33m:\u001b[0m \u001b[0marg\u001b[0m \u001b[1;32mfor\u001b[0m \u001b[0mk\u001b[0m\u001b[1;33m,\u001b[0m \u001b[0marg\u001b[0m \u001b[1;32min\u001b[0m \u001b[0mzip\u001b[0m\u001b[1;33m(\u001b[0m\u001b[0msig\u001b[0m\u001b[1;33m.\u001b[0m\u001b[0mparameters\u001b[0m\u001b[1;33m,\u001b[0m \u001b[0margs\u001b[0m\u001b[1;33m)\u001b[0m\u001b[1;33m}\u001b[0m\u001b[1;33m)\u001b[0m\u001b[1;33m\u001b[0m\u001b[1;33m\u001b[0m\u001b[0m\n\u001b[1;32m---> 72\u001b[1;33m         \u001b[1;32mreturn\u001b[0m \u001b[0mf\u001b[0m\u001b[1;33m(\u001b[0m\u001b[1;33m**\u001b[0m\u001b[0mkwargs\u001b[0m\u001b[1;33m)\u001b[0m\u001b[1;33m\u001b[0m\u001b[1;33m\u001b[0m\u001b[0m\n\u001b[0m\u001b[0;32m     73\u001b[0m     \u001b[1;32mreturn\u001b[0m \u001b[0minner_f\u001b[0m\u001b[1;33m\u001b[0m\u001b[1;33m\u001b[0m\u001b[0m\n\u001b[0;32m     74\u001b[0m \u001b[1;33m\u001b[0m\u001b[0m\n",
      "\u001b[1;32mc:\\Users\\dielesro\\pip_envs\\ICETEX\\lib\\site-packages\\sklearn\\model_selection\\_search.py\u001b[0m in \u001b[0;36mfit\u001b[1;34m(self, X, y, groups, **fit_params)\u001b[0m\n\u001b[0;32m    763\u001b[0m             \u001b[0mrefit_start_time\u001b[0m \u001b[1;33m=\u001b[0m \u001b[0mtime\u001b[0m\u001b[1;33m.\u001b[0m\u001b[0mtime\u001b[0m\u001b[1;33m(\u001b[0m\u001b[1;33m)\u001b[0m\u001b[1;33m\u001b[0m\u001b[1;33m\u001b[0m\u001b[0m\n\u001b[0;32m    764\u001b[0m             \u001b[1;32mif\u001b[0m \u001b[0my\u001b[0m \u001b[1;32mis\u001b[0m \u001b[1;32mnot\u001b[0m \u001b[1;32mNone\u001b[0m\u001b[1;33m:\u001b[0m\u001b[1;33m\u001b[0m\u001b[1;33m\u001b[0m\u001b[0m\n\u001b[1;32m--> 765\u001b[1;33m                 \u001b[0mself\u001b[0m\u001b[1;33m.\u001b[0m\u001b[0mbest_estimator_\u001b[0m\u001b[1;33m.\u001b[0m\u001b[0mfit\u001b[0m\u001b[1;33m(\u001b[0m\u001b[0mX\u001b[0m\u001b[1;33m,\u001b[0m \u001b[0my\u001b[0m\u001b[1;33m,\u001b[0m \u001b[1;33m**\u001b[0m\u001b[0mfit_params\u001b[0m\u001b[1;33m)\u001b[0m\u001b[1;33m\u001b[0m\u001b[1;33m\u001b[0m\u001b[0m\n\u001b[0m\u001b[0;32m    766\u001b[0m             \u001b[1;32melse\u001b[0m\u001b[1;33m:\u001b[0m\u001b[1;33m\u001b[0m\u001b[1;33m\u001b[0m\u001b[0m\n\u001b[0;32m    767\u001b[0m                 \u001b[0mself\u001b[0m\u001b[1;33m.\u001b[0m\u001b[0mbest_estimator_\u001b[0m\u001b[1;33m.\u001b[0m\u001b[0mfit\u001b[0m\u001b[1;33m(\u001b[0m\u001b[0mX\u001b[0m\u001b[1;33m,\u001b[0m \u001b[1;33m**\u001b[0m\u001b[0mfit_params\u001b[0m\u001b[1;33m)\u001b[0m\u001b[1;33m\u001b[0m\u001b[1;33m\u001b[0m\u001b[0m\n",
      "\u001b[1;32mc:\\Users\\dielesro\\pip_envs\\ICETEX\\lib\\site-packages\\sklearn\\ensemble\\_forest.py\u001b[0m in \u001b[0;36mfit\u001b[1;34m(self, X, y, sample_weight)\u001b[0m\n\u001b[0;32m    384\u001b[0m             \u001b[1;31m# parallel_backend contexts set at a higher level,\u001b[0m\u001b[1;33m\u001b[0m\u001b[1;33m\u001b[0m\u001b[1;33m\u001b[0m\u001b[0m\n\u001b[0;32m    385\u001b[0m             \u001b[1;31m# since correctness does not rely on using threads.\u001b[0m\u001b[1;33m\u001b[0m\u001b[1;33m\u001b[0m\u001b[1;33m\u001b[0m\u001b[0m\n\u001b[1;32m--> 386\u001b[1;33m             trees = Parallel(n_jobs=self.n_jobs, verbose=self.verbose,\n\u001b[0m\u001b[0;32m    387\u001b[0m                              \u001b[1;33m**\u001b[0m\u001b[0m_joblib_parallel_args\u001b[0m\u001b[1;33m(\u001b[0m\u001b[0mprefer\u001b[0m\u001b[1;33m=\u001b[0m\u001b[1;34m'threads'\u001b[0m\u001b[1;33m)\u001b[0m\u001b[1;33m)\u001b[0m\u001b[1;33m(\u001b[0m\u001b[1;33m\u001b[0m\u001b[1;33m\u001b[0m\u001b[0m\n\u001b[0;32m    388\u001b[0m                 delayed(_parallel_build_trees)(\n",
      "\u001b[1;32mc:\\Users\\dielesro\\pip_envs\\ICETEX\\lib\\site-packages\\joblib\\parallel.py\u001b[0m in \u001b[0;36m__call__\u001b[1;34m(self, iterable)\u001b[0m\n\u001b[0;32m   1059\u001b[0m \u001b[1;33m\u001b[0m\u001b[0m\n\u001b[0;32m   1060\u001b[0m             \u001b[1;32mwith\u001b[0m \u001b[0mself\u001b[0m\u001b[1;33m.\u001b[0m\u001b[0m_backend\u001b[0m\u001b[1;33m.\u001b[0m\u001b[0mretrieval_context\u001b[0m\u001b[1;33m(\u001b[0m\u001b[1;33m)\u001b[0m\u001b[1;33m:\u001b[0m\u001b[1;33m\u001b[0m\u001b[1;33m\u001b[0m\u001b[0m\n\u001b[1;32m-> 1061\u001b[1;33m                 \u001b[0mself\u001b[0m\u001b[1;33m.\u001b[0m\u001b[0mretrieve\u001b[0m\u001b[1;33m(\u001b[0m\u001b[1;33m)\u001b[0m\u001b[1;33m\u001b[0m\u001b[1;33m\u001b[0m\u001b[0m\n\u001b[0m\u001b[0;32m   1062\u001b[0m             \u001b[1;31m# Make sure that we get a last message telling us we are done\u001b[0m\u001b[1;33m\u001b[0m\u001b[1;33m\u001b[0m\u001b[1;33m\u001b[0m\u001b[0m\n\u001b[0;32m   1063\u001b[0m             \u001b[0melapsed_time\u001b[0m \u001b[1;33m=\u001b[0m \u001b[0mtime\u001b[0m\u001b[1;33m.\u001b[0m\u001b[0mtime\u001b[0m\u001b[1;33m(\u001b[0m\u001b[1;33m)\u001b[0m \u001b[1;33m-\u001b[0m \u001b[0mself\u001b[0m\u001b[1;33m.\u001b[0m\u001b[0m_start_time\u001b[0m\u001b[1;33m\u001b[0m\u001b[1;33m\u001b[0m\u001b[0m\n",
      "\u001b[1;32mc:\\Users\\dielesro\\pip_envs\\ICETEX\\lib\\site-packages\\joblib\\parallel.py\u001b[0m in \u001b[0;36mretrieve\u001b[1;34m(self)\u001b[0m\n\u001b[0;32m    938\u001b[0m             \u001b[1;32mtry\u001b[0m\u001b[1;33m:\u001b[0m\u001b[1;33m\u001b[0m\u001b[1;33m\u001b[0m\u001b[0m\n\u001b[0;32m    939\u001b[0m                 \u001b[1;32mif\u001b[0m \u001b[0mgetattr\u001b[0m\u001b[1;33m(\u001b[0m\u001b[0mself\u001b[0m\u001b[1;33m.\u001b[0m\u001b[0m_backend\u001b[0m\u001b[1;33m,\u001b[0m \u001b[1;34m'supports_timeout'\u001b[0m\u001b[1;33m,\u001b[0m \u001b[1;32mFalse\u001b[0m\u001b[1;33m)\u001b[0m\u001b[1;33m:\u001b[0m\u001b[1;33m\u001b[0m\u001b[1;33m\u001b[0m\u001b[0m\n\u001b[1;32m--> 940\u001b[1;33m                     \u001b[0mself\u001b[0m\u001b[1;33m.\u001b[0m\u001b[0m_output\u001b[0m\u001b[1;33m.\u001b[0m\u001b[0mextend\u001b[0m\u001b[1;33m(\u001b[0m\u001b[0mjob\u001b[0m\u001b[1;33m.\u001b[0m\u001b[0mget\u001b[0m\u001b[1;33m(\u001b[0m\u001b[0mtimeout\u001b[0m\u001b[1;33m=\u001b[0m\u001b[0mself\u001b[0m\u001b[1;33m.\u001b[0m\u001b[0mtimeout\u001b[0m\u001b[1;33m)\u001b[0m\u001b[1;33m)\u001b[0m\u001b[1;33m\u001b[0m\u001b[1;33m\u001b[0m\u001b[0m\n\u001b[0m\u001b[0;32m    941\u001b[0m                 \u001b[1;32melse\u001b[0m\u001b[1;33m:\u001b[0m\u001b[1;33m\u001b[0m\u001b[1;33m\u001b[0m\u001b[0m\n\u001b[0;32m    942\u001b[0m                     \u001b[0mself\u001b[0m\u001b[1;33m.\u001b[0m\u001b[0m_output\u001b[0m\u001b[1;33m.\u001b[0m\u001b[0mextend\u001b[0m\u001b[1;33m(\u001b[0m\u001b[0mjob\u001b[0m\u001b[1;33m.\u001b[0m\u001b[0mget\u001b[0m\u001b[1;33m(\u001b[0m\u001b[1;33m)\u001b[0m\u001b[1;33m)\u001b[0m\u001b[1;33m\u001b[0m\u001b[1;33m\u001b[0m\u001b[0m\n",
      "\u001b[1;32mC:\\Program Files\\WindowsApps\\PythonSoftwareFoundation.Python.3.8_3.8.1776.0_x64__qbz5n2kfra8p0\\lib\\multiprocessing\\pool.py\u001b[0m in \u001b[0;36mget\u001b[1;34m(self, timeout)\u001b[0m\n\u001b[0;32m    769\u001b[0m             \u001b[1;32mreturn\u001b[0m \u001b[0mself\u001b[0m\u001b[1;33m.\u001b[0m\u001b[0m_value\u001b[0m\u001b[1;33m\u001b[0m\u001b[1;33m\u001b[0m\u001b[0m\n\u001b[0;32m    770\u001b[0m         \u001b[1;32melse\u001b[0m\u001b[1;33m:\u001b[0m\u001b[1;33m\u001b[0m\u001b[1;33m\u001b[0m\u001b[0m\n\u001b[1;32m--> 771\u001b[1;33m             \u001b[1;32mraise\u001b[0m \u001b[0mself\u001b[0m\u001b[1;33m.\u001b[0m\u001b[0m_value\u001b[0m\u001b[1;33m\u001b[0m\u001b[1;33m\u001b[0m\u001b[0m\n\u001b[0m\u001b[0;32m    772\u001b[0m \u001b[1;33m\u001b[0m\u001b[0m\n\u001b[0;32m    773\u001b[0m     \u001b[1;32mdef\u001b[0m \u001b[0m_set\u001b[0m\u001b[1;33m(\u001b[0m\u001b[0mself\u001b[0m\u001b[1;33m,\u001b[0m \u001b[0mi\u001b[0m\u001b[1;33m,\u001b[0m \u001b[0mobj\u001b[0m\u001b[1;33m)\u001b[0m\u001b[1;33m:\u001b[0m\u001b[1;33m\u001b[0m\u001b[1;33m\u001b[0m\u001b[0m\n",
      "\u001b[1;32mC:\\Program Files\\WindowsApps\\PythonSoftwareFoundation.Python.3.8_3.8.1776.0_x64__qbz5n2kfra8p0\\lib\\multiprocessing\\pool.py\u001b[0m in \u001b[0;36mworker\u001b[1;34m(inqueue, outqueue, initializer, initargs, maxtasks, wrap_exception)\u001b[0m\n\u001b[0;32m    123\u001b[0m         \u001b[0mjob\u001b[0m\u001b[1;33m,\u001b[0m \u001b[0mi\u001b[0m\u001b[1;33m,\u001b[0m \u001b[0mfunc\u001b[0m\u001b[1;33m,\u001b[0m \u001b[0margs\u001b[0m\u001b[1;33m,\u001b[0m \u001b[0mkwds\u001b[0m \u001b[1;33m=\u001b[0m \u001b[0mtask\u001b[0m\u001b[1;33m\u001b[0m\u001b[1;33m\u001b[0m\u001b[0m\n\u001b[0;32m    124\u001b[0m         \u001b[1;32mtry\u001b[0m\u001b[1;33m:\u001b[0m\u001b[1;33m\u001b[0m\u001b[1;33m\u001b[0m\u001b[0m\n\u001b[1;32m--> 125\u001b[1;33m             \u001b[0mresult\u001b[0m \u001b[1;33m=\u001b[0m \u001b[1;33m(\u001b[0m\u001b[1;32mTrue\u001b[0m\u001b[1;33m,\u001b[0m \u001b[0mfunc\u001b[0m\u001b[1;33m(\u001b[0m\u001b[1;33m*\u001b[0m\u001b[0margs\u001b[0m\u001b[1;33m,\u001b[0m \u001b[1;33m**\u001b[0m\u001b[0mkwds\u001b[0m\u001b[1;33m)\u001b[0m\u001b[1;33m)\u001b[0m\u001b[1;33m\u001b[0m\u001b[1;33m\u001b[0m\u001b[0m\n\u001b[0m\u001b[0;32m    126\u001b[0m         \u001b[1;32mexcept\u001b[0m \u001b[0mException\u001b[0m \u001b[1;32mas\u001b[0m \u001b[0me\u001b[0m\u001b[1;33m:\u001b[0m\u001b[1;33m\u001b[0m\u001b[1;33m\u001b[0m\u001b[0m\n\u001b[0;32m    127\u001b[0m             \u001b[1;32mif\u001b[0m \u001b[0mwrap_exception\u001b[0m \u001b[1;32mand\u001b[0m \u001b[0mfunc\u001b[0m \u001b[1;32mis\u001b[0m \u001b[1;32mnot\u001b[0m \u001b[0m_helper_reraises_exception\u001b[0m\u001b[1;33m:\u001b[0m\u001b[1;33m\u001b[0m\u001b[1;33m\u001b[0m\u001b[0m\n",
      "\u001b[1;32mc:\\Users\\dielesro\\pip_envs\\ICETEX\\lib\\site-packages\\joblib\\_parallel_backends.py\u001b[0m in \u001b[0;36m__call__\u001b[1;34m(self, *args, **kwargs)\u001b[0m\n\u001b[0;32m    593\u001b[0m     \u001b[1;32mdef\u001b[0m \u001b[0m__call__\u001b[0m\u001b[1;33m(\u001b[0m\u001b[0mself\u001b[0m\u001b[1;33m,\u001b[0m \u001b[1;33m*\u001b[0m\u001b[0margs\u001b[0m\u001b[1;33m,\u001b[0m \u001b[1;33m**\u001b[0m\u001b[0mkwargs\u001b[0m\u001b[1;33m)\u001b[0m\u001b[1;33m:\u001b[0m\u001b[1;33m\u001b[0m\u001b[1;33m\u001b[0m\u001b[0m\n\u001b[0;32m    594\u001b[0m         \u001b[1;32mtry\u001b[0m\u001b[1;33m:\u001b[0m\u001b[1;33m\u001b[0m\u001b[1;33m\u001b[0m\u001b[0m\n\u001b[1;32m--> 595\u001b[1;33m             \u001b[1;32mreturn\u001b[0m \u001b[0mself\u001b[0m\u001b[1;33m.\u001b[0m\u001b[0mfunc\u001b[0m\u001b[1;33m(\u001b[0m\u001b[1;33m*\u001b[0m\u001b[0margs\u001b[0m\u001b[1;33m,\u001b[0m \u001b[1;33m**\u001b[0m\u001b[0mkwargs\u001b[0m\u001b[1;33m)\u001b[0m\u001b[1;33m\u001b[0m\u001b[1;33m\u001b[0m\u001b[0m\n\u001b[0m\u001b[0;32m    596\u001b[0m         \u001b[1;32mexcept\u001b[0m \u001b[0mKeyboardInterrupt\u001b[0m \u001b[1;32mas\u001b[0m \u001b[0me\u001b[0m\u001b[1;33m:\u001b[0m\u001b[1;33m\u001b[0m\u001b[1;33m\u001b[0m\u001b[0m\n\u001b[0;32m    597\u001b[0m             \u001b[1;31m# We capture the KeyboardInterrupt and reraise it as\u001b[0m\u001b[1;33m\u001b[0m\u001b[1;33m\u001b[0m\u001b[1;33m\u001b[0m\u001b[0m\n",
      "\u001b[1;32mc:\\Users\\dielesro\\pip_envs\\ICETEX\\lib\\site-packages\\joblib\\parallel.py\u001b[0m in \u001b[0;36m__call__\u001b[1;34m(self)\u001b[0m\n\u001b[0;32m    260\u001b[0m         \u001b[1;31m# change the default number of processes to -1\u001b[0m\u001b[1;33m\u001b[0m\u001b[1;33m\u001b[0m\u001b[1;33m\u001b[0m\u001b[0m\n\u001b[0;32m    261\u001b[0m         \u001b[1;32mwith\u001b[0m \u001b[0mparallel_backend\u001b[0m\u001b[1;33m(\u001b[0m\u001b[0mself\u001b[0m\u001b[1;33m.\u001b[0m\u001b[0m_backend\u001b[0m\u001b[1;33m,\u001b[0m \u001b[0mn_jobs\u001b[0m\u001b[1;33m=\u001b[0m\u001b[0mself\u001b[0m\u001b[1;33m.\u001b[0m\u001b[0m_n_jobs\u001b[0m\u001b[1;33m)\u001b[0m\u001b[1;33m:\u001b[0m\u001b[1;33m\u001b[0m\u001b[1;33m\u001b[0m\u001b[0m\n\u001b[1;32m--> 262\u001b[1;33m             return [func(*args, **kwargs)\n\u001b[0m\u001b[0;32m    263\u001b[0m                     for func, args, kwargs in self.items]\n\u001b[0;32m    264\u001b[0m \u001b[1;33m\u001b[0m\u001b[0m\n",
      "\u001b[1;32mc:\\Users\\dielesro\\pip_envs\\ICETEX\\lib\\site-packages\\joblib\\parallel.py\u001b[0m in \u001b[0;36m<listcomp>\u001b[1;34m(.0)\u001b[0m\n\u001b[0;32m    260\u001b[0m         \u001b[1;31m# change the default number of processes to -1\u001b[0m\u001b[1;33m\u001b[0m\u001b[1;33m\u001b[0m\u001b[1;33m\u001b[0m\u001b[0m\n\u001b[0;32m    261\u001b[0m         \u001b[1;32mwith\u001b[0m \u001b[0mparallel_backend\u001b[0m\u001b[1;33m(\u001b[0m\u001b[0mself\u001b[0m\u001b[1;33m.\u001b[0m\u001b[0m_backend\u001b[0m\u001b[1;33m,\u001b[0m \u001b[0mn_jobs\u001b[0m\u001b[1;33m=\u001b[0m\u001b[0mself\u001b[0m\u001b[1;33m.\u001b[0m\u001b[0m_n_jobs\u001b[0m\u001b[1;33m)\u001b[0m\u001b[1;33m:\u001b[0m\u001b[1;33m\u001b[0m\u001b[1;33m\u001b[0m\u001b[0m\n\u001b[1;32m--> 262\u001b[1;33m             return [func(*args, **kwargs)\n\u001b[0m\u001b[0;32m    263\u001b[0m                     for func, args, kwargs in self.items]\n\u001b[0;32m    264\u001b[0m \u001b[1;33m\u001b[0m\u001b[0m\n",
      "\u001b[1;32mc:\\Users\\dielesro\\pip_envs\\ICETEX\\lib\\site-packages\\sklearn\\ensemble\\_forest.py\u001b[0m in \u001b[0;36m_parallel_build_trees\u001b[1;34m(tree, forest, X, y, sample_weight, tree_idx, n_trees, verbose, class_weight, n_samples_bootstrap)\u001b[0m\n\u001b[0;32m    166\u001b[0m                                                         indices=indices)\n\u001b[0;32m    167\u001b[0m \u001b[1;33m\u001b[0m\u001b[0m\n\u001b[1;32m--> 168\u001b[1;33m         \u001b[0mtree\u001b[0m\u001b[1;33m.\u001b[0m\u001b[0mfit\u001b[0m\u001b[1;33m(\u001b[0m\u001b[0mX\u001b[0m\u001b[1;33m,\u001b[0m \u001b[0my\u001b[0m\u001b[1;33m,\u001b[0m \u001b[0msample_weight\u001b[0m\u001b[1;33m=\u001b[0m\u001b[0mcurr_sample_weight\u001b[0m\u001b[1;33m,\u001b[0m \u001b[0mcheck_input\u001b[0m\u001b[1;33m=\u001b[0m\u001b[1;32mFalse\u001b[0m\u001b[1;33m)\u001b[0m\u001b[1;33m\u001b[0m\u001b[1;33m\u001b[0m\u001b[0m\n\u001b[0m\u001b[0;32m    169\u001b[0m     \u001b[1;32melse\u001b[0m\u001b[1;33m:\u001b[0m\u001b[1;33m\u001b[0m\u001b[1;33m\u001b[0m\u001b[0m\n\u001b[0;32m    170\u001b[0m         \u001b[0mtree\u001b[0m\u001b[1;33m.\u001b[0m\u001b[0mfit\u001b[0m\u001b[1;33m(\u001b[0m\u001b[0mX\u001b[0m\u001b[1;33m,\u001b[0m \u001b[0my\u001b[0m\u001b[1;33m,\u001b[0m \u001b[0msample_weight\u001b[0m\u001b[1;33m=\u001b[0m\u001b[0msample_weight\u001b[0m\u001b[1;33m,\u001b[0m \u001b[0mcheck_input\u001b[0m\u001b[1;33m=\u001b[0m\u001b[1;32mFalse\u001b[0m\u001b[1;33m)\u001b[0m\u001b[1;33m\u001b[0m\u001b[1;33m\u001b[0m\u001b[0m\n",
      "\u001b[1;32mc:\\Users\\dielesro\\pip_envs\\ICETEX\\lib\\site-packages\\sklearn\\tree\\_classes.py\u001b[0m in \u001b[0;36mfit\u001b[1;34m(self, X, y, sample_weight, check_input, X_idx_sorted)\u001b[0m\n\u001b[0;32m   1240\u001b[0m         \"\"\"\n\u001b[0;32m   1241\u001b[0m \u001b[1;33m\u001b[0m\u001b[0m\n\u001b[1;32m-> 1242\u001b[1;33m         super().fit(\n\u001b[0m\u001b[0;32m   1243\u001b[0m             \u001b[0mX\u001b[0m\u001b[1;33m,\u001b[0m \u001b[0my\u001b[0m\u001b[1;33m,\u001b[0m\u001b[1;33m\u001b[0m\u001b[1;33m\u001b[0m\u001b[0m\n\u001b[0;32m   1244\u001b[0m             \u001b[0msample_weight\u001b[0m\u001b[1;33m=\u001b[0m\u001b[0msample_weight\u001b[0m\u001b[1;33m,\u001b[0m\u001b[1;33m\u001b[0m\u001b[1;33m\u001b[0m\u001b[0m\n",
      "\u001b[1;32mc:\\Users\\dielesro\\pip_envs\\ICETEX\\lib\\site-packages\\sklearn\\tree\\_classes.py\u001b[0m in \u001b[0;36mfit\u001b[1;34m(self, X, y, sample_weight, check_input, X_idx_sorted)\u001b[0m\n\u001b[0;32m    334\u001b[0m                                                          self.n_classes_)\n\u001b[0;32m    335\u001b[0m             \u001b[1;32melse\u001b[0m\u001b[1;33m:\u001b[0m\u001b[1;33m\u001b[0m\u001b[1;33m\u001b[0m\u001b[0m\n\u001b[1;32m--> 336\u001b[1;33m                 criterion = CRITERIA_REG[self.criterion](self.n_outputs_,\n\u001b[0m\u001b[0;32m    337\u001b[0m                                                          n_samples)\n\u001b[0;32m    338\u001b[0m \u001b[1;33m\u001b[0m\u001b[0m\n",
      "\u001b[1;31mKeyError\u001b[0m: 'gini'"
     ]
    }
   ],
   "source": [
    "CV_rfr = GridSearchCV(estimator=rfr1, param_grid=param_grid, cv= 5)\n",
    "CV_rfr.fit(X_train, y_train)"
   ]
  },
  {
   "cell_type": "code",
   "execution_count": null,
   "metadata": {},
   "outputs": [],
   "source": [
    "CV_rfr.best_params_"
   ]
  },
  {
   "cell_type": "code",
   "execution_count": null,
   "metadata": {},
   "outputs": [],
   "source": [
    "rfr1=RandomForestRegressor(**CV_rfr.best_params_)\n",
    "rfr1.fit(X_train, y_train)"
   ]
  },
  {
   "cell_type": "code",
   "execution_count": 21,
   "metadata": {},
   "outputs": [],
   "source": [
    "y_hat_rf1 = rfr1.predict(X_test)"
   ]
  },
  {
   "cell_type": "code",
   "execution_count": 22,
   "metadata": {},
   "outputs": [
    {
     "output_type": "stream",
     "name": "stdout",
     "text": [
      "Accuracy for Random Forest on CV data:  0.8523145233440472\n"
     ]
    }
   ],
   "source": [
    "print(\"mae for Random Forest 1 on CV data: \",mean_absolute_error(y_test,y_hat_rf1))"
   ]
  },
  {
   "cell_type": "code",
   "execution_count": null,
   "metadata": {},
   "outputs": [],
   "source": [
    "mape1 = sum((y_test-y_hat_rf1).abs()\n",
    "                 .div(y_test)\n",
    "                 /len(y_hat_rf1)\n",
    "             )\n",
    "\n",
    "mape1"
   ]
  },
  {
   "source": [
    "# 2nd Grid Search ~ _RandomForest_"
   ],
   "cell_type": "markdown",
   "metadata": {}
  },
  {
   "cell_type": "code",
   "execution_count": 25,
   "metadata": {},
   "outputs": [],
   "source": [
    "rfr2 = RandomForestRegressor(n_jobs=-1,\n",
    "                            random_state=42,\n",
    "                            criterion='entropy')"
   ]
  },
  {
   "cell_type": "code",
   "execution_count": 26,
   "metadata": {},
   "outputs": [],
   "source": [
    "param_grid = { \n",
    "    #'n_estimators': [200, 500, 1000],\n",
    "    'max_features': ['sqrt', 'log2'],\n",
    "    #'max_depth' : [5,10,20,30],\n",
    "    #'criterion' :['gini', 'entropy']\n",
    "}"
   ]
  },
  {
   "cell_type": "code",
   "execution_count": null,
   "metadata": {},
   "outputs": [],
   "source": [
    "CV_rfr = GridSearchCV(estimator=rfr2, param_grid=param_grid, cv= 5)\n",
    "CV_rfc.fit(X_train, y_train)"
   ]
  },
  {
   "cell_type": "code",
   "execution_count": 27,
   "metadata": {},
   "outputs": [
    {
     "output_type": "execute_result",
     "data": {
      "text/plain": [
       "GridSearchCV(cv=5,\n",
       "             estimator=RandomForestClassifier(criterion='entropy', n_jobs=-1,\n",
       "                                              random_state=42),\n",
       "             param_grid={'max_depth': [20, 25, 30, 35],\n",
       "                         'n_estimators': [500, 750, 1000, 1250]})"
      ]
     },
     "metadata": {},
     "execution_count": 27
    }
   ],
   "source": [
    "CV_rfr.best_params_"
   ]
  },
  {
   "cell_type": "code",
   "execution_count": 30,
   "metadata": {},
   "outputs": [
    {
     "output_type": "execute_result",
     "data": {
      "text/plain": [
       "RandomForestClassifier(criterion='entropy', max_depth=35, n_estimators=1000,\n",
       "                       n_jobs=-1, random_state=42)"
      ]
     },
     "metadata": {},
     "execution_count": 30
    }
   ],
   "source": [
    "rfr2=RandomForestRegressor(**CV_rfr.best_params_)\n",
    "rfr2.fit(X_train, y_train)"
   ]
  },
  {
   "cell_type": "code",
   "execution_count": 31,
   "metadata": {},
   "outputs": [],
   "source": [
    "y_hat_rf2 = rfr2.predict(X_test)"
   ]
  },
  {
   "cell_type": "code",
   "execution_count": 32,
   "metadata": {},
   "outputs": [
    {
     "output_type": "stream",
     "name": "stdout",
     "text": [
      "Accuracy for Random Forest on CV data:  0.8578481725703304\n"
     ]
    }
   ],
   "source": [
    "print(\"mae for Random Forest 2 on CV data: \",mean_absolute_error(y_test,y_hat_rf2))"
   ]
  },
  {
   "cell_type": "code",
   "execution_count": null,
   "metadata": {},
   "outputs": [],
   "source": [
    "mape2 = sum((y_test-y_hat_rf2).abs()\n",
    "                 .div(y_test)\n",
    "                 /len(y_hat_rf2)\n",
    "             )\n",
    "\n",
    "mape2"
   ]
  },
  {
   "source": [
    "# 3rd Grid Search ~ RandomForest"
   ],
   "cell_type": "markdown",
   "metadata": {}
  },
  {
   "cell_type": "code",
   "execution_count": null,
   "metadata": {},
   "outputs": [],
   "source": [
    "rfr3 = RandomForestRegressor(n_jobs=-1,\n",
    "                            random_state=42,\n",
    "                            criterion='entropy',\n",
    "                            max_features = 'sqrt')"
   ]
  },
  {
   "cell_type": "code",
   "execution_count": null,
   "metadata": {},
   "outputs": [],
   "source": [
    "param_grid = { \n",
    "    'n_estimators': range(0, 200, 25),\n",
    "    #'max_features': ['sqrt', 'log2'],\n",
    "    #'max_depth' : [5,10,20,30],\n",
    "    #'criterion' :['gini', 'entropy']\n",
    "}"
   ]
  },
  {
   "cell_type": "code",
   "execution_count": null,
   "metadata": {},
   "outputs": [],
   "source": [
    "CV_rfr = GridSearchCV(estimator=rfr3, param_grid=param_grid, cv= 5)\n",
    "CV_rfc.fit(X_train, y_train)"
   ]
  },
  {
   "cell_type": "code",
   "execution_count": null,
   "metadata": {},
   "outputs": [],
   "source": [
    "CV_rfr.best_params_"
   ]
  },
  {
   "cell_type": "code",
   "execution_count": null,
   "metadata": {},
   "outputs": [],
   "source": [
    "rfr3=RandomForestRegressor(**CV_rfr.best_params_)\n",
    "rfr3.fit(X_train, y_train)"
   ]
  },
  {
   "cell_type": "code",
   "execution_count": null,
   "metadata": {},
   "outputs": [],
   "source": [
    "y_hat_rf3 = rfr3.predict(X_test)"
   ]
  },
  {
   "cell_type": "code",
   "execution_count": null,
   "metadata": {},
   "outputs": [],
   "source": [
    "print(\"mae for Random Forest 3 on CV data: \",mean_absolute_error(y_test,y_hat_rf3))"
   ]
  },
  {
   "cell_type": "code",
   "execution_count": null,
   "metadata": {},
   "outputs": [],
   "source": [
    "mape3 = sum((y_test-y_hat_rf3).abs()\n",
    "                 .div(y_test)\n",
    "                 /len(y_hat_rf3)\n",
    "             )\n",
    "\n",
    "mape3"
   ]
  },
  {
   "source": [
    "## 4th Grid Search ~ RandomForest"
   ],
   "cell_type": "markdown",
   "metadata": {}
  },
  {
   "cell_type": "code",
   "execution_count": null,
   "metadata": {},
   "outputs": [],
   "source": [
    "rfr3 = RandomForestRegressor(n_jobs=-1,\n",
    "                            random_state=42,\n",
    "                            criterion='entropy',\n",
    "                            max_features = 'sqrt'\n",
    "                            n_estimators = 0 )"
   ]
  },
  {
   "cell_type": "code",
   "execution_count": null,
   "metadata": {},
   "outputs": [],
   "source": [
    "param_grid = { \n",
    "    #'n_estimators': range(0, 200, 25),\n",
    "    #'max_features': ['sqrt', 'log2'],\n",
    "    'max_depth' : range(0, 100, 20),\n",
    "    #'criterion' :['gini', 'entropy']\n",
    "}"
   ]
  },
  {
   "cell_type": "code",
   "execution_count": null,
   "metadata": {},
   "outputs": [],
   "source": [
    "CV_rfr = GridSearchCV(estimator=rfr3, param_grid=param_grid, cv= 5)\n",
    "CV_rfc.fit(X_train, y_train)"
   ]
  },
  {
   "cell_type": "code",
   "execution_count": null,
   "metadata": {},
   "outputs": [],
   "source": [
    "CV_rfr.best_params_"
   ]
  },
  {
   "cell_type": "code",
   "execution_count": null,
   "metadata": {},
   "outputs": [],
   "source": [
    "rfr4=RandomForestRegressor(**CV_rfr.best_params_)\n",
    "rfr4.fit(X_train, y_train)"
   ]
  },
  {
   "cell_type": "code",
   "execution_count": null,
   "metadata": {},
   "outputs": [],
   "source": [
    "y_hat_rf4 = rfr4.predict(X_test)"
   ]
  },
  {
   "cell_type": "code",
   "execution_count": null,
   "metadata": {},
   "outputs": [],
   "source": [
    "print(\"mae for Random Forest 4 on CV data: \",mean_absolute_error(y_test,y_hat_rf4))"
   ]
  },
  {
   "cell_type": "code",
   "execution_count": null,
   "metadata": {},
   "outputs": [],
   "source": [
    "mape4 = sum((y_test-y_hat_rf4).abs()\n",
    "                 .div(y_test)\n",
    "                 /len(y_hat_rf4)\n",
    "             )\n",
    "\n",
    "mape4"
   ]
  },
  {
   "cell_type": "markdown",
   "metadata": {},
   "source": [
    "## Assessment"
   ]
  },
  {
   "cell_type": "code",
   "execution_count": 35,
   "metadata": {},
   "outputs": [
    {
     "output_type": "display_data",
     "data": {
      "text/plain": "<Figure size 720x432 with 1 Axes>",
      "image/svg+xml": "<?xml version=\"1.0\" encoding=\"utf-8\" standalone=\"no\"?>\r\n<!DOCTYPE svg PUBLIC \"-//W3C//DTD SVG 1.1//EN\"\r\n  \"http://www.w3.org/Graphics/SVG/1.1/DTD/svg11.dtd\">\r\n<!-- Created with matplotlib (https://matplotlib.org/) -->\r\n<svg height=\"397.88pt\" version=\"1.1\" viewBox=\"0 0 617.967969 397.88\" width=\"617.967969pt\" xmlns=\"http://www.w3.org/2000/svg\" xmlns:xlink=\"http://www.w3.org/1999/xlink\">\r\n <metadata>\r\n  <rdf:RDF xmlns:cc=\"http://creativecommons.org/ns#\" xmlns:dc=\"http://purl.org/dc/elements/1.1/\" xmlns:rdf=\"http://www.w3.org/1999/02/22-rdf-syntax-ns#\">\r\n   <cc:Work>\r\n    <dc:type rdf:resource=\"http://purl.org/dc/dcmitype/StillImage\"/>\r\n    <dc:date>2021-01-23T07:24:46.361818</dc:date>\r\n    <dc:format>image/svg+xml</dc:format>\r\n    <dc:creator>\r\n     <cc:Agent>\r\n      <dc:title>Matplotlib v3.3.3, https://matplotlib.org/</dc:title>\r\n     </cc:Agent>\r\n    </dc:creator>\r\n   </cc:Work>\r\n  </rdf:RDF>\r\n </metadata>\r\n <defs>\r\n  <style type=\"text/css\">*{stroke-linecap:butt;stroke-linejoin:round;}</style>\r\n </defs>\r\n <g id=\"figure_1\">\r\n  <g id=\"patch_1\">\r\n   <path d=\"M 0 397.88 \r\nL 617.967969 397.88 \r\nL 617.967969 0 \r\nL 0 0 \r\nz\r\n\" style=\"fill:#ffffff;\"/>\r\n  </g>\r\n  <g id=\"axes_1\">\r\n   <g id=\"patch_2\">\r\n    <path d=\"M 52.767969 352.244062 \r\nL 610.767969 352.244062 \r\nL 610.767969 26.084062 \r\nL 52.767969 26.084062 \r\nz\r\n\" style=\"fill:#eaeaf2;\"/>\r\n   </g>\r\n   <g id=\"matplotlib.axis_1\">\r\n    <g id=\"xtick_1\">\r\n     <g id=\"line2d_1\">\r\n      <path clip-path=\"url(#p5dd203cae9)\" d=\"M 78.131605 352.244062 \r\nL 78.131605 26.084062 \r\n\" style=\"fill:none;stroke:#ffffff;stroke-linecap:round;stroke-width:0.8;\"/>\r\n     </g>\r\n     <g id=\"text_1\">\r\n      <!-- 0.0 -->\r\n      <g style=\"fill:#262626;\" transform=\"translate(67.706605 369.980781)scale(0.15 -0.15)\">\r\n       <defs>\r\n        <path d=\"M 4.15625 35.296875 \r\nQ 4.15625 48 6.765625 55.734375 \r\nQ 9.375 63.484375 14.515625 67.671875 \r\nQ 19.671875 71.875 27.484375 71.875 \r\nQ 33.25 71.875 37.59375 69.546875 \r\nQ 41.9375 67.234375 44.765625 62.859375 \r\nQ 47.609375 58.5 49.21875 52.21875 \r\nQ 50.828125 45.953125 50.828125 35.296875 \r\nQ 50.828125 22.703125 48.234375 14.96875 \r\nQ 45.65625 7.234375 40.5 3 \r\nQ 35.359375 -1.21875 27.484375 -1.21875 \r\nQ 17.140625 -1.21875 11.234375 6.203125 \r\nQ 4.15625 15.140625 4.15625 35.296875 \r\nz\r\nM 13.1875 35.296875 \r\nQ 13.1875 17.671875 17.3125 11.828125 \r\nQ 21.4375 6 27.484375 6 \r\nQ 33.546875 6 37.671875 11.859375 \r\nQ 41.796875 17.71875 41.796875 35.296875 \r\nQ 41.796875 52.984375 37.671875 58.78125 \r\nQ 33.546875 64.59375 27.390625 64.59375 \r\nQ 21.34375 64.59375 17.71875 59.46875 \r\nQ 13.1875 52.9375 13.1875 35.296875 \r\nz\r\n\" id=\"ArialMT-48\"/>\r\n        <path d=\"M 9.078125 0 \r\nL 9.078125 10.015625 \r\nL 19.09375 10.015625 \r\nL 19.09375 0 \r\nz\r\n\" id=\"ArialMT-46\"/>\r\n       </defs>\r\n       <use xlink:href=\"#ArialMT-48\"/>\r\n       <use x=\"55.615234\" xlink:href=\"#ArialMT-46\"/>\r\n       <use x=\"83.398438\" xlink:href=\"#ArialMT-48\"/>\r\n      </g>\r\n     </g>\r\n    </g>\r\n    <g id=\"xtick_2\">\r\n     <g id=\"line2d_2\">\r\n      <path clip-path=\"url(#p5dd203cae9)\" d=\"M 179.586151 352.244062 \r\nL 179.586151 26.084062 \r\n\" style=\"fill:none;stroke:#ffffff;stroke-linecap:round;stroke-width:0.8;\"/>\r\n     </g>\r\n     <g id=\"text_2\">\r\n      <!-- 0.2 -->\r\n      <g style=\"fill:#262626;\" transform=\"translate(169.161151 369.980781)scale(0.15 -0.15)\">\r\n       <defs>\r\n        <path d=\"M 50.34375 8.453125 \r\nL 50.34375 0 \r\nL 3.03125 0 \r\nQ 2.9375 3.171875 4.046875 6.109375 \r\nQ 5.859375 10.9375 9.828125 15.625 \r\nQ 13.8125 20.3125 21.34375 26.46875 \r\nQ 33.015625 36.03125 37.109375 41.625 \r\nQ 41.21875 47.21875 41.21875 52.203125 \r\nQ 41.21875 57.421875 37.46875 61 \r\nQ 33.734375 64.59375 27.734375 64.59375 \r\nQ 21.390625 64.59375 17.578125 60.78125 \r\nQ 13.765625 56.984375 13.71875 50.25 \r\nL 4.6875 51.171875 \r\nQ 5.609375 61.28125 11.65625 66.578125 \r\nQ 17.71875 71.875 27.9375 71.875 \r\nQ 38.234375 71.875 44.234375 66.15625 \r\nQ 50.25 60.453125 50.25 52 \r\nQ 50.25 47.703125 48.484375 43.546875 \r\nQ 46.734375 39.40625 42.65625 34.8125 \r\nQ 38.578125 30.21875 29.109375 22.21875 \r\nQ 21.1875 15.578125 18.9375 13.203125 \r\nQ 16.703125 10.84375 15.234375 8.453125 \r\nz\r\n\" id=\"ArialMT-50\"/>\r\n       </defs>\r\n       <use xlink:href=\"#ArialMT-48\"/>\r\n       <use x=\"55.615234\" xlink:href=\"#ArialMT-46\"/>\r\n       <use x=\"83.398438\" xlink:href=\"#ArialMT-50\"/>\r\n      </g>\r\n     </g>\r\n    </g>\r\n    <g id=\"xtick_3\">\r\n     <g id=\"line2d_3\">\r\n      <path clip-path=\"url(#p5dd203cae9)\" d=\"M 281.040696 352.244062 \r\nL 281.040696 26.084062 \r\n\" style=\"fill:none;stroke:#ffffff;stroke-linecap:round;stroke-width:0.8;\"/>\r\n     </g>\r\n     <g id=\"text_3\">\r\n      <!-- 0.4 -->\r\n      <g style=\"fill:#262626;\" transform=\"translate(270.615696 369.980781)scale(0.15 -0.15)\">\r\n       <defs>\r\n        <path d=\"M 32.328125 0 \r\nL 32.328125 17.140625 \r\nL 1.265625 17.140625 \r\nL 1.265625 25.203125 \r\nL 33.9375 71.578125 \r\nL 41.109375 71.578125 \r\nL 41.109375 25.203125 \r\nL 50.78125 25.203125 \r\nL 50.78125 17.140625 \r\nL 41.109375 17.140625 \r\nL 41.109375 0 \r\nz\r\nM 32.328125 25.203125 \r\nL 32.328125 57.46875 \r\nL 9.90625 25.203125 \r\nz\r\n\" id=\"ArialMT-52\"/>\r\n       </defs>\r\n       <use xlink:href=\"#ArialMT-48\"/>\r\n       <use x=\"55.615234\" xlink:href=\"#ArialMT-46\"/>\r\n       <use x=\"83.398438\" xlink:href=\"#ArialMT-52\"/>\r\n      </g>\r\n     </g>\r\n    </g>\r\n    <g id=\"xtick_4\">\r\n     <g id=\"line2d_4\">\r\n      <path clip-path=\"url(#p5dd203cae9)\" d=\"M 382.495241 352.244062 \r\nL 382.495241 26.084062 \r\n\" style=\"fill:none;stroke:#ffffff;stroke-linecap:round;stroke-width:0.8;\"/>\r\n     </g>\r\n     <g id=\"text_4\">\r\n      <!-- 0.6 -->\r\n      <g style=\"fill:#262626;\" transform=\"translate(372.070241 369.980781)scale(0.15 -0.15)\">\r\n       <defs>\r\n        <path d=\"M 49.75 54.046875 \r\nL 41.015625 53.375 \r\nQ 39.84375 58.546875 37.703125 60.890625 \r\nQ 34.125 64.65625 28.90625 64.65625 \r\nQ 24.703125 64.65625 21.53125 62.3125 \r\nQ 17.390625 59.28125 14.984375 53.46875 \r\nQ 12.59375 47.65625 12.5 36.921875 \r\nQ 15.671875 41.75 20.265625 44.09375 \r\nQ 24.859375 46.4375 29.890625 46.4375 \r\nQ 38.671875 46.4375 44.84375 39.96875 \r\nQ 51.03125 33.5 51.03125 23.25 \r\nQ 51.03125 16.5 48.125 10.71875 \r\nQ 45.21875 4.9375 40.140625 1.859375 \r\nQ 35.0625 -1.21875 28.609375 -1.21875 \r\nQ 17.625 -1.21875 10.6875 6.859375 \r\nQ 3.765625 14.9375 3.765625 33.5 \r\nQ 3.765625 54.25 11.421875 63.671875 \r\nQ 18.109375 71.875 29.4375 71.875 \r\nQ 37.890625 71.875 43.28125 67.140625 \r\nQ 48.6875 62.40625 49.75 54.046875 \r\nz\r\nM 13.875 23.1875 \r\nQ 13.875 18.65625 15.796875 14.5 \r\nQ 17.71875 10.359375 21.1875 8.171875 \r\nQ 24.65625 6 28.46875 6 \r\nQ 34.03125 6 38.03125 10.484375 \r\nQ 42.046875 14.984375 42.046875 22.703125 \r\nQ 42.046875 30.125 38.078125 34.390625 \r\nQ 34.125 38.671875 28.125 38.671875 \r\nQ 22.171875 38.671875 18.015625 34.390625 \r\nQ 13.875 30.125 13.875 23.1875 \r\nz\r\n\" id=\"ArialMT-54\"/>\r\n       </defs>\r\n       <use xlink:href=\"#ArialMT-48\"/>\r\n       <use x=\"55.615234\" xlink:href=\"#ArialMT-46\"/>\r\n       <use x=\"83.398438\" xlink:href=\"#ArialMT-54\"/>\r\n      </g>\r\n     </g>\r\n    </g>\r\n    <g id=\"xtick_5\">\r\n     <g id=\"line2d_5\">\r\n      <path clip-path=\"url(#p5dd203cae9)\" d=\"M 483.949787 352.244062 \r\nL 483.949787 26.084062 \r\n\" style=\"fill:none;stroke:#ffffff;stroke-linecap:round;stroke-width:0.8;\"/>\r\n     </g>\r\n     <g id=\"text_5\">\r\n      <!-- 0.8 -->\r\n      <g style=\"fill:#262626;\" transform=\"translate(473.524787 369.980781)scale(0.15 -0.15)\">\r\n       <defs>\r\n        <path d=\"M 17.671875 38.8125 \r\nQ 12.203125 40.828125 9.5625 44.53125 \r\nQ 6.9375 48.25 6.9375 53.421875 \r\nQ 6.9375 61.234375 12.546875 66.546875 \r\nQ 18.171875 71.875 27.484375 71.875 \r\nQ 36.859375 71.875 42.578125 66.421875 \r\nQ 48.296875 60.984375 48.296875 53.171875 \r\nQ 48.296875 48.1875 45.671875 44.5 \r\nQ 43.0625 40.828125 37.75 38.8125 \r\nQ 44.34375 36.671875 47.78125 31.875 \r\nQ 51.21875 27.09375 51.21875 20.453125 \r\nQ 51.21875 11.28125 44.71875 5.03125 \r\nQ 38.234375 -1.21875 27.640625 -1.21875 \r\nQ 17.046875 -1.21875 10.546875 5.046875 \r\nQ 4.046875 11.328125 4.046875 20.703125 \r\nQ 4.046875 27.6875 7.59375 32.390625 \r\nQ 11.140625 37.109375 17.671875 38.8125 \r\nz\r\nM 15.921875 53.71875 \r\nQ 15.921875 48.640625 19.1875 45.40625 \r\nQ 22.46875 42.1875 27.6875 42.1875 \r\nQ 32.765625 42.1875 36.015625 45.375 \r\nQ 39.265625 48.578125 39.265625 53.21875 \r\nQ 39.265625 58.0625 35.90625 61.359375 \r\nQ 32.5625 64.65625 27.59375 64.65625 \r\nQ 22.5625 64.65625 19.234375 61.421875 \r\nQ 15.921875 58.203125 15.921875 53.71875 \r\nz\r\nM 13.09375 20.65625 \r\nQ 13.09375 16.890625 14.875 13.375 \r\nQ 16.65625 9.859375 20.171875 7.921875 \r\nQ 23.6875 6 27.734375 6 \r\nQ 34.03125 6 38.125 10.046875 \r\nQ 42.234375 14.109375 42.234375 20.359375 \r\nQ 42.234375 26.703125 38.015625 30.859375 \r\nQ 33.796875 35.015625 27.4375 35.015625 \r\nQ 21.234375 35.015625 17.15625 30.90625 \r\nQ 13.09375 26.8125 13.09375 20.65625 \r\nz\r\n\" id=\"ArialMT-56\"/>\r\n       </defs>\r\n       <use xlink:href=\"#ArialMT-48\"/>\r\n       <use x=\"55.615234\" xlink:href=\"#ArialMT-46\"/>\r\n       <use x=\"83.398438\" xlink:href=\"#ArialMT-56\"/>\r\n      </g>\r\n     </g>\r\n    </g>\r\n    <g id=\"xtick_6\">\r\n     <g id=\"line2d_6\">\r\n      <path clip-path=\"url(#p5dd203cae9)\" d=\"M 585.404332 352.244062 \r\nL 585.404332 26.084062 \r\n\" style=\"fill:none;stroke:#ffffff;stroke-linecap:round;stroke-width:0.8;\"/>\r\n     </g>\r\n     <g id=\"text_6\">\r\n      <!-- 1.0 -->\r\n      <g style=\"fill:#262626;\" transform=\"translate(574.979332 369.980781)scale(0.15 -0.15)\">\r\n       <defs>\r\n        <path d=\"M 37.25 0 \r\nL 28.46875 0 \r\nL 28.46875 56 \r\nQ 25.296875 52.984375 20.140625 49.953125 \r\nQ 14.984375 46.921875 10.890625 45.40625 \r\nL 10.890625 53.90625 \r\nQ 18.265625 57.375 23.78125 62.296875 \r\nQ 29.296875 67.234375 31.59375 71.875 \r\nL 37.25 71.875 \r\nz\r\n\" id=\"ArialMT-49\"/>\r\n       </defs>\r\n       <use xlink:href=\"#ArialMT-49\"/>\r\n       <use x=\"55.615234\" xlink:href=\"#ArialMT-46\"/>\r\n       <use x=\"83.398438\" xlink:href=\"#ArialMT-48\"/>\r\n      </g>\r\n     </g>\r\n    </g>\r\n    <g id=\"text_7\">\r\n     <!-- False Positive Rate -->\r\n     <g style=\"fill:#262626;\" transform=\"translate(267.160156 387.69875)scale(0.15 -0.15)\">\r\n      <defs>\r\n       <path d=\"M 8.203125 0 \r\nL 8.203125 71.578125 \r\nL 56.5 71.578125 \r\nL 56.5 63.140625 \r\nL 17.671875 63.140625 \r\nL 17.671875 40.96875 \r\nL 51.265625 40.96875 \r\nL 51.265625 32.515625 \r\nL 17.671875 32.515625 \r\nL 17.671875 0 \r\nz\r\n\" id=\"ArialMT-70\"/>\r\n       <path d=\"M 40.4375 6.390625 \r\nQ 35.546875 2.25 31.03125 0.53125 \r\nQ 26.515625 -1.171875 21.34375 -1.171875 \r\nQ 12.796875 -1.171875 8.203125 3 \r\nQ 3.609375 7.171875 3.609375 13.671875 \r\nQ 3.609375 17.484375 5.34375 20.625 \r\nQ 7.078125 23.78125 9.890625 25.6875 \r\nQ 12.703125 27.59375 16.21875 28.5625 \r\nQ 18.796875 29.25 24.03125 29.890625 \r\nQ 34.671875 31.15625 39.703125 32.90625 \r\nQ 39.75 34.71875 39.75 35.203125 \r\nQ 39.75 40.578125 37.25 42.78125 \r\nQ 33.890625 45.75 27.25 45.75 \r\nQ 21.046875 45.75 18.09375 43.578125 \r\nQ 15.140625 41.40625 13.71875 35.890625 \r\nL 5.125 37.0625 \r\nQ 6.296875 42.578125 8.984375 45.96875 \r\nQ 11.671875 49.359375 16.75 51.1875 \r\nQ 21.828125 53.03125 28.515625 53.03125 \r\nQ 35.15625 53.03125 39.296875 51.46875 \r\nQ 43.453125 49.90625 45.40625 47.53125 \r\nQ 47.359375 45.171875 48.140625 41.546875 \r\nQ 48.578125 39.3125 48.578125 33.453125 \r\nL 48.578125 21.734375 \r\nQ 48.578125 9.46875 49.140625 6.21875 \r\nQ 49.703125 2.984375 51.375 0 \r\nL 42.1875 0 \r\nQ 40.828125 2.734375 40.4375 6.390625 \r\nz\r\nM 39.703125 26.03125 \r\nQ 34.90625 24.078125 25.34375 22.703125 \r\nQ 19.921875 21.921875 17.671875 20.9375 \r\nQ 15.4375 19.96875 14.203125 18.09375 \r\nQ 12.984375 16.21875 12.984375 13.921875 \r\nQ 12.984375 10.40625 15.640625 8.0625 \r\nQ 18.3125 5.71875 23.4375 5.71875 \r\nQ 28.515625 5.71875 32.46875 7.9375 \r\nQ 36.421875 10.15625 38.28125 14.015625 \r\nQ 39.703125 17 39.703125 22.796875 \r\nz\r\n\" id=\"ArialMT-97\"/>\r\n       <path d=\"M 6.390625 0 \r\nL 6.390625 71.578125 \r\nL 15.1875 71.578125 \r\nL 15.1875 0 \r\nz\r\n\" id=\"ArialMT-108\"/>\r\n       <path d=\"M 3.078125 15.484375 \r\nL 11.765625 16.84375 \r\nQ 12.5 11.625 15.84375 8.84375 \r\nQ 19.1875 6.0625 25.203125 6.0625 \r\nQ 31.25 6.0625 34.171875 8.515625 \r\nQ 37.109375 10.984375 37.109375 14.3125 \r\nQ 37.109375 17.28125 34.515625 19 \r\nQ 32.71875 20.171875 25.53125 21.96875 \r\nQ 15.875 24.421875 12.140625 26.203125 \r\nQ 8.40625 27.984375 6.46875 31.125 \r\nQ 4.546875 34.28125 4.546875 38.09375 \r\nQ 4.546875 41.546875 6.125 44.5 \r\nQ 7.71875 47.46875 10.453125 49.421875 \r\nQ 12.5 50.921875 16.03125 51.96875 \r\nQ 19.578125 53.03125 23.640625 53.03125 \r\nQ 29.734375 53.03125 34.34375 51.265625 \r\nQ 38.96875 49.515625 41.15625 46.5 \r\nQ 43.359375 43.5 44.1875 38.484375 \r\nL 35.59375 37.3125 \r\nQ 35.015625 41.3125 32.203125 43.546875 \r\nQ 29.390625 45.796875 24.265625 45.796875 \r\nQ 18.21875 45.796875 15.625 43.796875 \r\nQ 13.03125 41.796875 13.03125 39.109375 \r\nQ 13.03125 37.40625 14.109375 36.03125 \r\nQ 15.1875 34.625 17.484375 33.6875 \r\nQ 18.796875 33.203125 25.25 31.453125 \r\nQ 34.578125 28.953125 38.25 27.359375 \r\nQ 41.9375 25.78125 44.03125 22.75 \r\nQ 46.140625 19.734375 46.140625 15.234375 \r\nQ 46.140625 10.84375 43.578125 6.953125 \r\nQ 41.015625 3.078125 36.171875 0.953125 \r\nQ 31.34375 -1.171875 25.25 -1.171875 \r\nQ 15.140625 -1.171875 9.84375 3.03125 \r\nQ 4.546875 7.234375 3.078125 15.484375 \r\nz\r\n\" id=\"ArialMT-115\"/>\r\n       <path d=\"M 42.09375 16.703125 \r\nL 51.171875 15.578125 \r\nQ 49.03125 7.625 43.21875 3.21875 \r\nQ 37.40625 -1.171875 28.375 -1.171875 \r\nQ 17 -1.171875 10.328125 5.828125 \r\nQ 3.65625 12.84375 3.65625 25.484375 \r\nQ 3.65625 38.578125 10.390625 45.796875 \r\nQ 17.140625 53.03125 27.875 53.03125 \r\nQ 38.28125 53.03125 44.875 45.953125 \r\nQ 51.46875 38.875 51.46875 26.03125 \r\nQ 51.46875 25.25 51.421875 23.6875 \r\nL 12.75 23.6875 \r\nQ 13.234375 15.140625 17.578125 10.59375 \r\nQ 21.921875 6.0625 28.421875 6.0625 \r\nQ 33.25 6.0625 36.671875 8.59375 \r\nQ 40.09375 11.140625 42.09375 16.703125 \r\nz\r\nM 13.234375 30.90625 \r\nL 42.1875 30.90625 \r\nQ 41.609375 37.453125 38.875 40.71875 \r\nQ 34.671875 45.796875 27.984375 45.796875 \r\nQ 21.921875 45.796875 17.796875 41.75 \r\nQ 13.671875 37.703125 13.234375 30.90625 \r\nz\r\n\" id=\"ArialMT-101\"/>\r\n       <path id=\"ArialMT-32\"/>\r\n       <path d=\"M 7.71875 0 \r\nL 7.71875 71.578125 \r\nL 34.71875 71.578125 \r\nQ 41.84375 71.578125 45.609375 70.90625 \r\nQ 50.875 70.015625 54.4375 67.546875 \r\nQ 58.015625 65.09375 60.1875 60.640625 \r\nQ 62.359375 56.203125 62.359375 50.875 \r\nQ 62.359375 41.75 56.546875 35.421875 \r\nQ 50.734375 29.109375 35.546875 29.109375 \r\nL 17.1875 29.109375 \r\nL 17.1875 0 \r\nz\r\nM 17.1875 37.546875 \r\nL 35.6875 37.546875 \r\nQ 44.875 37.546875 48.734375 40.96875 \r\nQ 52.59375 44.390625 52.59375 50.59375 \r\nQ 52.59375 55.078125 50.3125 58.265625 \r\nQ 48.046875 61.46875 44.34375 62.5 \r\nQ 41.9375 63.140625 35.5 63.140625 \r\nL 17.1875 63.140625 \r\nz\r\n\" id=\"ArialMT-80\"/>\r\n       <path d=\"M 3.328125 25.921875 \r\nQ 3.328125 40.328125 11.328125 47.265625 \r\nQ 18.015625 53.03125 27.640625 53.03125 \r\nQ 38.328125 53.03125 45.109375 46.015625 \r\nQ 51.90625 39.015625 51.90625 26.65625 \r\nQ 51.90625 16.65625 48.90625 10.90625 \r\nQ 45.90625 5.171875 40.15625 2 \r\nQ 34.421875 -1.171875 27.640625 -1.171875 \r\nQ 16.75 -1.171875 10.03125 5.8125 \r\nQ 3.328125 12.796875 3.328125 25.921875 \r\nz\r\nM 12.359375 25.921875 \r\nQ 12.359375 15.96875 16.703125 11.015625 \r\nQ 21.046875 6.0625 27.640625 6.0625 \r\nQ 34.1875 6.0625 38.53125 11.03125 \r\nQ 42.875 16.015625 42.875 26.21875 \r\nQ 42.875 35.84375 38.5 40.796875 \r\nQ 34.125 45.75 27.640625 45.75 \r\nQ 21.046875 45.75 16.703125 40.8125 \r\nQ 12.359375 35.890625 12.359375 25.921875 \r\nz\r\n\" id=\"ArialMT-111\"/>\r\n       <path d=\"M 6.640625 61.46875 \r\nL 6.640625 71.578125 \r\nL 15.4375 71.578125 \r\nL 15.4375 61.46875 \r\nz\r\nM 6.640625 0 \r\nL 6.640625 51.859375 \r\nL 15.4375 51.859375 \r\nL 15.4375 0 \r\nz\r\n\" id=\"ArialMT-105\"/>\r\n       <path d=\"M 25.78125 7.859375 \r\nL 27.046875 0.09375 \r\nQ 23.34375 -0.6875 20.40625 -0.6875 \r\nQ 15.625 -0.6875 12.984375 0.828125 \r\nQ 10.359375 2.34375 9.28125 4.8125 \r\nQ 8.203125 7.28125 8.203125 15.1875 \r\nL 8.203125 45.015625 \r\nL 1.765625 45.015625 \r\nL 1.765625 51.859375 \r\nL 8.203125 51.859375 \r\nL 8.203125 64.703125 \r\nL 16.9375 69.96875 \r\nL 16.9375 51.859375 \r\nL 25.78125 51.859375 \r\nL 25.78125 45.015625 \r\nL 16.9375 45.015625 \r\nL 16.9375 14.703125 \r\nQ 16.9375 10.9375 17.40625 9.859375 \r\nQ 17.875 8.796875 18.921875 8.15625 \r\nQ 19.96875 7.515625 21.921875 7.515625 \r\nQ 23.390625 7.515625 25.78125 7.859375 \r\nz\r\n\" id=\"ArialMT-116\"/>\r\n       <path d=\"M 21 0 \r\nL 1.265625 51.859375 \r\nL 10.546875 51.859375 \r\nL 21.6875 20.796875 \r\nQ 23.484375 15.765625 25 10.359375 \r\nQ 26.171875 14.453125 28.265625 20.21875 \r\nL 39.796875 51.859375 \r\nL 48.828125 51.859375 \r\nL 29.203125 0 \r\nz\r\n\" id=\"ArialMT-118\"/>\r\n       <path d=\"M 7.859375 0 \r\nL 7.859375 71.578125 \r\nL 39.59375 71.578125 \r\nQ 49.171875 71.578125 54.140625 69.640625 \r\nQ 59.125 67.71875 62.109375 62.828125 \r\nQ 65.09375 57.953125 65.09375 52.046875 \r\nQ 65.09375 44.4375 60.15625 39.203125 \r\nQ 55.21875 33.984375 44.921875 32.5625 \r\nQ 48.6875 30.765625 50.640625 29 \r\nQ 54.78125 25.203125 58.5 19.484375 \r\nL 70.953125 0 \r\nL 59.03125 0 \r\nL 49.5625 14.890625 \r\nQ 45.40625 21.34375 42.71875 24.75 \r\nQ 40.046875 28.171875 37.921875 29.53125 \r\nQ 35.796875 30.90625 33.59375 31.453125 \r\nQ 31.984375 31.78125 28.328125 31.78125 \r\nL 17.328125 31.78125 \r\nL 17.328125 0 \r\nz\r\nM 17.328125 39.984375 \r\nL 37.703125 39.984375 \r\nQ 44.1875 39.984375 47.84375 41.328125 \r\nQ 51.515625 42.671875 53.421875 45.625 \r\nQ 55.328125 48.578125 55.328125 52.046875 \r\nQ 55.328125 57.125 51.640625 60.390625 \r\nQ 47.953125 63.671875 39.984375 63.671875 \r\nL 17.328125 63.671875 \r\nz\r\n\" id=\"ArialMT-82\"/>\r\n      </defs>\r\n      <use xlink:href=\"#ArialMT-70\"/>\r\n      <use x=\"61.083984\" xlink:href=\"#ArialMT-97\"/>\r\n      <use x=\"116.699219\" xlink:href=\"#ArialMT-108\"/>\r\n      <use x=\"138.916016\" xlink:href=\"#ArialMT-115\"/>\r\n      <use x=\"188.916016\" xlink:href=\"#ArialMT-101\"/>\r\n      <use x=\"244.53125\" xlink:href=\"#ArialMT-32\"/>\r\n      <use x=\"272.314453\" xlink:href=\"#ArialMT-80\"/>\r\n      <use x=\"339.013672\" xlink:href=\"#ArialMT-111\"/>\r\n      <use x=\"394.628906\" xlink:href=\"#ArialMT-115\"/>\r\n      <use x=\"444.628906\" xlink:href=\"#ArialMT-105\"/>\r\n      <use x=\"466.845703\" xlink:href=\"#ArialMT-116\"/>\r\n      <use x=\"494.628906\" xlink:href=\"#ArialMT-105\"/>\r\n      <use x=\"516.845703\" xlink:href=\"#ArialMT-118\"/>\r\n      <use x=\"566.845703\" xlink:href=\"#ArialMT-101\"/>\r\n      <use x=\"622.460938\" xlink:href=\"#ArialMT-32\"/>\r\n      <use x=\"650.244141\" xlink:href=\"#ArialMT-82\"/>\r\n      <use x=\"722.460938\" xlink:href=\"#ArialMT-97\"/>\r\n      <use x=\"778.076172\" xlink:href=\"#ArialMT-116\"/>\r\n      <use x=\"805.859375\" xlink:href=\"#ArialMT-101\"/>\r\n     </g>\r\n    </g>\r\n   </g>\r\n   <g id=\"matplotlib.axis_2\">\r\n    <g id=\"ytick_1\">\r\n     <g id=\"line2d_7\">\r\n      <path clip-path=\"url(#p5dd203cae9)\" d=\"M 52.767969 337.418608 \r\nL 610.767969 337.418608 \r\n\" style=\"fill:none;stroke:#ffffff;stroke-linecap:round;stroke-width:0.8;\"/>\r\n     </g>\r\n     <g id=\"text_8\">\r\n      <!-- 0.0 -->\r\n      <g style=\"fill:#262626;\" transform=\"translate(24.917969 342.786967)scale(0.15 -0.15)\">\r\n       <use xlink:href=\"#ArialMT-48\"/>\r\n       <use x=\"55.615234\" xlink:href=\"#ArialMT-46\"/>\r\n       <use x=\"83.398438\" xlink:href=\"#ArialMT-48\"/>\r\n      </g>\r\n     </g>\r\n    </g>\r\n    <g id=\"ytick_2\">\r\n     <g id=\"line2d_8\">\r\n      <path clip-path=\"url(#p5dd203cae9)\" d=\"M 52.767969 278.11679 \r\nL 610.767969 278.11679 \r\n\" style=\"fill:none;stroke:#ffffff;stroke-linecap:round;stroke-width:0.8;\"/>\r\n     </g>\r\n     <g id=\"text_9\">\r\n      <!-- 0.2 -->\r\n      <g style=\"fill:#262626;\" transform=\"translate(24.917969 283.485149)scale(0.15 -0.15)\">\r\n       <use xlink:href=\"#ArialMT-48\"/>\r\n       <use x=\"55.615234\" xlink:href=\"#ArialMT-46\"/>\r\n       <use x=\"83.398438\" xlink:href=\"#ArialMT-50\"/>\r\n      </g>\r\n     </g>\r\n    </g>\r\n    <g id=\"ytick_3\">\r\n     <g id=\"line2d_9\">\r\n      <path clip-path=\"url(#p5dd203cae9)\" d=\"M 52.767969 218.814972 \r\nL 610.767969 218.814972 \r\n\" style=\"fill:none;stroke:#ffffff;stroke-linecap:round;stroke-width:0.8;\"/>\r\n     </g>\r\n     <g id=\"text_10\">\r\n      <!-- 0.4 -->\r\n      <g style=\"fill:#262626;\" transform=\"translate(24.917969 224.183331)scale(0.15 -0.15)\">\r\n       <use xlink:href=\"#ArialMT-48\"/>\r\n       <use x=\"55.615234\" xlink:href=\"#ArialMT-46\"/>\r\n       <use x=\"83.398438\" xlink:href=\"#ArialMT-52\"/>\r\n      </g>\r\n     </g>\r\n    </g>\r\n    <g id=\"ytick_4\">\r\n     <g id=\"line2d_10\">\r\n      <path clip-path=\"url(#p5dd203cae9)\" d=\"M 52.767969 159.513153 \r\nL 610.767969 159.513153 \r\n\" style=\"fill:none;stroke:#ffffff;stroke-linecap:round;stroke-width:0.8;\"/>\r\n     </g>\r\n     <g id=\"text_11\">\r\n      <!-- 0.6 -->\r\n      <g style=\"fill:#262626;\" transform=\"translate(24.917969 164.881513)scale(0.15 -0.15)\">\r\n       <use xlink:href=\"#ArialMT-48\"/>\r\n       <use x=\"55.615234\" xlink:href=\"#ArialMT-46\"/>\r\n       <use x=\"83.398438\" xlink:href=\"#ArialMT-54\"/>\r\n      </g>\r\n     </g>\r\n    </g>\r\n    <g id=\"ytick_5\">\r\n     <g id=\"line2d_11\">\r\n      <path clip-path=\"url(#p5dd203cae9)\" d=\"M 52.767969 100.211335 \r\nL 610.767969 100.211335 \r\n\" style=\"fill:none;stroke:#ffffff;stroke-linecap:round;stroke-width:0.8;\"/>\r\n     </g>\r\n     <g id=\"text_12\">\r\n      <!-- 0.8 -->\r\n      <g style=\"fill:#262626;\" transform=\"translate(24.917969 105.579695)scale(0.15 -0.15)\">\r\n       <use xlink:href=\"#ArialMT-48\"/>\r\n       <use x=\"55.615234\" xlink:href=\"#ArialMT-46\"/>\r\n       <use x=\"83.398438\" xlink:href=\"#ArialMT-56\"/>\r\n      </g>\r\n     </g>\r\n    </g>\r\n    <g id=\"ytick_6\">\r\n     <g id=\"line2d_12\">\r\n      <path clip-path=\"url(#p5dd203cae9)\" d=\"M 52.767969 40.909517 \r\nL 610.767969 40.909517 \r\n\" style=\"fill:none;stroke:#ffffff;stroke-linecap:round;stroke-width:0.8;\"/>\r\n     </g>\r\n     <g id=\"text_13\">\r\n      <!-- 1.0 -->\r\n      <g style=\"fill:#262626;\" transform=\"translate(24.917969 46.277876)scale(0.15 -0.15)\">\r\n       <use xlink:href=\"#ArialMT-49\"/>\r\n       <use x=\"55.615234\" xlink:href=\"#ArialMT-46\"/>\r\n       <use x=\"83.398438\" xlink:href=\"#ArialMT-48\"/>\r\n      </g>\r\n     </g>\r\n    </g>\r\n    <g id=\"text_14\">\r\n     <!-- True Positive Rate -->\r\n     <g style=\"fill:#262626;\" transform=\"translate(17.936719 250.571484)rotate(-90)scale(0.15 -0.15)\">\r\n      <defs>\r\n       <path d=\"M 25.921875 0 \r\nL 25.921875 63.140625 \r\nL 2.34375 63.140625 \r\nL 2.34375 71.578125 \r\nL 59.078125 71.578125 \r\nL 59.078125 63.140625 \r\nL 35.40625 63.140625 \r\nL 35.40625 0 \r\nz\r\n\" id=\"ArialMT-84\"/>\r\n       <path d=\"M 6.5 0 \r\nL 6.5 51.859375 \r\nL 14.40625 51.859375 \r\nL 14.40625 44 \r\nQ 17.4375 49.515625 20 51.265625 \r\nQ 22.5625 53.03125 25.640625 53.03125 \r\nQ 30.078125 53.03125 34.671875 50.203125 \r\nL 31.640625 42.046875 \r\nQ 28.421875 43.953125 25.203125 43.953125 \r\nQ 22.3125 43.953125 20.015625 42.21875 \r\nQ 17.71875 40.484375 16.75 37.40625 \r\nQ 15.28125 32.71875 15.28125 27.15625 \r\nL 15.28125 0 \r\nz\r\n\" id=\"ArialMT-114\"/>\r\n       <path d=\"M 40.578125 0 \r\nL 40.578125 7.625 \r\nQ 34.515625 -1.171875 24.125 -1.171875 \r\nQ 19.53125 -1.171875 15.546875 0.578125 \r\nQ 11.578125 2.34375 9.640625 5 \r\nQ 7.71875 7.671875 6.9375 11.53125 \r\nQ 6.390625 14.109375 6.390625 19.734375 \r\nL 6.390625 51.859375 \r\nL 15.1875 51.859375 \r\nL 15.1875 23.09375 \r\nQ 15.1875 16.21875 15.71875 13.8125 \r\nQ 16.546875 10.359375 19.234375 8.375 \r\nQ 21.921875 6.390625 25.875 6.390625 \r\nQ 29.828125 6.390625 33.296875 8.421875 \r\nQ 36.765625 10.453125 38.203125 13.9375 \r\nQ 39.65625 17.4375 39.65625 24.078125 \r\nL 39.65625 51.859375 \r\nL 48.4375 51.859375 \r\nL 48.4375 0 \r\nz\r\n\" id=\"ArialMT-117\"/>\r\n      </defs>\r\n      <use xlink:href=\"#ArialMT-84\"/>\r\n      <use x=\"57.333984\" xlink:href=\"#ArialMT-114\"/>\r\n      <use x=\"90.634766\" xlink:href=\"#ArialMT-117\"/>\r\n      <use x=\"146.25\" xlink:href=\"#ArialMT-101\"/>\r\n      <use x=\"201.865234\" xlink:href=\"#ArialMT-32\"/>\r\n      <use x=\"229.648438\" xlink:href=\"#ArialMT-80\"/>\r\n      <use x=\"296.347656\" xlink:href=\"#ArialMT-111\"/>\r\n      <use x=\"351.962891\" xlink:href=\"#ArialMT-115\"/>\r\n      <use x=\"401.962891\" xlink:href=\"#ArialMT-105\"/>\r\n      <use x=\"424.179688\" xlink:href=\"#ArialMT-116\"/>\r\n      <use x=\"451.962891\" xlink:href=\"#ArialMT-105\"/>\r\n      <use x=\"474.179688\" xlink:href=\"#ArialMT-118\"/>\r\n      <use x=\"524.179688\" xlink:href=\"#ArialMT-101\"/>\r\n      <use x=\"579.794922\" xlink:href=\"#ArialMT-32\"/>\r\n      <use x=\"607.578125\" xlink:href=\"#ArialMT-82\"/>\r\n      <use x=\"679.794922\" xlink:href=\"#ArialMT-97\"/>\r\n      <use x=\"735.410156\" xlink:href=\"#ArialMT-116\"/>\r\n      <use x=\"763.193359\" xlink:href=\"#ArialMT-101\"/>\r\n     </g>\r\n    </g>\r\n   </g>\r\n   <g id=\"line2d_13\">\r\n    <path clip-path=\"url(#p5dd203cae9)\" d=\"M 78.131605 337.418608 \r\nL 585.404332 40.909517 \r\n\" style=\"fill:none;stroke:#bfbf00;stroke-dasharray:7.4,3.2;stroke-dashoffset:0;stroke-opacity:0.8;stroke-width:2;\"/>\r\n   </g>\r\n   <g id=\"line2d_14\">\r\n    <path clip-path=\"url(#p5dd203cae9)\" d=\"M 78.131605 337.418608 \r\nL 115.033719 116.111185 \r\nL 585.404332 40.909517 \r\n\" style=\"fill:none;stroke:#1f77b4;stroke-linecap:round;stroke-width:1.5;\"/>\r\n   </g>\r\n   <g id=\"line2d_15\">\r\n    <path clip-path=\"url(#p5dd203cae9)\" d=\"M 78.131605 337.418608 \r\nL 113.258896 118.434528 \r\nL 585.404332 40.909517 \r\n\" style=\"fill:none;stroke:#ff7f0e;stroke-linecap:round;stroke-width:1.5;\"/>\r\n   </g>\r\n   <g id=\"line2d_16\">\r\n    <path clip-path=\"url(#p5dd203cae9)\" d=\"M 78.131605 337.418608 \r\nL 112.591563 114.979609 \r\nL 585.404332 40.909517 \r\n\" style=\"fill:none;stroke:#2ca02c;stroke-linecap:round;stroke-width:1.5;\"/>\r\n   </g>\r\n   <g id=\"patch_3\">\r\n    <path d=\"M 52.767969 352.244062 \r\nL 52.767969 26.084063 \r\n\" style=\"fill:none;stroke:#ffffff;stroke-linecap:square;stroke-linejoin:miter;stroke-width:0.8;\"/>\r\n   </g>\r\n   <g id=\"patch_4\">\r\n    <path d=\"M 610.767969 352.244062 \r\nL 610.767969 26.084063 \r\n\" style=\"fill:none;stroke:#ffffff;stroke-linecap:square;stroke-linejoin:miter;stroke-width:0.8;\"/>\r\n   </g>\r\n   <g id=\"patch_5\">\r\n    <path d=\"M 52.767969 352.244062 \r\nL 610.767969 352.244062 \r\n\" style=\"fill:none;stroke:#ffffff;stroke-linecap:square;stroke-linejoin:miter;stroke-width:0.8;\"/>\r\n   </g>\r\n   <g id=\"patch_6\">\r\n    <path d=\"M 52.767969 26.084062 \r\nL 610.767969 26.084062 \r\n\" style=\"fill:none;stroke:#ffffff;stroke-linecap:square;stroke-linejoin:miter;stroke-width:0.8;\"/>\r\n   </g>\r\n   <g id=\"text_15\">\r\n    <!-- ROC Curves -->\r\n    <g style=\"fill:#262626;\" transform=\"translate(280.761875 20.084062)scale(0.18 -0.18)\">\r\n     <defs>\r\n      <path d=\"M 4.828125 34.859375 \r\nQ 4.828125 52.6875 14.390625 62.765625 \r\nQ 23.96875 72.859375 39.109375 72.859375 \r\nQ 49.03125 72.859375 56.984375 68.109375 \r\nQ 64.9375 63.375 69.109375 54.90625 \r\nQ 73.296875 46.4375 73.296875 35.6875 \r\nQ 73.296875 24.8125 68.890625 16.21875 \r\nQ 64.5 7.625 56.4375 3.203125 \r\nQ 48.390625 -1.21875 39.0625 -1.21875 \r\nQ 28.953125 -1.21875 20.984375 3.65625 \r\nQ 13.03125 8.546875 8.921875 16.984375 \r\nQ 4.828125 25.4375 4.828125 34.859375 \r\nz\r\nM 14.59375 34.71875 \r\nQ 14.59375 21.78125 21.546875 14.328125 \r\nQ 28.515625 6.890625 39.015625 6.890625 \r\nQ 49.703125 6.890625 56.609375 14.40625 \r\nQ 63.53125 21.921875 63.53125 35.75 \r\nQ 63.53125 44.484375 60.578125 51 \r\nQ 57.625 57.515625 51.921875 61.109375 \r\nQ 46.234375 64.703125 39.15625 64.703125 \r\nQ 29.109375 64.703125 21.84375 57.78125 \r\nQ 14.59375 50.875 14.59375 34.71875 \r\nz\r\n\" id=\"ArialMT-79\"/>\r\n      <path d=\"M 58.796875 25.09375 \r\nL 68.265625 22.703125 \r\nQ 65.28125 11.03125 57.546875 4.90625 \r\nQ 49.8125 -1.21875 38.625 -1.21875 \r\nQ 27.046875 -1.21875 19.796875 3.484375 \r\nQ 12.546875 8.203125 8.765625 17.140625 \r\nQ 4.984375 26.078125 4.984375 36.328125 \r\nQ 4.984375 47.515625 9.25 55.828125 \r\nQ 13.53125 64.15625 21.40625 68.46875 \r\nQ 29.296875 72.796875 38.765625 72.796875 \r\nQ 49.515625 72.796875 56.828125 67.328125 \r\nQ 64.15625 61.859375 67.046875 51.953125 \r\nL 57.71875 49.75 \r\nQ 55.21875 57.5625 50.484375 61.125 \r\nQ 45.75 64.703125 38.578125 64.703125 \r\nQ 30.328125 64.703125 24.78125 60.734375 \r\nQ 19.234375 56.78125 16.984375 50.109375 \r\nQ 14.75 43.453125 14.75 36.375 \r\nQ 14.75 27.25 17.40625 20.4375 \r\nQ 20.0625 13.625 25.671875 10.25 \r\nQ 31.296875 6.890625 37.84375 6.890625 \r\nQ 45.796875 6.890625 51.3125 11.46875 \r\nQ 56.84375 16.0625 58.796875 25.09375 \r\nz\r\n\" id=\"ArialMT-67\"/>\r\n     </defs>\r\n     <use xlink:href=\"#ArialMT-82\"/>\r\n     <use x=\"72.216797\" xlink:href=\"#ArialMT-79\"/>\r\n     <use x=\"150\" xlink:href=\"#ArialMT-67\"/>\r\n     <use x=\"222.216797\" xlink:href=\"#ArialMT-32\"/>\r\n     <use x=\"250\" xlink:href=\"#ArialMT-67\"/>\r\n     <use x=\"322.216797\" xlink:href=\"#ArialMT-117\"/>\r\n     <use x=\"377.832031\" xlink:href=\"#ArialMT-114\"/>\r\n     <use x=\"411.132812\" xlink:href=\"#ArialMT-118\"/>\r\n     <use x=\"461.132812\" xlink:href=\"#ArialMT-101\"/>\r\n     <use x=\"516.748047\" xlink:href=\"#ArialMT-115\"/>\r\n    </g>\r\n   </g>\r\n   <g id=\"legend_1\">\r\n    <g id=\"patch_7\">\r\n     <path d=\"M 192.729687 344.744062 \r\nL 600.267969 344.744062 \r\nQ 603.267969 344.744062 603.267969 341.744062 \r\nL 603.267969 258.013594 \r\nQ 603.267969 255.013594 600.267969 255.013594 \r\nL 192.729687 255.013594 \r\nQ 189.729687 255.013594 189.729687 258.013594 \r\nL 189.729687 341.744062 \r\nQ 189.729687 344.744062 192.729687 344.744062 \r\nz\r\n\" style=\"fill:#eaeaf2;opacity:0.8;stroke:#cccccc;stroke-linejoin:miter;\"/>\r\n    </g>\r\n    <g id=\"line2d_17\">\r\n     <path d=\"M 195.729687 266.683125 \r\nL 225.729687 266.683125 \r\n\" style=\"fill:none;stroke:#bfbf00;stroke-dasharray:7.4,3.2;stroke-dashoffset:0;stroke-opacity:0.8;stroke-width:2;\"/>\r\n    </g>\r\n    <g id=\"line2d_18\"/>\r\n    <g id=\"text_16\">\r\n     <!-- Guess Randomly -->\r\n     <g style=\"fill:#262626;\" transform=\"translate(237.729687 271.933125)scale(0.15 -0.15)\">\r\n      <defs>\r\n       <path d=\"M 41.21875 28.078125 \r\nL 41.21875 36.46875 \r\nL 71.53125 36.53125 \r\nL 71.53125 9.96875 \r\nQ 64.546875 4.390625 57.125 1.578125 \r\nQ 49.703125 -1.21875 41.890625 -1.21875 \r\nQ 31.34375 -1.21875 22.71875 3.296875 \r\nQ 14.109375 7.8125 9.71875 16.359375 \r\nQ 5.328125 24.90625 5.328125 35.453125 \r\nQ 5.328125 45.90625 9.6875 54.953125 \r\nQ 14.0625 64.015625 22.265625 68.40625 \r\nQ 30.46875 72.796875 41.15625 72.796875 \r\nQ 48.921875 72.796875 55.1875 70.28125 \r\nQ 61.46875 67.78125 65.03125 63.28125 \r\nQ 68.609375 58.796875 70.453125 51.5625 \r\nL 61.921875 49.21875 \r\nQ 60.296875 54.6875 57.90625 57.8125 \r\nQ 55.515625 60.9375 51.0625 62.8125 \r\nQ 46.625 64.703125 41.21875 64.703125 \r\nQ 34.71875 64.703125 29.984375 62.71875 \r\nQ 25.25 60.75 22.34375 57.515625 \r\nQ 19.4375 54.296875 17.828125 50.4375 \r\nQ 15.09375 43.796875 15.09375 36.03125 \r\nQ 15.09375 26.46875 18.390625 20.015625 \r\nQ 21.6875 13.578125 27.984375 10.453125 \r\nQ 34.28125 7.328125 41.359375 7.328125 \r\nQ 47.515625 7.328125 53.375 9.6875 \r\nQ 59.234375 12.0625 62.25 14.75 \r\nL 62.25 28.078125 \r\nz\r\n\" id=\"ArialMT-71\"/>\r\n       <path d=\"M 6.59375 0 \r\nL 6.59375 51.859375 \r\nL 14.5 51.859375 \r\nL 14.5 44.484375 \r\nQ 20.21875 53.03125 31 53.03125 \r\nQ 35.6875 53.03125 39.625 51.34375 \r\nQ 43.5625 49.65625 45.515625 46.921875 \r\nQ 47.46875 44.1875 48.25 40.4375 \r\nQ 48.734375 37.984375 48.734375 31.890625 \r\nL 48.734375 0 \r\nL 39.9375 0 \r\nL 39.9375 31.546875 \r\nQ 39.9375 36.921875 38.90625 39.578125 \r\nQ 37.890625 42.234375 35.28125 43.8125 \r\nQ 32.671875 45.40625 29.15625 45.40625 \r\nQ 23.53125 45.40625 19.453125 41.84375 \r\nQ 15.375 38.28125 15.375 28.328125 \r\nL 15.375 0 \r\nz\r\n\" id=\"ArialMT-110\"/>\r\n       <path d=\"M 40.234375 0 \r\nL 40.234375 6.546875 \r\nQ 35.296875 -1.171875 25.734375 -1.171875 \r\nQ 19.53125 -1.171875 14.328125 2.25 \r\nQ 9.125 5.671875 6.265625 11.796875 \r\nQ 3.421875 17.921875 3.421875 25.875 \r\nQ 3.421875 33.640625 6 39.96875 \r\nQ 8.59375 46.296875 13.765625 49.65625 \r\nQ 18.953125 53.03125 25.34375 53.03125 \r\nQ 30.03125 53.03125 33.6875 51.046875 \r\nQ 37.359375 49.078125 39.65625 45.90625 \r\nL 39.65625 71.578125 \r\nL 48.390625 71.578125 \r\nL 48.390625 0 \r\nz\r\nM 12.453125 25.875 \r\nQ 12.453125 15.921875 16.640625 10.984375 \r\nQ 20.84375 6.0625 26.5625 6.0625 \r\nQ 32.328125 6.0625 36.34375 10.765625 \r\nQ 40.375 15.484375 40.375 25.140625 \r\nQ 40.375 35.796875 36.265625 40.765625 \r\nQ 32.171875 45.75 26.171875 45.75 \r\nQ 20.3125 45.75 16.375 40.96875 \r\nQ 12.453125 36.1875 12.453125 25.875 \r\nz\r\n\" id=\"ArialMT-100\"/>\r\n       <path d=\"M 6.59375 0 \r\nL 6.59375 51.859375 \r\nL 14.453125 51.859375 \r\nL 14.453125 44.578125 \r\nQ 16.890625 48.390625 20.9375 50.703125 \r\nQ 25 53.03125 30.171875 53.03125 \r\nQ 35.9375 53.03125 39.625 50.640625 \r\nQ 43.3125 48.25 44.828125 43.953125 \r\nQ 50.984375 53.03125 60.84375 53.03125 \r\nQ 68.5625 53.03125 72.703125 48.75 \r\nQ 76.859375 44.484375 76.859375 35.59375 \r\nL 76.859375 0 \r\nL 68.109375 0 \r\nL 68.109375 32.671875 \r\nQ 68.109375 37.9375 67.25 40.25 \r\nQ 66.40625 42.578125 64.15625 43.984375 \r\nQ 61.921875 45.40625 58.890625 45.40625 \r\nQ 53.421875 45.40625 49.796875 41.765625 \r\nQ 46.1875 38.140625 46.1875 30.125 \r\nL 46.1875 0 \r\nL 37.40625 0 \r\nL 37.40625 33.6875 \r\nQ 37.40625 39.546875 35.25 42.46875 \r\nQ 33.109375 45.40625 28.21875 45.40625 \r\nQ 24.515625 45.40625 21.359375 43.453125 \r\nQ 18.21875 41.5 16.796875 37.734375 \r\nQ 15.375 33.984375 15.375 26.90625 \r\nL 15.375 0 \r\nz\r\n\" id=\"ArialMT-109\"/>\r\n       <path d=\"M 6.203125 -19.96875 \r\nL 5.21875 -11.71875 \r\nQ 8.109375 -12.5 10.25 -12.5 \r\nQ 13.1875 -12.5 14.9375 -11.515625 \r\nQ 16.703125 -10.546875 17.828125 -8.796875 \r\nQ 18.65625 -7.46875 20.515625 -2.25 \r\nQ 20.75 -1.515625 21.296875 -0.09375 \r\nL 1.609375 51.859375 \r\nL 11.078125 51.859375 \r\nL 21.875 21.828125 \r\nQ 23.96875 16.109375 25.640625 9.8125 \r\nQ 27.15625 15.875 29.25 21.625 \r\nL 40.328125 51.859375 \r\nL 49.125 51.859375 \r\nL 29.390625 -0.875 \r\nQ 26.21875 -9.421875 24.46875 -12.640625 \r\nQ 22.125 -17 19.09375 -19.015625 \r\nQ 16.0625 -21.046875 11.859375 -21.046875 \r\nQ 9.328125 -21.046875 6.203125 -19.96875 \r\nz\r\n\" id=\"ArialMT-121\"/>\r\n      </defs>\r\n      <use xlink:href=\"#ArialMT-71\"/>\r\n      <use x=\"77.783203\" xlink:href=\"#ArialMT-117\"/>\r\n      <use x=\"133.398438\" xlink:href=\"#ArialMT-101\"/>\r\n      <use x=\"189.013672\" xlink:href=\"#ArialMT-115\"/>\r\n      <use x=\"239.013672\" xlink:href=\"#ArialMT-115\"/>\r\n      <use x=\"289.013672\" xlink:href=\"#ArialMT-32\"/>\r\n      <use x=\"316.796875\" xlink:href=\"#ArialMT-82\"/>\r\n      <use x=\"389.013672\" xlink:href=\"#ArialMT-97\"/>\r\n      <use x=\"444.628906\" xlink:href=\"#ArialMT-110\"/>\r\n      <use x=\"500.244141\" xlink:href=\"#ArialMT-100\"/>\r\n      <use x=\"555.859375\" xlink:href=\"#ArialMT-111\"/>\r\n      <use x=\"611.474609\" xlink:href=\"#ArialMT-109\"/>\r\n      <use x=\"694.775391\" xlink:href=\"#ArialMT-108\"/>\r\n      <use x=\"716.992188\" xlink:href=\"#ArialMT-121\"/>\r\n     </g>\r\n    </g>\r\n    <g id=\"line2d_19\">\r\n     <path d=\"M 195.729687 288.076875 \r\nL 225.729687 288.076875 \r\n\" style=\"fill:none;stroke:#1f77b4;stroke-linecap:round;stroke-width:1.5;\"/>\r\n    </g>\r\n    <g id=\"line2d_20\"/>\r\n    <g id=\"text_17\">\r\n     <!-- Random Forest Defaul AUC = 0.8368152075046132  -->\r\n     <g style=\"fill:#262626;\" transform=\"translate(237.729687 293.326875)scale(0.15 -0.15)\">\r\n      <defs>\r\n       <path d=\"M 7.71875 0 \r\nL 7.71875 71.578125 \r\nL 32.375 71.578125 \r\nQ 40.71875 71.578125 45.125 70.5625 \r\nQ 51.265625 69.140625 55.609375 65.4375 \r\nQ 61.28125 60.640625 64.078125 53.1875 \r\nQ 66.890625 45.75 66.890625 36.1875 \r\nQ 66.890625 28.03125 64.984375 21.734375 \r\nQ 63.09375 15.4375 60.109375 11.296875 \r\nQ 57.125 7.171875 53.578125 4.796875 \r\nQ 50.046875 2.4375 45.046875 1.21875 \r\nQ 40.046875 0 33.546875 0 \r\nz\r\nM 17.1875 8.453125 \r\nL 32.46875 8.453125 \r\nQ 39.546875 8.453125 43.578125 9.765625 \r\nQ 47.609375 11.078125 50 13.484375 \r\nQ 53.375 16.84375 55.25 22.53125 \r\nQ 57.125 28.21875 57.125 36.328125 \r\nQ 57.125 47.5625 53.4375 53.59375 \r\nQ 49.75 59.625 44.484375 61.671875 \r\nQ 40.671875 63.140625 32.234375 63.140625 \r\nL 17.1875 63.140625 \r\nz\r\n\" id=\"ArialMT-68\"/>\r\n       <path d=\"M 8.6875 0 \r\nL 8.6875 45.015625 \r\nL 0.921875 45.015625 \r\nL 0.921875 51.859375 \r\nL 8.6875 51.859375 \r\nL 8.6875 57.375 \r\nQ 8.6875 62.59375 9.625 65.140625 \r\nQ 10.890625 68.5625 14.078125 70.671875 \r\nQ 17.28125 72.796875 23.046875 72.796875 \r\nQ 26.765625 72.796875 31.25 71.921875 \r\nL 29.9375 64.265625 \r\nQ 27.203125 64.75 24.75 64.75 \r\nQ 20.75 64.75 19.09375 63.03125 \r\nQ 17.4375 61.328125 17.4375 56.640625 \r\nL 17.4375 51.859375 \r\nL 27.546875 51.859375 \r\nL 27.546875 45.015625 \r\nL 17.4375 45.015625 \r\nL 17.4375 0 \r\nz\r\n\" id=\"ArialMT-102\"/>\r\n       <path d=\"M -0.140625 0 \r\nL 27.34375 71.578125 \r\nL 37.546875 71.578125 \r\nL 66.84375 0 \r\nL 56.0625 0 \r\nL 47.703125 21.6875 \r\nL 17.78125 21.6875 \r\nL 9.90625 0 \r\nz\r\nM 20.515625 29.390625 \r\nL 44.78125 29.390625 \r\nL 37.3125 49.21875 \r\nQ 33.890625 58.25 32.234375 64.0625 \r\nQ 30.859375 57.171875 28.375 50.390625 \r\nz\r\n\" id=\"ArialMT-65\"/>\r\n       <path d=\"M 54.6875 71.578125 \r\nL 64.15625 71.578125 \r\nL 64.15625 30.21875 \r\nQ 64.15625 19.4375 61.71875 13.078125 \r\nQ 59.28125 6.734375 52.90625 2.75 \r\nQ 46.53125 -1.21875 36.1875 -1.21875 \r\nQ 26.125 -1.21875 19.71875 2.25 \r\nQ 13.328125 5.71875 10.59375 12.28125 \r\nQ 7.859375 18.84375 7.859375 30.21875 \r\nL 7.859375 71.578125 \r\nL 17.328125 71.578125 \r\nL 17.328125 30.28125 \r\nQ 17.328125 20.953125 19.0625 16.53125 \r\nQ 20.796875 12.109375 25.015625 9.71875 \r\nQ 29.25 7.328125 35.359375 7.328125 \r\nQ 45.796875 7.328125 50.234375 12.0625 \r\nQ 54.6875 16.796875 54.6875 30.28125 \r\nz\r\n\" id=\"ArialMT-85\"/>\r\n       <path d=\"M 52.828125 42.09375 \r\nL 5.5625 42.09375 \r\nL 5.5625 50.296875 \r\nL 52.828125 50.296875 \r\nz\r\nM 52.828125 20.359375 \r\nL 5.5625 20.359375 \r\nL 5.5625 28.5625 \r\nL 52.828125 28.5625 \r\nz\r\n\" id=\"ArialMT-61\"/>\r\n       <path d=\"M 4.203125 18.890625 \r\nL 12.984375 20.0625 \r\nQ 14.5 12.59375 18.140625 9.296875 \r\nQ 21.78125 6 27 6 \r\nQ 33.203125 6 37.46875 10.296875 \r\nQ 41.75 14.59375 41.75 20.953125 \r\nQ 41.75 27 37.796875 30.921875 \r\nQ 33.84375 34.859375 27.734375 34.859375 \r\nQ 25.25 34.859375 21.53125 33.890625 \r\nL 22.515625 41.609375 \r\nQ 23.390625 41.5 23.921875 41.5 \r\nQ 29.546875 41.5 34.03125 44.421875 \r\nQ 38.53125 47.359375 38.53125 53.46875 \r\nQ 38.53125 58.296875 35.25 61.46875 \r\nQ 31.984375 64.65625 26.8125 64.65625 \r\nQ 21.6875 64.65625 18.265625 61.421875 \r\nQ 14.84375 58.203125 13.875 51.765625 \r\nL 5.078125 53.328125 \r\nQ 6.6875 62.15625 12.390625 67.015625 \r\nQ 18.109375 71.875 26.609375 71.875 \r\nQ 32.46875 71.875 37.390625 69.359375 \r\nQ 42.328125 66.84375 44.9375 62.5 \r\nQ 47.5625 58.15625 47.5625 53.265625 \r\nQ 47.5625 48.640625 45.0625 44.828125 \r\nQ 42.578125 41.015625 37.703125 38.765625 \r\nQ 44.046875 37.3125 47.5625 32.6875 \r\nQ 51.078125 28.078125 51.078125 21.140625 \r\nQ 51.078125 11.765625 44.234375 5.25 \r\nQ 37.40625 -1.265625 26.953125 -1.265625 \r\nQ 17.53125 -1.265625 11.296875 4.34375 \r\nQ 5.078125 9.96875 4.203125 18.890625 \r\nz\r\n\" id=\"ArialMT-51\"/>\r\n       <path d=\"M 4.15625 18.75 \r\nL 13.375 19.53125 \r\nQ 14.40625 12.796875 18.140625 9.390625 \r\nQ 21.875 6 27.15625 6 \r\nQ 33.5 6 37.890625 10.78125 \r\nQ 42.28125 15.578125 42.28125 23.484375 \r\nQ 42.28125 31 38.0625 35.34375 \r\nQ 33.84375 39.703125 27 39.703125 \r\nQ 22.75 39.703125 19.328125 37.765625 \r\nQ 15.921875 35.84375 13.96875 32.765625 \r\nL 5.71875 33.84375 \r\nL 12.640625 70.609375 \r\nL 48.25 70.609375 \r\nL 48.25 62.203125 \r\nL 19.671875 62.203125 \r\nL 15.828125 42.96875 \r\nQ 22.265625 47.46875 29.34375 47.46875 \r\nQ 38.71875 47.46875 45.15625 40.96875 \r\nQ 51.609375 34.46875 51.609375 24.265625 \r\nQ 51.609375 14.546875 45.953125 7.46875 \r\nQ 39.0625 -1.21875 27.15625 -1.21875 \r\nQ 17.390625 -1.21875 11.203125 4.25 \r\nQ 5.03125 9.71875 4.15625 18.75 \r\nz\r\n\" id=\"ArialMT-53\"/>\r\n       <path d=\"M 4.734375 62.203125 \r\nL 4.734375 70.65625 \r\nL 51.078125 70.65625 \r\nL 51.078125 63.8125 \r\nQ 44.234375 56.546875 37.515625 44.484375 \r\nQ 30.8125 32.421875 27.15625 19.671875 \r\nQ 24.515625 10.6875 23.78125 0 \r\nL 14.75 0 \r\nQ 14.890625 8.453125 18.0625 20.40625 \r\nQ 21.234375 32.375 27.171875 43.484375 \r\nQ 33.109375 54.59375 39.796875 62.203125 \r\nz\r\n\" id=\"ArialMT-55\"/>\r\n      </defs>\r\n      <use xlink:href=\"#ArialMT-82\"/>\r\n      <use x=\"72.216797\" xlink:href=\"#ArialMT-97\"/>\r\n      <use x=\"127.832031\" xlink:href=\"#ArialMT-110\"/>\r\n      <use x=\"183.447266\" xlink:href=\"#ArialMT-100\"/>\r\n      <use x=\"239.0625\" xlink:href=\"#ArialMT-111\"/>\r\n      <use x=\"294.677734\" xlink:href=\"#ArialMT-109\"/>\r\n      <use x=\"377.978516\" xlink:href=\"#ArialMT-32\"/>\r\n      <use x=\"405.761719\" xlink:href=\"#ArialMT-70\"/>\r\n      <use x=\"466.845703\" xlink:href=\"#ArialMT-111\"/>\r\n      <use x=\"522.460938\" xlink:href=\"#ArialMT-114\"/>\r\n      <use x=\"555.761719\" xlink:href=\"#ArialMT-101\"/>\r\n      <use x=\"611.376953\" xlink:href=\"#ArialMT-115\"/>\r\n      <use x=\"661.376953\" xlink:href=\"#ArialMT-116\"/>\r\n      <use x=\"689.160156\" xlink:href=\"#ArialMT-32\"/>\r\n      <use x=\"716.943359\" xlink:href=\"#ArialMT-68\"/>\r\n      <use x=\"789.160156\" xlink:href=\"#ArialMT-101\"/>\r\n      <use x=\"844.775391\" xlink:href=\"#ArialMT-102\"/>\r\n      <use x=\"872.558594\" xlink:href=\"#ArialMT-97\"/>\r\n      <use x=\"928.173828\" xlink:href=\"#ArialMT-117\"/>\r\n      <use x=\"983.789062\" xlink:href=\"#ArialMT-108\"/>\r\n      <use x=\"1006.005859\" xlink:href=\"#ArialMT-32\"/>\r\n      <use x=\"1028.289062\" xlink:href=\"#ArialMT-65\"/>\r\n      <use x=\"1094.988281\" xlink:href=\"#ArialMT-85\"/>\r\n      <use x=\"1167.205078\" xlink:href=\"#ArialMT-67\"/>\r\n      <use x=\"1239.421875\" xlink:href=\"#ArialMT-32\"/>\r\n      <use x=\"1267.205078\" xlink:href=\"#ArialMT-61\"/>\r\n      <use x=\"1325.603516\" xlink:href=\"#ArialMT-32\"/>\r\n      <use x=\"1353.386719\" xlink:href=\"#ArialMT-48\"/>\r\n      <use x=\"1409.001953\" xlink:href=\"#ArialMT-46\"/>\r\n      <use x=\"1436.785156\" xlink:href=\"#ArialMT-56\"/>\r\n      <use x=\"1492.400391\" xlink:href=\"#ArialMT-51\"/>\r\n      <use x=\"1548.015625\" xlink:href=\"#ArialMT-54\"/>\r\n      <use x=\"1603.630859\" xlink:href=\"#ArialMT-56\"/>\r\n      <use x=\"1659.246094\" xlink:href=\"#ArialMT-49\"/>\r\n      <use x=\"1714.861328\" xlink:href=\"#ArialMT-53\"/>\r\n      <use x=\"1770.476562\" xlink:href=\"#ArialMT-50\"/>\r\n      <use x=\"1826.091797\" xlink:href=\"#ArialMT-48\"/>\r\n      <use x=\"1881.707031\" xlink:href=\"#ArialMT-55\"/>\r\n      <use x=\"1937.322266\" xlink:href=\"#ArialMT-53\"/>\r\n      <use x=\"1992.9375\" xlink:href=\"#ArialMT-48\"/>\r\n      <use x=\"2048.552734\" xlink:href=\"#ArialMT-52\"/>\r\n      <use x=\"2104.167969\" xlink:href=\"#ArialMT-54\"/>\r\n      <use x=\"2159.783203\" xlink:href=\"#ArialMT-49\"/>\r\n      <use x=\"2215.398438\" xlink:href=\"#ArialMT-51\"/>\r\n      <use x=\"2271.013672\" xlink:href=\"#ArialMT-50\"/>\r\n      <use x=\"2326.628906\" xlink:href=\"#ArialMT-32\"/>\r\n     </g>\r\n    </g>\r\n    <g id=\"line2d_21\">\r\n     <path d=\"M 195.729687 309.294844 \r\nL 225.729687 309.294844 \r\n\" style=\"fill:none;stroke:#ff7f0e;stroke-linecap:round;stroke-width:1.5;\"/>\r\n    </g>\r\n    <g id=\"line2d_22\"/>\r\n    <g id=\"text_18\">\r\n     <!-- Random Forest 1st GS AUC = 0.8346467575979069  -->\r\n     <g style=\"fill:#262626;\" transform=\"translate(237.729687 314.544844)scale(0.15 -0.15)\">\r\n      <defs>\r\n       <path d=\"M 4.5 23 \r\nL 13.421875 23.78125 \r\nQ 14.0625 18.40625 16.375 14.96875 \r\nQ 18.703125 11.53125 23.578125 9.40625 \r\nQ 28.46875 7.28125 34.578125 7.28125 \r\nQ 39.984375 7.28125 44.140625 8.890625 \r\nQ 48.296875 10.5 50.3125 13.296875 \r\nQ 52.34375 16.109375 52.34375 19.4375 \r\nQ 52.34375 22.796875 50.390625 25.3125 \r\nQ 48.4375 27.828125 43.953125 29.546875 \r\nQ 41.0625 30.671875 31.203125 33.03125 \r\nQ 21.34375 35.40625 17.390625 37.5 \r\nQ 12.25 40.1875 9.734375 44.15625 \r\nQ 7.234375 48.140625 7.234375 53.078125 \r\nQ 7.234375 58.5 10.296875 63.203125 \r\nQ 13.375 67.921875 19.28125 70.359375 \r\nQ 25.203125 72.796875 32.421875 72.796875 \r\nQ 40.375 72.796875 46.453125 70.234375 \r\nQ 52.546875 67.671875 55.8125 62.6875 \r\nQ 59.078125 57.71875 59.328125 51.421875 \r\nL 50.25 50.734375 \r\nQ 49.515625 57.515625 45.28125 60.984375 \r\nQ 41.0625 64.453125 32.8125 64.453125 \r\nQ 24.21875 64.453125 20.28125 61.296875 \r\nQ 16.359375 58.15625 16.359375 53.71875 \r\nQ 16.359375 49.859375 19.140625 47.359375 \r\nQ 21.875 44.875 33.421875 42.265625 \r\nQ 44.96875 39.65625 49.265625 37.703125 \r\nQ 55.515625 34.8125 58.484375 30.390625 \r\nQ 61.46875 25.984375 61.46875 20.21875 \r\nQ 61.46875 14.5 58.203125 9.4375 \r\nQ 54.9375 4.390625 48.796875 1.578125 \r\nQ 42.671875 -1.21875 35.015625 -1.21875 \r\nQ 25.296875 -1.21875 18.71875 1.609375 \r\nQ 12.15625 4.4375 8.421875 10.125 \r\nQ 4.6875 15.828125 4.5 23 \r\nz\r\n\" id=\"ArialMT-83\"/>\r\n       <path d=\"M 5.46875 16.546875 \r\nL 13.921875 17.328125 \r\nQ 14.984375 11.375 18.015625 8.6875 \r\nQ 21.046875 6 25.78125 6 \r\nQ 29.828125 6 32.875 7.859375 \r\nQ 35.9375 9.71875 37.890625 12.8125 \r\nQ 39.84375 15.921875 41.15625 21.1875 \r\nQ 42.484375 26.46875 42.484375 31.9375 \r\nQ 42.484375 32.515625 42.4375 33.6875 \r\nQ 39.796875 29.5 35.234375 26.875 \r\nQ 30.671875 24.265625 25.34375 24.265625 \r\nQ 16.453125 24.265625 10.296875 30.703125 \r\nQ 4.15625 37.15625 4.15625 47.703125 \r\nQ 4.15625 58.59375 10.578125 65.234375 \r\nQ 17 71.875 26.65625 71.875 \r\nQ 33.640625 71.875 39.421875 68.109375 \r\nQ 45.21875 64.359375 48.21875 57.390625 \r\nQ 51.21875 50.4375 51.21875 37.25 \r\nQ 51.21875 23.53125 48.234375 15.40625 \r\nQ 45.265625 7.28125 39.375 3.03125 \r\nQ 33.5 -1.21875 25.59375 -1.21875 \r\nQ 17.1875 -1.21875 11.859375 3.4375 \r\nQ 6.546875 8.109375 5.46875 16.546875 \r\nz\r\nM 41.453125 48.140625 \r\nQ 41.453125 55.71875 37.421875 60.15625 \r\nQ 33.40625 64.59375 27.734375 64.59375 \r\nQ 21.875 64.59375 17.53125 59.8125 \r\nQ 13.1875 55.03125 13.1875 47.40625 \r\nQ 13.1875 40.578125 17.3125 36.296875 \r\nQ 21.4375 32.03125 27.484375 32.03125 \r\nQ 33.59375 32.03125 37.515625 36.296875 \r\nQ 41.453125 40.578125 41.453125 48.140625 \r\nz\r\n\" id=\"ArialMT-57\"/>\r\n      </defs>\r\n      <use xlink:href=\"#ArialMT-82\"/>\r\n      <use x=\"72.216797\" xlink:href=\"#ArialMT-97\"/>\r\n      <use x=\"127.832031\" xlink:href=\"#ArialMT-110\"/>\r\n      <use x=\"183.447266\" xlink:href=\"#ArialMT-100\"/>\r\n      <use x=\"239.0625\" xlink:href=\"#ArialMT-111\"/>\r\n      <use x=\"294.677734\" xlink:href=\"#ArialMT-109\"/>\r\n      <use x=\"377.978516\" xlink:href=\"#ArialMT-32\"/>\r\n      <use x=\"405.761719\" xlink:href=\"#ArialMT-70\"/>\r\n      <use x=\"466.845703\" xlink:href=\"#ArialMT-111\"/>\r\n      <use x=\"522.460938\" xlink:href=\"#ArialMT-114\"/>\r\n      <use x=\"555.761719\" xlink:href=\"#ArialMT-101\"/>\r\n      <use x=\"611.376953\" xlink:href=\"#ArialMT-115\"/>\r\n      <use x=\"661.376953\" xlink:href=\"#ArialMT-116\"/>\r\n      <use x=\"689.160156\" xlink:href=\"#ArialMT-32\"/>\r\n      <use x=\"716.943359\" xlink:href=\"#ArialMT-49\"/>\r\n      <use x=\"772.558594\" xlink:href=\"#ArialMT-115\"/>\r\n      <use x=\"822.558594\" xlink:href=\"#ArialMT-116\"/>\r\n      <use x=\"850.341797\" xlink:href=\"#ArialMT-32\"/>\r\n      <use x=\"878.125\" xlink:href=\"#ArialMT-71\"/>\r\n      <use x=\"955.908203\" xlink:href=\"#ArialMT-83\"/>\r\n      <use x=\"1022.607422\" xlink:href=\"#ArialMT-32\"/>\r\n      <use x=\"1044.890625\" xlink:href=\"#ArialMT-65\"/>\r\n      <use x=\"1111.589844\" xlink:href=\"#ArialMT-85\"/>\r\n      <use x=\"1183.806641\" xlink:href=\"#ArialMT-67\"/>\r\n      <use x=\"1256.023438\" xlink:href=\"#ArialMT-32\"/>\r\n      <use x=\"1283.806641\" xlink:href=\"#ArialMT-61\"/>\r\n      <use x=\"1342.205078\" xlink:href=\"#ArialMT-32\"/>\r\n      <use x=\"1369.988281\" xlink:href=\"#ArialMT-48\"/>\r\n      <use x=\"1425.603516\" xlink:href=\"#ArialMT-46\"/>\r\n      <use x=\"1453.386719\" xlink:href=\"#ArialMT-56\"/>\r\n      <use x=\"1509.001953\" xlink:href=\"#ArialMT-51\"/>\r\n      <use x=\"1564.617188\" xlink:href=\"#ArialMT-52\"/>\r\n      <use x=\"1620.232422\" xlink:href=\"#ArialMT-54\"/>\r\n      <use x=\"1675.847656\" xlink:href=\"#ArialMT-52\"/>\r\n      <use x=\"1731.462891\" xlink:href=\"#ArialMT-54\"/>\r\n      <use x=\"1787.078125\" xlink:href=\"#ArialMT-55\"/>\r\n      <use x=\"1842.693359\" xlink:href=\"#ArialMT-53\"/>\r\n      <use x=\"1898.308594\" xlink:href=\"#ArialMT-55\"/>\r\n      <use x=\"1953.923828\" xlink:href=\"#ArialMT-53\"/>\r\n      <use x=\"2009.539062\" xlink:href=\"#ArialMT-57\"/>\r\n      <use x=\"2065.154297\" xlink:href=\"#ArialMT-55\"/>\r\n      <use x=\"2120.769531\" xlink:href=\"#ArialMT-57\"/>\r\n      <use x=\"2176.384766\" xlink:href=\"#ArialMT-48\"/>\r\n      <use x=\"2232\" xlink:href=\"#ArialMT-54\"/>\r\n      <use x=\"2287.615234\" xlink:href=\"#ArialMT-57\"/>\r\n      <use x=\"2343.230469\" xlink:href=\"#ArialMT-32\"/>\r\n     </g>\r\n    </g>\r\n    <g id=\"line2d_23\">\r\n     <path d=\"M 195.729687 330.512812 \r\nL 225.729687 330.512812 \r\n\" style=\"fill:none;stroke:#2ca02c;stroke-linecap:round;stroke-width:1.5;\"/>\r\n    </g>\r\n    <g id=\"line2d_24\"/>\r\n    <g id=\"text_19\">\r\n     <!-- Random Forest 2nd GS AUC = 0.8411305150698251  -->\r\n     <g style=\"fill:#262626;\" transform=\"translate(237.729687 335.762812)scale(0.15 -0.15)\">\r\n      <use xlink:href=\"#ArialMT-82\"/>\r\n      <use x=\"72.216797\" xlink:href=\"#ArialMT-97\"/>\r\n      <use x=\"127.832031\" xlink:href=\"#ArialMT-110\"/>\r\n      <use x=\"183.447266\" xlink:href=\"#ArialMT-100\"/>\r\n      <use x=\"239.0625\" xlink:href=\"#ArialMT-111\"/>\r\n      <use x=\"294.677734\" xlink:href=\"#ArialMT-109\"/>\r\n      <use x=\"377.978516\" xlink:href=\"#ArialMT-32\"/>\r\n      <use x=\"405.761719\" xlink:href=\"#ArialMT-70\"/>\r\n      <use x=\"466.845703\" xlink:href=\"#ArialMT-111\"/>\r\n      <use x=\"522.460938\" xlink:href=\"#ArialMT-114\"/>\r\n      <use x=\"555.761719\" xlink:href=\"#ArialMT-101\"/>\r\n      <use x=\"611.376953\" xlink:href=\"#ArialMT-115\"/>\r\n      <use x=\"661.376953\" xlink:href=\"#ArialMT-116\"/>\r\n      <use x=\"689.160156\" xlink:href=\"#ArialMT-32\"/>\r\n      <use x=\"716.943359\" xlink:href=\"#ArialMT-50\"/>\r\n      <use x=\"772.558594\" xlink:href=\"#ArialMT-110\"/>\r\n      <use x=\"828.173828\" xlink:href=\"#ArialMT-100\"/>\r\n      <use x=\"883.789062\" xlink:href=\"#ArialMT-32\"/>\r\n      <use x=\"911.572266\" xlink:href=\"#ArialMT-71\"/>\r\n      <use x=\"989.355469\" xlink:href=\"#ArialMT-83\"/>\r\n      <use x=\"1056.054688\" xlink:href=\"#ArialMT-32\"/>\r\n      <use x=\"1078.337891\" xlink:href=\"#ArialMT-65\"/>\r\n      <use x=\"1145.037109\" xlink:href=\"#ArialMT-85\"/>\r\n      <use x=\"1217.253906\" xlink:href=\"#ArialMT-67\"/>\r\n      <use x=\"1289.470703\" xlink:href=\"#ArialMT-32\"/>\r\n      <use x=\"1317.253906\" xlink:href=\"#ArialMT-61\"/>\r\n      <use x=\"1375.652344\" xlink:href=\"#ArialMT-32\"/>\r\n      <use x=\"1403.435547\" xlink:href=\"#ArialMT-48\"/>\r\n      <use x=\"1459.050781\" xlink:href=\"#ArialMT-46\"/>\r\n      <use x=\"1486.833984\" xlink:href=\"#ArialMT-56\"/>\r\n      <use x=\"1542.449219\" xlink:href=\"#ArialMT-52\"/>\r\n      <use x=\"1598.064453\" xlink:href=\"#ArialMT-49\"/>\r\n      <use x=\"1646.304688\" xlink:href=\"#ArialMT-49\"/>\r\n      <use x=\"1701.919922\" xlink:href=\"#ArialMT-51\"/>\r\n      <use x=\"1757.535156\" xlink:href=\"#ArialMT-48\"/>\r\n      <use x=\"1813.150391\" xlink:href=\"#ArialMT-53\"/>\r\n      <use x=\"1868.765625\" xlink:href=\"#ArialMT-49\"/>\r\n      <use x=\"1924.380859\" xlink:href=\"#ArialMT-53\"/>\r\n      <use x=\"1979.996094\" xlink:href=\"#ArialMT-48\"/>\r\n      <use x=\"2035.611328\" xlink:href=\"#ArialMT-54\"/>\r\n      <use x=\"2091.226562\" xlink:href=\"#ArialMT-57\"/>\r\n      <use x=\"2146.841797\" xlink:href=\"#ArialMT-56\"/>\r\n      <use x=\"2202.457031\" xlink:href=\"#ArialMT-50\"/>\r\n      <use x=\"2258.072266\" xlink:href=\"#ArialMT-53\"/>\r\n      <use x=\"2313.6875\" xlink:href=\"#ArialMT-49\"/>\r\n      <use x=\"2369.302734\" xlink:href=\"#ArialMT-32\"/>\r\n     </g>\r\n    </g>\r\n   </g>\r\n  </g>\r\n </g>\r\n <defs>\r\n  <clipPath id=\"p5dd203cae9\">\r\n   <rect height=\"326.16\" width=\"558\" x=\"52.767969\" y=\"26.084062\"/>\r\n  </clipPath>\r\n </defs>\r\n</svg>\r\n",
      "image/png": "[encoded data removed]"
     },
     "metadata": {}
    }
   ],
   "source": [
    "model_names={'Random Forest Defaul':y_hat_rf0,\n",
    "             'Random Forest 1st GS':y_hat_rf1,\n",
    "             'Random Forest 2nd GS':y_hat_rf2,\n",
    "             'Random Forest 3rd GS':y_hat_rf3\n",
    "             'Random Forest 2nd GS':y_hat_rf4}\n",
    "\n",
    "sns.set_style('darkgrid')\n",
    "plt.rcParams.update({'font.size': 15})\n",
    "fig, ax = plt.subplots(figsize=(10, 6))\n",
    "ax.plot([0, 1], [0, 1], linestyle='--', lw=2, color='y', label='Guess Randomly', alpha=.8)\n",
    "for name in model_names:\n",
    "\n",
    "    fpr, tpr, _ = Metrics.roc_curve(y_test, model_names[name])\n",
    "    auc=Metrics.auc(fpr, tpr)\n",
    "    \n",
    "    # Display plot for ROC curve\n",
    "    ax.plot(fpr,tpr,label=name+\" AUC = %s \" % str(auc))\n",
    "    plt.legend(loc=4)\n",
    "    plt.title(\"ROC Curves\")\n",
    "    plt.ylabel('True Positive Rate')\n",
    "    plt.xlabel('False Positive Rate')\n",
    "    \n",
    "plt.show()"
   ]
  },
  {
   "source": [
    "## MAPE"
   ],
   "cell_type": "markdown",
   "metadata": {}
  },
  {
   "cell_type": "code",
   "execution_count": null,
   "metadata": {},
   "outputs": [],
   "source": [
    "mapes = [mape0,mape1,mape2,mape3,mape4]\n",
    "mapes"
   ]
  },
  {
   "cell_type": "code",
   "execution_count": null,
   "metadata": {},
   "outputs": [],
   "source": [
    "plt.figure(figsize=(13,6))\n",
    "y = mapes\n",
    "x = range(1,5)\n",
    "plt.title('Model loss')\n",
    "plt.ylabel('Loss')\n",
    "plt.xlabel('Epoch')\n",
    "plt.legend(['Train', 'Test'], loc='upper right')\n",
    "plt.show()"
   ]
  },
  {
   "source": [
    "## Submission"
   ],
   "cell_type": "markdown",
   "metadata": {}
  },
  {
   "cell_type": "code",
   "execution_count": null,
   "metadata": {},
   "outputs": [],
   "source": [
    "sub_normalized = pd.DataFrame(x_val)\n",
    "sub_normalized[16] = y_hay\n",
    "sub_normalized"
   ]
  }
 ],
 "metadata": {
  "kernelspec": {
   "display_name": "Python 3",
   "language": "python",
   "name": "python3"
  },
  "language_info": {
   "codemirror_mode": {
    "name": "ipython",
    "version": 3
   },
   "file_extension": ".py",
   "mimetype": "text/x-python",
   "name": "python",
   "nbconvert_exporter": "python",
   "pygments_lexer": "ipython3",
   "version": "3.8.6-final"
  }
 },
 "nbformat": 4,
 "nbformat_minor": 4
}