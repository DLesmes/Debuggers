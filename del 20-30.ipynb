{
 "cells": [
  {
   "cell_type": "code",
   "execution_count": 2,
   "id": "convenient-formula",
   "metadata": {},
   "outputs": [
    {
     "name": "stderr",
     "output_type": "stream",
     "text": [
      "/pip_envs/Debuggers3.6/lib/python3.6/site-packages/pandas/compat/__init__.py:120: UserWarning: Could not import the lzma module. Your installed Python is incomplete. Attempting to use lzma compression will result in a RuntimeError.\n",
      "  warnings.warn(msg)\n"
     ]
    }
   ],
   "source": [
    "import numpy                 as np\n",
    "import pandas                as pd\n",
    "import matplotlib.pyplot     as plt\n",
    "import seaborn               as sns\n",
    "import missingno as msno\n",
    "from zipfile import ZipFile as zf\n",
    "import random\n",
    "#import sklearn.metrics       as Metrics"
   ]
  },
  {
   "cell_type": "code",
   "execution_count": 3,
   "id": "immune-leadership",
   "metadata": {},
   "outputs": [],
   "source": [
    "df = pd.read_csv(\"/mnt/workstation/data/input_Pesos_Dic_20.csv\")#, sep= \",\", names =header)\n"
   ]
  },
  {
   "cell_type": "code",
   "execution_count": 3,
   "id": "million-parking",
   "metadata": {},
   "outputs": [
    {
     "data": {
      "text/html": [
       "<div>\n",
       "<style scoped>\n",
       "    .dataframe tbody tr th:only-of-type {\n",
       "        vertical-align: middle;\n",
       "    }\n",
       "\n",
       "    .dataframe tbody tr th {\n",
       "        vertical-align: top;\n",
       "    }\n",
       "\n",
       "    .dataframe thead th {\n",
       "        text-align: right;\n",
       "    }\n",
       "</style>\n",
       "<table border=\"1\" class=\"dataframe\">\n",
       "  <thead>\n",
       "    <tr style=\"text-align: right;\">\n",
       "      <th></th>\n",
       "      <th>periodo</th>\n",
       "      <th>id_cli</th>\n",
       "      <th>fecha_nacimiento</th>\n",
       "      <th>edad</th>\n",
       "      <th>genero</th>\n",
       "      <th>estado_civil</th>\n",
       "      <th>nivel_academico</th>\n",
       "      <th>profesion</th>\n",
       "      <th>ocupacion</th>\n",
       "      <th>tipo_vivienda</th>\n",
       "      <th>...</th>\n",
       "      <th>cuota_libranza_sf</th>\n",
       "      <th>cant_oblig_tot_sf</th>\n",
       "      <th>cant_cast_ult_12m_sr</th>\n",
       "      <th>ind</th>\n",
       "      <th>rep_calif_cred</th>\n",
       "      <th>pol_centr_ext</th>\n",
       "      <th>convenio_lib</th>\n",
       "      <th>ingreso_nomina</th>\n",
       "      <th>ingreso_segurida_social</th>\n",
       "      <th>gasto_familiar</th>\n",
       "    </tr>\n",
       "  </thead>\n",
       "  <tbody>\n",
       "    <tr>\n",
       "      <th>0</th>\n",
       "      <td>201908.0</td>\n",
       "      <td>2089776.0</td>\n",
       "      <td>19840630.0</td>\n",
       "      <td>35.0</td>\n",
       "      <td>M</td>\n",
       "      <td>DIVORCIADO</td>\n",
       "      <td>TECNOLOGO</td>\n",
       "      <td>TECNOLOGIA SISTEMAS</td>\n",
       "      <td>Empleado</td>\n",
       "      <td>ALQUILADA</td>\n",
       "      <td>...</td>\n",
       "      <td>0.0</td>\n",
       "      <td>1.0</td>\n",
       "      <td>0.0</td>\n",
       "      <td>319127.933029</td>\n",
       "      <td>C</td>\n",
       "      <td>0.0</td>\n",
       "      <td>NaN</td>\n",
       "      <td>1.284876e+06</td>\n",
       "      <td>NaN</td>\n",
       "      <td>238055.347763</td>\n",
       "    </tr>\n",
       "    <tr>\n",
       "      <th>1</th>\n",
       "      <td>201909.0</td>\n",
       "      <td>2089776.0</td>\n",
       "      <td>19840630.0</td>\n",
       "      <td>35.0</td>\n",
       "      <td>M</td>\n",
       "      <td>DIVORCIADO</td>\n",
       "      <td>TECNOLOGO</td>\n",
       "      <td>TECNOLOGIA SISTEMAS</td>\n",
       "      <td>Empleado</td>\n",
       "      <td>ALQUILADA</td>\n",
       "      <td>...</td>\n",
       "      <td>0.0</td>\n",
       "      <td>1.0</td>\n",
       "      <td>0.0</td>\n",
       "      <td>318417.111563</td>\n",
       "      <td>C</td>\n",
       "      <td>0.0</td>\n",
       "      <td>NaN</td>\n",
       "      <td>1.282014e+06</td>\n",
       "      <td>NaN</td>\n",
       "      <td>271616.618245</td>\n",
       "    </tr>\n",
       "    <tr>\n",
       "      <th>2</th>\n",
       "      <td>201907.0</td>\n",
       "      <td>2089776.0</td>\n",
       "      <td>19840630.0</td>\n",
       "      <td>35.0</td>\n",
       "      <td>M</td>\n",
       "      <td>DIVORCIADO</td>\n",
       "      <td>TECNOLOGO</td>\n",
       "      <td>TECNOLOGIA SISTEMAS</td>\n",
       "      <td>Empleado</td>\n",
       "      <td>ALQUILADA</td>\n",
       "      <td>...</td>\n",
       "      <td>0.0</td>\n",
       "      <td>1.0</td>\n",
       "      <td>0.0</td>\n",
       "      <td>318987.340975</td>\n",
       "      <td>C</td>\n",
       "      <td>0.0</td>\n",
       "      <td>NaN</td>\n",
       "      <td>1.285999e+06</td>\n",
       "      <td>NaN</td>\n",
       "      <td>249049.203031</td>\n",
       "    </tr>\n",
       "    <tr>\n",
       "      <th>3</th>\n",
       "      <td>201903.0</td>\n",
       "      <td>2089776.0</td>\n",
       "      <td>19840630.0</td>\n",
       "      <td>35.0</td>\n",
       "      <td>M</td>\n",
       "      <td>DIVORCIADO</td>\n",
       "      <td>TECNOLOGO</td>\n",
       "      <td>TECNOLOGIA SISTEMAS</td>\n",
       "      <td>Empleado</td>\n",
       "      <td>ALQUILADA</td>\n",
       "      <td>...</td>\n",
       "      <td>0.0</td>\n",
       "      <td>1.0</td>\n",
       "      <td>0.0</td>\n",
       "      <td>323130.849045</td>\n",
       "      <td>C</td>\n",
       "      <td>0.0</td>\n",
       "      <td>NaN</td>\n",
       "      <td>1.217153e+06</td>\n",
       "      <td>NaN</td>\n",
       "      <td>286498.294824</td>\n",
       "    </tr>\n",
       "    <tr>\n",
       "      <th>4</th>\n",
       "      <td>201911.0</td>\n",
       "      <td>2089776.0</td>\n",
       "      <td>19840630.0</td>\n",
       "      <td>35.0</td>\n",
       "      <td>M</td>\n",
       "      <td>DIVORCIADO</td>\n",
       "      <td>TECNOLOGO</td>\n",
       "      <td>TECNOLOGIA SISTEMAS</td>\n",
       "      <td>Empleado</td>\n",
       "      <td>ALQUILADA</td>\n",
       "      <td>...</td>\n",
       "      <td>0.0</td>\n",
       "      <td>0.0</td>\n",
       "      <td>0.0</td>\n",
       "      <td>690210.427661</td>\n",
       "      <td>C</td>\n",
       "      <td>0.0</td>\n",
       "      <td>NaN</td>\n",
       "      <td>1.278547e+06</td>\n",
       "      <td>NaN</td>\n",
       "      <td>426714.175005</td>\n",
       "    </tr>\n",
       "  </tbody>\n",
       "</table>\n",
       "<p>5 rows × 65 columns</p>\n",
       "</div>"
      ],
      "text/plain": [
       "    periodo     id_cli  fecha_nacimiento  edad genero estado_civil  \\\n",
       "0  201908.0  2089776.0        19840630.0  35.0      M   DIVORCIADO   \n",
       "1  201909.0  2089776.0        19840630.0  35.0      M   DIVORCIADO   \n",
       "2  201907.0  2089776.0        19840630.0  35.0      M   DIVORCIADO   \n",
       "3  201903.0  2089776.0        19840630.0  35.0      M   DIVORCIADO   \n",
       "4  201911.0  2089776.0        19840630.0  35.0      M   DIVORCIADO   \n",
       "\n",
       "  nivel_academico            profesion ocupacion tipo_vivienda  ...  \\\n",
       "0       TECNOLOGO  TECNOLOGIA SISTEMAS  Empleado     ALQUILADA  ...   \n",
       "1       TECNOLOGO  TECNOLOGIA SISTEMAS  Empleado     ALQUILADA  ...   \n",
       "2       TECNOLOGO  TECNOLOGIA SISTEMAS  Empleado     ALQUILADA  ...   \n",
       "3       TECNOLOGO  TECNOLOGIA SISTEMAS  Empleado     ALQUILADA  ...   \n",
       "4       TECNOLOGO  TECNOLOGIA SISTEMAS  Empleado     ALQUILADA  ...   \n",
       "\n",
       "   cuota_libranza_sf  cant_oblig_tot_sf  cant_cast_ult_12m_sr            ind  \\\n",
       "0                0.0                1.0                   0.0  319127.933029   \n",
       "1                0.0                1.0                   0.0  318417.111563   \n",
       "2                0.0                1.0                   0.0  318987.340975   \n",
       "3                0.0                1.0                   0.0  323130.849045   \n",
       "4                0.0                0.0                   0.0  690210.427661   \n",
       "\n",
       "   rep_calif_cred pol_centr_ext convenio_lib ingreso_nomina  \\\n",
       "0               C           0.0          NaN   1.284876e+06   \n",
       "1               C           0.0          NaN   1.282014e+06   \n",
       "2               C           0.0          NaN   1.285999e+06   \n",
       "3               C           0.0          NaN   1.217153e+06   \n",
       "4               C           0.0          NaN   1.278547e+06   \n",
       "\n",
       "  ingreso_segurida_social gasto_familiar  \n",
       "0                     NaN  238055.347763  \n",
       "1                     NaN  271616.618245  \n",
       "2                     NaN  249049.203031  \n",
       "3                     NaN  286498.294824  \n",
       "4                     NaN  426714.175005  \n",
       "\n",
       "[5 rows x 65 columns]"
      ]
     },
     "execution_count": 3,
     "metadata": {},
     "output_type": "execute_result"
    }
   ],
   "source": [
    "df.head()"
   ]
  },
  {
   "cell_type": "markdown",
   "id": "listed-champion",
   "metadata": {},
   "source": [
    "## MAX"
   ]
  },
  {
   "cell_type": "code",
   "execution_count": 4,
   "id": "aerial-comedy",
   "metadata": {},
   "outputs": [],
   "source": [
    "var_max = ['cant_mora_30_tdc_ult_3m_sf', 'cant_mora_30_consum_ult_3m_sf']"
   ]
  },
  {
   "cell_type": "code",
   "execution_count": 5,
   "id": "democratic-phoenix",
   "metadata": {},
   "outputs": [],
   "source": [
    "maxi = df[['id_cli','cant_mora_30_tdc_ult_3m_sf', 'cant_mora_30_consum_ult_3m_sf']].groupby(by = ['id_cli']).max()"
   ]
  },
  {
   "cell_type": "code",
   "execution_count": 6,
   "id": "satisfactory-croatia",
   "metadata": {},
   "outputs": [
    {
     "data": {
      "text/html": [
       "<div>\n",
       "<style scoped>\n",
       "    .dataframe tbody tr th:only-of-type {\n",
       "        vertical-align: middle;\n",
       "    }\n",
       "\n",
       "    .dataframe tbody tr th {\n",
       "        vertical-align: top;\n",
       "    }\n",
       "\n",
       "    .dataframe thead th {\n",
       "        text-align: right;\n",
       "    }\n",
       "</style>\n",
       "<table border=\"1\" class=\"dataframe\">\n",
       "  <thead>\n",
       "    <tr style=\"text-align: right;\">\n",
       "      <th></th>\n",
       "      <th>cant_mora_30_tdc_ult_3m_sf</th>\n",
       "      <th>cant_mora_30_consum_ult_3m_sf</th>\n",
       "    </tr>\n",
       "    <tr>\n",
       "      <th>id_cli</th>\n",
       "      <th></th>\n",
       "      <th></th>\n",
       "    </tr>\n",
       "  </thead>\n",
       "  <tbody>\n",
       "    <tr>\n",
       "      <th>3.0</th>\n",
       "      <td>0.0</td>\n",
       "      <td>0.0</td>\n",
       "    </tr>\n",
       "    <tr>\n",
       "      <th>8.0</th>\n",
       "      <td>0.0</td>\n",
       "      <td>0.0</td>\n",
       "    </tr>\n",
       "    <tr>\n",
       "      <th>12.0</th>\n",
       "      <td>0.0</td>\n",
       "      <td>0.0</td>\n",
       "    </tr>\n",
       "    <tr>\n",
       "      <th>15.0</th>\n",
       "      <td>1.0</td>\n",
       "      <td>0.0</td>\n",
       "    </tr>\n",
       "    <tr>\n",
       "      <th>17.0</th>\n",
       "      <td>0.0</td>\n",
       "      <td>0.0</td>\n",
       "    </tr>\n",
       "    <tr>\n",
       "      <th>...</th>\n",
       "      <td>...</td>\n",
       "      <td>...</td>\n",
       "    </tr>\n",
       "    <tr>\n",
       "      <th>8704791.0</th>\n",
       "      <td>0.0</td>\n",
       "      <td>5.0</td>\n",
       "    </tr>\n",
       "    <tr>\n",
       "      <th>8704792.0</th>\n",
       "      <td>0.0</td>\n",
       "      <td>0.0</td>\n",
       "    </tr>\n",
       "    <tr>\n",
       "      <th>8704795.0</th>\n",
       "      <td>0.0</td>\n",
       "      <td>0.0</td>\n",
       "    </tr>\n",
       "    <tr>\n",
       "      <th>8704799.0</th>\n",
       "      <td>0.0</td>\n",
       "      <td>0.0</td>\n",
       "    </tr>\n",
       "    <tr>\n",
       "      <th>8704800.0</th>\n",
       "      <td>0.0</td>\n",
       "      <td>0.0</td>\n",
       "    </tr>\n",
       "  </tbody>\n",
       "</table>\n",
       "<p>1047955 rows × 2 columns</p>\n",
       "</div>"
      ],
      "text/plain": [
       "           cant_mora_30_tdc_ult_3m_sf  cant_mora_30_consum_ult_3m_sf\n",
       "id_cli                                                              \n",
       "3.0                               0.0                            0.0\n",
       "8.0                               0.0                            0.0\n",
       "12.0                              0.0                            0.0\n",
       "15.0                              1.0                            0.0\n",
       "17.0                              0.0                            0.0\n",
       "...                               ...                            ...\n",
       "8704791.0                         0.0                            5.0\n",
       "8704792.0                         0.0                            0.0\n",
       "8704795.0                         0.0                            0.0\n",
       "8704799.0                         0.0                            0.0\n",
       "8704800.0                         0.0                            0.0\n",
       "\n",
       "[1047955 rows x 2 columns]"
      ]
     },
     "execution_count": 6,
     "metadata": {},
     "output_type": "execute_result"
    }
   ],
   "source": [
    "maxi"
   ]
  },
  {
   "cell_type": "code",
   "execution_count": 7,
   "id": "substantial-candidate",
   "metadata": {},
   "outputs": [
    {
     "data": {
      "text/plain": [
       "<AxesSubplot:xlabel='cant_mora_30_tdc_ult_3m_sf'>"
      ]
     },
     "execution_count": 7,
     "metadata": {},
     "output_type": "execute_result"
    },
    {
     "data": {
      "image/png": "[encoded data removed]",
      "text/plain": [
       "<Figure size 432x288 with 1 Axes>"
      ]
     },
     "metadata": {},
     "output_type": "display_data"
    }
   ],
   "source": [
    "sns.set(style = \"ticks\", context = \"talk\")\n",
    "plt.style.use(\"dark_background\")\n",
    "sns.boxplot(x = maxi['cant_mora_30_tdc_ult_3m_sf'])"
   ]
  },
  {
   "cell_type": "code",
   "execution_count": 8,
   "id": "banned-syracuse",
   "metadata": {},
   "outputs": [
    {
     "data": {
      "text/plain": [
       "<AxesSubplot:xlabel='cant_mora_30_consum_ult_3m_sf'>"
      ]
     },
     "execution_count": 8,
     "metadata": {},
     "output_type": "execute_result"
    },
    {
     "data": {
      "image/png": "[encoded data removed]",
      "text/plain": [
       "<Figure size 432x288 with 1 Axes>"
      ]
     },
     "metadata": {},
     "output_type": "display_data"
    }
   ],
   "source": [
    "sns.boxplot(x = maxi['cant_mora_30_consum_ult_3m_sf'])"
   ]
  },
  {
   "cell_type": "markdown",
   "id": "bright-keyboard",
   "metadata": {},
   "source": [
    "## ultimo valor"
   ]
  },
  {
   "cell_type": "code",
   "execution_count": 7,
   "id": "fourth-atlantic",
   "metadata": {},
   "outputs": [],
   "source": [
    "ult_val = ['ctas_activas','ctas_embargadas','cupo_tc_mdo','saldo_prom3_tdc_mdo']"
   ]
  },
  {
   "cell_type": "code",
   "execution_count": 8,
   "id": "corporate-alcohol",
   "metadata": {},
   "outputs": [],
   "source": [
    "ult_val = df[['periodo','id_cli','ctas_activas','ctas_embargadas','cupo_tc_mdo','saldo_prom3_tdc_mdo']].sort_values(by = \n",
    "    'periodo')"
   ]
  },
  {
   "cell_type": "code",
   "execution_count": 9,
   "id": "identical-prototype",
   "metadata": {},
   "outputs": [
    {
     "data": {
      "text/html": [
       "<div>\n",
       "<style scoped>\n",
       "    .dataframe tbody tr th:only-of-type {\n",
       "        vertical-align: middle;\n",
       "    }\n",
       "\n",
       "    .dataframe tbody tr th {\n",
       "        vertical-align: top;\n",
       "    }\n",
       "\n",
       "    .dataframe thead th {\n",
       "        text-align: right;\n",
       "    }\n",
       "</style>\n",
       "<table border=\"1\" class=\"dataframe\">\n",
       "  <thead>\n",
       "    <tr style=\"text-align: right;\">\n",
       "      <th></th>\n",
       "      <th>periodo</th>\n",
       "      <th>id_cli</th>\n",
       "      <th>ctas_activas</th>\n",
       "      <th>ctas_embargadas</th>\n",
       "      <th>cupo_tc_mdo</th>\n",
       "      <th>saldo_prom3_tdc_mdo</th>\n",
       "    </tr>\n",
       "  </thead>\n",
       "  <tbody>\n",
       "    <tr>\n",
       "      <th>14720737</th>\n",
       "      <td>201902.0</td>\n",
       "      <td>4635506.0</td>\n",
       "      <td>1.0</td>\n",
       "      <td>0.0</td>\n",
       "      <td>6.046491e+06</td>\n",
       "      <td>1.296347e+06</td>\n",
       "    </tr>\n",
       "    <tr>\n",
       "      <th>12008391</th>\n",
       "      <td>201902.0</td>\n",
       "      <td>8592531.0</td>\n",
       "      <td>1.0</td>\n",
       "      <td>0.0</td>\n",
       "      <td>0.000000e+00</td>\n",
       "      <td>0.000000e+00</td>\n",
       "    </tr>\n",
       "    <tr>\n",
       "      <th>17527397</th>\n",
       "      <td>201902.0</td>\n",
       "      <td>2880639.0</td>\n",
       "      <td>2.0</td>\n",
       "      <td>0.0</td>\n",
       "      <td>0.000000e+00</td>\n",
       "      <td>0.000000e+00</td>\n",
       "    </tr>\n",
       "    <tr>\n",
       "      <th>18740290</th>\n",
       "      <td>201902.0</td>\n",
       "      <td>3005678.0</td>\n",
       "      <td>1.0</td>\n",
       "      <td>0.0</td>\n",
       "      <td>0.000000e+00</td>\n",
       "      <td>0.000000e+00</td>\n",
       "    </tr>\n",
       "    <tr>\n",
       "      <th>13333004</th>\n",
       "      <td>201902.0</td>\n",
       "      <td>8271976.0</td>\n",
       "      <td>1.0</td>\n",
       "      <td>0.0</td>\n",
       "      <td>1.062306e+07</td>\n",
       "      <td>1.120165e+07</td>\n",
       "    </tr>\n",
       "    <tr>\n",
       "      <th>...</th>\n",
       "      <td>...</td>\n",
       "      <td>...</td>\n",
       "      <td>...</td>\n",
       "      <td>...</td>\n",
       "      <td>...</td>\n",
       "      <td>...</td>\n",
       "    </tr>\n",
       "    <tr>\n",
       "      <th>3129882</th>\n",
       "      <td>202011.0</td>\n",
       "      <td>4928880.0</td>\n",
       "      <td>1.0</td>\n",
       "      <td>0.0</td>\n",
       "      <td>0.000000e+00</td>\n",
       "      <td>0.000000e+00</td>\n",
       "    </tr>\n",
       "    <tr>\n",
       "      <th>14039796</th>\n",
       "      <td>202011.0</td>\n",
       "      <td>1219097.0</td>\n",
       "      <td>1.0</td>\n",
       "      <td>0.0</td>\n",
       "      <td>1.960635e+07</td>\n",
       "      <td>6.923756e+06</td>\n",
       "    </tr>\n",
       "    <tr>\n",
       "      <th>3129894</th>\n",
       "      <td>202011.0</td>\n",
       "      <td>6955643.0</td>\n",
       "      <td>1.0</td>\n",
       "      <td>0.0</td>\n",
       "      <td>0.000000e+00</td>\n",
       "      <td>0.000000e+00</td>\n",
       "    </tr>\n",
       "    <tr>\n",
       "      <th>3129836</th>\n",
       "      <td>202011.0</td>\n",
       "      <td>1057671.0</td>\n",
       "      <td>0.0</td>\n",
       "      <td>0.0</td>\n",
       "      <td>2.559707e+06</td>\n",
       "      <td>3.136394e+06</td>\n",
       "    </tr>\n",
       "    <tr>\n",
       "      <th>9489965</th>\n",
       "      <td>202011.0</td>\n",
       "      <td>1199482.0</td>\n",
       "      <td>1.0</td>\n",
       "      <td>0.0</td>\n",
       "      <td>2.208375e+06</td>\n",
       "      <td>9.609775e+05</td>\n",
       "    </tr>\n",
       "  </tbody>\n",
       "</table>\n",
       "<p>19255248 rows × 6 columns</p>\n",
       "</div>"
      ],
      "text/plain": [
       "           periodo     id_cli  ctas_activas  ctas_embargadas   cupo_tc_mdo  \\\n",
       "14720737  201902.0  4635506.0           1.0              0.0  6.046491e+06   \n",
       "12008391  201902.0  8592531.0           1.0              0.0  0.000000e+00   \n",
       "17527397  201902.0  2880639.0           2.0              0.0  0.000000e+00   \n",
       "18740290  201902.0  3005678.0           1.0              0.0  0.000000e+00   \n",
       "13333004  201902.0  8271976.0           1.0              0.0  1.062306e+07   \n",
       "...            ...        ...           ...              ...           ...   \n",
       "3129882   202011.0  4928880.0           1.0              0.0  0.000000e+00   \n",
       "14039796  202011.0  1219097.0           1.0              0.0  1.960635e+07   \n",
       "3129894   202011.0  6955643.0           1.0              0.0  0.000000e+00   \n",
       "3129836   202011.0  1057671.0           0.0              0.0  2.559707e+06   \n",
       "9489965   202011.0  1199482.0           1.0              0.0  2.208375e+06   \n",
       "\n",
       "          saldo_prom3_tdc_mdo  \n",
       "14720737         1.296347e+06  \n",
       "12008391         0.000000e+00  \n",
       "17527397         0.000000e+00  \n",
       "18740290         0.000000e+00  \n",
       "13333004         1.120165e+07  \n",
       "...                       ...  \n",
       "3129882          0.000000e+00  \n",
       "14039796         6.923756e+06  \n",
       "3129894          0.000000e+00  \n",
       "3129836          3.136394e+06  \n",
       "9489965          9.609775e+05  \n",
       "\n",
       "[19255248 rows x 6 columns]"
      ]
     },
     "execution_count": 9,
     "metadata": {},
     "output_type": "execute_result"
    }
   ],
   "source": [
    "ult_val"
   ]
  },
  {
   "cell_type": "code",
   "execution_count": 10,
   "id": "large-retro",
   "metadata": {},
   "outputs": [],
   "source": [
    "ult_val.drop_duplicates(subset=['id_cli'], inplace = True, keep='last')"
   ]
  },
  {
   "cell_type": "code",
   "execution_count": 11,
   "id": "vulnerable-planner",
   "metadata": {},
   "outputs": [
    {
     "data": {
      "text/html": [
       "<div>\n",
       "<style scoped>\n",
       "    .dataframe tbody tr th:only-of-type {\n",
       "        vertical-align: middle;\n",
       "    }\n",
       "\n",
       "    .dataframe tbody tr th {\n",
       "        vertical-align: top;\n",
       "    }\n",
       "\n",
       "    .dataframe thead th {\n",
       "        text-align: right;\n",
       "    }\n",
       "</style>\n",
       "<table border=\"1\" class=\"dataframe\">\n",
       "  <thead>\n",
       "    <tr style=\"text-align: right;\">\n",
       "      <th></th>\n",
       "      <th>periodo</th>\n",
       "      <th>id_cli</th>\n",
       "      <th>ctas_activas</th>\n",
       "      <th>ctas_embargadas</th>\n",
       "      <th>cupo_tc_mdo</th>\n",
       "      <th>saldo_prom3_tdc_mdo</th>\n",
       "    </tr>\n",
       "  </thead>\n",
       "  <tbody>\n",
       "    <tr>\n",
       "      <th>13332501</th>\n",
       "      <td>201902.0</td>\n",
       "      <td>3668670.0</td>\n",
       "      <td>1.0</td>\n",
       "      <td>0.0</td>\n",
       "      <td>0.000000e+00</td>\n",
       "      <td>0.000000e+00</td>\n",
       "    </tr>\n",
       "    <tr>\n",
       "      <th>9246375</th>\n",
       "      <td>201902.0</td>\n",
       "      <td>5844992.0</td>\n",
       "      <td>1.0</td>\n",
       "      <td>0.0</td>\n",
       "      <td>0.000000e+00</td>\n",
       "      <td>0.000000e+00</td>\n",
       "    </tr>\n",
       "    <tr>\n",
       "      <th>15014833</th>\n",
       "      <td>201902.0</td>\n",
       "      <td>3259356.0</td>\n",
       "      <td>1.0</td>\n",
       "      <td>0.0</td>\n",
       "      <td>1.394759e+07</td>\n",
       "      <td>9.927192e+06</td>\n",
       "    </tr>\n",
       "    <tr>\n",
       "      <th>15704186</th>\n",
       "      <td>201902.0</td>\n",
       "      <td>1177013.0</td>\n",
       "      <td>1.0</td>\n",
       "      <td>0.0</td>\n",
       "      <td>1.628383e+06</td>\n",
       "      <td>0.000000e+00</td>\n",
       "    </tr>\n",
       "    <tr>\n",
       "      <th>3171137</th>\n",
       "      <td>201902.0</td>\n",
       "      <td>4991557.0</td>\n",
       "      <td>1.0</td>\n",
       "      <td>0.0</td>\n",
       "      <td>0.000000e+00</td>\n",
       "      <td>0.000000e+00</td>\n",
       "    </tr>\n",
       "    <tr>\n",
       "      <th>17510568</th>\n",
       "      <td>201902.0</td>\n",
       "      <td>2032792.0</td>\n",
       "      <td>1.0</td>\n",
       "      <td>0.0</td>\n",
       "      <td>8.444238e+06</td>\n",
       "      <td>0.000000e+00</td>\n",
       "    </tr>\n",
       "    <tr>\n",
       "      <th>18750089</th>\n",
       "      <td>201902.0</td>\n",
       "      <td>1305287.0</td>\n",
       "      <td>1.0</td>\n",
       "      <td>0.0</td>\n",
       "      <td>3.127496e+06</td>\n",
       "      <td>0.000000e+00</td>\n",
       "    </tr>\n",
       "    <tr>\n",
       "      <th>3210189</th>\n",
       "      <td>201902.0</td>\n",
       "      <td>22090.0</td>\n",
       "      <td>2.0</td>\n",
       "      <td>0.0</td>\n",
       "      <td>1.171873e+07</td>\n",
       "      <td>4.785589e+06</td>\n",
       "    </tr>\n",
       "    <tr>\n",
       "      <th>9225203</th>\n",
       "      <td>201902.0</td>\n",
       "      <td>72444.0</td>\n",
       "      <td>3.0</td>\n",
       "      <td>0.0</td>\n",
       "      <td>1.259025e+07</td>\n",
       "      <td>3.231745e+06</td>\n",
       "    </tr>\n",
       "    <tr>\n",
       "      <th>3117623</th>\n",
       "      <td>201902.0</td>\n",
       "      <td>3765079.0</td>\n",
       "      <td>1.0</td>\n",
       "      <td>0.0</td>\n",
       "      <td>0.000000e+00</td>\n",
       "      <td>0.000000e+00</td>\n",
       "    </tr>\n",
       "    <tr>\n",
       "      <th>6579100</th>\n",
       "      <td>201902.0</td>\n",
       "      <td>188019.0</td>\n",
       "      <td>2.0</td>\n",
       "      <td>0.0</td>\n",
       "      <td>6.145529e+07</td>\n",
       "      <td>0.000000e+00</td>\n",
       "    </tr>\n",
       "    <tr>\n",
       "      <th>9220635</th>\n",
       "      <td>201902.0</td>\n",
       "      <td>424376.0</td>\n",
       "      <td>1.0</td>\n",
       "      <td>0.0</td>\n",
       "      <td>0.000000e+00</td>\n",
       "      <td>0.000000e+00</td>\n",
       "    </tr>\n",
       "    <tr>\n",
       "      <th>15683473</th>\n",
       "      <td>201902.0</td>\n",
       "      <td>110753.0</td>\n",
       "      <td>2.0</td>\n",
       "      <td>0.0</td>\n",
       "      <td>0.000000e+00</td>\n",
       "      <td>0.000000e+00</td>\n",
       "    </tr>\n",
       "    <tr>\n",
       "      <th>985685</th>\n",
       "      <td>201902.0</td>\n",
       "      <td>220901.0</td>\n",
       "      <td>1.0</td>\n",
       "      <td>0.0</td>\n",
       "      <td>0.000000e+00</td>\n",
       "      <td>0.000000e+00</td>\n",
       "    </tr>\n",
       "    <tr>\n",
       "      <th>17545626</th>\n",
       "      <td>201902.0</td>\n",
       "      <td>2058530.0</td>\n",
       "      <td>1.0</td>\n",
       "      <td>0.0</td>\n",
       "      <td>4.691243e+06</td>\n",
       "      <td>0.000000e+00</td>\n",
       "    </tr>\n",
       "    <tr>\n",
       "      <th>18730413</th>\n",
       "      <td>201902.0</td>\n",
       "      <td>2279734.0</td>\n",
       "      <td>2.0</td>\n",
       "      <td>0.0</td>\n",
       "      <td>0.000000e+00</td>\n",
       "      <td>0.000000e+00</td>\n",
       "    </tr>\n",
       "    <tr>\n",
       "      <th>15697126</th>\n",
       "      <td>201902.0</td>\n",
       "      <td>614457.0</td>\n",
       "      <td>1.0</td>\n",
       "      <td>0.0</td>\n",
       "      <td>2.293497e+06</td>\n",
       "      <td>6.244566e+05</td>\n",
       "    </tr>\n",
       "    <tr>\n",
       "      <th>10917796</th>\n",
       "      <td>201902.0</td>\n",
       "      <td>6394781.0</td>\n",
       "      <td>1.0</td>\n",
       "      <td>0.0</td>\n",
       "      <td>0.000000e+00</td>\n",
       "      <td>0.000000e+00</td>\n",
       "    </tr>\n",
       "    <tr>\n",
       "      <th>3126498</th>\n",
       "      <td>201902.0</td>\n",
       "      <td>1767063.0</td>\n",
       "      <td>0.0</td>\n",
       "      <td>0.0</td>\n",
       "      <td>0.000000e+00</td>\n",
       "      <td>0.000000e+00</td>\n",
       "    </tr>\n",
       "    <tr>\n",
       "      <th>17557564</th>\n",
       "      <td>201902.0</td>\n",
       "      <td>2858285.0</td>\n",
       "      <td>1.0</td>\n",
       "      <td>0.0</td>\n",
       "      <td>1.574173e+07</td>\n",
       "      <td>0.000000e+00</td>\n",
       "    </tr>\n",
       "  </tbody>\n",
       "</table>\n",
       "</div>"
      ],
      "text/plain": [
       "           periodo     id_cli  ctas_activas  ctas_embargadas   cupo_tc_mdo  \\\n",
       "13332501  201902.0  3668670.0           1.0              0.0  0.000000e+00   \n",
       "9246375   201902.0  5844992.0           1.0              0.0  0.000000e+00   \n",
       "15014833  201902.0  3259356.0           1.0              0.0  1.394759e+07   \n",
       "15704186  201902.0  1177013.0           1.0              0.0  1.628383e+06   \n",
       "3171137   201902.0  4991557.0           1.0              0.0  0.000000e+00   \n",
       "17510568  201902.0  2032792.0           1.0              0.0  8.444238e+06   \n",
       "18750089  201902.0  1305287.0           1.0              0.0  3.127496e+06   \n",
       "3210189   201902.0    22090.0           2.0              0.0  1.171873e+07   \n",
       "9225203   201902.0    72444.0           3.0              0.0  1.259025e+07   \n",
       "3117623   201902.0  3765079.0           1.0              0.0  0.000000e+00   \n",
       "6579100   201902.0   188019.0           2.0              0.0  6.145529e+07   \n",
       "9220635   201902.0   424376.0           1.0              0.0  0.000000e+00   \n",
       "15683473  201902.0   110753.0           2.0              0.0  0.000000e+00   \n",
       "985685    201902.0   220901.0           1.0              0.0  0.000000e+00   \n",
       "17545626  201902.0  2058530.0           1.0              0.0  4.691243e+06   \n",
       "18730413  201902.0  2279734.0           2.0              0.0  0.000000e+00   \n",
       "15697126  201902.0   614457.0           1.0              0.0  2.293497e+06   \n",
       "10917796  201902.0  6394781.0           1.0              0.0  0.000000e+00   \n",
       "3126498   201902.0  1767063.0           0.0              0.0  0.000000e+00   \n",
       "17557564  201902.0  2858285.0           1.0              0.0  1.574173e+07   \n",
       "\n",
       "          saldo_prom3_tdc_mdo  \n",
       "13332501         0.000000e+00  \n",
       "9246375          0.000000e+00  \n",
       "15014833         9.927192e+06  \n",
       "15704186         0.000000e+00  \n",
       "3171137          0.000000e+00  \n",
       "17510568         0.000000e+00  \n",
       "18750089         0.000000e+00  \n",
       "3210189          4.785589e+06  \n",
       "9225203          3.231745e+06  \n",
       "3117623          0.000000e+00  \n",
       "6579100          0.000000e+00  \n",
       "9220635          0.000000e+00  \n",
       "15683473         0.000000e+00  \n",
       "985685           0.000000e+00  \n",
       "17545626         0.000000e+00  \n",
       "18730413         0.000000e+00  \n",
       "15697126         6.244566e+05  \n",
       "10917796         0.000000e+00  \n",
       "3126498          0.000000e+00  \n",
       "17557564         0.000000e+00  "
      ]
     },
     "execution_count": 11,
     "metadata": {},
     "output_type": "execute_result"
    }
   ],
   "source": [
    "ult_val.head(20)"
   ]
  },
  {
   "cell_type": "code",
   "execution_count": 14,
   "id": "french-smith",
   "metadata": {},
   "outputs": [
    {
     "data": {
      "text/plain": [
       "<AxesSubplot:xlabel='cant_mora_30_tdc_ult_3m_sf'>"
      ]
     },
     "execution_count": 14,
     "metadata": {},
     "output_type": "execute_result"
    },
    {
     "data": {
      "image/png": "[encoded data removed]",
      "text/plain": [
       "<Figure size 432x288 with 1 Axes>"
      ]
     },
     "metadata": {},
     "output_type": "display_data"
    }
   ],
   "source": [
    "sns.set(style=\"ticks\", context=\"talk\")\n",
    "plt.style.use(\"dark_background\")\n",
    "sns.boxplot(x=df['cant_mora_30_tdc_ult_3m_sf'])"
   ]
  },
  {
   "cell_type": "code",
   "execution_count": 15,
   "id": "delayed-boring",
   "metadata": {},
   "outputs": [
    {
     "data": {
      "text/plain": [
       "<AxesSubplot:xlabel='ctas_activas'>"
      ]
     },
     "execution_count": 15,
     "metadata": {},
     "output_type": "execute_result"
    },
    {
     "data": {
      "image/png": "[encoded data removed]",
      "text/plain": [
       "<Figure size 432x288 with 1 Axes>"
      ]
     },
     "metadata": {},
     "output_type": "display_data"
    }
   ],
   "source": [
    "sns.boxplot(x = ult_val['ctas_activas'])"
   ]
  },
  {
   "cell_type": "code",
   "execution_count": 16,
   "id": "restricted-boxing",
   "metadata": {},
   "outputs": [
    {
     "data": {
      "text/plain": [
       "<AxesSubplot:xlabel='ctas_embargadas'>"
      ]
     },
     "execution_count": 16,
     "metadata": {},
     "output_type": "execute_result"
    },
    {
     "data": {
      "image/png": "[encoded data removed]",
      "text/plain": [
       "<Figure size 432x288 with 1 Axes>"
      ]
     },
     "metadata": {},
     "output_type": "display_data"
    }
   ],
   "source": [
    "sns.boxplot(x = ult_val['ctas_embargadas'])"
   ]
  },
  {
   "cell_type": "code",
   "execution_count": 17,
   "id": "looking-produce",
   "metadata": {},
   "outputs": [
    {
     "data": {
      "text/plain": [
       "<AxesSubplot:xlabel='cupo_tc_mdo'>"
      ]
     },
     "execution_count": 17,
     "metadata": {},
     "output_type": "execute_result"
    },
    {
     "data": {
      "image/png": "[encoded data removed]",
      "text/plain": [
       "<Figure size 432x288 with 1 Axes>"
      ]
     },
     "metadata": {},
     "output_type": "display_data"
    }
   ],
   "source": [
    "sns.boxplot(x = ult_val['cupo_tc_mdo'])"
   ]
  },
  {
   "cell_type": "code",
   "execution_count": 18,
   "id": "ready-vanilla",
   "metadata": {},
   "outputs": [
    {
     "data": {
      "text/plain": [
       "<AxesSubplot:xlabel='saldo_prom3_tdc_mdo'>"
      ]
     },
     "execution_count": 18,
     "metadata": {},
     "output_type": "execute_result"
    },
    {
     "data": {
      "image/png": "[encoded data removed]",
      "text/plain": [
       "<Figure size 432x288 with 1 Axes>"
      ]
     },
     "metadata": {},
     "output_type": "display_data"
    }
   ],
   "source": [
    "sns.boxplot(x = ult_val['saldo_prom3_tdc_mdo'])"
   ]
  },
  {
   "cell_type": "markdown",
   "id": "native-monthly",
   "metadata": {},
   "source": [
    "## promedio"
   ]
  },
  {
   "cell_type": "code",
   "execution_count": 12,
   "id": "executed-uganda",
   "metadata": {},
   "outputs": [],
   "source": [
    "prom = ['ingreso_nompen','ingreso_final','cuota_de_vivienda','cuota_de_consumo','cuota_rotativos',\n",
    "        'cuota_de_sector_solidario','cuota_sector_real_comercio']\n",
    "df['cuota_de_consumo'] = df['cuota_de_consumo'].abs() \n",
    "prom = df[['id_cli','ingreso_nompen','ingreso_final','cuota_de_vivienda','cuota_de_consumo','cuota_rotativos',\n",
    "        'cuota_de_sector_solidario','cuota_sector_real_comercio']].groupby(by = ['id_cli']).mean()"
   ]
  },
  {
   "cell_type": "code",
   "execution_count": 21,
   "id": "emerging-outline",
   "metadata": {},
   "outputs": [
    {
     "data": {
      "text/plain": [
       "<AxesSubplot:xlabel='ingreso_nompen'>"
      ]
     },
     "execution_count": 21,
     "metadata": {},
     "output_type": "execute_result"
    },
    {
     "data": {
      "image/png": "[encoded data removed]",
      "text/plain": [
       "<Figure size 432x288 with 1 Axes>"
      ]
     },
     "metadata": {},
     "output_type": "display_data"
    }
   ],
   "source": [
    "sns.boxplot(x = prom['ingreso_nompen'])"
   ]
  },
  {
   "cell_type": "code",
   "execution_count": 22,
   "id": "cubic-exchange",
   "metadata": {},
   "outputs": [
    {
     "data": {
      "text/plain": [
       "<AxesSubplot:xlabel='ingreso_final'>"
      ]
     },
     "execution_count": 22,
     "metadata": {},
     "output_type": "execute_result"
    },
    {
     "data": {
      "image/png": "[encoded data removed]",
      "text/plain": [
       "<Figure size 432x288 with 1 Axes>"
      ]
     },
     "metadata": {},
     "output_type": "display_data"
    }
   ],
   "source": [
    "sns.boxplot(x = prom['ingreso_final'])"
   ]
  },
  {
   "cell_type": "code",
   "execution_count": 23,
   "id": "objective-imaging",
   "metadata": {},
   "outputs": [
    {
     "data": {
      "text/plain": [
       "<AxesSubplot:xlabel='cuota_de_vivienda'>"
      ]
     },
     "execution_count": 23,
     "metadata": {},
     "output_type": "execute_result"
    },
    {
     "data": {
      "image/png": "[encoded data removed]",
      "text/plain": [
       "<Figure size 432x288 with 1 Axes>"
      ]
     },
     "metadata": {},
     "output_type": "display_data"
    }
   ],
   "source": [
    "sns.boxplot(x = prom['cuota_de_vivienda'])"
   ]
  },
  {
   "cell_type": "code",
   "execution_count": 24,
   "id": "afraid-president",
   "metadata": {},
   "outputs": [
    {
     "data": {
      "text/plain": [
       "<AxesSubplot:xlabel='cuota_de_consumo'>"
      ]
     },
     "execution_count": 24,
     "metadata": {},
     "output_type": "execute_result"
    },
    {
     "data": {
      "image/png": "[encoded data removed]",
      "text/plain": [
       "<Figure size 432x288 with 1 Axes>"
      ]
     },
     "metadata": {},
     "output_type": "display_data"
    }
   ],
   "source": [
    "sns.boxplot(x = prom['cuota_de_consumo'])"
   ]
  },
  {
   "cell_type": "code",
   "execution_count": 25,
   "id": "closed-dealing",
   "metadata": {},
   "outputs": [
    {
     "data": {
      "text/plain": [
       "<AxesSubplot:xlabel='cuota_rotativos'>"
      ]
     },
     "execution_count": 25,
     "metadata": {},
     "output_type": "execute_result"
    },
    {
     "data": {
      "image/png": "[encoded data removed]",
      "text/plain": [
       "<Figure size 432x288 with 1 Axes>"
      ]
     },
     "metadata": {},
     "output_type": "display_data"
    }
   ],
   "source": [
    "sns.boxplot(x = prom['cuota_rotativos'])"
   ]
  },
  {
   "cell_type": "code",
   "execution_count": 26,
   "id": "genetic-heritage",
   "metadata": {},
   "outputs": [
    {
     "data": {
      "text/plain": [
       "<AxesSubplot:xlabel='cuota_de_sector_solidario'>"
      ]
     },
     "execution_count": 26,
     "metadata": {},
     "output_type": "execute_result"
    },
    {
     "data": {
      "image/png": "[encoded data removed]",
      "text/plain": [
       "<Figure size 432x288 with 1 Axes>"
      ]
     },
     "metadata": {},
     "output_type": "display_data"
    }
   ],
   "source": [
    "sns.boxplot(x = prom['cuota_de_sector_solidario'])"
   ]
  },
  {
   "cell_type": "code",
   "execution_count": 27,
   "id": "fallen-source",
   "metadata": {},
   "outputs": [
    {
     "data": {
      "text/plain": [
       "<AxesSubplot:xlabel='cuota_sector_real_comercio'>"
      ]
     },
     "execution_count": 27,
     "metadata": {},
     "output_type": "execute_result"
    },
    {
     "data": {
      "image/png": "[encoded data removed]",
      "text/plain": [
       "<Figure size 432x288 with 1 Axes>"
      ]
     },
     "metadata": {},
     "output_type": "display_data"
    }
   ],
   "source": [
    "sns.boxplot(x = prom['cuota_sector_real_comercio'])"
   ]
  },
  {
   "cell_type": "markdown",
   "id": "thorough-hospital",
   "metadata": {},
   "source": [
    "## Calcular desviaciones"
   ]
  },
  {
   "cell_type": "code",
   "execution_count": 13,
   "id": "assured-memorabilia",
   "metadata": {},
   "outputs": [],
   "source": [
    "des = ['id_cli','mediana_nom3','mediana_pen3','ingreso_nompen','ingreso_final']\n",
    "desv = df[['id_cli','mediana_nom3','mediana_pen3','ingreso_nompen','ingreso_final']].groupby(by = ['id_cli']).std()\n",
    "desv.columns=['mediana_nom3_desv','mediana_pen3_desv','ingreso_nompen_desv','ingreso_final_desv']"
   ]
  },
  {
   "cell_type": "code",
   "execution_count": 41,
   "id": "caring-palestine",
   "metadata": {},
   "outputs": [
    {
     "data": {
      "text/plain": [
       "<AxesSubplot:xlabel='mediana_nom3_desv'>"
      ]
     },
     "execution_count": 41,
     "metadata": {},
     "output_type": "execute_result"
    },
    {
     "data": {
      "image/png": "[encoded data removed]",
      "text/plain": [
       "<Figure size 432x288 with 1 Axes>"
      ]
     },
     "metadata": {},
     "output_type": "display_data"
    }
   ],
   "source": [
    "sns.boxplot(x = desv['mediana_nom3_desv'])"
   ]
  },
  {
   "cell_type": "code",
   "execution_count": 31,
   "id": "controversial-powder",
   "metadata": {},
   "outputs": [
    {
     "data": {
      "text/plain": [
       "<AxesSubplot:xlabel='mediana_pen3'>"
      ]
     },
     "execution_count": 31,
     "metadata": {},
     "output_type": "execute_result"
    },
    {
     "data": {
      "image/png": "[encoded data removed]",
      "text/plain": [
       "<Figure size 432x288 with 1 Axes>"
      ]
     },
     "metadata": {},
     "output_type": "display_data"
    }
   ],
   "source": [
    "sns.boxplot(x = desv['mediana_pen3_desv'])"
   ]
  },
  {
   "cell_type": "code",
   "execution_count": 32,
   "id": "developed-physiology",
   "metadata": {},
   "outputs": [
    {
     "data": {
      "text/plain": [
       "<AxesSubplot:xlabel='ingreso_nompen'>"
      ]
     },
     "execution_count": 32,
     "metadata": {},
     "output_type": "execute_result"
    },
    {
     "data": {
      "image/png": "[encoded data removed]",
      "text/plain": [
       "<Figure size 432x288 with 1 Axes>"
      ]
     },
     "metadata": {},
     "output_type": "display_data"
    }
   ],
   "source": [
    "sns.boxplot(x = desv['ingreso_nompen_desv'])"
   ]
  },
  {
   "cell_type": "code",
   "execution_count": 33,
   "id": "minute-coaching",
   "metadata": {},
   "outputs": [
    {
     "data": {
      "text/plain": [
       "<AxesSubplot:xlabel='ingreso_final'>"
      ]
     },
     "execution_count": 33,
     "metadata": {},
     "output_type": "execute_result"
    },
    {
     "data": {
      "image/png": "[encoded data removed]",
      "text/plain": [
       "<Figure size 432x288 with 1 Axes>"
      ]
     },
     "metadata": {},
     "output_type": "display_data"
    }
   ],
   "source": [
    "sns.boxplot(x = desv['ingreso_final_desv'])"
   ]
  },
  {
   "cell_type": "code",
   "execution_count": 34,
   "id": "entitled-contract",
   "metadata": {},
   "outputs": [
    {
     "data": {
      "text/plain": [
       "Index(['periodo', 'id_cli', 'fecha_nacimiento', 'edad', 'genero',\n",
       "       'estado_civil', 'nivel_academico', 'profesion', 'ocupacion',\n",
       "       'tipo_vivienda', 'ult_actual', 'categoria', 'codigo_ciiu',\n",
       "       'ind_mora_vigente', 'cartera_castigada', 'ciudad_residencia',\n",
       "       'departamento_residencia', 'ciudad_laboral', 'departamento_laboral',\n",
       "       'rechazo_credito', 'mora_max', 'cant_moras_30_ult_12_meses',\n",
       "       'cant_moras_60_ult_12_meses', 'cant_moras_90_ult_12_meses',\n",
       "       'cupo_total_tc', 'tenencia_tc', 'cuota_tc_bancolombia', 'tiene_consumo',\n",
       "       'tiene_crediagil', 'nro_tot_cuentas', 'ctas_activas',\n",
       "       'tiene_ctas_activas', 'ctas_embargadas', 'tiene_ctas_embargadas',\n",
       "       'pension_fopep', 'cuota_cred_hipot', 'tiene_cred_hipo_1',\n",
       "       'tiene_cred_hipo_2', 'mediana_nom3', 'mediana_pen3', 'ingreso_nompen',\n",
       "       'cat_ingreso', 'ingreso_final', 'cant_mora_30_tdc_ult_3m_sf',\n",
       "       'cant_mora_30_consum_ult_3m_sf', 'cuota_de_vivienda',\n",
       "       'cuota_de_consumo', 'cuota_rotativos', 'cuota_tarjeta_de_credito',\n",
       "       'cuota_de_sector_solidario', 'cuota_sector_real_comercio',\n",
       "       'cupo_tc_mdo', 'saldo_prom3_tdc_mdo', 'cuota_tc_mdo',\n",
       "       'saldo_no_rot_mdo', 'cuota_libranza_sf', 'cant_oblig_tot_sf',\n",
       "       'cant_cast_ult_12m_sr', 'ind', 'rep_calif_cred', 'pol_centr_ext',\n",
       "       'convenio_lib', 'ingreso_nomina', 'ingreso_segurida_social',\n",
       "       'gasto_familiar'],\n",
       "      dtype='object')"
      ]
     },
     "execution_count": 34,
     "metadata": {},
     "output_type": "execute_result"
    }
   ],
   "source": [
    "df.columns"
   ]
  },
  {
   "cell_type": "code",
   "execution_count": 35,
   "id": "imperial-rings",
   "metadata": {},
   "outputs": [
    {
     "name": "stdout",
     "output_type": "stream",
     "text": [
      "<class 'pandas.core.frame.DataFrame'>\n",
      "RangeIndex: 19255248 entries, 0 to 19255247\n",
      "Data columns (total 65 columns):\n",
      " #   Column                         Dtype  \n",
      "---  ------                         -----  \n",
      " 0   periodo                        float64\n",
      " 1   id_cli                         float64\n",
      " 2   fecha_nacimiento               float64\n",
      " 3   edad                           float64\n",
      " 4   genero                         object \n",
      " 5   estado_civil                   object \n",
      " 6   nivel_academico                object \n",
      " 7   profesion                      object \n",
      " 8   ocupacion                      object \n",
      " 9   tipo_vivienda                  object \n",
      " 10  ult_actual                     float64\n",
      " 11  categoria                      int64  \n",
      " 12  codigo_ciiu                    float64\n",
      " 13  ind_mora_vigente               bool   \n",
      " 14  cartera_castigada              bool   \n",
      " 15  ciudad_residencia              object \n",
      " 16  departamento_residencia        object \n",
      " 17  ciudad_laboral                 object \n",
      " 18  departamento_laboral           object \n",
      " 19  rechazo_credito                object \n",
      " 20  mora_max                       float64\n",
      " 21  cant_moras_30_ult_12_meses     float64\n",
      " 22  cant_moras_60_ult_12_meses     float64\n",
      " 23  cant_moras_90_ult_12_meses     float64\n",
      " 24  cupo_total_tc                  float64\n",
      " 25  tenencia_tc                    bool   \n",
      " 26  cuota_tc_bancolombia           float64\n",
      " 27  tiene_consumo                  bool   \n",
      " 28  tiene_crediagil                bool   \n",
      " 29  nro_tot_cuentas                float64\n",
      " 30  ctas_activas                   float64\n",
      " 31  tiene_ctas_activas             bool   \n",
      " 32  ctas_embargadas                float64\n",
      " 33  tiene_ctas_embargadas          bool   \n",
      " 34  pension_fopep                  bool   \n",
      " 35  cuota_cred_hipot               float64\n",
      " 36  tiene_cred_hipo_1              bool   \n",
      " 37  tiene_cred_hipo_2              bool   \n",
      " 38  mediana_nom3                   float64\n",
      " 39  mediana_pen3                   float64\n",
      " 40  ingreso_nompen                 float64\n",
      " 41  cat_ingreso                    object \n",
      " 42  ingreso_final                  float64\n",
      " 43  cant_mora_30_tdc_ult_3m_sf     float64\n",
      " 44  cant_mora_30_consum_ult_3m_sf  float64\n",
      " 45  cuota_de_vivienda              float64\n",
      " 46  cuota_de_consumo               float64\n",
      " 47  cuota_rotativos                float64\n",
      " 48  cuota_tarjeta_de_credito       float64\n",
      " 49  cuota_de_sector_solidario      float64\n",
      " 50  cuota_sector_real_comercio     float64\n",
      " 51  cupo_tc_mdo                    float64\n",
      " 52  saldo_prom3_tdc_mdo            float64\n",
      " 53  cuota_tc_mdo                   float64\n",
      " 54  saldo_no_rot_mdo               float64\n",
      " 55  cuota_libranza_sf              float64\n",
      " 56  cant_oblig_tot_sf              float64\n",
      " 57  cant_cast_ult_12m_sr           float64\n",
      " 58  ind                            float64\n",
      " 59  rep_calif_cred                 object \n",
      " 60  pol_centr_ext                  float64\n",
      " 61  convenio_lib                   float64\n",
      " 62  ingreso_nomina                 float64\n",
      " 63  ingreso_segurida_social        float64\n",
      " 64  gasto_familiar                 float64\n",
      "dtypes: bool(10), float64(41), int64(1), object(13)\n",
      "memory usage: 8.1+ GB\n"
     ]
    }
   ],
   "source": [
    "df.info()"
   ]
  },
  {
   "cell_type": "code",
   "execution_count": 14,
   "id": "coordinated-johnston",
   "metadata": {},
   "outputs": [],
   "source": [
    "#salidas: maxi ult_val desv\n",
    "output = maxi.merge(ult_val,on = ['id_cli']).merge(desv, on = ['id_cli']).merge(prom, on=['id_cli'])"
   ]
  },
  {
   "cell_type": "code",
   "execution_count": 15,
   "id": "auburn-ukraine",
   "metadata": {},
   "outputs": [],
   "source": [
    "output.to_csv('Aggregate_20_30.csv')"
   ]
  },
  {
   "cell_type": "code",
   "execution_count": null,
   "id": "textile-illustration",
   "metadata": {},
   "outputs": [],
   "source": []
  }
 ],
 "metadata": {
  "kernelspec": {
   "display_name": "Python 3",
   "language": "python",
   "name": "python3"
  },
  "language_info": {
   "codemirror_mode": {
    "name": "ipython",
    "version": 3
   },
   "file_extension": ".py",
   "mimetype": "text/x-python",
   "name": "python",
   "nbconvert_exporter": "python",
   "pygments_lexer": "ipython3",
   "version": "3.6.3"
  }
 },
 "nbformat": 4,
 "nbformat_minor": 5
}
