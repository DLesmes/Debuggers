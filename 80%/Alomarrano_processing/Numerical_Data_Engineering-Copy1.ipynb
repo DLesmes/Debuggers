{
 "cells": [
  {
   "cell_type": "code",
   "execution_count": 1,
   "metadata": {},
   "outputs": [
    {
     "name": "stderr",
     "output_type": "stream",
     "text": [
      "UserWarning: Modin Ray engine was started with 355 GB free space avaliable, if it is not enough for your application, please set environment variable MODIN_ON_RAY_PLASMA_DIR=/directory/without/space/limiting\n"
     ]
    }
   ],
   "source": [
    "#import pandas as pd\n",
    "import numpy as np\n",
    "import modin.pandas as pd\n",
    "from zipfile import ZipFile"
   ]
  },
  {
   "cell_type": "code",
   "execution_count": 2,
   "metadata": {},
   "outputs": [],
   "source": [
    "#inputs = pd.read_csv('Dataton_train.csv', sep =',',header = None,error_bad_lines= False)\n",
    "#zip_file = ZipFile('/mnt/workstation/data/dt2020_base_evaluar.zip')\n",
    "#inputs = pd.read_csv(zip_file.open(\"dt2020_base_evaluar.csv\"), sep= \",\")\n",
    "#headers.columns"
   ]
  },
  {
   "cell_type": "code",
   "execution_count": 3,
   "metadata": {},
   "outputs": [
    {
     "data": {
      "text/html": [
       "<div>\n",
       "<style scoped>\n",
       "    .dataframe tbody tr th:only-of-type {\n",
       "        vertical-align: middle;\n",
       "    }\n",
       "\n",
       "    .dataframe tbody tr th {\n",
       "        vertical-align: top;\n",
       "    }\n",
       "\n",
       "    .dataframe thead th {\n",
       "        text-align: right;\n",
       "    }\n",
       "</style>\n",
       "<table border=\"1\" class=\"dataframe\">\n",
       "  <thead>\n",
       "    <tr style=\"text-align: right;\">\n",
       "      <th></th>\n",
       "      <th>id_registro</th>\n",
       "      <th>periodo</th>\n",
       "      <th>id_cli</th>\n",
       "      <th>fecha_nacimiento</th>\n",
       "      <th>edad</th>\n",
       "      <th>genero</th>\n",
       "      <th>estado_civil</th>\n",
       "      <th>nivel_academico</th>\n",
       "      <th>profesion</th>\n",
       "      <th>ocupacion</th>\n",
       "      <th>...</th>\n",
       "      <th>saldo_prom3_tdc_mdo</th>\n",
       "      <th>cuota_tc_mdo</th>\n",
       "      <th>saldo_no_rot_mdo</th>\n",
       "      <th>cuota_libranza_sf</th>\n",
       "      <th>cant_oblig_tot_sf</th>\n",
       "      <th>cant_cast_ult_12m_sr</th>\n",
       "      <th>ind</th>\n",
       "      <th>rep_calif_cred</th>\n",
       "      <th>pol_centr_ext</th>\n",
       "      <th>gasto_familiar</th>\n",
       "    </tr>\n",
       "  </thead>\n",
       "  <tbody>\n",
       "    <tr>\n",
       "      <th>0</th>\n",
       "      <td>2089776#201908</td>\n",
       "      <td>201908</td>\n",
       "      <td>2089776</td>\n",
       "      <td>19840630.0</td>\n",
       "      <td>35.000000</td>\n",
       "      <td>M</td>\n",
       "      <td>DIVORCIADO</td>\n",
       "      <td>TECNOLOGO</td>\n",
       "      <td>TECNOLOGIA SISTEMAS</td>\n",
       "      <td>Empleado</td>\n",
       "      <td>...</td>\n",
       "      <td>0.000000e+00</td>\n",
       "      <td>0.0</td>\n",
       "      <td>903000.0</td>\n",
       "      <td>0.0</td>\n",
       "      <td>1.0</td>\n",
       "      <td>0.0</td>\n",
       "      <td>3.117155e+05</td>\n",
       "      <td>C</td>\n",
       "      <td>0.0</td>\n",
       "      <td>232526.0</td>\n",
       "    </tr>\n",
       "    <tr>\n",
       "      <th>1</th>\n",
       "      <td>2089776#201909</td>\n",
       "      <td>201909</td>\n",
       "      <td>2089776</td>\n",
       "      <td>19840630.0</td>\n",
       "      <td>35.000000</td>\n",
       "      <td>M</td>\n",
       "      <td>DIVORCIADO</td>\n",
       "      <td>TECNOLOGO</td>\n",
       "      <td>TECNOLOGIA SISTEMAS</td>\n",
       "      <td>Empleado</td>\n",
       "      <td>...</td>\n",
       "      <td>0.000000e+00</td>\n",
       "      <td>0.0</td>\n",
       "      <td>903000.0</td>\n",
       "      <td>0.0</td>\n",
       "      <td>1.0</td>\n",
       "      <td>0.0</td>\n",
       "      <td>3.117155e+05</td>\n",
       "      <td>C</td>\n",
       "      <td>0.0</td>\n",
       "      <td>265900.0</td>\n",
       "    </tr>\n",
       "    <tr>\n",
       "      <th>2</th>\n",
       "      <td>2089776#201907</td>\n",
       "      <td>201907</td>\n",
       "      <td>2089776</td>\n",
       "      <td>19840630.0</td>\n",
       "      <td>35.000000</td>\n",
       "      <td>M</td>\n",
       "      <td>DIVORCIADO</td>\n",
       "      <td>TECNOLOGO</td>\n",
       "      <td>TECNOLOGIA SISTEMAS</td>\n",
       "      <td>Empleado</td>\n",
       "      <td>...</td>\n",
       "      <td>0.000000e+00</td>\n",
       "      <td>0.0</td>\n",
       "      <td>903000.0</td>\n",
       "      <td>0.0</td>\n",
       "      <td>1.0</td>\n",
       "      <td>0.0</td>\n",
       "      <td>3.113060e+05</td>\n",
       "      <td>C</td>\n",
       "      <td>0.0</td>\n",
       "      <td>243052.0</td>\n",
       "    </tr>\n",
       "    <tr>\n",
       "      <th>3</th>\n",
       "      <td>2089776#201903</td>\n",
       "      <td>201903</td>\n",
       "      <td>2089776</td>\n",
       "      <td>19840630.0</td>\n",
       "      <td>35.000000</td>\n",
       "      <td>M</td>\n",
       "      <td>DIVORCIADO</td>\n",
       "      <td>TECNOLOGO</td>\n",
       "      <td>TECNOLOGIA SISTEMAS</td>\n",
       "      <td>Empleado</td>\n",
       "      <td>...</td>\n",
       "      <td>0.000000e+00</td>\n",
       "      <td>0.0</td>\n",
       "      <td>2433000.0</td>\n",
       "      <td>0.0</td>\n",
       "      <td>1.0</td>\n",
       "      <td>0.0</td>\n",
       "      <td>3.113060e+05</td>\n",
       "      <td>C</td>\n",
       "      <td>0.0</td>\n",
       "      <td>276014.0</td>\n",
       "    </tr>\n",
       "    <tr>\n",
       "      <th>4</th>\n",
       "      <td>2089776#201911</td>\n",
       "      <td>201911</td>\n",
       "      <td>2089776</td>\n",
       "      <td>19840630.0</td>\n",
       "      <td>35.000000</td>\n",
       "      <td>M</td>\n",
       "      <td>DIVORCIADO</td>\n",
       "      <td>TECNOLOGO</td>\n",
       "      <td>TECNOLOGIA SISTEMAS</td>\n",
       "      <td>Empleado</td>\n",
       "      <td>...</td>\n",
       "      <td>0.000000e+00</td>\n",
       "      <td>0.0</td>\n",
       "      <td>0.0</td>\n",
       "      <td>0.0</td>\n",
       "      <td>0.0</td>\n",
       "      <td>0.0</td>\n",
       "      <td>6.775160e+05</td>\n",
       "      <td>C</td>\n",
       "      <td>0.0</td>\n",
       "      <td>418866.0</td>\n",
       "    </tr>\n",
       "    <tr>\n",
       "      <th>...</th>\n",
       "      <td>...</td>\n",
       "      <td>...</td>\n",
       "      <td>...</td>\n",
       "      <td>...</td>\n",
       "      <td>...</td>\n",
       "      <td>...</td>\n",
       "      <td>...</td>\n",
       "      <td>...</td>\n",
       "      <td>...</td>\n",
       "      <td>...</td>\n",
       "      <td>...</td>\n",
       "      <td>...</td>\n",
       "      <td>...</td>\n",
       "      <td>...</td>\n",
       "      <td>...</td>\n",
       "      <td>...</td>\n",
       "      <td>...</td>\n",
       "      <td>...</td>\n",
       "      <td>...</td>\n",
       "      <td>...</td>\n",
       "      <td>...</td>\n",
       "    </tr>\n",
       "    <tr>\n",
       "      <th>9527188</th>\n",
       "      <td>8596193#202011</td>\n",
       "      <td>202011</td>\n",
       "      <td>8596193</td>\n",
       "      <td>19740415.0</td>\n",
       "      <td>46.516085</td>\n",
       "      <td>F</td>\n",
       "      <td>SOLTERO</td>\n",
       "      <td>UNIVERSITARIO</td>\n",
       "      <td>OTROS</td>\n",
       "      <td>Empleado</td>\n",
       "      <td>...</td>\n",
       "      <td>0.000000e+00</td>\n",
       "      <td>0.0</td>\n",
       "      <td>0.0</td>\n",
       "      <td>0.0</td>\n",
       "      <td>2.0</td>\n",
       "      <td>0.0</td>\n",
       "      <td>2.101424e+06</td>\n",
       "      <td>A</td>\n",
       "      <td>0.0</td>\n",
       "      <td>NaN</td>\n",
       "    </tr>\n",
       "    <tr>\n",
       "      <th>9527189</th>\n",
       "      <td>8616083#202011</td>\n",
       "      <td>202011</td>\n",
       "      <td>8616083</td>\n",
       "      <td>19850620.0</td>\n",
       "      <td>35.334702</td>\n",
       "      <td>M</td>\n",
       "      <td>NO INFORMA</td>\n",
       "      <td>NO INFORMA</td>\n",
       "      <td>NaN</td>\n",
       "      <td>Socio Empleado - Socio</td>\n",
       "      <td>...</td>\n",
       "      <td>8.286667e+06</td>\n",
       "      <td>237000.0</td>\n",
       "      <td>99000.0</td>\n",
       "      <td>0.0</td>\n",
       "      <td>12.0</td>\n",
       "      <td>0.0</td>\n",
       "      <td>1.170550e+07</td>\n",
       "      <td>C</td>\n",
       "      <td>0.0</td>\n",
       "      <td>NaN</td>\n",
       "    </tr>\n",
       "    <tr>\n",
       "      <th>9527190</th>\n",
       "      <td>8670207#202011</td>\n",
       "      <td>202011</td>\n",
       "      <td>8670207</td>\n",
       "      <td>19740316.0</td>\n",
       "      <td>46.598220</td>\n",
       "      <td>M</td>\n",
       "      <td>DIVORCIADO</td>\n",
       "      <td>NO INFORMA</td>\n",
       "      <td>NaN</td>\n",
       "      <td>Profesional Independiente</td>\n",
       "      <td>...</td>\n",
       "      <td>3.091700e+07</td>\n",
       "      <td>10350000.0</td>\n",
       "      <td>300000.0</td>\n",
       "      <td>0.0</td>\n",
       "      <td>17.0</td>\n",
       "      <td>0.0</td>\n",
       "      <td>-4.154790e+07</td>\n",
       "      <td>D</td>\n",
       "      <td>0.0</td>\n",
       "      <td>NaN</td>\n",
       "    </tr>\n",
       "    <tr>\n",
       "      <th>9527191</th>\n",
       "      <td>8677655#202011</td>\n",
       "      <td>202011</td>\n",
       "      <td>8677655</td>\n",
       "      <td>19780722.0</td>\n",
       "      <td>42.247775</td>\n",
       "      <td>F</td>\n",
       "      <td>CASADO</td>\n",
       "      <td>ESPECIALIZACION</td>\n",
       "      <td>ECONOMIA</td>\n",
       "      <td>Empleado</td>\n",
       "      <td>...</td>\n",
       "      <td>3.760867e+07</td>\n",
       "      <td>1953000.0</td>\n",
       "      <td>184811000.0</td>\n",
       "      <td>0.0</td>\n",
       "      <td>18.0</td>\n",
       "      <td>0.0</td>\n",
       "      <td>5.313457e+06</td>\n",
       "      <td>B</td>\n",
       "      <td>0.0</td>\n",
       "      <td>NaN</td>\n",
       "    </tr>\n",
       "    <tr>\n",
       "      <th>9527192</th>\n",
       "      <td>8692808#202011</td>\n",
       "      <td>202011</td>\n",
       "      <td>8692808</td>\n",
       "      <td>19801025.0</td>\n",
       "      <td>39.986311</td>\n",
       "      <td>F</td>\n",
       "      <td>NO INFORMA</td>\n",
       "      <td>UNIVERSITARIO</td>\n",
       "      <td>OTROS</td>\n",
       "      <td>Empleado</td>\n",
       "      <td>...</td>\n",
       "      <td>6.008000e+07</td>\n",
       "      <td>1141000.0</td>\n",
       "      <td>25769000.0</td>\n",
       "      <td>0.0</td>\n",
       "      <td>14.0</td>\n",
       "      <td>0.0</td>\n",
       "      <td>-2.172737e+06</td>\n",
       "      <td>E</td>\n",
       "      <td>0.0</td>\n",
       "      <td>NaN</td>\n",
       "    </tr>\n",
       "  </tbody>\n",
       "</table>\n",
       "<p>9527193 rows x 56 columns</p>\n",
       "</div>"
      ],
      "text/plain": [
       "            id_registro  periodo   id_cli  fecha_nacimiento       edad genero  \\\n",
       "0        2089776#201908   201908  2089776        19840630.0  35.000000      M   \n",
       "1        2089776#201909   201909  2089776        19840630.0  35.000000      M   \n",
       "2        2089776#201907   201907  2089776        19840630.0  35.000000      M   \n",
       "3        2089776#201903   201903  2089776        19840630.0  35.000000      M   \n",
       "4        2089776#201911   201911  2089776        19840630.0  35.000000      M   \n",
       "...                 ...      ...      ...               ...        ...    ...   \n",
       "9527188  8596193#202011   202011  8596193        19740415.0  46.516085      F   \n",
       "9527189  8616083#202011   202011  8616083        19850620.0  35.334702      M   \n",
       "9527190  8670207#202011   202011  8670207        19740316.0  46.598220      M   \n",
       "9527191  8677655#202011   202011  8677655        19780722.0  42.247775      F   \n",
       "9527192  8692808#202011   202011  8692808        19801025.0  39.986311      F   \n",
       "\n",
       "        estado_civil  nivel_academico            profesion  \\\n",
       "0         DIVORCIADO        TECNOLOGO  TECNOLOGIA SISTEMAS   \n",
       "1         DIVORCIADO        TECNOLOGO  TECNOLOGIA SISTEMAS   \n",
       "2         DIVORCIADO        TECNOLOGO  TECNOLOGIA SISTEMAS   \n",
       "3         DIVORCIADO        TECNOLOGO  TECNOLOGIA SISTEMAS   \n",
       "4         DIVORCIADO        TECNOLOGO  TECNOLOGIA SISTEMAS   \n",
       "...              ...              ...                  ...   \n",
       "9527188      SOLTERO    UNIVERSITARIO                OTROS   \n",
       "9527189   NO INFORMA       NO INFORMA                  NaN   \n",
       "9527190   DIVORCIADO       NO INFORMA                  NaN   \n",
       "9527191       CASADO  ESPECIALIZACION             ECONOMIA   \n",
       "9527192   NO INFORMA    UNIVERSITARIO                OTROS   \n",
       "\n",
       "                         ocupacion  ...  saldo_prom3_tdc_mdo  cuota_tc_mdo  \\\n",
       "0                         Empleado  ...         0.000000e+00           0.0   \n",
       "1                         Empleado  ...         0.000000e+00           0.0   \n",
       "2                         Empleado  ...         0.000000e+00           0.0   \n",
       "3                         Empleado  ...         0.000000e+00           0.0   \n",
       "4                         Empleado  ...         0.000000e+00           0.0   \n",
       "...                            ...  ...                  ...           ...   \n",
       "9527188                   Empleado  ...         0.000000e+00           0.0   \n",
       "9527189     Socio Empleado - Socio  ...         8.286667e+06      237000.0   \n",
       "9527190  Profesional Independiente  ...         3.091700e+07    10350000.0   \n",
       "9527191                   Empleado  ...         3.760867e+07     1953000.0   \n",
       "9527192                   Empleado  ...         6.008000e+07     1141000.0   \n",
       "\n",
       "         saldo_no_rot_mdo  cuota_libranza_sf  cant_oblig_tot_sf  \\\n",
       "0                903000.0                0.0                1.0   \n",
       "1                903000.0                0.0                1.0   \n",
       "2                903000.0                0.0                1.0   \n",
       "3               2433000.0                0.0                1.0   \n",
       "4                     0.0                0.0                0.0   \n",
       "...                   ...                ...                ...   \n",
       "9527188               0.0                0.0                2.0   \n",
       "9527189           99000.0                0.0               12.0   \n",
       "9527190          300000.0                0.0               17.0   \n",
       "9527191       184811000.0                0.0               18.0   \n",
       "9527192        25769000.0                0.0               14.0   \n",
       "\n",
       "         cant_cast_ult_12m_sr           ind  rep_calif_cred  pol_centr_ext  \\\n",
       "0                         0.0  3.117155e+05               C            0.0   \n",
       "1                         0.0  3.117155e+05               C            0.0   \n",
       "2                         0.0  3.113060e+05               C            0.0   \n",
       "3                         0.0  3.113060e+05               C            0.0   \n",
       "4                         0.0  6.775160e+05               C            0.0   \n",
       "...                       ...           ...             ...            ...   \n",
       "9527188                   0.0  2.101424e+06               A            0.0   \n",
       "9527189                   0.0  1.170550e+07               C            0.0   \n",
       "9527190                   0.0 -4.154790e+07               D            0.0   \n",
       "9527191                   0.0  5.313457e+06               B            0.0   \n",
       "9527192                   0.0 -2.172737e+06               E            0.0   \n",
       "\n",
       "        gasto_familiar  \n",
       "0             232526.0  \n",
       "1             265900.0  \n",
       "2             243052.0  \n",
       "3             276014.0  \n",
       "4             418866.0  \n",
       "...                ...  \n",
       "9527188            NaN  \n",
       "9527189            NaN  \n",
       "9527190            NaN  \n",
       "9527191            NaN  \n",
       "9527192            NaN  \n",
       "\n",
       "[9527193 rows x 56 columns]"
      ]
     },
     "execution_count": 3,
     "metadata": {},
     "output_type": "execute_result"
    }
   ],
   "source": [
    "inputs = pd.read_csv(\"/mnt/workstation/data/Alomarrano/ToComplete_littlePig.csv\")#, sep= \",\", names =header)\n",
    "#inputs = Totrain.iloc[:,1:]\n",
    "inputs"
   ]
  },
  {
   "cell_type": "code",
   "execution_count": 4,
   "metadata": {},
   "outputs": [
    {
     "data": {
      "text/plain": [
       "819841"
      ]
     },
     "execution_count": 4,
     "metadata": {},
     "output_type": "execute_result"
    }
   ],
   "source": [
    "len(inputs['id_cli'].unique())"
   ]
  },
  {
   "cell_type": "markdown",
   "metadata": {},
   "source": [
    "inputs.columns =  ['periodo','id_cli','fecha_nacimiento','edad','genero','estado_civil',\n",
    "    'nivel_academico','profesion','ocupacion','tipo_vivienda','ult_actual','categoria','codigo_ciiu',\n",
    "    'ind_mora_vigente','cartera_castigada','ciudad_residencia','departamento_residencia','ciudad_laboral',\n",
    "    'departamento_laboral','rechazo_credito','mora_max','cant_moras_30_ult_12_meses','cant_moras_60_ult_12_meses',\n",
    "    'cant_moras_90_ult_12_meses','cupo_total_tc','tenencia_tc','cuota_tc_bancolombia','tiene_consumo','tiene_crediagil',\n",
    "    'nro_tot_cuentas','ctas_activas','tiene_ctas_activas','ctas_embargadas','tiene_ctas_embargadas','pension_fopep',\n",
    "    'cuota_cred_hipot','tiene_cred_hipo_1','tiene_cred_hipo_2','mediana_nom3','mediana_pen3','ingreso_nompen','cat_ingreso',\n",
    "    'ingreso_final','cant_mora_30_tdc_ult_3m_sf','cant_mora_30_consum_ult_3m_sf','cuota_de_vivienda','cuota_de_consumo',\n",
    "    'cuota_rotativos','cuota_tarjeta_de_credito','cuota_de_sector_solidario','cuota_sector_real_comercio','cupo_tc_mdo',\n",
    "    'saldo_prom3_tdc_mdo','cuota_tc_mdo','saldo_no_rot_mdo','cuota_libranza_sf','cant_oblig_tot_sf','cant_cast_ult_12m_sr',\n",
    "    'ind','rep_calif_cred','pol_centr_ext','convenio_lib','ingreso_nomina','ingreso_segurida_social','gasto_familiar']"
   ]
  },
  {
   "cell_type": "code",
   "execution_count": 5,
   "metadata": {},
   "outputs": [
    {
     "name": "stderr",
     "output_type": "stream",
     "text": [
      "UserWarning: `DataFrame._repr_html_` for empty DataFrame defaulting to pandas implementation.\n",
      "To request implementation, send an email to feature_requests@modin.org.\n"
     ]
    },
    {
     "data": {
      "text/html": [
       "<div>\n",
       "<style scoped>\n",
       "    .dataframe tbody tr th:only-of-type {\n",
       "        vertical-align: middle;\n",
       "    }\n",
       "\n",
       "    .dataframe tbody tr th {\n",
       "        vertical-align: top;\n",
       "    }\n",
       "\n",
       "    .dataframe thead th {\n",
       "        text-align: right;\n",
       "    }\n",
       "</style>\n",
       "<table border=\"1\" class=\"dataframe\">\n",
       "  <thead>\n",
       "    <tr style=\"text-align: right;\">\n",
       "      <th></th>\n",
       "      <th>id_registro</th>\n",
       "      <th>periodo</th>\n",
       "      <th>id_cli</th>\n",
       "      <th>fecha_nacimiento</th>\n",
       "      <th>edad</th>\n",
       "      <th>genero</th>\n",
       "      <th>estado_civil</th>\n",
       "      <th>nivel_academico</th>\n",
       "      <th>profesion</th>\n",
       "      <th>ocupacion</th>\n",
       "      <th>...</th>\n",
       "      <th>saldo_prom3_tdc_mdo</th>\n",
       "      <th>cuota_tc_mdo</th>\n",
       "      <th>saldo_no_rot_mdo</th>\n",
       "      <th>cuota_libranza_sf</th>\n",
       "      <th>cant_oblig_tot_sf</th>\n",
       "      <th>cant_cast_ult_12m_sr</th>\n",
       "      <th>ind</th>\n",
       "      <th>rep_calif_cred</th>\n",
       "      <th>pol_centr_ext</th>\n",
       "      <th>gasto_familiar</th>\n",
       "    </tr>\n",
       "  </thead>\n",
       "  <tbody>\n",
       "  </tbody>\n",
       "</table>\n",
       "<p>0 rows × 56 columns</p>\n",
       "</div>"
      ],
      "text/plain": [
       "Empty DataFrame\n",
       "Columns: [id_registro, periodo, id_cli, fecha_nacimiento, edad, genero, estado_civil, nivel_academico, profesion, ocupacion, ult_actual, categoria, codigo_ciiu, ind_mora_vigente, cartera_castigada, ciudad_residencia, mora_max, cant_moras_30_ult_12_meses, cant_moras_60_ult_12_meses, cant_moras_90_ult_12_meses, cupo_total_tc, tenencia_tc, cuota_tc_bancolombia, tiene_consumo, tiene_crediagil, nro_tot_cuentas, ctas_activas, tiene_ctas_activas, ctas_embargadas, tiene_ctas_embargadas, pension_fopep, tiene_cred_hipo_1, tiene_cred_hipo_2, mediana_nom3, mediana_pen3, ingreso_nompen, ingreso_final, cant_mora_30_tdc_ult_3m_sf, cant_mora_30_consum_ult_3m_sf, cuota_de_vivienda, cuota_de_consumo, cuota_rotativos, cuota_tarjeta_de_credito, cuota_de_sector_solidario, cuota_sector_real_comercio, cupo_tc_mdo, saldo_prom3_tdc_mdo, cuota_tc_mdo, saldo_no_rot_mdo, cuota_libranza_sf, cant_oblig_tot_sf, cant_cast_ult_12m_sr, ind, rep_calif_cred, pol_centr_ext, gasto_familiar]\n",
       "Index: []\n",
       "\n",
       "[0 rows x 56 columns]"
      ]
     },
     "execution_count": 5,
     "metadata": {},
     "output_type": "execute_result"
    }
   ],
   "source": [
    "inputs.loc[inputs['ind_mora_vigente']== '10']"
   ]
  },
  {
   "cell_type": "markdown",
   "metadata": {},
   "source": [
    "#elimina los archivos corruptos\n",
    "borrar = inputs.loc[inputs['rechazo_credito'] == 'ANTIOQUIA                                         ','periodo'].index.tolist()\n",
    "inputs.drop([6709248,6715408, 6715409, 6715410, 6715411, 6715412, 6715413, 6715414, 6715415, 6715416, 6715417, 6715418,\n",
    "            6715419, 6715420, 6715421, 6715422, 6715423, 6715424, 6715425, 6715426], inplace = True)"
   ]
  },
  {
   "cell_type": "code",
   "execution_count": 6,
   "metadata": {},
   "outputs": [
    {
     "name": "stderr",
     "output_type": "stream",
     "text": [
      "UserWarning: User-defined function verification is still under development in Modin. The function provided is not verified.\n"
     ]
    }
   ],
   "source": [
    "inputs.drop_duplicates(inplace = True)"
   ]
  },
  {
   "cell_type": "code",
   "execution_count": 7,
   "metadata": {},
   "outputs": [],
   "source": [
    "#backup\n",
    "#inputs.to_csv('inputs.csv')"
   ]
  },
  {
   "cell_type": "code",
   "execution_count": 8,
   "metadata": {},
   "outputs": [
    {
     "data": {
      "text/html": [
       "<div>\n",
       "<style scoped>\n",
       "    .dataframe tbody tr th:only-of-type {\n",
       "        vertical-align: middle;\n",
       "    }\n",
       "\n",
       "    .dataframe tbody tr th {\n",
       "        vertical-align: top;\n",
       "    }\n",
       "\n",
       "    .dataframe thead th {\n",
       "        text-align: right;\n",
       "    }\n",
       "</style>\n",
       "<table border=\"1\" class=\"dataframe\">\n",
       "  <thead>\n",
       "    <tr style=\"text-align: right;\">\n",
       "      <th></th>\n",
       "      <th>id_registro</th>\n",
       "      <th>periodo</th>\n",
       "      <th>id_cli</th>\n",
       "      <th>fecha_nacimiento</th>\n",
       "      <th>edad</th>\n",
       "      <th>genero</th>\n",
       "      <th>estado_civil</th>\n",
       "      <th>nivel_academico</th>\n",
       "      <th>profesion</th>\n",
       "      <th>ocupacion</th>\n",
       "      <th>ult_actual</th>\n",
       "      <th>cupo_tc_mdo</th>\n",
       "      <th>saldo_prom3_tdc_mdo</th>\n",
       "      <th>cuota_tc_mdo</th>\n",
       "      <th>saldo_no_rot_mdo</th>\n",
       "      <th>cuota_libranza_sf</th>\n",
       "      <th>cant_oblig_tot_sf</th>\n",
       "      <th>cant_cast_ult_12m_sr</th>\n",
       "      <th>ind</th>\n",
       "      <th>rep_calif_cred</th>\n",
       "      <th>pol_centr_ext</th>\n",
       "      <th>gasto_familiar</th>\n",
       "    </tr>\n",
       "  </thead>\n",
       "  <tbody>\n",
       "    <tr>\n",
       "      <th>0</th>\n",
       "      <td>2089776#201908</td>\n",
       "      <td>201908</td>\n",
       "      <td>2089776</td>\n",
       "      <td>19840630.0</td>\n",
       "      <td>35.0</td>\n",
       "      <td>M</td>\n",
       "      <td>DIVORCIADO</td>\n",
       "      <td>TECNOLOGO</td>\n",
       "      <td>TECNOLOGIA SISTEMAS</td>\n",
       "      <td>Empleado</td>\n",
       "      <td>20180526.0</td>\n",
       "      <td>0.0</td>\n",
       "      <td>0.0</td>\n",
       "      <td>0.0</td>\n",
       "      <td>903000.0</td>\n",
       "      <td>0.0</td>\n",
       "      <td>1.0</td>\n",
       "      <td>0.0</td>\n",
       "      <td>311715.5</td>\n",
       "      <td>C</td>\n",
       "      <td>0.0</td>\n",
       "      <td>232526.0</td>\n",
       "    </tr>\n",
       "    <tr>\n",
       "      <th>1</th>\n",
       "      <td>2089776#201909</td>\n",
       "      <td>201909</td>\n",
       "      <td>2089776</td>\n",
       "      <td>19840630.0</td>\n",
       "      <td>35.0</td>\n",
       "      <td>M</td>\n",
       "      <td>DIVORCIADO</td>\n",
       "      <td>TECNOLOGO</td>\n",
       "      <td>TECNOLOGIA SISTEMAS</td>\n",
       "      <td>Empleado</td>\n",
       "      <td>20180526.0</td>\n",
       "      <td>0.0</td>\n",
       "      <td>0.0</td>\n",
       "      <td>0.0</td>\n",
       "      <td>903000.0</td>\n",
       "      <td>0.0</td>\n",
       "      <td>1.0</td>\n",
       "      <td>0.0</td>\n",
       "      <td>311715.5</td>\n",
       "      <td>C</td>\n",
       "      <td>0.0</td>\n",
       "      <td>265900.0</td>\n",
       "    </tr>\n",
       "    <tr>\n",
       "      <th>2</th>\n",
       "      <td>2089776#201907</td>\n",
       "      <td>201907</td>\n",
       "      <td>2089776</td>\n",
       "      <td>19840630.0</td>\n",
       "      <td>35.0</td>\n",
       "      <td>M</td>\n",
       "      <td>DIVORCIADO</td>\n",
       "      <td>TECNOLOGO</td>\n",
       "      <td>TECNOLOGIA SISTEMAS</td>\n",
       "      <td>Empleado</td>\n",
       "      <td>20180526.0</td>\n",
       "      <td>0.0</td>\n",
       "      <td>0.0</td>\n",
       "      <td>0.0</td>\n",
       "      <td>903000.0</td>\n",
       "      <td>0.0</td>\n",
       "      <td>1.0</td>\n",
       "      <td>0.0</td>\n",
       "      <td>311306.0</td>\n",
       "      <td>C</td>\n",
       "      <td>0.0</td>\n",
       "      <td>243052.0</td>\n",
       "    </tr>\n",
       "    <tr>\n",
       "      <th>3</th>\n",
       "      <td>2089776#201903</td>\n",
       "      <td>201903</td>\n",
       "      <td>2089776</td>\n",
       "      <td>19840630.0</td>\n",
       "      <td>35.0</td>\n",
       "      <td>M</td>\n",
       "      <td>DIVORCIADO</td>\n",
       "      <td>TECNOLOGO</td>\n",
       "      <td>TECNOLOGIA SISTEMAS</td>\n",
       "      <td>Empleado</td>\n",
       "      <td>20180526.0</td>\n",
       "      <td>0.0</td>\n",
       "      <td>0.0</td>\n",
       "      <td>0.0</td>\n",
       "      <td>2433000.0</td>\n",
       "      <td>0.0</td>\n",
       "      <td>1.0</td>\n",
       "      <td>0.0</td>\n",
       "      <td>311306.0</td>\n",
       "      <td>C</td>\n",
       "      <td>0.0</td>\n",
       "      <td>276014.0</td>\n",
       "    </tr>\n",
       "    <tr>\n",
       "      <th>4</th>\n",
       "      <td>2089776#201911</td>\n",
       "      <td>201911</td>\n",
       "      <td>2089776</td>\n",
       "      <td>19840630.0</td>\n",
       "      <td>35.0</td>\n",
       "      <td>M</td>\n",
       "      <td>DIVORCIADO</td>\n",
       "      <td>TECNOLOGO</td>\n",
       "      <td>TECNOLOGIA SISTEMAS</td>\n",
       "      <td>Empleado</td>\n",
       "      <td>20180526.0</td>\n",
       "      <td>0.0</td>\n",
       "      <td>0.0</td>\n",
       "      <td>0.0</td>\n",
       "      <td>0.0</td>\n",
       "      <td>0.0</td>\n",
       "      <td>0.0</td>\n",
       "      <td>0.0</td>\n",
       "      <td>677516.0</td>\n",
       "      <td>C</td>\n",
       "      <td>0.0</td>\n",
       "      <td>418866.0</td>\n",
       "    </tr>\n",
       "  </tbody>\n",
       "</table>\n",
       "</div><p>5 rows x 56 columns</p>\n",
       "</div>"
      ],
      "text/plain": [
       "      id_registro  periodo   id_cli  fecha_nacimiento  edad genero  \\\n",
       "0  2089776#201908   201908  2089776        19840630.0  35.0      M   \n",
       "1  2089776#201909   201909  2089776        19840630.0  35.0      M   \n",
       "2  2089776#201907   201907  2089776        19840630.0  35.0      M   \n",
       "3  2089776#201903   201903  2089776        19840630.0  35.0      M   \n",
       "4  2089776#201911   201911  2089776        19840630.0  35.0      M   \n",
       "\n",
       "  estado_civil  cuota_libranza_sf  cant_oblig_tot_sf  cant_cast_ult_12m_sr  \\\n",
       "0   DIVORCIADO                0.0                1.0                   0.0   \n",
       "1   DIVORCIADO                0.0                1.0                   0.0   \n",
       "2   DIVORCIADO                0.0                1.0                   0.0   \n",
       "3   DIVORCIADO                0.0                1.0                   0.0   \n",
       "4   DIVORCIADO                0.0                0.0                   0.0   \n",
       "\n",
       "[5 rows x 56 columns]"
      ]
     },
     "execution_count": 8,
     "metadata": {},
     "output_type": "execute_result"
    }
   ],
   "source": [
    "pd.set_option('display.max_columns', None)\n",
    "inputs.head()"
   ]
  },
  {
   "cell_type": "markdown",
   "metadata": {},
   "source": [
    "## Mirar los Null"
   ]
  },
  {
   "cell_type": "code",
   "execution_count": 9,
   "metadata": {},
   "outputs": [
    {
     "data": {
      "text/plain": [
       "0"
      ]
     },
     "execution_count": 9,
     "metadata": {},
     "output_type": "execute_result"
    }
   ],
   "source": [
    "sum(inputs['periodo'].isnull())"
   ]
  },
  {
   "cell_type": "code",
   "execution_count": 10,
   "metadata": {},
   "outputs": [
    {
     "name": "stdout",
     "output_type": "stream",
     "text": [
      "0\n",
      "819841\n"
     ]
    }
   ],
   "source": [
    "print(sum(inputs['id_cli'].isnull()))\n",
    "print(len(inputs['id_cli'].unique()))"
   ]
  },
  {
   "cell_type": "code",
   "execution_count": 11,
   "metadata": {},
   "outputs": [
    {
     "data": {
      "text/plain": [
       "0"
      ]
     },
     "execution_count": 11,
     "metadata": {},
     "output_type": "execute_result"
    }
   ],
   "source": [
    "sum(inputs['fecha_nacimiento'].isnull())"
   ]
  },
  {
   "cell_type": "code",
   "execution_count": 12,
   "metadata": {},
   "outputs": [
    {
     "data": {
      "text/plain": [
       "0"
      ]
     },
     "execution_count": 12,
     "metadata": {},
     "output_type": "execute_result"
    }
   ],
   "source": [
    "inputs.loc[inputs['edad'] == '\\\\N','edad'] = np.nan\n",
    "inputs['edad'] = inputs['edad'].astype(float)\n",
    "inputs['edad']= inputs['edad'].round()\n",
    "inputs\n",
    "sum(inputs['edad'].isnull())"
   ]
  },
  {
   "cell_type": "code",
   "execution_count": 13,
   "metadata": {},
   "outputs": [
    {
     "name": "stdout",
     "output_type": "stream",
     "text": [
      "['M' 'F']\n",
      "0\n"
     ]
    }
   ],
   "source": [
    "print(inputs['genero'].unique())\n",
    "print(sum(inputs['genero'] == ' '))\n",
    "inputs.loc[inputs['genero'] == ' ', 'genero'] = np.nan"
   ]
  },
  {
   "cell_type": "code",
   "execution_count": 14,
   "metadata": {},
   "outputs": [
    {
     "name": "stdout",
     "output_type": "stream",
     "text": [
      "['DIVORCIADO' 'UNION LIBRE' 'SOLTERO' 'CASADO' 'VIUDO' 'NO INFORMA' 'OTRO'\n",
      " nan]\n"
     ]
    },
    {
     "data": {
      "text/plain": [
       "18552"
      ]
     },
     "execution_count": 14,
     "metadata": {},
     "output_type": "execute_result"
    }
   ],
   "source": [
    "print(inputs['estado_civil'].unique())\n",
    "inputs.loc[inputs['estado_civil'].isin(['NO INFORMA','\\\\N']),'estado_civil'] = 'NO INFORMA'\n",
    "sum(inputs['estado_civil'] == 'NO INFORMA')"
   ]
  },
  {
   "cell_type": "code",
   "execution_count": 15,
   "metadata": {},
   "outputs": [
    {
     "name": "stdout",
     "output_type": "stream",
     "text": [
      "['TECNOLOGO' 'UNIVERSITARIO' 'ESPECIALIZACION' 'BACHILLER' 'PRIMARIO'\n",
      " 'NINGUNO' 'NO INFORMA']\n"
     ]
    }
   ],
   "source": [
    "inputs.loc[inputs['nivel_academico'].isin(['NO INFORMA','SIN INFORMACION']),'nivel_academico'] = 'NO INFORMA'\n",
    "print(inputs['nivel_academico'].unique())"
   ]
  },
  {
   "cell_type": "code",
   "execution_count": 16,
   "metadata": {},
   "outputs": [
    {
     "data": {
      "text/plain": [
       "array(['TECNOLOGIA SISTEMAS', 'VETERINARIA', 'OTROS',\n",
       "       'COMUNICACION SOCIAL', 'INGENIERIA DE PETROLEOS', 'ADMINISTRACION',\n",
       "       'DERECHO', 'BACTERIOLOGIA', 'INGENIERO METALURGICO', 'INGENIERO',\n",
       "       'INGENIERIA DE SISTEMAS', 'ODONTOLOGIA', 'TECNOLOGIA ELECTRICIDAD',\n",
       "       'CONTADURIA', 'NINGUNA', 'EDUCACION', 'QUIMICA FARMACEUTICA',\n",
       "       'COMERCIO INTERNACIONAL', 'CONSTRUCCION CIVIL',\n",
       "       'INGENIERIA ADMINISTRATIVA', 'INGENIERIA CIVIL',\n",
       "       'INGENIERO ELECTRONICO', 'INGENIERIA AMBIENTAL', 'TRABAJO SOCIAL',\n",
       "       'TECNOLOGIA EN ADMINISTRACION', 'ECONOMIA', 'INGENIERIA AGRICOLA',\n",
       "       'AGRONOMIA', 'MERCADOTECNIA', 'ARQUITECTURA', 'AUXILIAR CONTABLE',\n",
       "       'ENFERMERIA', 'DECORADORES Y DISEÑADORES COMERCIALES',\n",
       "       'INGENIERIA ELECTRICA', 'DISEÑO Y PUBLICIDAD',\n",
       "       'TECNOLOGIA EN CIENCIAS DE LA SALUD', 'PSICOLOGIA', 'MEDICINA',\n",
       "       'INGENIERIA FINANCIERA', 'INGENIERIA MECANICA',\n",
       "       'INGENIERIA SANITARIA', 'AUXILIAR DE ENFERMERIA',\n",
       "       'INGENIERIA INDUSTRIAL',\n",
       "       'FOTOGRAFOS Y OPERADORES DE CAMARA CINE Y TV',\n",
       "       'PROFESORES DE EDUCACION PREESCOLAR',\n",
       "       'PROFESORES DE EDUCACION PRIMARIA', 'SACERDOTE',\n",
       "       'AUXILIAR DE ODONTOLOGIA', 'TECNOLOGIA AGROPECUARIA',\n",
       "       'INGENIRIA QUIMICA', 'BIOLOGIA', 'AZAFATA', 'SECRETARIADO',\n",
       "       'TECNOLOGIA MECANICA', 'TRANSPORTADOR',\n",
       "       'TECNOLOGIA EN CONSTRUCCION', 'TECNOLOGIA INDUSTRIAL',\n",
       "       'NUTRICION Y DIETETICA', 'FILOSOFIA Y LETRAS', 'ARTES',\n",
       "       'CARRERA MILITAR', 'PILOTOS', 'INGENIERIA DE MINAS',\n",
       "       'OPERACIONES DE EQUIPOS MEDICOS', 'ZOOTECNIA', 'SOCIOLOGIA',\n",
       "       'GEOLOGIA', 'PROFESORES DE EDUCACION ESPECIAL',\n",
       "       'TECNOLOGIA DEPORTIVA', 'RELIGIOSA', 'DELINEANTE DE ARQUITECTURA',\n",
       "       'REGENCIA DE FARMACIA', 'TRABAJADORES DE ASISTENCIA SOCIAL',\n",
       "       'JOYERO', 'INGENIERIA FORESTAL',\n",
       "       'PROFESIONALES EN METODOS DIDACTICOS',\n",
       "       'INSPECTORES DE ESTABLECIMIENTOS DE ENSEÑANZA',\n",
       "       'TECNOLOGIA EN MINAS',\n",
       "       'ESPEC EN PROBL DE PERS Y ORIENTA ANAL. PRP', nan,\n",
       "       'BIBLIOTECARIOS, ARCHIVEROS Y ENCARGA DE MUSEO',\n",
       "       'ESCRITORES, PERIODISTAS Y TRABAJADORES SIMIL',\n",
       "       'DEPORTISTAS, ENTRENADORES, TECNICOS DEPORT',\n",
       "       'MUSICOS, ARTISTAS, EMPRESARIOS Y PRUD ESPECT',\n",
       "       'SOCIOLOGO, ANTROPOLOGOS Y ESPECIALISTA SIMIL',\n",
       "       'FILOSOFOS, TRADUCTORES E INTERPRETES',\n",
       "       'HISTORIADOR, Y PROFESEN CIENCIAS POLITICAS',\n",
       "       'ESCULTORES, PINTORES, FOTOGRAFOS Y ART SIMI'], dtype=object)"
      ]
     },
     "execution_count": 16,
     "metadata": {},
     "output_type": "execute_result"
    }
   ],
   "source": [
    "inputs['profesion'].unique()"
   ]
  },
  {
   "cell_type": "code",
   "execution_count": 17,
   "metadata": {},
   "outputs": [],
   "source": [
    "inputs['ocupacion'].unique()\n",
    "inputs.loc[inputs['ocupacion'] == '\\\\N', 'ocupacion'] = 'vacio'\n",
    "# sumar  ANTROPOLOGOS Y ESPECIALISTA SIMIL, ARCHIVEROS Y ENCARGA DE MUSEO \n",
    "# sumar '\\\\N' y 'Otro'"
   ]
  },
  {
   "cell_type": "markdown",
   "metadata": {},
   "source": [
    "inputs.loc[inputs['tipo_vivienda'] == '\\\\N','tipo_vivienda'] = 'NO INFORMA'\n",
    "inputs['tipo_vivienda'].unique()"
   ]
  },
  {
   "cell_type": "code",
   "execution_count": 18,
   "metadata": {},
   "outputs": [
    {
     "name": "stdout",
     "output_type": "stream",
     "text": [
      "0\n",
      "[20180526. 20200902. 20200131. ... 20170130. 20170206. 20170312.]\n"
     ]
    }
   ],
   "source": [
    "inputs.loc[inputs['ult_actual'] == '\\\\N'] = np.NaN\n",
    "inputs['ult_actual'] = inputs['ult_actual'].astype('float')\n",
    "print(sum(inputs['ult_actual'].isnull()))\n",
    "print(inputs['ult_actual'].unique())"
   ]
  },
  {
   "cell_type": "code",
   "execution_count": 19,
   "metadata": {},
   "outputs": [
    {
     "name": "stdout",
     "output_type": "stream",
     "text": [
      "637\n"
     ]
    }
   ],
   "source": [
    "inputs['categoria'].unique()\n",
    "inputs.loc[inputs['categoria'] == '\\\\N','categoria'] = '0'\n",
    "#inputs['categoria'] = inputs['categoria'].astype('int')\n",
    "print(sum(inputs['categoria'] == 0))"
   ]
  },
  {
   "cell_type": "code",
   "execution_count": 20,
   "metadata": {},
   "outputs": [
    {
     "data": {
      "text/plain": [
       "array([1.000e+01, 9.609e+03, 8.691e+03, 1.410e+02, 8.692e+03, 8.622e+03,\n",
       "       0.000e+00, 5.223e+03, 4.799e+03, 9.000e+01, 7.110e+03, 1.690e+03,\n",
       "       8.211e+03, 8.299e+03, 4.665e+03, 8.621e+03, 6.621e+03, 7.490e+03,\n",
       "       5.920e+03, 7.020e+03, 4.645e+03, 7.120e+03, 6.920e+03, 6.910e+03,\n",
       "       7.730e+03, 4.330e+03, 9.329e+03, 4.321e+03, 1.051e+03, 6.202e+03,\n",
       "       6.810e+03, 6.209e+03, 4.652e+03, 4.774e+03, 4.759e+03, 4.761e+03,\n",
       "       4.741e+03, 9.512e+03, 8.610e+03, 8.541e+03, 2.825e+03, 7.310e+03,\n",
       "       8.512e+03, 7.010e+03, 7.500e+03, 3.312e+03, 4.719e+03, 4.923e+03,\n",
       "       4.620e+03, 6.820e+03, 4.659e+03, 1.210e+02, 4.290e+03, 5.619e+03,\n",
       "       4.669e+03, 5.511e+03, 8.551e+03, 1.811e+03, 4.729e+03, 4.723e+03,\n",
       "       5.630e+03, 4.752e+03, 3.811e+03, 1.220e+02, 6.201e+03, 4.921e+03,\n",
       "       4.711e+03, 8.430e+03, 5.911e+03, 4.329e+03, 6.619e+03, 4.724e+03,\n",
       "       8.553e+03, 3.210e+03, 1.812e+03, 9.602e+03, 6.120e+03, 9.003e+03,\n",
       "       1.709e+03, 1.410e+03, 3.315e+03, 4.754e+03, 9.006e+03, 7.911e+03,\n",
       "       4.771e+03, 3.900e+03, 5.613e+03, 5.611e+03, 3.110e+03, 7.220e+03,\n",
       "       8.523e+03, 4.530e+03, 4.542e+03, 9.603e+03, 9.311e+03, 4.731e+03,\n",
       "       7.410e+03, 8.219e+03, 4.642e+03, 1.312e+03, 1.052e+03, 5.629e+03,\n",
       "       4.792e+03, 4.722e+03, 5.229e+03, 8.513e+03, 7.210e+03, 2.229e+03,\n",
       "       4.390e+03, 6.190e+03, 8.423e+03, 1.392e+03, 1.150e+02, 4.649e+03,\n",
       "       4.773e+03, 8.413e+03, 4.772e+03, 6.110e+03, 5.621e+03, 7.710e+03,\n",
       "       4.663e+03, 4.610e+03, 9.511e+03, 1.110e+02, 5.811e+03, 4.631e+03,\n",
       "       4.111e+03, 8.552e+03, 9.004e+03, 7.729e+03, 8.699e+03, 6.311e+03,\n",
       "       4.755e+03, 1.620e+02, 8.200e+01, 9.005e+03, 4.922e+03, 5.519e+03,\n",
       "       1.040e+03, 4.520e+03, 9.522e+03, 6.511e+03, 6.010e+03, 1.081e+03,\n",
       "       8.230e+03, 1.300e+02, 5.231e+03, 9.499e+03, 4.632e+03, 1.313e+03,\n",
       "       1.082e+03, 9.491e+03, 7.320e+03, 4.789e+03, 8.559e+03, 8.810e+03,\n",
       "       8.030e+03, 1.190e+02, 2.790e+03, 4.220e+03, 5.224e+03, 8.130e+03,\n",
       "       1.399e+03, 8.110e+02, 8.522e+03, 6.612e+03, 5.320e+03, 6.399e+03,\n",
       "       4.751e+03, 9.101e+03, 2.410e+03, 6.613e+03, 8.530e+03, 2.651e+03,\n",
       "       1.230e+02, 1.250e+02, 1.450e+02, 8.110e+03, 2.100e+02, 2.219e+03,\n",
       "       3.314e+03, 4.791e+03, 4.721e+03, 4.512e+03, 9.411e+03, 7.830e+03,\n",
       "       1.610e+03, 1.440e+02, 4.541e+03, 4.782e+03, 5.514e+03, 1.610e+02,\n",
       "       5.210e+03, 8.790e+03, 8.415e+03, 4.690e+03, 1.500e+02, 7.810e+03,\n",
       "       8.542e+03, 8.414e+03, 6.629e+03, 9.309e+03, 6.020e+03, 6.423e+03,\n",
       "       4.511e+03, 1.130e+02, 8.890e+03, 1.521e+03, 4.643e+03, 7.721e+03,\n",
       "       9.007e+03, 9.529e+03, 1.280e+02, 1.240e+02, 6.532e+03, 7.420e+03,\n",
       "       1.090e+03, 1.702e+03, 8.560e+03, 8.511e+03, 1.020e+03, 4.662e+03,\n",
       "       6.421e+03, 9.524e+03, 5.121e+03, 4.312e+03, 2.022e+03, 8.521e+03,\n",
       "       3.290e+03, 2.511e+03, 9.002e+03, 9.900e+03, 7.990e+03, 2.030e+03,\n",
       "       9.412e+03, 8.129e+03, 1.089e+03, 1.630e+03, 4.653e+03, 1.290e+02,\n",
       "       1.563e+03, 5.234e+03, 6.493e+03, 2.822e+03, 6.042e+03, 1.260e+02,\n",
       "       4.781e+03, 6.422e+03, 1.180e+02, 5.914e+03, 2.829e+03, 8.220e+03,\n",
       "       6.339e+03, 6.411e+03, 9.200e+03, 8.424e+03, 8.543e+03, 8.292e+03,\n",
       "       6.512e+03, 4.664e+03, 3.320e+03, 2.591e+03, 5.820e+03, 1.101e+03,\n",
       "       1.084e+03, 6.022e+03, 3.313e+03, 6.130e+03, 9.820e+03, 4.775e+03,\n",
       "       6.615e+03, 4.762e+03, 4.732e+03, 8.411e+03, 2.100e+03, 4.641e+03,\n",
       "       9.319e+03, 2.592e+03, 9.001e+03, 1.522e+03, 4.112e+03, 1.513e+03,\n",
       "       5.512e+03, 5.819e+03, 3.099e+03, 4.322e+03, 8.121e+03, 5.112e+03,\n",
       "       4.210e+03, 4.651e+03, 4.912e+03, 9.810e+03, 5.612e+03, 3.120e+03,\n",
       "       9.700e+03, 6.611e+03, 5.310e+03, 4.521e+03, 4.911e+03, 5.530e+03,\n",
       "       1.030e+03, 5.912e+03, 4.661e+03, 7.912e+03, 2.811e+03, 8.544e+03,\n",
       "       1.620e+03, 1.512e+03, 2.221e+03, 6.312e+03, 8.100e+01, 2.740e+03,\n",
       "       4.644e+03, 3.230e+03, 9.601e+03, 5.813e+03, 1.420e+03, 8.010e+03,\n",
       "       3.250e+03, 1.490e+02, 8.020e+03, 2.013e+03, 4.753e+03, 1.000e+00,\n",
       "       1.120e+02, 2.394e+03, 1.104e+03, 3.600e+03, 7.740e+03, 4.769e+03,\n",
       "       6.431e+03, 2.400e+02, 5.132e+03, 4.311e+03, 5.590e+03, 5.269e+03,\n",
       "       2.826e+03, 3.830e+03, 5.222e+03, 5.111e+03, 5.233e+03, 3.513e+03,\n",
       "       9.008e+03, 7.820e+03, 9.321e+03, 9.900e+02, 3.220e+02, 2.660e+03,\n",
       "       6.499e+03, 3.700e+03, 3.511e+03, 1.391e+03, 9.521e+03, 1.011e+03,\n",
       "       2.599e+03, 2.815e+03, 9.100e+02, 2.011e+03, 2.819e+03, 2.431e+03,\n",
       "       1.012e+03, 1.311e+03, 8.412e+03, 2.212e+03, 2.711e+03, 1.200e+03,\n",
       "       6.391e+03, 3.120e+02, 3.822e+03, 5.272e+03, 4.930e+03, 5.221e+03,\n",
       "       3.311e+03, 8.710e+03, 5.170e+03, 1.630e+02, 6.491e+03, 6.514e+03,\n",
       "       2.750e+03, 2.670e+03, 4.742e+03, 5.100e+02, 9.219e+03, 6.412e+03,\n",
       "       6.211e+03, 2.399e+03, 6.719e+03, 2.712e+03, 3.520e+03, 5.011e+03,\n",
       "       5.219e+03, 9.111e+03, 3.319e+03, 2.930e+03, 6.424e+03, 5.012e+03,\n",
       "       1.083e+03, 1.063e+03, 1.140e+02, 5.513e+03, 1.921e+03, 9.103e+03,\n",
       "       2.392e+03, 2.023e+03, 9.312e+03, 5.122e+03, 1.071e+03, 1.062e+03,\n",
       "       8.422e+03, 1.270e+02, 2.652e+03, 3.210e+02, 2.391e+03, 1.820e+03,\n",
       "       1.102e+03, 7.499e+03, 6.495e+03, 2.421e+03, 6.614e+03, 2.593e+03,\n",
       "       2.396e+03, 5.030e+03, 8.291e+03, 7.220e+02, 1.523e+03, 6.100e+02,\n",
       "       8.910e+02, 1.420e+02, 2.310e+03, 2.393e+03, 5.520e+03, 2.610e+03,\n",
       "       2.429e+03, 1.910e+03, 1.393e+03, 6.522e+03, 1.640e+03, 2.823e+03,\n",
       "       2.029e+03, 5.239e+03, 2.920e+03, 7.290e+03, 5.225e+03, 6.521e+03,\n",
       "       2.211e+03, 2.200e+02, 3.530e+03, 2.821e+03, 5.134e+03, 7.100e+02,\n",
       "       3.092e+03, 5.232e+03, 3.240e+03, 2.630e+03, 2.413e+03, 9.420e+03,\n",
       "       9.102e+03, 5.913e+03, 2.620e+03, 9.302e+03, 8.421e+03, 2.640e+03,\n",
       "       8.519e+03, 5.135e+03, 9.009e+03, 1.394e+03, 6.031e+03, 2.432e+03,\n",
       "       3.091e+03, 8.050e+03, 6.630e+03, 2.512e+03, 6.531e+03, 5.211e+03,\n",
       "       1.600e+03, 5.139e+03, 2.814e+03, 7.411e+03, 5.244e+03, 3.110e+02,\n",
       "       3.821e+03, 2.910e+03, 1.810e+03, 3.220e+03, 1.511e+03, 8.060e+03,\n",
       "       5.051e+03, 7.210e+02, 6.494e+03, 5.262e+03, 1.430e+03, 9.492e+03,\n",
       "       2.012e+03, 2.529e+03, 8.730e+03, 4.552e+03, 6.492e+03, 3.410e+03,\n",
       "       1.400e+02, 3.691e+03, 2.817e+03, 2.395e+03, 1.701e+03, 5.200e+02,\n",
       "       9.199e+03, 1.061e+03, 9.213e+03, 5.022e+03, 2.816e+03, 8.720e+03,\n",
       "       6.432e+03, 2.732e+03, 3.699e+03, 2.014e+03, 7.290e+02, 8.120e+02,\n",
       "       5.021e+03, 1.072e+03, 7.512e+03, 5.521e+03, 9.523e+03, 7.722e+03,\n",
       "       3.020e+03, 6.513e+03, 7.250e+03, 6.021e+03, 1.700e+02, 2.021e+03,\n",
       "       2.513e+03, 1.640e+02, 8.990e+02, 3.012e+03, 8.021e+03, 5.241e+03])"
      ]
     },
     "execution_count": 20,
     "metadata": {},
     "output_type": "execute_result"
    }
   ],
   "source": [
    "inputs['codigo_ciiu'].unique()"
   ]
  },
  {
   "cell_type": "code",
   "execution_count": 21,
   "metadata": {},
   "outputs": [
    {
     "data": {
      "text/html": [
       "<div>\n",
       "<style scoped>\n",
       "    .dataframe tbody tr th:only-of-type {\n",
       "        vertical-align: middle;\n",
       "    }\n",
       "\n",
       "    .dataframe tbody tr th {\n",
       "        vertical-align: top;\n",
       "    }\n",
       "\n",
       "    .dataframe thead th {\n",
       "        text-align: right;\n",
       "    }\n",
       "</style>\n",
       "<table border=\"1\" class=\"dataframe\">\n",
       "  <thead>\n",
       "    <tr style=\"text-align: right;\">\n",
       "      <th></th>\n",
       "      <th>id_registro</th>\n",
       "      <th>periodo</th>\n",
       "      <th>id_cli</th>\n",
       "      <th>fecha_nacimiento</th>\n",
       "      <th>edad</th>\n",
       "      <th>genero</th>\n",
       "      <th>estado_civil</th>\n",
       "      <th>nivel_academico</th>\n",
       "      <th>profesion</th>\n",
       "      <th>ocupacion</th>\n",
       "      <th>ult_actual</th>\n",
       "      <th>cupo_tc_mdo</th>\n",
       "      <th>saldo_prom3_tdc_mdo</th>\n",
       "      <th>cuota_tc_mdo</th>\n",
       "      <th>saldo_no_rot_mdo</th>\n",
       "      <th>cuota_libranza_sf</th>\n",
       "      <th>cant_oblig_tot_sf</th>\n",
       "      <th>cant_cast_ult_12m_sr</th>\n",
       "      <th>ind</th>\n",
       "      <th>rep_calif_cred</th>\n",
       "      <th>pol_centr_ext</th>\n",
       "      <th>gasto_familiar</th>\n",
       "    </tr>\n",
       "  </thead>\n",
       "  <tbody>\n",
       "    <tr>\n",
       "      <th>0</th>\n",
       "      <td>2089776#201908</td>\n",
       "      <td>201908</td>\n",
       "      <td>2089776</td>\n",
       "      <td>19840630.0</td>\n",
       "      <td>35.0</td>\n",
       "      <td>M</td>\n",
       "      <td>DIVORCIADO</td>\n",
       "      <td>TECNOLOGO</td>\n",
       "      <td>TECNOLOGIA SISTEMAS</td>\n",
       "      <td>Empleado</td>\n",
       "      <td>20180526.0</td>\n",
       "      <td>0.0</td>\n",
       "      <td>0.000000e+00</td>\n",
       "      <td>0.0</td>\n",
       "      <td>903000.0</td>\n",
       "      <td>0.0</td>\n",
       "      <td>1.0</td>\n",
       "      <td>0.0</td>\n",
       "      <td>3.117155e+05</td>\n",
       "      <td>C</td>\n",
       "      <td>0.0</td>\n",
       "      <td>232526.0</td>\n",
       "    </tr>\n",
       "    <tr>\n",
       "      <th>1</th>\n",
       "      <td>2089776#201909</td>\n",
       "      <td>201909</td>\n",
       "      <td>2089776</td>\n",
       "      <td>19840630.0</td>\n",
       "      <td>35.0</td>\n",
       "      <td>M</td>\n",
       "      <td>DIVORCIADO</td>\n",
       "      <td>TECNOLOGO</td>\n",
       "      <td>TECNOLOGIA SISTEMAS</td>\n",
       "      <td>Empleado</td>\n",
       "      <td>20180526.0</td>\n",
       "      <td>0.0</td>\n",
       "      <td>0.000000e+00</td>\n",
       "      <td>0.0</td>\n",
       "      <td>903000.0</td>\n",
       "      <td>0.0</td>\n",
       "      <td>1.0</td>\n",
       "      <td>0.0</td>\n",
       "      <td>3.117155e+05</td>\n",
       "      <td>C</td>\n",
       "      <td>0.0</td>\n",
       "      <td>265900.0</td>\n",
       "    </tr>\n",
       "    <tr>\n",
       "      <th>2</th>\n",
       "      <td>2089776#201907</td>\n",
       "      <td>201907</td>\n",
       "      <td>2089776</td>\n",
       "      <td>19840630.0</td>\n",
       "      <td>35.0</td>\n",
       "      <td>M</td>\n",
       "      <td>DIVORCIADO</td>\n",
       "      <td>TECNOLOGO</td>\n",
       "      <td>TECNOLOGIA SISTEMAS</td>\n",
       "      <td>Empleado</td>\n",
       "      <td>20180526.0</td>\n",
       "      <td>0.0</td>\n",
       "      <td>0.000000e+00</td>\n",
       "      <td>0.0</td>\n",
       "      <td>903000.0</td>\n",
       "      <td>0.0</td>\n",
       "      <td>1.0</td>\n",
       "      <td>0.0</td>\n",
       "      <td>3.113060e+05</td>\n",
       "      <td>C</td>\n",
       "      <td>0.0</td>\n",
       "      <td>243052.0</td>\n",
       "    </tr>\n",
       "    <tr>\n",
       "      <th>3</th>\n",
       "      <td>2089776#201903</td>\n",
       "      <td>201903</td>\n",
       "      <td>2089776</td>\n",
       "      <td>19840630.0</td>\n",
       "      <td>35.0</td>\n",
       "      <td>M</td>\n",
       "      <td>DIVORCIADO</td>\n",
       "      <td>TECNOLOGO</td>\n",
       "      <td>TECNOLOGIA SISTEMAS</td>\n",
       "      <td>Empleado</td>\n",
       "      <td>20180526.0</td>\n",
       "      <td>0.0</td>\n",
       "      <td>0.000000e+00</td>\n",
       "      <td>0.0</td>\n",
       "      <td>2433000.0</td>\n",
       "      <td>0.0</td>\n",
       "      <td>1.0</td>\n",
       "      <td>0.0</td>\n",
       "      <td>3.113060e+05</td>\n",
       "      <td>C</td>\n",
       "      <td>0.0</td>\n",
       "      <td>276014.0</td>\n",
       "    </tr>\n",
       "    <tr>\n",
       "      <th>4</th>\n",
       "      <td>2089776#201911</td>\n",
       "      <td>201911</td>\n",
       "      <td>2089776</td>\n",
       "      <td>19840630.0</td>\n",
       "      <td>35.0</td>\n",
       "      <td>M</td>\n",
       "      <td>DIVORCIADO</td>\n",
       "      <td>TECNOLOGO</td>\n",
       "      <td>TECNOLOGIA SISTEMAS</td>\n",
       "      <td>Empleado</td>\n",
       "      <td>20180526.0</td>\n",
       "      <td>0.0</td>\n",
       "      <td>0.000000e+00</td>\n",
       "      <td>0.0</td>\n",
       "      <td>0.0</td>\n",
       "      <td>0.0</td>\n",
       "      <td>0.0</td>\n",
       "      <td>0.0</td>\n",
       "      <td>6.775160e+05</td>\n",
       "      <td>C</td>\n",
       "      <td>0.0</td>\n",
       "      <td>418866.0</td>\n",
       "    </tr>\n",
       "    <tr>\n",
       "      <th>...</th>\n",
       "      <td>...</td>\n",
       "      <td>...</td>\n",
       "      <td>...</td>\n",
       "      <td>...</td>\n",
       "      <td>...</td>\n",
       "      <td>...</td>\n",
       "      <td>...</td>\n",
       "      <td>...</td>\n",
       "      <td>...</td>\n",
       "      <td>...</td>\n",
       "      <td>...</td>\n",
       "      <td>...</td>\n",
       "      <td>...</td>\n",
       "      <td>...</td>\n",
       "      <td>...</td>\n",
       "      <td>...</td>\n",
       "      <td>...</td>\n",
       "      <td>...</td>\n",
       "      <td>...</td>\n",
       "      <td>...</td>\n",
       "      <td>...</td>\n",
       "      <td>...</td>\n",
       "    </tr>\n",
       "    <tr>\n",
       "      <th>9527188</th>\n",
       "      <td>8596193#202011</td>\n",
       "      <td>202011</td>\n",
       "      <td>8596193</td>\n",
       "      <td>19740415.0</td>\n",
       "      <td>47.0</td>\n",
       "      <td>F</td>\n",
       "      <td>SOLTERO</td>\n",
       "      <td>UNIVERSITARIO</td>\n",
       "      <td>OTROS</td>\n",
       "      <td>Empleado</td>\n",
       "      <td>20201010.0</td>\n",
       "      <td>6800000.0</td>\n",
       "      <td>0.000000e+00</td>\n",
       "      <td>0.0</td>\n",
       "      <td>0.0</td>\n",
       "      <td>0.0</td>\n",
       "      <td>2.0</td>\n",
       "      <td>0.0</td>\n",
       "      <td>2.101424e+06</td>\n",
       "      <td>A</td>\n",
       "      <td>0.0</td>\n",
       "      <td>NaN</td>\n",
       "    </tr>\n",
       "    <tr>\n",
       "      <th>9527189</th>\n",
       "      <td>8616083#202011</td>\n",
       "      <td>202011</td>\n",
       "      <td>8616083</td>\n",
       "      <td>19850620.0</td>\n",
       "      <td>35.0</td>\n",
       "      <td>M</td>\n",
       "      <td>NO INFORMA</td>\n",
       "      <td>NO INFORMA</td>\n",
       "      <td>NaN</td>\n",
       "      <td>Socio Empleado - Socio</td>\n",
       "      <td>20201003.0</td>\n",
       "      <td>121890000.0</td>\n",
       "      <td>8.286667e+06</td>\n",
       "      <td>237000.0</td>\n",
       "      <td>99000.0</td>\n",
       "      <td>0.0</td>\n",
       "      <td>12.0</td>\n",
       "      <td>0.0</td>\n",
       "      <td>1.170550e+07</td>\n",
       "      <td>C</td>\n",
       "      <td>0.0</td>\n",
       "      <td>NaN</td>\n",
       "    </tr>\n",
       "    <tr>\n",
       "      <th>9527190</th>\n",
       "      <td>8670207#202011</td>\n",
       "      <td>202011</td>\n",
       "      <td>8670207</td>\n",
       "      <td>19740316.0</td>\n",
       "      <td>47.0</td>\n",
       "      <td>M</td>\n",
       "      <td>DIVORCIADO</td>\n",
       "      <td>NO INFORMA</td>\n",
       "      <td>NaN</td>\n",
       "      <td>Profesional Independiente</td>\n",
       "      <td>20200616.0</td>\n",
       "      <td>30100000.0</td>\n",
       "      <td>3.091700e+07</td>\n",
       "      <td>10350000.0</td>\n",
       "      <td>300000.0</td>\n",
       "      <td>0.0</td>\n",
       "      <td>17.0</td>\n",
       "      <td>0.0</td>\n",
       "      <td>-4.154790e+07</td>\n",
       "      <td>D</td>\n",
       "      <td>0.0</td>\n",
       "      <td>NaN</td>\n",
       "    </tr>\n",
       "    <tr>\n",
       "      <th>9527191</th>\n",
       "      <td>8677655#202011</td>\n",
       "      <td>202011</td>\n",
       "      <td>8677655</td>\n",
       "      <td>19780722.0</td>\n",
       "      <td>42.0</td>\n",
       "      <td>F</td>\n",
       "      <td>CASADO</td>\n",
       "      <td>ESPECIALIZACION</td>\n",
       "      <td>ECONOMIA</td>\n",
       "      <td>Empleado</td>\n",
       "      <td>20200423.0</td>\n",
       "      <td>102025000.0</td>\n",
       "      <td>3.760867e+07</td>\n",
       "      <td>1953000.0</td>\n",
       "      <td>184811000.0</td>\n",
       "      <td>0.0</td>\n",
       "      <td>18.0</td>\n",
       "      <td>0.0</td>\n",
       "      <td>5.313457e+06</td>\n",
       "      <td>B</td>\n",
       "      <td>0.0</td>\n",
       "      <td>NaN</td>\n",
       "    </tr>\n",
       "    <tr>\n",
       "      <th>9527192</th>\n",
       "      <td>8692808#202011</td>\n",
       "      <td>202011</td>\n",
       "      <td>8692808</td>\n",
       "      <td>19801025.0</td>\n",
       "      <td>40.0</td>\n",
       "      <td>F</td>\n",
       "      <td>NO INFORMA</td>\n",
       "      <td>UNIVERSITARIO</td>\n",
       "      <td>OTROS</td>\n",
       "      <td>Empleado</td>\n",
       "      <td>20200221.0</td>\n",
       "      <td>123910000.0</td>\n",
       "      <td>6.008000e+07</td>\n",
       "      <td>1141000.0</td>\n",
       "      <td>25769000.0</td>\n",
       "      <td>0.0</td>\n",
       "      <td>14.0</td>\n",
       "      <td>0.0</td>\n",
       "      <td>-2.172737e+06</td>\n",
       "      <td>E</td>\n",
       "      <td>0.0</td>\n",
       "      <td>NaN</td>\n",
       "    </tr>\n",
       "  </tbody>\n",
       "</table>\n",
       "<p>9527193 rows x 56 columns</p>\n",
       "</div>"
      ],
      "text/plain": [
       "            id_registro  periodo   id_cli  fecha_nacimiento  edad genero  \\\n",
       "0        2089776#201908   201908  2089776        19840630.0  35.0      M   \n",
       "1        2089776#201909   201909  2089776        19840630.0  35.0      M   \n",
       "2        2089776#201907   201907  2089776        19840630.0  35.0      M   \n",
       "3        2089776#201903   201903  2089776        19840630.0  35.0      M   \n",
       "4        2089776#201911   201911  2089776        19840630.0  35.0      M   \n",
       "...                 ...      ...      ...               ...   ...    ...   \n",
       "9527188  8596193#202011   202011  8596193        19740415.0  47.0      F   \n",
       "9527189  8616083#202011   202011  8616083        19850620.0  35.0      M   \n",
       "9527190  8670207#202011   202011  8670207        19740316.0  47.0      M   \n",
       "9527191  8677655#202011   202011  8677655        19780722.0  42.0      F   \n",
       "9527192  8692808#202011   202011  8692808        19801025.0  40.0      F   \n",
       "\n",
       "        estado_civil  cuota_libranza_sf  cant_oblig_tot_sf  \\\n",
       "0         DIVORCIADO                0.0                1.0   \n",
       "1         DIVORCIADO                0.0                1.0   \n",
       "2         DIVORCIADO                0.0                1.0   \n",
       "3         DIVORCIADO                0.0                1.0   \n",
       "4         DIVORCIADO                0.0                0.0   \n",
       "...              ...                ...                ...   \n",
       "9527188      SOLTERO                0.0                2.0   \n",
       "9527189   NO INFORMA                0.0               12.0   \n",
       "9527190   DIVORCIADO                0.0               17.0   \n",
       "9527191       CASADO                0.0               18.0   \n",
       "9527192   NO INFORMA                0.0               14.0   \n",
       "\n",
       "         cant_cast_ult_12m_sr           ind rep_calif_cred  pol_centr_ext  \\\n",
       "0                         0.0  3.117155e+05              C            0.0   \n",
       "1                         0.0  3.117155e+05              C            0.0   \n",
       "2                         0.0  3.113060e+05              C            0.0   \n",
       "3                         0.0  3.113060e+05              C            0.0   \n",
       "4                         0.0  6.775160e+05              C            0.0   \n",
       "...                       ...           ...            ...            ...   \n",
       "9527188                   0.0  2.101424e+06              A            0.0   \n",
       "9527189                   0.0  1.170550e+07              C            0.0   \n",
       "9527190                   0.0 -4.154790e+07              D            0.0   \n",
       "9527191                   0.0  5.313457e+06              B            0.0   \n",
       "9527192                   0.0 -2.172737e+06              E            0.0   \n",
       "\n",
       "         gasto_familiar  \n",
       "0              232526.0  \n",
       "1              265900.0  \n",
       "2              243052.0  \n",
       "3              276014.0  \n",
       "4              418866.0  \n",
       "...                 ...  \n",
       "9527188             NaN  \n",
       "9527189             NaN  \n",
       "9527190             NaN  \n",
       "9527191             NaN  \n",
       "9527192             NaN  \n",
       "\n",
       "[9527193 rows x 56 columns]"
      ]
     },
     "execution_count": 21,
     "metadata": {},
     "output_type": "execute_result"
    }
   ],
   "source": [
    "inputs"
   ]
  },
  {
   "cell_type": "code",
   "execution_count": 22,
   "metadata": {},
   "outputs": [
    {
     "name": "stdout",
     "output_type": "stream",
     "text": [
      "[True 'True' 'N' 'S' nan]\n",
      "0\n"
     ]
    }
   ],
   "source": [
    "print(inputs['ind_mora_vigente'].unique())\n",
    "print(sum(inputs['ind_mora_vigente'] == '\\\\N'))\n",
    "inputs.loc[inputs['ind_mora_vigente'] == '\\\\N','ind_mora_vigente'] = np.nan\n",
    "#inputs.dropna(inplace = True)\n",
    "#inputs.loc[inputs['ind_mora_vigente'] == '\\\\N','ind_mora_vigente'] = 0\n",
    "inputs.loc[inputs['ind_mora_vigente'] == 0,'ind_mora_vigente'] = False\n",
    "inputs.loc[inputs['ind_mora_vigente'] == 1,'ind_mora_vigente'] = True\n",
    "inputs['ind_mora_vigente'] = inputs['ind_mora_vigente'].astype(bool)"
   ]
  },
  {
   "cell_type": "code",
   "execution_count": 23,
   "metadata": {},
   "outputs": [
    {
     "name": "stdout",
     "output_type": "stream",
     "text": [
      "[True 'True' 'N' 'S' nan]\n",
      "0\n"
     ]
    }
   ],
   "source": [
    "print(inputs['cartera_castigada'].unique())\n",
    "print(sum(inputs['cartera_castigada'] == '\\\\N'))\n",
    "inputs.loc[inputs['cartera_castigada'] == 0,'cartera_castigada'] = False\n",
    "inputs.loc[inputs['cartera_castigada'] == 1,'cartera_castigada'] = True\n",
    "inputs['cartera_castigada'] = inputs['cartera_castigada'].astype(bool)"
   ]
  },
  {
   "cell_type": "code",
   "execution_count": 24,
   "metadata": {},
   "outputs": [
    {
     "data": {
      "text/plain": [
       "array(['CALI', 'GARZON', 'MEDELLIN', ..., 'SANTA MARIA (BOYACA)',\n",
       "       'AMBALEMA - URAMITA', 'SIBUNDOY - SIBUNDOY'], dtype=object)"
      ]
     },
     "execution_count": 24,
     "metadata": {},
     "output_type": "execute_result"
    }
   ],
   "source": [
    "#quita los espacios vacios\n",
    "inputs['ciudad_residencia'] = inputs['ciudad_residencia'].str.strip()\n",
    "inputs['ciudad_residencia'].unique()"
   ]
  },
  {
   "cell_type": "markdown",
   "metadata": {},
   "source": [
    "inputs['departamento_residencia'] = inputs['departamento_residencia'].str.strip()\n",
    "inputs['departamento_residencia'].unique()"
   ]
  },
  {
   "cell_type": "markdown",
   "metadata": {},
   "source": [
    "inputs['ciudad_laboral'] = inputs['ciudad_laboral'].str.strip()\n",
    "inputs['ciudad_laboral'].unique()"
   ]
  },
  {
   "cell_type": "markdown",
   "metadata": {},
   "source": [
    "inputs['departamento_laboral'] = inputs['departamento_laboral'].str.strip()\n",
    "inputs['departamento_laboral'].unique()"
   ]
  },
  {
   "cell_type": "markdown",
   "metadata": {},
   "source": [
    "print(inputs['rechazo_credito'].unique())\n",
    "sum(inputs['rechazo_credito'] == '\\\\N')"
   ]
  },
  {
   "cell_type": "code",
   "execution_count": 25,
   "metadata": {},
   "outputs": [
    {
     "name": "stdout",
     "output_type": "stream",
     "text": [
      "[0.000e+00 3.000e+00 2.800e+01 1.000e+00 1.600e+01 1.400e+01 1.300e+01\n",
      " 1.200e+01 8.000e+00 2.000e+00 7.000e+00 3.700e+01 7.000e+01 4.000e+01\n",
      " 2.000e+01 2.400e+01 1.500e+01 4.000e+00 5.000e+00 2.200e+01 2.270e+02\n",
      " 2.120e+02 1.700e+01 1.900e+01 2.100e+01 2.700e+01 6.000e+01 2.900e+01\n",
      " 3.900e+01 2.600e+01 1.800e+01 3.400e+01 5.900e+01 2.500e+01 1.050e+02\n",
      " 7.500e+01 3.000e+01 6.000e+00 5.700e+01 1.170e+02 4.400e+01 3.200e+01\n",
      " 6.100e+01 5.800e+01 1.000e+01 9.000e+00 4.500e+01 4.800e+01 8.000e+01\n",
      " 8.500e+01 5.500e+01 3.300e+01 3.100e+01 4.600e+01 4.300e+01 3.800e+01\n",
      " 1.800e+02 2.100e+02 2.300e+01 1.100e+01 8.900e+01 3.500e+01 2.140e+02\n",
      " 6.500e+01 1.270e+02 1.580e+02 9.700e+01 7.600e+01 1.040e+02 1.220e+02\n",
      " 1.530e+02 9.500e+01 9.600e+01 4.900e+01 8.800e+01 2.530e+02 1.330e+02\n",
      " 7.300e+01 1.630e+02 2.230e+02 1.930e+02 4.200e+01 1.000e+02 1.320e+02\n",
      " 5.000e+01 1.650e+02 4.700e+01 1.350e+02 2.450e+02 6.800e+01 4.100e+01\n",
      " 9.100e+01 1.030e+02 5.400e+01 1.480e+02 1.190e+02 1.780e+02 7.900e+01\n",
      " 3.600e+01 5.200e+01 1.110e+02 8.700e+01 1.370e+02 1.690e+02 1.380e+02\n",
      " 7.700e+01 1.070e+02 1.990e+02 1.660e+02 4.350e+02 1.360e+02 1.490e+02\n",
      " 2.260e+02 4.040e+02 1.640e+02 2.200e+02 7.200e+01 8.200e+01 5.100e+01\n",
      " 2.110e+02 6.300e+01 7.800e+01 2.250e+02 2.390e+02 1.060e+02 1.980e+02\n",
      " 1.740e+02 2.070e+02 1.790e+02 8.600e+01 3.880e+02 1.340e+02 1.810e+02\n",
      " 2.410e+02 3.330e+02 3.940e+02 2.720e+02 1.500e+02 3.630e+02 4.550e+02\n",
      " 4.250e+02 1.140e+02 3.300e+02 5.600e+01 8.300e+01 1.180e+02 2.240e+02\n",
      " 2.360e+02 2.090e+02 6.400e+01 1.230e+02 6.600e+01 1.730e+02 1.420e+02\n",
      " 8.100e+01 2.540e+02 7.400e+01 2.170e+02 4.470e+02 2.040e+02 4.170e+02\n",
      " 2.330e+02 3.250e+02 2.640e+02 3.860e+02 2.550e+02 1.720e+02 1.120e+02\n",
      " 3.550e+02 2.670e+02 2.400e+02 1.430e+02 2.310e+02 1.750e+02 2.030e+02\n",
      " 2.680e+02 8.400e+01 1.950e+02 1.620e+02 1.200e+02 2.420e+02 1.510e+02\n",
      " 9.000e+01 1.310e+02 1.610e+02 1.920e+02 5.140e+02 1.280e+02 2.080e+02\n",
      " 2.900e+02 3.540e+02 3.270e+02 2.930e+02 2.690e+02 4.080e+02 1.570e+02\n",
      " 6.700e+01 9.400e+01 1.960e+02 1.080e+02 2.440e+02 1.970e+02 2.580e+02\n",
      " 2.280e+02 1.710e+02 1.400e+02 1.100e+02 9.800e+01 2.370e+02 1.250e+02\n",
      " 1.240e+02 1.830e+02 2.020e+02 1.880e+02 2.150e+02 2.700e+02 2.060e+02\n",
      " 4.800e+02 1.440e+02 2.970e+02 4.390e+02 1.090e+02 2.000e+02 2.320e+02\n",
      " 7.100e+01 6.200e+01 9.200e+01 1.150e+02 5.300e+01 5.050e+02 2.820e+02\n",
      " 1.770e+02 7.350e+02 7.360e+02 1.470e+02 1.010e+02 2.840e+02 3.020e+02\n",
      " 1.160e+02 2.980e+02 3.900e+02 4.180e+02 3.280e+02 3.590e+02 1.560e+02\n",
      " 9.300e+01 2.350e+02 2.380e+02 1.020e+02 1.390e+02 3.060e+02 4.130e+02\n",
      " 1.300e+02 2.500e+02 1.590e+02 1.290e+02 6.900e+01 4.500e+02 2.160e+02\n",
      " 2.630e+02 2.620e+02 2.220e+02 2.830e+02 3.130e+02 3.800e+02 2.210e+02\n",
      " 3.730e+02 5.830e+02 6.430e+02 7.030e+02 4.630e+02 5.530e+02 6.130e+02\n",
      " 4.030e+02 5.230e+02 4.330e+02 9.990e+02 2.050e+02 1.460e+02 1.940e+02\n",
      " 2.180e+02 3.260e+02 4.770e+02 5.080e+02 2.950e+02 7.650e+02 1.410e+02\n",
      " 1.492e+03 1.600e+02 2.010e+02 1.130e+02 2.850e+02 9.900e+01 2.430e+02\n",
      " 3.320e+02 2.300e+02 2.130e+02 2.203e+03 2.172e+03 1.806e+03 2.018e+03\n",
      " 1.867e+03 2.233e+03 2.141e+03 1.745e+03 1.625e+03 2.050e+03 1.990e+03\n",
      " 1.927e+03 1.836e+03 1.653e+03 1.773e+03 1.591e+03 2.109e+03 1.958e+03\n",
      " 1.682e+03 3.220e+02 1.700e+02 4.140e+02 2.610e+02 3.520e+02 3.830e+02\n",
      " 3.840e+02 2.560e+02 3.430e+02 2.660e+02 4.640e+02 5.470e+02 1.860e+02\n",
      " 1.260e+02 2.960e+02 1.680e+02 4.950e+02 2.600e+02 3.740e+02 3.660e+02\n",
      " 1.520e+02 1.550e+02 1.210e+02 4.190e+02 3.110e+02 2.880e+02 1.820e+02\n",
      " 1.850e+02 3.010e+02 3.310e+02 1.910e+02 3.360e+02 3.080e+02 2.760e+02\n",
      " 5.980e+02 1.670e+02 3.140e+02 3.890e+02 2.290e+02 3.570e+02 2.990e+02\n",
      " 3.040e+02 2.510e+02 6.800e+02 8.020e+02 9.860e+02 6.520e+02 7.110e+02\n",
      " 1.260e+03 8.330e+02 8.940e+02 1.017e+03 1.046e+03 7.720e+02 1.199e+03\n",
      " 1.230e+03 8.640e+02 1.138e+03 9.550e+02 6.210e+02 1.168e+03 2.770e+02\n",
      " 1.900e+02 2.190e+02 4.870e+02 3.960e+02 3.410e+02 4.020e+02 3.710e+02\n",
      " 2.490e+02 2.800e+02 1.890e+02 2.870e+02 5.750e+02 6.050e+02 1.065e+03\n",
      " 1.450e+02 3.440e+02 3.290e+02 3.910e+02 3.610e+02 8.220e+02 3.490e+02\n",
      " 7.950e+02 1.540e+02 3.450e+02 3.930e+02 2.520e+02 6.310e+02 4.110e+02\n",
      " 3.190e+02 3.810e+02 2.890e+02 3.500e+02 4.210e+02 1.760e+02 1.870e+02\n",
      " 2.920e+02 2.860e+02 2.340e+02 4.490e+02 3.580e+02 2.910e+02 2.460e+02\n",
      " 1.840e+02 3.700e+02 3.850e+02 3.120e+02 3.420e+02 2.810e+02 3.230e+02\n",
      " 5.890e+02 3.870e+02 2.650e+02 3.560e+02 1.876e+03 2.480e+02 3.340e+02\n",
      " 5.870e+02 2.570e+02 3.030e+02 2.710e+02 3.200e+02 5.700e+02 4.050e+02\n",
      " 4.830e+02 7.280e+02 4.860e+02 3.600e+02 4.200e+02 3.990e+02 5.280e+02\n",
      " 7.130e+02 2.470e+02 3.070e+02 2.707e+03 2.342e+03 2.373e+03 2.798e+03\n",
      " 2.432e+03 2.554e+03 2.859e+03 2.738e+03 2.401e+03 2.981e+03 2.523e+03\n",
      " 2.676e+03 2.585e+03 2.615e+03 2.889e+03 2.951e+03 2.493e+03 3.000e+02\n",
      " 2.740e+02 5.380e+02 3.640e+02 4.010e+02 2.790e+02 3.100e+02 2.590e+02\n",
      " 2.161e+03 7.600e+02 8.190e+02 8.800e+02 5.440e+02 9.410e+02 6.360e+02\n",
      " 8.490e+02 6.990e+02 9.110e+02 5.130e+02 6.680e+02 3.780e+02 3.090e+02\n",
      " 2.750e+02 3.050e+02 1.535e+03 1.233e+03 1.080e+03 1.052e+03 1.018e+03\n",
      " 1.200e+03 1.109e+03 1.172e+03 8.550e+02 3.720e+02 5.450e+02 2.253e+03\n",
      " 3.480e+02 3.160e+02 4.360e+02 3.650e+02 4.340e+02 6.510e+02 5.880e+02\n",
      " 4.670e+02 6.190e+02 4.060e+02 4.580e+02 4.970e+02 6.840e+02 3.180e+02\n",
      " 4.260e+02 6.320e+02 3.510e+02 4.070e+02 3.760e+02 6.200e+02 5.580e+02\n",
      " 4.440e+02 3.001e+03 3.124e+03 3.062e+03 2.759e+03 2.940e+03 3.184e+03\n",
      " 3.306e+03 2.909e+03 2.971e+03 2.787e+03 2.728e+03 3.093e+03 3.153e+03\n",
      " 3.367e+03 3.245e+03 2.879e+03 2.818e+03 3.337e+03 3.275e+03 5.730e+02\n",
      " 6.380e+02 3.210e+02 4.790e+02 6.030e+02 4.510e+02 2.101e+03 1.085e+03\n",
      " 6.720e+02 6.410e+02 3.170e+02 4.090e+02 3.240e+02 3.470e+02 5.770e+02\n",
      " 1.136e+03 1.105e+03 1.075e+03 4.740e+02 7.180e+02 8.670e+02 3.790e+02\n",
      " 7.440e+02 5.930e+02 9.290e+02 8.360e+02 6.530e+02 5.000e+02 9.000e+02\n",
      " 9.590e+02 7.760e+02 5.620e+02 5.320e+02 6.940e+02 3.350e+02 5.260e+02\n",
      " 4.650e+02 4.960e+02 2.940e+02 3.690e+02 3.380e+02 4.730e+02 4.420e+02\n",
      " 5.010e+02 4.930e+02 3.460e+02 5.350e+02 4.760e+02 4.120e+02 4.430e+02\n",
      " 3.680e+02 7.000e+02 6.010e+02 7.930e+02 4.810e+02 4.540e+02 4.000e+02\n",
      " 6.630e+02 8.750e+02 3.820e+02 1.084e+03 5.070e+02 3.150e+02 1.365e+03\n",
      " 6.060e+02 5.400e+02 5.100e+02 6.690e+02 5.220e+02 4.160e+02 9.520e+02\n",
      " 1.164e+03 1.133e+03 1.561e+03 1.103e+03 1.377e+03 1.286e+03 1.195e+03\n",
      " 1.499e+03 1.011e+03 1.408e+03 1.317e+03 1.042e+03 1.225e+03 1.469e+03\n",
      " 1.348e+03 1.530e+03 9.830e+02 6.470e+02 4.300e+02 8.740e+02 5.820e+02\n",
      " 1.143e+03 5.390e+02 5.690e+02 6.730e+02 8.850e+02 9.160e+02 4.700e+02\n",
      " 4.400e+02 4.750e+02 7.460e+02 4.980e+02 5.950e+02 6.550e+02 6.270e+02\n",
      " 4.620e+02 9.270e+02 3.620e+02 4.230e+02 7.920e+02 7.310e+02 4.840e+02\n",
      " 4.220e+02 4.560e+02 5.090e+02 1.095e+03 1.916e+03 3.400e+02 6.830e+02\n",
      " 7.020e+02 3.750e+02 4.240e+02 3.950e+02 5.170e+02 5.780e+02 1.089e+03\n",
      " 3.670e+02 4.290e+02 4.150e+02 5.560e+02 4.380e+02 6.490e+02 6.790e+02\n",
      " 4.610e+02 4.310e+02 7.300e+02 2.780e+02 4.600e+02 4.270e+02 3.970e+02\n",
      " 1.115e+03 1.486e+03 2.730e+02 1.504e+03 8.560e+02 8.250e+02 9.730e+02\n",
      " 8.810e+02 1.034e+03 8.510e+02 9.430e+02 7.590e+02 7.900e+02 9.120e+02\n",
      " 9.220e+02 4.570e+02 3.082e+03 4.880e+02 8.780e+02 9.640e+02 1.554e+03\n",
      " 8.060e+02 5.240e+02 8.260e+02 7.940e+02 4.590e+02 8.860e+02 7.340e+02\n",
      " 9.340e+02 6.120e+02 5.500e+02 7.680e+02 9.170e+02 3.530e+02 4.280e+02\n",
      " 1.131e+03 8.000e+02 6.300e+02 6.000e+02 7.160e+02 5.790e+02 6.100e+02\n",
      " 5.490e+02 6.710e+02 2.626e+03 1.384e+03 1.155e+03 8.140e+02 5.630e+02\n",
      " 1.515e+03 5.480e+02 4.410e+02 4.660e+02 4.780e+02 1.822e+03 7.380e+02\n",
      " 4.690e+02 3.770e+02 9.390e+02 6.140e+02 7.320e+02 6.400e+02 4.890e+02\n",
      " 7.630e+02 7.960e+02 5.800e+02 9.020e+02 8.870e+02 5.540e+02 3.980e+02\n",
      " 5.200e+02 4.320e+02 5.990e+02 5.060e+02 4.940e+02 6.450e+02 7.430e+02\n",
      " 1.077e+03 1.321e+03 1.139e+03 1.290e+03 1.352e+03 1.108e+03 9.240e+02\n",
      " 1.016e+03 1.382e+03 7.740e+02 9.790e+02 1.048e+03 3.370e+02 7.060e+02\n",
      " 7.370e+02 1.345e+03 1.162e+03 1.071e+03 9.180e+02 1.223e+03 1.040e+03\n",
      " 1.315e+03 1.102e+03 1.284e+03 1.253e+03 8.570e+02 9.490e+02 6.170e+02\n",
      " 5.970e+02 4.900e+02 1.198e+03 4.460e+02 4.100e+02 1.055e+03 9.650e+02\n",
      " 1.076e+03 1.373e+03 1.707e+03 1.615e+03 1.889e+03 1.401e+03 1.585e+03\n",
      " 1.920e+03 1.767e+03 1.951e+03 1.676e+03 1.523e+03 1.493e+03 1.981e+03\n",
      " 1.342e+03 1.738e+03 1.432e+03 1.798e+03 1.859e+03 7.050e+02 5.960e+02\n",
      " 5.650e+02 5.340e+02 4.450e+02 5.420e+02 5.410e+02 2.251e+03 6.950e+02\n",
      " 6.370e+02 8.770e+02 1.151e+03 6.340e+02 5.190e+02 7.200e+02 6.750e+02\n",
      " 6.390e+02 3.120e+03 8.200e+02 6.700e+02 1.656e+03]\n"
     ]
    },
    {
     "name": "stdout",
     "output_type": "stream",
     "text": [
      "0\n"
     ]
    }
   ],
   "source": [
    "print(inputs['mora_max'].unique())\n",
    "print(sum(inputs['mora_max'] == '\\\\N'))\n",
    "inputs.loc[inputs['mora_max'] == '\\\\N','mora_max'] = np.nan\n",
    "inputs['mora_max'] = inputs['mora_max'].astype(float)"
   ]
  },
  {
   "cell_type": "markdown",
   "metadata": {},
   "source": [
    "inputs.to_csv('test_inputs2.csv')"
   ]
  },
  {
   "cell_type": "code",
   "execution_count": 26,
   "metadata": {
    "scrolled": true
   },
   "outputs": [
    {
     "data": {
      "text/html": [
       "<div>\n",
       "<style scoped>\n",
       "    .dataframe tbody tr th:only-of-type {\n",
       "        vertical-align: middle;\n",
       "    }\n",
       "\n",
       "    .dataframe tbody tr th {\n",
       "        vertical-align: top;\n",
       "    }\n",
       "\n",
       "    .dataframe thead th {\n",
       "        text-align: right;\n",
       "    }\n",
       "</style>\n",
       "<table border=\"1\" class=\"dataframe\">\n",
       "  <thead>\n",
       "    <tr style=\"text-align: right;\">\n",
       "      <th></th>\n",
       "      <th>id_registro</th>\n",
       "      <th>periodo</th>\n",
       "      <th>id_cli</th>\n",
       "      <th>fecha_nacimiento</th>\n",
       "      <th>edad</th>\n",
       "      <th>genero</th>\n",
       "      <th>estado_civil</th>\n",
       "      <th>nivel_academico</th>\n",
       "      <th>profesion</th>\n",
       "      <th>ocupacion</th>\n",
       "      <th>ult_actual</th>\n",
       "      <th>cupo_tc_mdo</th>\n",
       "      <th>saldo_prom3_tdc_mdo</th>\n",
       "      <th>cuota_tc_mdo</th>\n",
       "      <th>saldo_no_rot_mdo</th>\n",
       "      <th>cuota_libranza_sf</th>\n",
       "      <th>cant_oblig_tot_sf</th>\n",
       "      <th>cant_cast_ult_12m_sr</th>\n",
       "      <th>ind</th>\n",
       "      <th>rep_calif_cred</th>\n",
       "      <th>pol_centr_ext</th>\n",
       "      <th>gasto_familiar</th>\n",
       "    </tr>\n",
       "  </thead>\n",
       "  <tbody>\n",
       "    <tr>\n",
       "      <th>0</th>\n",
       "      <td>2089776#201908</td>\n",
       "      <td>201908</td>\n",
       "      <td>2089776</td>\n",
       "      <td>19840630.0</td>\n",
       "      <td>35.0</td>\n",
       "      <td>M</td>\n",
       "      <td>DIVORCIADO</td>\n",
       "      <td>TECNOLOGO</td>\n",
       "      <td>TECNOLOGIA SISTEMAS</td>\n",
       "      <td>Empleado</td>\n",
       "      <td>20180526.0</td>\n",
       "      <td>0.0</td>\n",
       "      <td>0.0</td>\n",
       "      <td>0.0</td>\n",
       "      <td>903000.0</td>\n",
       "      <td>0.0</td>\n",
       "      <td>1.0</td>\n",
       "      <td>0.0</td>\n",
       "      <td>311715.5</td>\n",
       "      <td>C</td>\n",
       "      <td>0.0</td>\n",
       "      <td>232526.0</td>\n",
       "    </tr>\n",
       "    <tr>\n",
       "      <th>1</th>\n",
       "      <td>2089776#201909</td>\n",
       "      <td>201909</td>\n",
       "      <td>2089776</td>\n",
       "      <td>19840630.0</td>\n",
       "      <td>35.0</td>\n",
       "      <td>M</td>\n",
       "      <td>DIVORCIADO</td>\n",
       "      <td>TECNOLOGO</td>\n",
       "      <td>TECNOLOGIA SISTEMAS</td>\n",
       "      <td>Empleado</td>\n",
       "      <td>20180526.0</td>\n",
       "      <td>0.0</td>\n",
       "      <td>0.0</td>\n",
       "      <td>0.0</td>\n",
       "      <td>903000.0</td>\n",
       "      <td>0.0</td>\n",
       "      <td>1.0</td>\n",
       "      <td>0.0</td>\n",
       "      <td>311715.5</td>\n",
       "      <td>C</td>\n",
       "      <td>0.0</td>\n",
       "      <td>265900.0</td>\n",
       "    </tr>\n",
       "    <tr>\n",
       "      <th>2</th>\n",
       "      <td>2089776#201907</td>\n",
       "      <td>201907</td>\n",
       "      <td>2089776</td>\n",
       "      <td>19840630.0</td>\n",
       "      <td>35.0</td>\n",
       "      <td>M</td>\n",
       "      <td>DIVORCIADO</td>\n",
       "      <td>TECNOLOGO</td>\n",
       "      <td>TECNOLOGIA SISTEMAS</td>\n",
       "      <td>Empleado</td>\n",
       "      <td>20180526.0</td>\n",
       "      <td>0.0</td>\n",
       "      <td>0.0</td>\n",
       "      <td>0.0</td>\n",
       "      <td>903000.0</td>\n",
       "      <td>0.0</td>\n",
       "      <td>1.0</td>\n",
       "      <td>0.0</td>\n",
       "      <td>311306.0</td>\n",
       "      <td>C</td>\n",
       "      <td>0.0</td>\n",
       "      <td>243052.0</td>\n",
       "    </tr>\n",
       "    <tr>\n",
       "      <th>3</th>\n",
       "      <td>2089776#201903</td>\n",
       "      <td>201903</td>\n",
       "      <td>2089776</td>\n",
       "      <td>19840630.0</td>\n",
       "      <td>35.0</td>\n",
       "      <td>M</td>\n",
       "      <td>DIVORCIADO</td>\n",
       "      <td>TECNOLOGO</td>\n",
       "      <td>TECNOLOGIA SISTEMAS</td>\n",
       "      <td>Empleado</td>\n",
       "      <td>20180526.0</td>\n",
       "      <td>0.0</td>\n",
       "      <td>0.0</td>\n",
       "      <td>0.0</td>\n",
       "      <td>2433000.0</td>\n",
       "      <td>0.0</td>\n",
       "      <td>1.0</td>\n",
       "      <td>0.0</td>\n",
       "      <td>311306.0</td>\n",
       "      <td>C</td>\n",
       "      <td>0.0</td>\n",
       "      <td>276014.0</td>\n",
       "    </tr>\n",
       "    <tr>\n",
       "      <th>4</th>\n",
       "      <td>2089776#201911</td>\n",
       "      <td>201911</td>\n",
       "      <td>2089776</td>\n",
       "      <td>19840630.0</td>\n",
       "      <td>35.0</td>\n",
       "      <td>M</td>\n",
       "      <td>DIVORCIADO</td>\n",
       "      <td>TECNOLOGO</td>\n",
       "      <td>TECNOLOGIA SISTEMAS</td>\n",
       "      <td>Empleado</td>\n",
       "      <td>20180526.0</td>\n",
       "      <td>0.0</td>\n",
       "      <td>0.0</td>\n",
       "      <td>0.0</td>\n",
       "      <td>0.0</td>\n",
       "      <td>0.0</td>\n",
       "      <td>0.0</td>\n",
       "      <td>0.0</td>\n",
       "      <td>677516.0</td>\n",
       "      <td>C</td>\n",
       "      <td>0.0</td>\n",
       "      <td>418866.0</td>\n",
       "    </tr>\n",
       "  </tbody>\n",
       "</table>\n",
       "</div><p>5 rows x 56 columns</p>\n",
       "</div>"
      ],
      "text/plain": [
       "      id_registro  periodo   id_cli  fecha_nacimiento  edad genero  \\\n",
       "0  2089776#201908   201908  2089776        19840630.0  35.0      M   \n",
       "1  2089776#201909   201909  2089776        19840630.0  35.0      M   \n",
       "2  2089776#201907   201907  2089776        19840630.0  35.0      M   \n",
       "3  2089776#201903   201903  2089776        19840630.0  35.0      M   \n",
       "4  2089776#201911   201911  2089776        19840630.0  35.0      M   \n",
       "\n",
       "  estado_civil  cuota_libranza_sf  cant_oblig_tot_sf  cant_cast_ult_12m_sr  \\\n",
       "0   DIVORCIADO                0.0                1.0                   0.0   \n",
       "1   DIVORCIADO                0.0                1.0                   0.0   \n",
       "2   DIVORCIADO                0.0                1.0                   0.0   \n",
       "3   DIVORCIADO                0.0                1.0                   0.0   \n",
       "4   DIVORCIADO                0.0                0.0                   0.0   \n",
       "\n",
       "[5 rows x 56 columns]"
      ]
     },
     "execution_count": 26,
     "metadata": {},
     "output_type": "execute_result"
    }
   ],
   "source": [
    "inputs.head()"
   ]
  },
  {
   "cell_type": "markdown",
   "metadata": {},
   "source": [
    "## Parte 2"
   ]
  },
  {
   "cell_type": "markdown",
   "metadata": {},
   "source": [
    "import pandas as pd\n",
    "import numpy as np"
   ]
  },
  {
   "cell_type": "markdown",
   "metadata": {},
   "source": [
    "inputs = pd.read_csv('test_inputs2.csv', sep =',')"
   ]
  },
  {
   "cell_type": "code",
   "execution_count": 27,
   "metadata": {},
   "outputs": [
    {
     "data": {
      "text/html": [
       "<div>\n",
       "<style scoped>\n",
       "    .dataframe tbody tr th:only-of-type {\n",
       "        vertical-align: middle;\n",
       "    }\n",
       "\n",
       "    .dataframe tbody tr th {\n",
       "        vertical-align: top;\n",
       "    }\n",
       "\n",
       "    .dataframe thead th {\n",
       "        text-align: right;\n",
       "    }\n",
       "</style>\n",
       "<table border=\"1\" class=\"dataframe\">\n",
       "  <thead>\n",
       "    <tr style=\"text-align: right;\">\n",
       "      <th></th>\n",
       "      <th>id_registro</th>\n",
       "      <th>periodo</th>\n",
       "      <th>id_cli</th>\n",
       "      <th>fecha_nacimiento</th>\n",
       "      <th>edad</th>\n",
       "      <th>genero</th>\n",
       "      <th>estado_civil</th>\n",
       "      <th>nivel_academico</th>\n",
       "      <th>profesion</th>\n",
       "      <th>ocupacion</th>\n",
       "      <th>ult_actual</th>\n",
       "      <th>cupo_tc_mdo</th>\n",
       "      <th>saldo_prom3_tdc_mdo</th>\n",
       "      <th>cuota_tc_mdo</th>\n",
       "      <th>saldo_no_rot_mdo</th>\n",
       "      <th>cuota_libranza_sf</th>\n",
       "      <th>cant_oblig_tot_sf</th>\n",
       "      <th>cant_cast_ult_12m_sr</th>\n",
       "      <th>ind</th>\n",
       "      <th>rep_calif_cred</th>\n",
       "      <th>pol_centr_ext</th>\n",
       "      <th>gasto_familiar</th>\n",
       "    </tr>\n",
       "  </thead>\n",
       "  <tbody>\n",
       "    <tr>\n",
       "      <th>0</th>\n",
       "      <td>2089776#201908</td>\n",
       "      <td>201908</td>\n",
       "      <td>2089776</td>\n",
       "      <td>19840630.0</td>\n",
       "      <td>35.0</td>\n",
       "      <td>M</td>\n",
       "      <td>DIVORCIADO</td>\n",
       "      <td>TECNOLOGO</td>\n",
       "      <td>TECNOLOGIA SISTEMAS</td>\n",
       "      <td>Empleado</td>\n",
       "      <td>20180526.0</td>\n",
       "      <td>0.0</td>\n",
       "      <td>0.0</td>\n",
       "      <td>0.0</td>\n",
       "      <td>903000.0</td>\n",
       "      <td>0.0</td>\n",
       "      <td>1.0</td>\n",
       "      <td>0.0</td>\n",
       "      <td>311715.5</td>\n",
       "      <td>C</td>\n",
       "      <td>0.0</td>\n",
       "      <td>232526.0</td>\n",
       "    </tr>\n",
       "    <tr>\n",
       "      <th>1</th>\n",
       "      <td>2089776#201909</td>\n",
       "      <td>201909</td>\n",
       "      <td>2089776</td>\n",
       "      <td>19840630.0</td>\n",
       "      <td>35.0</td>\n",
       "      <td>M</td>\n",
       "      <td>DIVORCIADO</td>\n",
       "      <td>TECNOLOGO</td>\n",
       "      <td>TECNOLOGIA SISTEMAS</td>\n",
       "      <td>Empleado</td>\n",
       "      <td>20180526.0</td>\n",
       "      <td>0.0</td>\n",
       "      <td>0.0</td>\n",
       "      <td>0.0</td>\n",
       "      <td>903000.0</td>\n",
       "      <td>0.0</td>\n",
       "      <td>1.0</td>\n",
       "      <td>0.0</td>\n",
       "      <td>311715.5</td>\n",
       "      <td>C</td>\n",
       "      <td>0.0</td>\n",
       "      <td>265900.0</td>\n",
       "    </tr>\n",
       "    <tr>\n",
       "      <th>2</th>\n",
       "      <td>2089776#201907</td>\n",
       "      <td>201907</td>\n",
       "      <td>2089776</td>\n",
       "      <td>19840630.0</td>\n",
       "      <td>35.0</td>\n",
       "      <td>M</td>\n",
       "      <td>DIVORCIADO</td>\n",
       "      <td>TECNOLOGO</td>\n",
       "      <td>TECNOLOGIA SISTEMAS</td>\n",
       "      <td>Empleado</td>\n",
       "      <td>20180526.0</td>\n",
       "      <td>0.0</td>\n",
       "      <td>0.0</td>\n",
       "      <td>0.0</td>\n",
       "      <td>903000.0</td>\n",
       "      <td>0.0</td>\n",
       "      <td>1.0</td>\n",
       "      <td>0.0</td>\n",
       "      <td>311306.0</td>\n",
       "      <td>C</td>\n",
       "      <td>0.0</td>\n",
       "      <td>243052.0</td>\n",
       "    </tr>\n",
       "    <tr>\n",
       "      <th>3</th>\n",
       "      <td>2089776#201903</td>\n",
       "      <td>201903</td>\n",
       "      <td>2089776</td>\n",
       "      <td>19840630.0</td>\n",
       "      <td>35.0</td>\n",
       "      <td>M</td>\n",
       "      <td>DIVORCIADO</td>\n",
       "      <td>TECNOLOGO</td>\n",
       "      <td>TECNOLOGIA SISTEMAS</td>\n",
       "      <td>Empleado</td>\n",
       "      <td>20180526.0</td>\n",
       "      <td>0.0</td>\n",
       "      <td>0.0</td>\n",
       "      <td>0.0</td>\n",
       "      <td>2433000.0</td>\n",
       "      <td>0.0</td>\n",
       "      <td>1.0</td>\n",
       "      <td>0.0</td>\n",
       "      <td>311306.0</td>\n",
       "      <td>C</td>\n",
       "      <td>0.0</td>\n",
       "      <td>276014.0</td>\n",
       "    </tr>\n",
       "    <tr>\n",
       "      <th>4</th>\n",
       "      <td>2089776#201911</td>\n",
       "      <td>201911</td>\n",
       "      <td>2089776</td>\n",
       "      <td>19840630.0</td>\n",
       "      <td>35.0</td>\n",
       "      <td>M</td>\n",
       "      <td>DIVORCIADO</td>\n",
       "      <td>TECNOLOGO</td>\n",
       "      <td>TECNOLOGIA SISTEMAS</td>\n",
       "      <td>Empleado</td>\n",
       "      <td>20180526.0</td>\n",
       "      <td>0.0</td>\n",
       "      <td>0.0</td>\n",
       "      <td>0.0</td>\n",
       "      <td>0.0</td>\n",
       "      <td>0.0</td>\n",
       "      <td>0.0</td>\n",
       "      <td>0.0</td>\n",
       "      <td>677516.0</td>\n",
       "      <td>C</td>\n",
       "      <td>0.0</td>\n",
       "      <td>418866.0</td>\n",
       "    </tr>\n",
       "  </tbody>\n",
       "</table>\n",
       "</div><p>5 rows x 56 columns</p>\n",
       "</div>"
      ],
      "text/plain": [
       "      id_registro  periodo   id_cli  fecha_nacimiento  edad genero  \\\n",
       "0  2089776#201908   201908  2089776        19840630.0  35.0      M   \n",
       "1  2089776#201909   201909  2089776        19840630.0  35.0      M   \n",
       "2  2089776#201907   201907  2089776        19840630.0  35.0      M   \n",
       "3  2089776#201903   201903  2089776        19840630.0  35.0      M   \n",
       "4  2089776#201911   201911  2089776        19840630.0  35.0      M   \n",
       "\n",
       "  estado_civil  cuota_libranza_sf  cant_oblig_tot_sf  cant_cast_ult_12m_sr  \\\n",
       "0   DIVORCIADO                0.0                1.0                   0.0   \n",
       "1   DIVORCIADO                0.0                1.0                   0.0   \n",
       "2   DIVORCIADO                0.0                1.0                   0.0   \n",
       "3   DIVORCIADO                0.0                1.0                   0.0   \n",
       "4   DIVORCIADO                0.0                0.0                   0.0   \n",
       "\n",
       "[5 rows x 56 columns]"
      ]
     },
     "execution_count": 27,
     "metadata": {},
     "output_type": "execute_result"
    }
   ],
   "source": [
    "pd.set_option('display.max_columns', None)\n",
    "inputs.head()"
   ]
  },
  {
   "cell_type": "code",
   "execution_count": 28,
   "metadata": {},
   "outputs": [
    {
     "name": "stdout",
     "output_type": "stream",
     "text": [
      "[ 0.  1.  3.  2. 12. 11.  7.  8.  6.  4.  5. 10.  9.]\n"
     ]
    }
   ],
   "source": [
    "print(inputs['cant_moras_30_ult_12_meses'].unique())\n",
    "inputs.loc[inputs['cant_moras_30_ult_12_meses'] == '\\\\N','cant_moras_30_ult_12_meses'] = np.nan\n",
    "inputs['cant_moras_30_ult_12_meses'] = inputs['cant_moras_30_ult_12_meses'].astype(float)"
   ]
  },
  {
   "cell_type": "code",
   "execution_count": 29,
   "metadata": {},
   "outputs": [
    {
     "name": "stdout",
     "output_type": "stream",
     "text": [
      "[ 0.  1. 11.  2. 10.  3.  4.  5.  8.  7. 12.  6.  9.]\n"
     ]
    }
   ],
   "source": [
    "print(inputs['cant_moras_60_ult_12_meses'].unique())\n",
    "inputs.loc[inputs['cant_moras_60_ult_12_meses'] == '\\\\N','cant_moras_60_ult_12_meses'] = np.nan\n",
    "inputs['cant_moras_60_ult_12_meses'] = inputs['cant_moras_60_ult_12_meses'].astype(float)"
   ]
  },
  {
   "cell_type": "code",
   "execution_count": 30,
   "metadata": {},
   "outputs": [
    {
     "name": "stdout",
     "output_type": "stream",
     "text": [
      "[ 0.  8.  2.  9.  1.  3.  7. 12.  6. 10.  4. 11.  5.]\n"
     ]
    }
   ],
   "source": [
    "print(inputs['cant_moras_90_ult_12_meses'].unique())\n",
    "inputs.loc[inputs['cant_moras_90_ult_12_meses'] == '\\\\N','cant_moras_90_ult_12_meses'] = np.nan\n",
    "inputs['cant_moras_90_ult_12_meses'] = inputs['cant_moras_90_ult_12_meses'].astype(float)"
   ]
  },
  {
   "cell_type": "code",
   "execution_count": 31,
   "metadata": {},
   "outputs": [
    {
     "name": "stdout",
     "output_type": "stream",
     "text": [
      "[       0.  6000000.  3000000. ... 70082000. 30070000.  5817000.]\n",
      "0\n"
     ]
    }
   ],
   "source": [
    "print(inputs['cupo_total_tc'].unique())\n",
    "print(sum(inputs['cupo_total_tc'].isnull()))"
   ]
  },
  {
   "cell_type": "code",
   "execution_count": 32,
   "metadata": {},
   "outputs": [
    {
     "name": "stdout",
     "output_type": "stream",
     "text": [
      "[False True 'True' 'False' 'NO' 'SI']\n"
     ]
    }
   ],
   "source": [
    "print(inputs['tenencia_tc'].unique())\n",
    "inputs.loc[inputs['tenencia_tc']=='NO','tenencia_tc'] = False\n",
    "inputs.loc[inputs['tenencia_tc']=='SI','tenencia_tc'] = True\n",
    "inputs['tenencia_tc']=inputs['tenencia_tc'].astype(bool)"
   ]
  },
  {
   "cell_type": "code",
   "execution_count": 33,
   "metadata": {},
   "outputs": [
    {
     "name": "stdout",
     "output_type": "stream",
     "text": [
      "[      0.      413837.5005  126000.     ...  387082.575   508134.276\n",
      " 7620965.514 ]\n",
      "0\n"
     ]
    }
   ],
   "source": [
    "print(inputs['cuota_tc_bancolombia'].unique())\n",
    "print(sum(inputs['cuota_tc_bancolombia'].isnull()))"
   ]
  },
  {
   "cell_type": "code",
   "execution_count": 34,
   "metadata": {},
   "outputs": [
    {
     "name": "stdout",
     "output_type": "stream",
     "text": [
      "[False True 'True' 'False' nan 'X']\n",
      "0\n"
     ]
    }
   ],
   "source": [
    "print(inputs['tiene_consumo'].unique())\n",
    "inputs.loc[inputs['tiene_consumo']=='\\\\N','tiene_consumo'] = False\n",
    "inputs.loc[inputs['tiene_consumo']=='X','tiene_consumo'] = True\n",
    "inputs['tiene_consumo']=inputs['tiene_consumo'].astype(bool)\n",
    "print(sum(inputs['tiene_consumo'].isnull()))"
   ]
  },
  {
   "cell_type": "code",
   "execution_count": 35,
   "metadata": {},
   "outputs": [
    {
     "name": "stdout",
     "output_type": "stream",
     "text": [
      "[False True 'False' 'True' nan 'X']\n",
      "0\n"
     ]
    }
   ],
   "source": [
    "print(inputs['tiene_crediagil'].unique())\n",
    "inputs.loc[inputs['tiene_crediagil']=='\\\\N','tiene_crediagil'] = False\n",
    "inputs.loc[inputs['tiene_crediagil']=='X','tiene_crediagil'] = True\n",
    "inputs['tiene_crediagil']=inputs['tiene_crediagil'].astype(bool)\n",
    "print(sum(inputs['tiene_crediagil'].isnull()))"
   ]
  },
  {
   "cell_type": "code",
   "execution_count": 36,
   "metadata": {},
   "outputs": [
    {
     "name": "stdout",
     "output_type": "stream",
     "text": [
      "[ 1.  2.  0.  3.  4.  5.  6.  9.  7.  8. 23. 11. 30. 36. 15. 35. 24. 14.]\n"
     ]
    }
   ],
   "source": [
    "print(inputs['nro_tot_cuentas'].unique())\n",
    "inputs.loc[inputs['nro_tot_cuentas']=='\\\\N','nro_tot_cuentas'] = np.nan\n",
    "inputs['nro_tot_cuentas'] = inputs['nro_tot_cuentas'].astype(float)"
   ]
  },
  {
   "cell_type": "code",
   "execution_count": 37,
   "metadata": {},
   "outputs": [
    {
     "name": "stdout",
     "output_type": "stream",
     "text": [
      "[ 1.  2.  0.  3.  4.  5.  6.  9.  7.  8. 23. 11. 30. 36. 15. 10. 35. 24.\n",
      " 14.]\n"
     ]
    }
   ],
   "source": [
    "print(inputs['ctas_activas'].unique())\n",
    "inputs.loc[inputs['ctas_activas']=='\\\\N','ctas_activas'] = np.nan\n",
    "inputs['ctas_activas'] = inputs['ctas_activas'].astype(float)"
   ]
  },
  {
   "cell_type": "code",
   "execution_count": 38,
   "metadata": {},
   "outputs": [
    {
     "name": "stdout",
     "output_type": "stream",
     "text": [
      "[True False 'True' 'False' 'X' nan]\n",
      "0\n"
     ]
    }
   ],
   "source": [
    "print(inputs['tiene_ctas_activas'].unique())\n",
    "inputs.loc[inputs['tiene_ctas_activas']=='\\\\N','tiene_ctas_activas'] = False\n",
    "inputs.loc[inputs['tiene_ctas_activas']=='X','tiene_ctas_activas'] = True\n",
    "inputs['tiene_ctas_activas']=inputs['tiene_ctas_activas'].astype(bool)\n",
    "print(sum(inputs['tiene_ctas_activas'].isnull()))\n"
   ]
  },
  {
   "cell_type": "code",
   "execution_count": 39,
   "metadata": {},
   "outputs": [
    {
     "name": "stdout",
     "output_type": "stream",
     "text": [
      "[0. 1. 2. 3. 4.]\n"
     ]
    }
   ],
   "source": [
    "print(inputs['ctas_embargadas'].unique())\n",
    "inputs.loc[inputs['ctas_embargadas']=='\\\\N','ctas_embargadas'] = np.nan\n",
    "inputs['ctas_embargadas'] = inputs['ctas_embargadas'].astype(float)"
   ]
  },
  {
   "cell_type": "code",
   "execution_count": 40,
   "metadata": {},
   "outputs": [
    {
     "name": "stdout",
     "output_type": "stream",
     "text": [
      "[False True 'False' 'True' nan 'X']\n",
      "0\n"
     ]
    }
   ],
   "source": [
    "print(inputs['tiene_ctas_embargadas'].unique())\n",
    "inputs.loc[inputs['tiene_ctas_embargadas']=='\\\\N','tiene_ctas_embargadas'] = False\n",
    "inputs.loc[inputs['tiene_ctas_embargadas']=='X','tiene_ctas_embargadas'] = True\n",
    "inputs['tiene_ctas_embargadas']=inputs['tiene_ctas_embargadas'].astype(bool)\n",
    "print(sum(inputs['tiene_ctas_embargadas'].isnull()))"
   ]
  },
  {
   "cell_type": "code",
   "execution_count": 41,
   "metadata": {},
   "outputs": [
    {
     "name": "stdout",
     "output_type": "stream",
     "text": [
      "[False True 'False' 'True' nan 'X']\n",
      "0\n"
     ]
    }
   ],
   "source": [
    "print(inputs['pension_fopep'].unique())\n",
    "inputs.loc[inputs['pension_fopep']=='\\\\N','pension_fopep'] = False\n",
    "inputs.loc[inputs['pension_fopep']=='X','pension_fopep'] = True\n",
    "inputs['pension_fopep']=inputs['pension_fopep'].astype(bool)\n",
    "print(sum(inputs['pension_fopep'].isnull()))"
   ]
  },
  {
   "cell_type": "markdown",
   "metadata": {},
   "source": [
    "print(inputs['cuota_cred_hipot'].unique())\n",
    "inputs.loc[inputs['cuota_cred_hipot']=='\\\\N','cuota_cred_hipot'] = np.nan\n",
    "inputs['cuota_cred_hipot'] = inputs['cuota_cred_hipot'].astype(float)"
   ]
  },
  {
   "cell_type": "code",
   "execution_count": 42,
   "metadata": {},
   "outputs": [
    {
     "name": "stdout",
     "output_type": "stream",
     "text": [
      "[False True 'False' 'True' nan 'X']\n",
      "0\n"
     ]
    }
   ],
   "source": [
    "print(inputs['tiene_cred_hipo_1'].unique())\n",
    "inputs.loc[inputs['tiene_cred_hipo_1']=='\\\\N','tiene_cred_hipo_1'] = False\n",
    "inputs.loc[inputs['tiene_cred_hipo_1']=='X','tiene_cred_hipo_1'] = True\n",
    "inputs['tiene_cred_hipo_1']=inputs['tiene_cred_hipo_1'].astype(bool)\n",
    "print(sum(inputs['tiene_cred_hipo_1'].isnull()))"
   ]
  },
  {
   "cell_type": "code",
   "execution_count": 43,
   "metadata": {},
   "outputs": [
    {
     "name": "stdout",
     "output_type": "stream",
     "text": [
      "[False True 'False' 'True' nan 'X']\n",
      "0\n"
     ]
    }
   ],
   "source": [
    "print(inputs['tiene_cred_hipo_2'].unique())\n",
    "inputs.loc[inputs['tiene_cred_hipo_2']=='\\\\N','tiene_cred_hipo_2'] = False\n",
    "inputs.loc[inputs['tiene_cred_hipo_2']=='X','tiene_cred_hipo_2'] = True\n",
    "inputs['tiene_cred_hipo_2']=inputs['tiene_cred_hipo_2'].astype(bool)\n",
    "print(sum(inputs['tiene_cred_hipo_2'].isnull()))"
   ]
  },
  {
   "cell_type": "code",
   "execution_count": 44,
   "metadata": {},
   "outputs": [
    {
     "name": "stdout",
     "output_type": "stream",
     "text": [
      "[ 1255032.  1282673.        0. ...  1922668. 14956096. 11916465.]\n"
     ]
    }
   ],
   "source": [
    "print(inputs['mediana_nom3'].unique())"
   ]
  },
  {
   "cell_type": "code",
   "execution_count": 45,
   "metadata": {},
   "outputs": [
    {
     "name": "stdout",
     "output_type": "stream",
     "text": [
      "[      0. 1918483. 1429361. ... 1096732. 1469267. 2065445.]\n"
     ]
    }
   ],
   "source": [
    "print(inputs['mediana_pen3'].unique())"
   ]
  },
  {
   "cell_type": "code",
   "execution_count": 46,
   "metadata": {},
   "outputs": [
    {
     "name": "stdout",
     "output_type": "stream",
     "text": [
      "[ 1255032.  1282673.        0. ...  1922668. 14956096. 11916465.]\n"
     ]
    }
   ],
   "source": [
    "print(inputs['ingreso_nompen'].unique())"
   ]
  },
  {
   "cell_type": "markdown",
   "metadata": {},
   "source": [
    "print(inputs['cat_ingreso'].unique())\n",
    "inputs.loc[inputs['cat_ingreso']=='\\\\N','cat_ingreso'] = np.nan"
   ]
  },
  {
   "cell_type": "code",
   "execution_count": 47,
   "metadata": {},
   "outputs": [
    {
     "name": "stdout",
     "output_type": "stream",
     "text": [
      "[ 1173431.  1172612.  1355032. ... 26913722. 14481371.  8407800.]\n"
     ]
    }
   ],
   "source": [
    "print(inputs['ingreso_final'].unique())\n",
    "inputs.loc[inputs['ingreso_final']=='\\\\N','ingreso_final'] = np.nan\n",
    "inputs['ingreso_final'] = inputs['ingreso_final'].astype(float)"
   ]
  },
  {
   "cell_type": "code",
   "execution_count": 48,
   "metadata": {},
   "outputs": [
    {
     "name": "stdout",
     "output_type": "stream",
     "text": [
      "[ 0.  1.  2.  4.  3.  6.  8.  5.  7.  9. 11. 10.]\n"
     ]
    }
   ],
   "source": [
    "print(inputs['cant_mora_30_tdc_ult_3m_sf'].unique())\n",
    "inputs.loc[inputs['cant_mora_30_tdc_ult_3m_sf']=='\\\\N','cant_mora_30_tdc_ult_3m_sf'] = np.nan\n",
    "inputs['cant_mora_30_tdc_ult_3m_sf'] = inputs['cant_mora_30_tdc_ult_3m_sf'].astype(float)"
   ]
  },
  {
   "cell_type": "code",
   "execution_count": 49,
   "metadata": {},
   "outputs": [
    {
     "name": "stdout",
     "output_type": "stream",
     "text": [
      "[  0.   1.   2.   6.   4.   3.   5.   9.  15.  10.   7.   8.  11.  12.\n",
      "  13.  14.  60.  41.  20.  42.  18.  16.  24.  17.  23.  34.  30.  45.\n",
      "  19.  32.  21.  58.  56.  22.  35.  48.  36.  46.  38.  63.  59.  28.\n",
      "  29.  27.  25.  26.  40. 115.  39.  52.  33.  66.  67.  50.  70.  86.\n",
      "  37.  51.  54.  31.  62.  44. 144.  98.  91. 101. 100.  96.  68.  55.\n",
      "  57.  80. 120.  82.  53.  79.  47.  72.  73.  89. 150.]\n"
     ]
    }
   ],
   "source": [
    "print(inputs['cant_mora_30_consum_ult_3m_sf'].unique())\n",
    "inputs.loc[inputs['cant_mora_30_consum_ult_3m_sf']=='\\\\N','cant_mora_30_consum_ult_3m_sf'] = np.nan\n",
    "inputs['cant_mora_30_consum_ult_3m_sf'] = inputs['cant_mora_30_consum_ult_3m_sf'].astype(float)"
   ]
  },
  {
   "cell_type": "code",
   "execution_count": 50,
   "metadata": {},
   "outputs": [
    {
     "name": "stdout",
     "output_type": "stream",
     "text": [
      "[      0.   1317000.   1331000.   ... 1071414.15  317405.72 9794649.65]\n"
     ]
    }
   ],
   "source": [
    "print(inputs['cuota_de_vivienda'].unique())"
   ]
  },
  {
   "cell_type": "code",
   "execution_count": 51,
   "metadata": {},
   "outputs": [
    {
     "name": "stdout",
     "output_type": "stream",
     "text": [
      "[  275000.          0.     164000.   ... 15648142.7   1380417.\n",
      "  2232547.58]\n"
     ]
    }
   ],
   "source": [
    "print(inputs['cuota_de_consumo'].unique())"
   ]
  },
  {
   "cell_type": "code",
   "execution_count": 52,
   "metadata": {},
   "outputs": [
    {
     "name": "stdout",
     "output_type": "stream",
     "text": [
      "[      0.   33000.   17000. ... 4485000. 3334000. 3469000.]\n"
     ]
    }
   ],
   "source": [
    "print(inputs['cuota_rotativos'].unique())"
   ]
  },
  {
   "cell_type": "code",
   "execution_count": 53,
   "metadata": {},
   "outputs": [
    {
     "name": "stdout",
     "output_type": "stream",
     "text": [
      "[       0.    87000.    49000. ... 13170000. 23911000. 26334000.]\n"
     ]
    }
   ],
   "source": [
    "print(inputs['cuota_tarjeta_de_credito'].unique())"
   ]
  },
  {
   "cell_type": "code",
   "execution_count": 54,
   "metadata": {},
   "outputs": [
    {
     "name": "stdout",
     "output_type": "stream",
     "text": [
      "[       0.    45000.   522000. ...  5136000. 18258000. 11200000.]\n"
     ]
    }
   ],
   "source": [
    "print(inputs['cuota_de_sector_solidario'].unique())"
   ]
  },
  {
   "cell_type": "code",
   "execution_count": 55,
   "metadata": {},
   "outputs": [
    {
     "name": "stdout",
     "output_type": "stream",
     "text": [
      "[0.000000e+00 1.250000e+05 2.230000e+05 ... 1.082166e+09 7.388000e+06\n",
      " 7.801000e+06]\n"
     ]
    }
   ],
   "source": [
    "print(inputs['cuota_sector_real_comercio'].unique())"
   ]
  },
  {
   "cell_type": "code",
   "execution_count": 56,
   "metadata": {},
   "outputs": [
    {
     "name": "stdout",
     "output_type": "stream",
     "text": [
      "[0.00000e+00 4.27000e+05 5.80000e+05 ... 1.07305e+08 1.21890e+08\n",
      " 1.02025e+08]\n"
     ]
    }
   ],
   "source": [
    "print(inputs['cupo_tc_mdo'].unique())"
   ]
  },
  {
   "cell_type": "code",
   "execution_count": 57,
   "metadata": {},
   "outputs": [
    {
     "name": "stdout",
     "output_type": "stream",
     "text": [
      "[       0.      427000.      335000.    ... 21942666.667 37608666.667\n",
      " 60080000.   ]\n"
     ]
    }
   ],
   "source": [
    "print(inputs['saldo_prom3_tdc_mdo'].unique())"
   ]
  },
  {
   "cell_type": "code",
   "execution_count": 58,
   "metadata": {},
   "outputs": [
    {
     "name": "stdout",
     "output_type": "stream",
     "text": [
      "[0.0000e+00 1.9500e+05 5.2000e+04 ... 3.3673e+07 3.4848e+07 5.3136e+07]\n"
     ]
    }
   ],
   "source": [
    "print(inputs['cuota_tc_mdo'].unique())"
   ]
  },
  {
   "cell_type": "code",
   "execution_count": 59,
   "metadata": {},
   "outputs": [
    {
     "name": "stdout",
     "output_type": "stream",
     "text": [
      "[9.03000e+05 2.43300e+06 0.00000e+00 ... 3.55074e+08 1.95269e+08\n",
      " 3.18689e+08]\n"
     ]
    }
   ],
   "source": [
    "print(inputs['saldo_no_rot_mdo'].unique())"
   ]
  },
  {
   "cell_type": "code",
   "execution_count": 60,
   "metadata": {},
   "outputs": [
    {
     "name": "stdout",
     "output_type": "stream",
     "text": [
      "[      0.  501000. 1054000. ... 4842000. 6854000. 6559000.]\n"
     ]
    }
   ],
   "source": [
    "print(inputs['cuota_libranza_sf'].unique())"
   ]
  },
  {
   "cell_type": "code",
   "execution_count": 61,
   "metadata": {},
   "outputs": [
    {
     "name": "stdout",
     "output_type": "stream",
     "text": [
      "[  1.   0.   3.   2.  10.   6.   9.  12.   4.   5.   7.   8.  13.  11.\n",
      "  15.  14.  20.  19.  23.  25.  22.  17.  21.  18.  16.  24.  26.  28.\n",
      "  27.  29.  36.  39.  30.  31.  34.  32.  50.  48.  40.  33.  37.  55.\n",
      "  61.  74.  69.  43.  38.  35.  45.  42.  41.  60.  44.  47.  49.  58.\n",
      "  64.  59.  46.  52.  53.  51.  57.  54.  76.  65.  62.  75.  84.  77.\n",
      "  72.  67.  81.  68.  66.  56.  93. 104.  80.  71. 102.  89.  63.  70.\n",
      "  78.  94. 112. 113.  82. 139. 109. 103. 127.  85.  87.  73.  79.  92.\n",
      "  91.  88. 105.  97.]\n"
     ]
    }
   ],
   "source": [
    "print(inputs['cant_oblig_tot_sf'].unique())\n",
    "inputs.loc[inputs['cant_oblig_tot_sf']=='\\\\N','cant_oblig_tot_sf'] = np.nan\n",
    "inputs['cant_oblig_tot_sf'] = inputs['cant_oblig_tot_sf'].astype(float)"
   ]
  },
  {
   "cell_type": "code",
   "execution_count": 62,
   "metadata": {},
   "outputs": [
    {
     "name": "stdout",
     "output_type": "stream",
     "text": [
      "[  0.   1.   5.  19.   3.   4.  10.  11.   2.  22.   6.  66.   8.  88.\n",
      "  12.  18.   7.   9.  41.  21.  33.  17.  77.  48.  20.  44.  42.  29.\n",
      "  55.  32.  16.  13.  14.  54.  64.  27.  31.  38.  35. 110.  63.  37.\n",
      "  52.  99.  23.  87.  43.  85.  15.  45.  91.  40.  34.  26.  53.  49.\n",
      "  93.  69.  28.  58.  24.  78.  51.  76. 121.  30.  62. 132.  75.  65.\n",
      "  25.  47.  96.  36.  50.  57. 108.  73.  74.  46. 506.  68.  83. 176.\n",
      "  94. 165.  90.  71.  56.  39. 118.  61. 120. 104.  60.  59.  95. 144.\n",
      "  98.  97.  86.  67. 139. 153. 143. 206. 267. 113. 117. 197.  82. 112.\n",
      "  80. 308. 154.  84. 198. 105. 134. 111.  72. 264. 102. 231. 175.  92.\n",
      " 129. 209.  70. 187.  89. 160. 128. 528.]\n"
     ]
    }
   ],
   "source": [
    "print(inputs['cant_cast_ult_12m_sr'].unique())\n",
    "inputs.loc[inputs['cant_cast_ult_12m_sr']=='\\\\N','cant_cast_ult_12m_sr'] = np.nan\n",
    "inputs['cant_cast_ult_12m_sr'] = inputs['cant_cast_ult_12m_sr'].astype(float)"
   ]
  },
  {
   "cell_type": "code",
   "execution_count": 63,
   "metadata": {},
   "outputs": [
    {
     "name": "stdout",
     "output_type": "stream",
     "text": [
      "[   311715.5       311306.        677516.     ... -41547904.85\n",
      "   5313457.0125  -2172736.58  ]\n"
     ]
    }
   ],
   "source": [
    "print(inputs['ind'].unique())\n",
    "inputs.loc[inputs['ind']=='\\\\N','ind'] = np.nan\n",
    "inputs['ind'] = inputs['ind'].astype(float)"
   ]
  },
  {
   "cell_type": "code",
   "execution_count": 64,
   "metadata": {},
   "outputs": [
    {
     "name": "stdout",
     "output_type": "stream",
     "text": [
      "['C' 'B' 'D' 'G' 'F' 'A' 'H' 'E' 'SIN INFO']\n"
     ]
    }
   ],
   "source": [
    "print(inputs['rep_calif_cred'].unique())"
   ]
  },
  {
   "cell_type": "code",
   "execution_count": 65,
   "metadata": {},
   "outputs": [
    {
     "name": "stdout",
     "output_type": "stream",
     "text": [
      "[ 0.  8. 11.  7.  4.  1. 12. 10. 14. 13.  5.  2.  3.  9.  6. 15. 16. 17.\n",
      " 18. 19. 20. 21. 22. 24. nan]\n"
     ]
    }
   ],
   "source": [
    "print(inputs['pol_centr_ext'].unique())\n",
    "inputs.loc[inputs['pol_centr_ext']=='\\\\N','pol_centr_ext'] = np.nan\n",
    "inputs['pol_centr_ext'] = inputs['pol_centr_ext'].astype(float)"
   ]
  },
  {
   "cell_type": "markdown",
   "metadata": {},
   "source": [
    "print(inputs['convenio_lib'].unique())\n",
    "inputs.loc[inputs['convenio_lib']=='\\\\N','convenio_lib'] = np.nan\n",
    "inputs.loc[inputs['convenio_lib']=='REVISAR CONVENIOS','convenio_lib'] = np.nan\n",
    "inputs['convenio_lib'] = inputs['convenio_lib'].astype(float)"
   ]
  },
  {
   "cell_type": "markdown",
   "metadata": {},
   "source": [
    "print(inputs['ingreso_nomina'].unique())\n",
    "inputs.loc[inputs['ingreso_nomina']=='\\\\N','ingreso_nomina'] = np.nan\n",
    "inputs['ingreso_nomina'] = inputs['ingreso_nomina'].astype(float)"
   ]
  },
  {
   "cell_type": "markdown",
   "metadata": {},
   "source": [
    "print(inputs['ingreso_segurida_social'].unique())\n",
    "inputs.loc[inputs['ingreso_segurida_social']=='\\\\N','ingreso_segurida_social'] = np.nan\n",
    "inputs['ingreso_segurida_social'] = inputs['ingreso_segurida_social'].astype(float)"
   ]
  },
  {
   "cell_type": "markdown",
   "metadata": {},
   "source": [
    "print(inputs['gasto_familiar'].unique())"
   ]
  },
  {
   "cell_type": "code",
   "execution_count": 68,
   "metadata": {},
   "outputs": [
    {
     "data": {
      "text/plain": [
       "Index(['id_registro', 'periodo', 'id_cli', 'fecha_nacimiento', 'edad',\n",
       "       'genero', 'estado_civil', 'nivel_academico', 'profesion', 'ocupacion',\n",
       "       'ult_actual', 'categoria', 'codigo_ciiu', 'ind_mora_vigente',\n",
       "       'cartera_castigada', 'ciudad_residencia', 'mora_max',\n",
       "       'cant_moras_30_ult_12_meses', 'cant_moras_60_ult_12_meses',\n",
       "       'cant_moras_90_ult_12_meses', 'cupo_total_tc', 'tenencia_tc',\n",
       "       'cuota_tc_bancolombia', 'tiene_consumo', 'tiene_crediagil',\n",
       "       'nro_tot_cuentas', 'ctas_activas', 'tiene_ctas_activas',\n",
       "       'ctas_embargadas', 'tiene_ctas_embargadas', 'pension_fopep',\n",
       "       'tiene_cred_hipo_1', 'tiene_cred_hipo_2', 'mediana_nom3',\n",
       "       'mediana_pen3', 'ingreso_nompen', 'ingreso_final',\n",
       "       'cant_mora_30_tdc_ult_3m_sf', 'cant_mora_30_consum_ult_3m_sf',\n",
       "       'cuota_de_vivienda', 'cuota_de_consumo', 'cuota_rotativos',\n",
       "       'cuota_tarjeta_de_credito', 'cuota_de_sector_solidario',\n",
       "       'cuota_sector_real_comercio', 'cupo_tc_mdo', 'saldo_prom3_tdc_mdo',\n",
       "       'cuota_tc_mdo', 'saldo_no_rot_mdo', 'cuota_libranza_sf',\n",
       "       'cant_oblig_tot_sf', 'cant_cast_ult_12m_sr', 'ind', 'rep_calif_cred',\n",
       "       'pol_centr_ext', 'gasto_familiar'],\n",
       "      dtype='object')"
      ]
     },
     "execution_count": 68,
     "metadata": {},
     "output_type": "execute_result"
    }
   ],
   "source": [
    "inputs.columns"
   ]
  },
  {
   "cell_type": "code",
   "execution_count": 69,
   "metadata": {},
   "outputs": [
    {
     "data": {
      "text/plain": [
       "(9527193, 56)"
      ]
     },
     "execution_count": 69,
     "metadata": {},
     "output_type": "execute_result"
    }
   ],
   "source": [
    "inputs.shape"
   ]
  },
  {
   "cell_type": "code",
   "execution_count": 70,
   "metadata": {},
   "outputs": [
    {
     "ename": "IndexError",
     "evalue": " positional indexers are out-of-bounds",
     "output_type": "error",
     "traceback": [
      "\u001b[0;31m---------------------------------------------------------------------------\u001b[0m",
      "\u001b[0;31mRayTaskError(IndexError)\u001b[0m                  Traceback (most recent call last)",
      "\u001b[0;32m/pip_envs/Debuggers3.6/lib/python3.6/site-packages/modin/engines/ray/pandas_on_ray/frame/partition.py\u001b[0m in \u001b[0;36mget\u001b[0;34m(self)\u001b[0m\n\u001b[1;32m     43\u001b[0m         \u001b[0;32mtry\u001b[0m\u001b[0;34m:\u001b[0m\u001b[0;34m\u001b[0m\u001b[0m\n\u001b[0;32m---> 44\u001b[0;31m             \u001b[0;32mreturn\u001b[0m \u001b[0mray\u001b[0m\u001b[0;34m.\u001b[0m\u001b[0mget\u001b[0m\u001b[0;34m(\u001b[0m\u001b[0mself\u001b[0m\u001b[0;34m.\u001b[0m\u001b[0moid\u001b[0m\u001b[0;34m)\u001b[0m\u001b[0;34m\u001b[0m\u001b[0m\n\u001b[0m\u001b[1;32m     45\u001b[0m         \u001b[0;32mexcept\u001b[0m \u001b[0mRayTaskError\u001b[0m \u001b[0;32mas\u001b[0m \u001b[0me\u001b[0m\u001b[0;34m:\u001b[0m\u001b[0;34m\u001b[0m\u001b[0m\n",
      "\u001b[0;32m/pip_envs/Debuggers3.6/lib/python3.6/site-packages/ray/worker.py\u001b[0m in \u001b[0;36mget\u001b[0;34m(object_refs, timeout)\u001b[0m\n\u001b[1;32m   1378\u001b[0m                 \u001b[0;32mif\u001b[0m \u001b[0misinstance\u001b[0m\u001b[0;34m(\u001b[0m\u001b[0mvalue\u001b[0m\u001b[0;34m,\u001b[0m \u001b[0mRayTaskError\u001b[0m\u001b[0;34m)\u001b[0m\u001b[0;34m:\u001b[0m\u001b[0;34m\u001b[0m\u001b[0m\n\u001b[0;32m-> 1379\u001b[0;31m                     \u001b[0;32mraise\u001b[0m \u001b[0mvalue\u001b[0m\u001b[0;34m.\u001b[0m\u001b[0mas_instanceof_cause\u001b[0m\u001b[0;34m(\u001b[0m\u001b[0;34m)\u001b[0m\u001b[0;34m\u001b[0m\u001b[0m\n\u001b[0m\u001b[1;32m   1380\u001b[0m                 \u001b[0;32melse\u001b[0m\u001b[0;34m:\u001b[0m\u001b[0;34m\u001b[0m\u001b[0m\n",
      "\u001b[0;31mRayTaskError(IndexError)\u001b[0m: \u001b[36mray::deploy_ray_func()\u001b[39m (pid=210372, ip=192.99.62.172)\n  File \"python/ray/_raylet.pyx\", line 463, in ray._raylet.execute_task\n  File \"/pip_envs/Debuggers3.6/lib/python3.6/site-packages/modin/engines/ray/pandas_on_ray/frame/partition.py\", line 224, in deploy_ray_func\n    result = func(partition, **kwargs)\n  File \"/pip_envs/Debuggers3.6/lib/python3.6/site-packages/modin/engines/ray/pandas_on_ray/frame/partition.py\", line 125, in <lambda>\n    lambda df: pandas.DataFrame(df.iloc[row_indices, col_indices])\n  File \"/pip_envs/Debuggers3.6/lib/python3.6/site-packages/pandas/core/indexing.py\", line 873, in __getitem__\n    return self._getitem_tuple(key)\n  File \"/pip_envs/Debuggers3.6/lib/python3.6/site-packages/pandas/core/indexing.py\", line 1443, in _getitem_tuple\n    self._has_valid_tuple(tup)\n  File \"/pip_envs/Debuggers3.6/lib/python3.6/site-packages/pandas/core/indexing.py\", line 702, in _has_valid_tuple\n    self._validate_key(k, i)\n  File \"/pip_envs/Debuggers3.6/lib/python3.6/site-packages/pandas/core/indexing.py\", line 1367, in _validate_key\n    raise IndexError(\"positional indexers are out-of-bounds\")\nIndexError: positional indexers are out-of-bounds",
      "\nDuring handling of the above exception, another exception occurred:\n",
      "\u001b[0;31mIndexError\u001b[0m                                Traceback (most recent call last)",
      "\u001b[0;32m/pip_envs/Debuggers3.6/lib/python3.6/site-packages/IPython/core/formatters.py\u001b[0m in \u001b[0;36m__call__\u001b[0;34m(self, obj)\u001b[0m\n\u001b[1;32m    700\u001b[0m                 \u001b[0mtype_pprinters\u001b[0m\u001b[0;34m=\u001b[0m\u001b[0mself\u001b[0m\u001b[0;34m.\u001b[0m\u001b[0mtype_printers\u001b[0m\u001b[0;34m,\u001b[0m\u001b[0;34m\u001b[0m\u001b[0m\n\u001b[1;32m    701\u001b[0m                 deferred_pprinters=self.deferred_printers)\n\u001b[0;32m--> 702\u001b[0;31m             \u001b[0mprinter\u001b[0m\u001b[0;34m.\u001b[0m\u001b[0mpretty\u001b[0m\u001b[0;34m(\u001b[0m\u001b[0mobj\u001b[0m\u001b[0;34m)\u001b[0m\u001b[0;34m\u001b[0m\u001b[0m\n\u001b[0m\u001b[1;32m    703\u001b[0m             \u001b[0mprinter\u001b[0m\u001b[0;34m.\u001b[0m\u001b[0mflush\u001b[0m\u001b[0;34m(\u001b[0m\u001b[0;34m)\u001b[0m\u001b[0;34m\u001b[0m\u001b[0m\n\u001b[1;32m    704\u001b[0m             \u001b[0;32mreturn\u001b[0m \u001b[0mstream\u001b[0m\u001b[0;34m.\u001b[0m\u001b[0mgetvalue\u001b[0m\u001b[0;34m(\u001b[0m\u001b[0;34m)\u001b[0m\u001b[0;34m\u001b[0m\u001b[0m\n",
      "\u001b[0;32m/pip_envs/Debuggers3.6/lib/python3.6/site-packages/IPython/lib/pretty.py\u001b[0m in \u001b[0;36mpretty\u001b[0;34m(self, obj)\u001b[0m\n\u001b[1;32m    392\u001b[0m                         \u001b[0;32mif\u001b[0m \u001b[0mcls\u001b[0m \u001b[0;32mis\u001b[0m \u001b[0;32mnot\u001b[0m \u001b[0mobject\u001b[0m\u001b[0;31m \u001b[0m\u001b[0;31m\\\u001b[0m\u001b[0;34m\u001b[0m\u001b[0m\n\u001b[1;32m    393\u001b[0m                                 \u001b[0;32mand\u001b[0m \u001b[0mcallable\u001b[0m\u001b[0;34m(\u001b[0m\u001b[0mcls\u001b[0m\u001b[0;34m.\u001b[0m\u001b[0m__dict__\u001b[0m\u001b[0;34m.\u001b[0m\u001b[0mget\u001b[0m\u001b[0;34m(\u001b[0m\u001b[0;34m'__repr__'\u001b[0m\u001b[0;34m)\u001b[0m\u001b[0;34m)\u001b[0m\u001b[0;34m:\u001b[0m\u001b[0;34m\u001b[0m\u001b[0m\n\u001b[0;32m--> 394\u001b[0;31m                             \u001b[0;32mreturn\u001b[0m \u001b[0m_repr_pprint\u001b[0m\u001b[0;34m(\u001b[0m\u001b[0mobj\u001b[0m\u001b[0;34m,\u001b[0m \u001b[0mself\u001b[0m\u001b[0;34m,\u001b[0m \u001b[0mcycle\u001b[0m\u001b[0;34m)\u001b[0m\u001b[0;34m\u001b[0m\u001b[0m\n\u001b[0m\u001b[1;32m    395\u001b[0m \u001b[0;34m\u001b[0m\u001b[0m\n\u001b[1;32m    396\u001b[0m             \u001b[0;32mreturn\u001b[0m \u001b[0m_default_pprint\u001b[0m\u001b[0;34m(\u001b[0m\u001b[0mobj\u001b[0m\u001b[0;34m,\u001b[0m \u001b[0mself\u001b[0m\u001b[0;34m,\u001b[0m \u001b[0mcycle\u001b[0m\u001b[0;34m)\u001b[0m\u001b[0;34m\u001b[0m\u001b[0m\n",
      "\u001b[0;32m/pip_envs/Debuggers3.6/lib/python3.6/site-packages/IPython/lib/pretty.py\u001b[0m in \u001b[0;36m_repr_pprint\u001b[0;34m(obj, p, cycle)\u001b[0m\n\u001b[1;32m    698\u001b[0m     \u001b[0;34m\"\"\"A pprint that just redirects to the normal repr function.\"\"\"\u001b[0m\u001b[0;34m\u001b[0m\u001b[0m\n\u001b[1;32m    699\u001b[0m     \u001b[0;31m# Find newlines and replace them with p.break_()\u001b[0m\u001b[0;34m\u001b[0m\u001b[0;34m\u001b[0m\u001b[0m\n\u001b[0;32m--> 700\u001b[0;31m     \u001b[0moutput\u001b[0m \u001b[0;34m=\u001b[0m \u001b[0mrepr\u001b[0m\u001b[0;34m(\u001b[0m\u001b[0mobj\u001b[0m\u001b[0;34m)\u001b[0m\u001b[0;34m\u001b[0m\u001b[0m\n\u001b[0m\u001b[1;32m    701\u001b[0m     \u001b[0mlines\u001b[0m \u001b[0;34m=\u001b[0m \u001b[0moutput\u001b[0m\u001b[0;34m.\u001b[0m\u001b[0msplitlines\u001b[0m\u001b[0;34m(\u001b[0m\u001b[0;34m)\u001b[0m\u001b[0;34m\u001b[0m\u001b[0m\n\u001b[1;32m    702\u001b[0m     \u001b[0;32mwith\u001b[0m \u001b[0mp\u001b[0m\u001b[0;34m.\u001b[0m\u001b[0mgroup\u001b[0m\u001b[0;34m(\u001b[0m\u001b[0;34m)\u001b[0m\u001b[0;34m:\u001b[0m\u001b[0;34m\u001b[0m\u001b[0m\n",
      "\u001b[0;32m/pip_envs/Debuggers3.6/lib/python3.6/site-packages/modin/pandas/dataframe.py\u001b[0m in \u001b[0;36m__repr__\u001b[0;34m(self)\u001b[0m\n\u001b[1;32m    181\u001b[0m \u001b[0;34m\u001b[0m\u001b[0m\n\u001b[1;32m    182\u001b[0m             \u001b[0mnum_cols\u001b[0m \u001b[0;34m+=\u001b[0m \u001b[0mlen\u001b[0m\u001b[0;34m(\u001b[0m\u001b[0mself\u001b[0m\u001b[0;34m.\u001b[0m\u001b[0mcolumns\u001b[0m\u001b[0;34m)\u001b[0m \u001b[0;34m-\u001b[0m \u001b[0mi\u001b[0m\u001b[0;34m\u001b[0m\u001b[0m\n\u001b[0;32m--> 183\u001b[0;31m         \u001b[0mresult\u001b[0m \u001b[0;34m=\u001b[0m \u001b[0mrepr\u001b[0m\u001b[0;34m(\u001b[0m\u001b[0mself\u001b[0m\u001b[0;34m.\u001b[0m\u001b[0m_build_repr_df\u001b[0m\u001b[0;34m(\u001b[0m\u001b[0mnum_rows\u001b[0m\u001b[0;34m,\u001b[0m \u001b[0mnum_cols\u001b[0m\u001b[0;34m)\u001b[0m\u001b[0;34m)\u001b[0m\u001b[0;34m\u001b[0m\u001b[0m\n\u001b[0m\u001b[1;32m    184\u001b[0m         \u001b[0;32mif\u001b[0m \u001b[0mlen\u001b[0m\u001b[0;34m(\u001b[0m\u001b[0mself\u001b[0m\u001b[0;34m.\u001b[0m\u001b[0mindex\u001b[0m\u001b[0;34m)\u001b[0m \u001b[0;34m>\u001b[0m \u001b[0mnum_rows\u001b[0m \u001b[0;32mor\u001b[0m \u001b[0mlen\u001b[0m\u001b[0;34m(\u001b[0m\u001b[0mself\u001b[0m\u001b[0;34m.\u001b[0m\u001b[0mcolumns\u001b[0m\u001b[0;34m)\u001b[0m \u001b[0;34m>\u001b[0m \u001b[0mnum_cols\u001b[0m\u001b[0;34m:\u001b[0m\u001b[0;34m\u001b[0m\u001b[0m\n\u001b[1;32m    185\u001b[0m             \u001b[0;31m# The split here is so that we don't repr pandas row lengths.\u001b[0m\u001b[0;34m\u001b[0m\u001b[0;34m\u001b[0m\u001b[0m\n",
      "\u001b[0;32m/pip_envs/Debuggers3.6/lib/python3.6/site-packages/modin/pandas/base.py\u001b[0m in \u001b[0;36m_build_repr_df\u001b[0;34m(self, num_rows, num_cols)\u001b[0m\n\u001b[1;32m    166\u001b[0m         \u001b[0;32melse\u001b[0m\u001b[0;34m:\u001b[0m\u001b[0;34m\u001b[0m\u001b[0m\n\u001b[1;32m    167\u001b[0m             \u001b[0mindexer\u001b[0m \u001b[0;34m=\u001b[0m \u001b[0mrow_indexer\u001b[0m\u001b[0;34m\u001b[0m\u001b[0m\n\u001b[0;32m--> 168\u001b[0;31m         \u001b[0;32mreturn\u001b[0m \u001b[0mself\u001b[0m\u001b[0;34m.\u001b[0m\u001b[0miloc\u001b[0m\u001b[0;34m[\u001b[0m\u001b[0mindexer\u001b[0m\u001b[0;34m]\u001b[0m\u001b[0;34m.\u001b[0m\u001b[0m_query_compiler\u001b[0m\u001b[0;34m.\u001b[0m\u001b[0mto_pandas\u001b[0m\u001b[0;34m(\u001b[0m\u001b[0;34m)\u001b[0m\u001b[0;34m\u001b[0m\u001b[0m\n\u001b[0m\u001b[1;32m    169\u001b[0m \u001b[0;34m\u001b[0m\u001b[0m\n\u001b[1;32m    170\u001b[0m     \u001b[0;32mdef\u001b[0m \u001b[0m_update_inplace\u001b[0m\u001b[0;34m(\u001b[0m\u001b[0mself\u001b[0m\u001b[0;34m,\u001b[0m \u001b[0mnew_query_compiler\u001b[0m\u001b[0;34m)\u001b[0m\u001b[0;34m:\u001b[0m\u001b[0;34m\u001b[0m\u001b[0m\n",
      "\u001b[0;32m/pip_envs/Debuggers3.6/lib/python3.6/site-packages/modin/backends/pandas/query_compiler.py\u001b[0m in \u001b[0;36mto_pandas\u001b[0;34m(self)\u001b[0m\n\u001b[1;32m    233\u001b[0m \u001b[0;34m\u001b[0m\u001b[0m\n\u001b[1;32m    234\u001b[0m     \u001b[0;32mdef\u001b[0m \u001b[0mto_pandas\u001b[0m\u001b[0;34m(\u001b[0m\u001b[0mself\u001b[0m\u001b[0;34m)\u001b[0m\u001b[0;34m:\u001b[0m\u001b[0;34m\u001b[0m\u001b[0m\n\u001b[0;32m--> 235\u001b[0;31m         \u001b[0;32mreturn\u001b[0m \u001b[0mself\u001b[0m\u001b[0;34m.\u001b[0m\u001b[0m_modin_frame\u001b[0m\u001b[0;34m.\u001b[0m\u001b[0mto_pandas\u001b[0m\u001b[0;34m(\u001b[0m\u001b[0;34m)\u001b[0m\u001b[0;34m\u001b[0m\u001b[0m\n\u001b[0m\u001b[1;32m    236\u001b[0m \u001b[0;34m\u001b[0m\u001b[0m\n\u001b[1;32m    237\u001b[0m     \u001b[0;34m@\u001b[0m\u001b[0mclassmethod\u001b[0m\u001b[0;34m\u001b[0m\u001b[0m\n",
      "\u001b[0;32m/pip_envs/Debuggers3.6/lib/python3.6/site-packages/modin/engines/base/frame/data.py\u001b[0m in \u001b[0;36mto_pandas\u001b[0;34m(self)\u001b[0m\n\u001b[1;32m   2122\u001b[0m             \u001b[0mPandas\u001b[0m \u001b[0mDataFrame\u001b[0m\u001b[0;34m.\u001b[0m\u001b[0;34m\u001b[0m\u001b[0m\n\u001b[1;32m   2123\u001b[0m         \"\"\"\n\u001b[0;32m-> 2124\u001b[0;31m         \u001b[0mdf\u001b[0m \u001b[0;34m=\u001b[0m \u001b[0mself\u001b[0m\u001b[0;34m.\u001b[0m\u001b[0m_frame_mgr_cls\u001b[0m\u001b[0;34m.\u001b[0m\u001b[0mto_pandas\u001b[0m\u001b[0;34m(\u001b[0m\u001b[0mself\u001b[0m\u001b[0;34m.\u001b[0m\u001b[0m_partitions\u001b[0m\u001b[0;34m)\u001b[0m\u001b[0;34m\u001b[0m\u001b[0m\n\u001b[0m\u001b[1;32m   2125\u001b[0m         \u001b[0;32mif\u001b[0m \u001b[0mdf\u001b[0m\u001b[0;34m.\u001b[0m\u001b[0mempty\u001b[0m\u001b[0;34m:\u001b[0m\u001b[0;34m\u001b[0m\u001b[0m\n\u001b[1;32m   2126\u001b[0m             \u001b[0;32mif\u001b[0m \u001b[0mlen\u001b[0m\u001b[0;34m(\u001b[0m\u001b[0mself\u001b[0m\u001b[0;34m.\u001b[0m\u001b[0mcolumns\u001b[0m\u001b[0;34m)\u001b[0m \u001b[0;34m!=\u001b[0m \u001b[0;36m0\u001b[0m\u001b[0;34m:\u001b[0m\u001b[0;34m\u001b[0m\u001b[0m\n",
      "\u001b[0;32m/pip_envs/Debuggers3.6/lib/python3.6/site-packages/modin/engines/base/frame/partition_manager.py\u001b[0m in \u001b[0;36mto_pandas\u001b[0;34m(cls, partitions)\u001b[0m\n\u001b[1;32m    529\u001b[0m             \u001b[0mA\u001b[0m \u001b[0mPandas\u001b[0m \u001b[0mDataFrame\u001b[0m\u001b[0;34m\u001b[0m\u001b[0m\n\u001b[1;32m    530\u001b[0m         \"\"\"\n\u001b[0;32m--> 531\u001b[0;31m         \u001b[0mretrieved_objects\u001b[0m \u001b[0;34m=\u001b[0m \u001b[0;34m[\u001b[0m\u001b[0;34m[\u001b[0m\u001b[0mobj\u001b[0m\u001b[0;34m.\u001b[0m\u001b[0mto_pandas\u001b[0m\u001b[0;34m(\u001b[0m\u001b[0;34m)\u001b[0m \u001b[0;32mfor\u001b[0m \u001b[0mobj\u001b[0m \u001b[0;32min\u001b[0m \u001b[0mpart\u001b[0m\u001b[0;34m]\u001b[0m \u001b[0;32mfor\u001b[0m \u001b[0mpart\u001b[0m \u001b[0;32min\u001b[0m \u001b[0mpartitions\u001b[0m\u001b[0;34m]\u001b[0m\u001b[0;34m\u001b[0m\u001b[0m\n\u001b[0m\u001b[1;32m    532\u001b[0m         if all(\n\u001b[1;32m    533\u001b[0m             \u001b[0misinstance\u001b[0m\u001b[0;34m(\u001b[0m\u001b[0mpart\u001b[0m\u001b[0;34m,\u001b[0m \u001b[0mpandas\u001b[0m\u001b[0;34m.\u001b[0m\u001b[0mSeries\u001b[0m\u001b[0;34m)\u001b[0m \u001b[0;32mfor\u001b[0m \u001b[0mrow\u001b[0m \u001b[0;32min\u001b[0m \u001b[0mretrieved_objects\u001b[0m \u001b[0;32mfor\u001b[0m \u001b[0mpart\u001b[0m \u001b[0;32min\u001b[0m \u001b[0mrow\u001b[0m\u001b[0;34m\u001b[0m\u001b[0m\n",
      "\u001b[0;32m/pip_envs/Debuggers3.6/lib/python3.6/site-packages/modin/engines/base/frame/partition_manager.py\u001b[0m in \u001b[0;36m<listcomp>\u001b[0;34m(.0)\u001b[0m\n\u001b[1;32m    529\u001b[0m             \u001b[0mA\u001b[0m \u001b[0mPandas\u001b[0m \u001b[0mDataFrame\u001b[0m\u001b[0;34m\u001b[0m\u001b[0m\n\u001b[1;32m    530\u001b[0m         \"\"\"\n\u001b[0;32m--> 531\u001b[0;31m         \u001b[0mretrieved_objects\u001b[0m \u001b[0;34m=\u001b[0m \u001b[0;34m[\u001b[0m\u001b[0;34m[\u001b[0m\u001b[0mobj\u001b[0m\u001b[0;34m.\u001b[0m\u001b[0mto_pandas\u001b[0m\u001b[0;34m(\u001b[0m\u001b[0;34m)\u001b[0m \u001b[0;32mfor\u001b[0m \u001b[0mobj\u001b[0m \u001b[0;32min\u001b[0m \u001b[0mpart\u001b[0m\u001b[0;34m]\u001b[0m \u001b[0;32mfor\u001b[0m \u001b[0mpart\u001b[0m \u001b[0;32min\u001b[0m \u001b[0mpartitions\u001b[0m\u001b[0;34m]\u001b[0m\u001b[0;34m\u001b[0m\u001b[0m\n\u001b[0m\u001b[1;32m    532\u001b[0m         if all(\n\u001b[1;32m    533\u001b[0m             \u001b[0misinstance\u001b[0m\u001b[0;34m(\u001b[0m\u001b[0mpart\u001b[0m\u001b[0;34m,\u001b[0m \u001b[0mpandas\u001b[0m\u001b[0;34m.\u001b[0m\u001b[0mSeries\u001b[0m\u001b[0;34m)\u001b[0m \u001b[0;32mfor\u001b[0m \u001b[0mrow\u001b[0m \u001b[0;32min\u001b[0m \u001b[0mretrieved_objects\u001b[0m \u001b[0;32mfor\u001b[0m \u001b[0mpart\u001b[0m \u001b[0;32min\u001b[0m \u001b[0mrow\u001b[0m\u001b[0;34m\u001b[0m\u001b[0m\n",
      "\u001b[0;32m/pip_envs/Debuggers3.6/lib/python3.6/site-packages/modin/engines/base/frame/partition_manager.py\u001b[0m in \u001b[0;36m<listcomp>\u001b[0;34m(.0)\u001b[0m\n\u001b[1;32m    529\u001b[0m             \u001b[0mA\u001b[0m \u001b[0mPandas\u001b[0m \u001b[0mDataFrame\u001b[0m\u001b[0;34m\u001b[0m\u001b[0m\n\u001b[1;32m    530\u001b[0m         \"\"\"\n\u001b[0;32m--> 531\u001b[0;31m         \u001b[0mretrieved_objects\u001b[0m \u001b[0;34m=\u001b[0m \u001b[0;34m[\u001b[0m\u001b[0;34m[\u001b[0m\u001b[0mobj\u001b[0m\u001b[0;34m.\u001b[0m\u001b[0mto_pandas\u001b[0m\u001b[0;34m(\u001b[0m\u001b[0;34m)\u001b[0m \u001b[0;32mfor\u001b[0m \u001b[0mobj\u001b[0m \u001b[0;32min\u001b[0m \u001b[0mpart\u001b[0m\u001b[0;34m]\u001b[0m \u001b[0;32mfor\u001b[0m \u001b[0mpart\u001b[0m \u001b[0;32min\u001b[0m \u001b[0mpartitions\u001b[0m\u001b[0;34m]\u001b[0m\u001b[0;34m\u001b[0m\u001b[0m\n\u001b[0m\u001b[1;32m    532\u001b[0m         if all(\n\u001b[1;32m    533\u001b[0m             \u001b[0misinstance\u001b[0m\u001b[0;34m(\u001b[0m\u001b[0mpart\u001b[0m\u001b[0;34m,\u001b[0m \u001b[0mpandas\u001b[0m\u001b[0;34m.\u001b[0m\u001b[0mSeries\u001b[0m\u001b[0;34m)\u001b[0m \u001b[0;32mfor\u001b[0m \u001b[0mrow\u001b[0m \u001b[0;32min\u001b[0m \u001b[0mretrieved_objects\u001b[0m \u001b[0;32mfor\u001b[0m \u001b[0mpart\u001b[0m \u001b[0;32min\u001b[0m \u001b[0mrow\u001b[0m\u001b[0;34m\u001b[0m\u001b[0m\n",
      "\u001b[0;32m/pip_envs/Debuggers3.6/lib/python3.6/site-packages/modin/engines/ray/pandas_on_ray/frame/partition.py\u001b[0m in \u001b[0;36mto_pandas\u001b[0;34m(self)\u001b[0m\n\u001b[1;32m     90\u001b[0m             \u001b[0mA\u001b[0m \u001b[0mPandas\u001b[0m \u001b[0mDataFrame\u001b[0m\u001b[0;34m.\u001b[0m\u001b[0;34m\u001b[0m\u001b[0m\n\u001b[1;32m     91\u001b[0m         \"\"\"\n\u001b[0;32m---> 92\u001b[0;31m         \u001b[0mdataframe\u001b[0m \u001b[0;34m=\u001b[0m \u001b[0mself\u001b[0m\u001b[0;34m.\u001b[0m\u001b[0mget\u001b[0m\u001b[0;34m(\u001b[0m\u001b[0;34m)\u001b[0m\u001b[0;34m\u001b[0m\u001b[0m\n\u001b[0m\u001b[1;32m     93\u001b[0m         \u001b[0;32massert\u001b[0m \u001b[0mtype\u001b[0m\u001b[0;34m(\u001b[0m\u001b[0mdataframe\u001b[0m\u001b[0;34m)\u001b[0m \u001b[0;32mis\u001b[0m \u001b[0mpandas\u001b[0m\u001b[0;34m.\u001b[0m\u001b[0mDataFrame\u001b[0m \u001b[0;32mor\u001b[0m \u001b[0mtype\u001b[0m\u001b[0;34m(\u001b[0m\u001b[0mdataframe\u001b[0m\u001b[0;34m)\u001b[0m \u001b[0;32mis\u001b[0m \u001b[0mpandas\u001b[0m\u001b[0;34m.\u001b[0m\u001b[0mSeries\u001b[0m\u001b[0;34m\u001b[0m\u001b[0m\n\u001b[1;32m     94\u001b[0m         \u001b[0;32mreturn\u001b[0m \u001b[0mdataframe\u001b[0m\u001b[0;34m\u001b[0m\u001b[0m\n",
      "\u001b[0;32m/pip_envs/Debuggers3.6/lib/python3.6/site-packages/modin/engines/ray/pandas_on_ray/frame/partition.py\u001b[0m in \u001b[0;36mget\u001b[0;34m(self)\u001b[0m\n\u001b[1;32m     44\u001b[0m             \u001b[0;32mreturn\u001b[0m \u001b[0mray\u001b[0m\u001b[0;34m.\u001b[0m\u001b[0mget\u001b[0m\u001b[0;34m(\u001b[0m\u001b[0mself\u001b[0m\u001b[0;34m.\u001b[0m\u001b[0moid\u001b[0m\u001b[0;34m)\u001b[0m\u001b[0;34m\u001b[0m\u001b[0m\n\u001b[1;32m     45\u001b[0m         \u001b[0;32mexcept\u001b[0m \u001b[0mRayTaskError\u001b[0m \u001b[0;32mas\u001b[0m \u001b[0me\u001b[0m\u001b[0;34m:\u001b[0m\u001b[0;34m\u001b[0m\u001b[0m\n\u001b[0;32m---> 46\u001b[0;31m             \u001b[0mhandle_ray_task_error\u001b[0m\u001b[0;34m(\u001b[0m\u001b[0me\u001b[0m\u001b[0;34m)\u001b[0m\u001b[0;34m\u001b[0m\u001b[0m\n\u001b[0m\u001b[1;32m     47\u001b[0m \u001b[0;34m\u001b[0m\u001b[0m\n\u001b[1;32m     48\u001b[0m     \u001b[0;32mdef\u001b[0m \u001b[0mapply\u001b[0m\u001b[0;34m(\u001b[0m\u001b[0mself\u001b[0m\u001b[0;34m,\u001b[0m \u001b[0mfunc\u001b[0m\u001b[0;34m,\u001b[0m \u001b[0;34m**\u001b[0m\u001b[0mkwargs\u001b[0m\u001b[0;34m)\u001b[0m\u001b[0;34m:\u001b[0m\u001b[0;34m\u001b[0m\u001b[0m\n",
      "\u001b[0;32m/pip_envs/Debuggers3.6/lib/python3.6/site-packages/modin/engines/ray/utils.py\u001b[0m in \u001b[0;36mhandle_ray_task_error\u001b[0;34m(e)\u001b[0m\n\u001b[1;32m     31\u001b[0m         \u001b[0;32mif\u001b[0m \u001b[0;34m\"Error\"\u001b[0m \u001b[0;32min\u001b[0m \u001b[0ms\u001b[0m \u001b[0;32mor\u001b[0m \u001b[0;34m\"Exception\"\u001b[0m \u001b[0;32min\u001b[0m \u001b[0ms\u001b[0m\u001b[0;34m:\u001b[0m\u001b[0;34m\u001b[0m\u001b[0m\n\u001b[1;32m     32\u001b[0m             \u001b[0;32mtry\u001b[0m\u001b[0;34m:\u001b[0m\u001b[0;34m\u001b[0m\u001b[0m\n\u001b[0;32m---> 33\u001b[0;31m                 \u001b[0;32mraise\u001b[0m \u001b[0mgetattr\u001b[0m\u001b[0;34m(\u001b[0m\u001b[0mbuiltins\u001b[0m\u001b[0;34m,\u001b[0m \u001b[0ms\u001b[0m\u001b[0;34m.\u001b[0m\u001b[0msplit\u001b[0m\u001b[0;34m(\u001b[0m\u001b[0;34m\":\"\u001b[0m\u001b[0;34m)\u001b[0m\u001b[0;34m[\u001b[0m\u001b[0;36m0\u001b[0m\u001b[0;34m]\u001b[0m\u001b[0;34m)\u001b[0m\u001b[0;34m(\u001b[0m\u001b[0;34m\"\"\u001b[0m\u001b[0;34m.\u001b[0m\u001b[0mjoin\u001b[0m\u001b[0;34m(\u001b[0m\u001b[0ms\u001b[0m\u001b[0;34m.\u001b[0m\u001b[0msplit\u001b[0m\u001b[0;34m(\u001b[0m\u001b[0;34m\":\"\u001b[0m\u001b[0;34m)\u001b[0m\u001b[0;34m[\u001b[0m\u001b[0;36m1\u001b[0m\u001b[0;34m:\u001b[0m\u001b[0;34m]\u001b[0m\u001b[0;34m)\u001b[0m\u001b[0;34m)\u001b[0m\u001b[0;34m\u001b[0m\u001b[0m\n\u001b[0m\u001b[1;32m     34\u001b[0m             \u001b[0;32mexcept\u001b[0m \u001b[0mAttributeError\u001b[0m \u001b[0;32mas\u001b[0m \u001b[0matt_err\u001b[0m\u001b[0;34m:\u001b[0m\u001b[0;34m\u001b[0m\u001b[0m\n\u001b[1;32m     35\u001b[0m                 \u001b[0;32mif\u001b[0m \u001b[0;34m\"module\"\u001b[0m \u001b[0;32min\u001b[0m \u001b[0mstr\u001b[0m\u001b[0;34m(\u001b[0m\u001b[0matt_err\u001b[0m\u001b[0;34m)\u001b[0m \u001b[0;32mand\u001b[0m \u001b[0mbuiltins\u001b[0m\u001b[0;34m.\u001b[0m\u001b[0m__name__\u001b[0m \u001b[0;32min\u001b[0m \u001b[0mstr\u001b[0m\u001b[0;34m(\u001b[0m\u001b[0matt_err\u001b[0m\u001b[0;34m)\u001b[0m\u001b[0;34m:\u001b[0m\u001b[0;34m\u001b[0m\u001b[0m\n",
      "\u001b[0;31mIndexError\u001b[0m:  positional indexers are out-of-bounds"
     ]
    },
    {
     "data": {
      "text/html": [
       "<div>\n",
       "<style scoped>\n",
       "    .dataframe tbody tr th:only-of-type {\n",
       "        vertical-align: middle;\n",
       "    }\n",
       "\n",
       "    .dataframe tbody tr th {\n",
       "        vertical-align: top;\n",
       "    }\n",
       "\n",
       "    .dataframe thead th {\n",
       "        text-align: right;\n",
       "    }\n",
       "</style>\n",
       "<table border=\"1\" class=\"dataframe\">\n",
       "  <thead>\n",
       "    <tr style=\"text-align: right;\">\n",
       "      <th></th>\n",
       "      <th>count</th>\n",
       "      <th>unique</th>\n",
       "      <th>top</th>\n",
       "      <th>freq</th>\n",
       "      <th>mean</th>\n",
       "      <th>std</th>\n",
       "      <th>min</th>\n",
       "      <th>25%</th>\n",
       "      <th>50%</th>\n",
       "      <th>75%</th>\n",
       "      <th>max</th>\n",
       "    </tr>\n",
       "  </thead>\n",
       "  <tbody>\n",
       "    <tr>\n",
       "      <th>id_registro</th>\n",
       "      <td>9527193</td>\n",
       "      <td>9527193</td>\n",
       "      <td>8440976#201910</td>\n",
       "      <td>1</td>\n",
       "      <td>NaN</td>\n",
       "      <td>NaN</td>\n",
       "      <td>NaN</td>\n",
       "      <td>NaN</td>\n",
       "      <td>NaN</td>\n",
       "      <td>NaN</td>\n",
       "      <td>NaN</td>\n",
       "    </tr>\n",
       "    <tr>\n",
       "      <th>periodo</th>\n",
       "      <td>9.52719e+06</td>\n",
       "      <td>NaN</td>\n",
       "      <td>NaN</td>\n",
       "      <td>NaN</td>\n",
       "      <td>201959</td>\n",
       "      <td>49.6603</td>\n",
       "      <td>201902</td>\n",
       "      <td>201907</td>\n",
       "      <td>202001</td>\n",
       "      <td>202007</td>\n",
       "      <td>202011</td>\n",
       "    </tr>\n",
       "    <tr>\n",
       "      <th>id_cli</th>\n",
       "      <td>9.52719e+06</td>\n",
       "      <td>NaN</td>\n",
       "      <td>NaN</td>\n",
       "      <td>NaN</td>\n",
       "      <td>2.9855e+06</td>\n",
       "      <td>2.53255e+06</td>\n",
       "      <td>3</td>\n",
       "      <td>1.0826e+06</td>\n",
       "      <td>2.25538e+06</td>\n",
       "      <td>3.94006e+06</td>\n",
       "      <td>8.7048e+06</td>\n",
       "    </tr>\n",
       "    <tr>\n",
       "      <th>fecha_nacimiento</th>\n",
       "      <td>9.52719e+06</td>\n",
       "      <td>NaN</td>\n",
       "      <td>NaN</td>\n",
       "      <td>NaN</td>\n",
       "      <td>1.97712e+07</td>\n",
       "      <td>129659</td>\n",
       "      <td>1.90006e+07</td>\n",
       "      <td>1.96908e+07</td>\n",
       "      <td>1.98009e+07</td>\n",
       "      <td>1.98707e+07</td>\n",
       "      <td>2.02009e+07</td>\n",
       "    </tr>\n",
       "    <tr>\n",
       "      <th>edad</th>\n",
       "      <td>9.52719e+06</td>\n",
       "      <td>NaN</td>\n",
       "      <td>NaN</td>\n",
       "      <td>NaN</td>\n",
       "      <td>42.3635</td>\n",
       "      <td>12.9779</td>\n",
       "      <td>0</td>\n",
       "      <td>32</td>\n",
       "      <td>39</td>\n",
       "      <td>50</td>\n",
       "      <td>119</td>\n",
       "    </tr>\n",
       "    <tr>\n",
       "      <th>genero</th>\n",
       "      <td>9527193</td>\n",
       "      <td>2</td>\n",
       "      <td>F</td>\n",
       "      <td>4941539</td>\n",
       "      <td>NaN</td>\n",
       "      <td>NaN</td>\n",
       "      <td>NaN</td>\n",
       "      <td>NaN</td>\n",
       "      <td>NaN</td>\n",
       "      <td>NaN</td>\n",
       "      <td>NaN</td>\n",
       "    </tr>\n",
       "    <tr>\n",
       "      <th>estado_civil</th>\n",
       "      <td>9526675</td>\n",
       "      <td>7</td>\n",
       "      <td>SOLTERO</td>\n",
       "      <td>4609348</td>\n",
       "      <td>NaN</td>\n",
       "      <td>NaN</td>\n",
       "      <td>NaN</td>\n",
       "      <td>NaN</td>\n",
       "      <td>NaN</td>\n",
       "      <td>NaN</td>\n",
       "      <td>NaN</td>\n",
       "    </tr>\n",
       "    <tr>\n",
       "      <th>nivel_academico</th>\n",
       "      <td>9527193</td>\n",
       "      <td>7</td>\n",
       "      <td>UNIVERSITARIO</td>\n",
       "      <td>5711314</td>\n",
       "      <td>NaN</td>\n",
       "      <td>NaN</td>\n",
       "      <td>NaN</td>\n",
       "      <td>NaN</td>\n",
       "      <td>NaN</td>\n",
       "      <td>NaN</td>\n",
       "      <td>NaN</td>\n",
       "    </tr>\n",
       "    <tr>\n",
       "      <th>profesion</th>\n",
       "      <td>9477607</td>\n",
       "      <td>87</td>\n",
       "      <td>OTROS</td>\n",
       "      <td>3561488</td>\n",
       "      <td>NaN</td>\n",
       "      <td>NaN</td>\n",
       "      <td>NaN</td>\n",
       "      <td>NaN</td>\n",
       "      <td>NaN</td>\n",
       "      <td>NaN</td>\n",
       "      <td>NaN</td>\n",
       "    </tr>\n",
       "    <tr>\n",
       "      <th>ocupacion</th>\n",
       "      <td>9527177</td>\n",
       "      <td>17</td>\n",
       "      <td>Empleado</td>\n",
       "      <td>7149136</td>\n",
       "      <td>NaN</td>\n",
       "      <td>NaN</td>\n",
       "      <td>NaN</td>\n",
       "      <td>NaN</td>\n",
       "      <td>NaN</td>\n",
       "      <td>NaN</td>\n",
       "      <td>NaN</td>\n",
       "    </tr>\n",
       "    <tr>\n",
       "      <th>ult_actual</th>\n",
       "      <td>9.52719e+06</td>\n",
       "      <td>NaN</td>\n",
       "      <td>NaN</td>\n",
       "      <td>NaN</td>\n",
       "      <td>2.01905e+07</td>\n",
       "      <td>11867.9</td>\n",
       "      <td>0</td>\n",
       "      <td>2.01901e+07</td>\n",
       "      <td>2.01907e+07</td>\n",
       "      <td>2.02001e+07</td>\n",
       "      <td>2.0201e+07</td>\n",
       "    </tr>\n",
       "    <tr>\n",
       "      <th>categoria</th>\n",
       "      <td>9.52387e+06</td>\n",
       "      <td>NaN</td>\n",
       "      <td>NaN</td>\n",
       "      <td>NaN</td>\n",
       "      <td>1.49368</td>\n",
       "      <td>0.670023</td>\n",
       "      <td>0</td>\n",
       "      <td>1</td>\n",
       "      <td>1</td>\n",
       "      <td>2</td>\n",
       "      <td>5</td>\n",
       "    </tr>\n",
       "    <tr>\n",
       "      <th>codigo_ciiu</th>\n",
       "      <td>9.52719e+06</td>\n",
       "      <td>NaN</td>\n",
       "      <td>NaN</td>\n",
       "      <td>NaN</td>\n",
       "      <td>387.611</td>\n",
       "      <td>1634.03</td>\n",
       "      <td>0</td>\n",
       "      <td>10</td>\n",
       "      <td>10</td>\n",
       "      <td>10</td>\n",
       "      <td>9900</td>\n",
       "    </tr>\n",
       "    <tr>\n",
       "      <th>ind_mora_vigente</th>\n",
       "      <td>9527193</td>\n",
       "      <td>1</td>\n",
       "      <td>True</td>\n",
       "      <td>9527193</td>\n",
       "      <td>NaN</td>\n",
       "      <td>NaN</td>\n",
       "      <td>NaN</td>\n",
       "      <td>NaN</td>\n",
       "      <td>NaN</td>\n",
       "      <td>NaN</td>\n",
       "      <td>NaN</td>\n",
       "    </tr>\n",
       "    <tr>\n",
       "      <th>cartera_castigada</th>\n",
       "      <td>9527193</td>\n",
       "      <td>1</td>\n",
       "      <td>True</td>\n",
       "      <td>9527193</td>\n",
       "      <td>NaN</td>\n",
       "      <td>NaN</td>\n",
       "      <td>NaN</td>\n",
       "      <td>NaN</td>\n",
       "      <td>NaN</td>\n",
       "      <td>NaN</td>\n",
       "      <td>NaN</td>\n",
       "    </tr>\n",
       "    <tr>\n",
       "      <th>ciudad_residencia</th>\n",
       "      <td>9526350</td>\n",
       "      <td>1711</td>\n",
       "      <td>BOGOTA D.C.</td>\n",
       "      <td>2634338</td>\n",
       "      <td>NaN</td>\n",
       "      <td>NaN</td>\n",
       "      <td>NaN</td>\n",
       "      <td>NaN</td>\n",
       "      <td>NaN</td>\n",
       "      <td>NaN</td>\n",
       "      <td>NaN</td>\n",
       "    </tr>\n",
       "    <tr>\n",
       "      <th>mora_max</th>\n",
       "      <td>9.52719e+06</td>\n",
       "      <td>NaN</td>\n",
       "      <td>NaN</td>\n",
       "      <td>NaN</td>\n",
       "      <td>3.6386</td>\n",
       "      <td>19.8764</td>\n",
       "      <td>0</td>\n",
       "      <td>0</td>\n",
       "      <td>0</td>\n",
       "      <td>0</td>\n",
       "      <td>3367</td>\n",
       "    </tr>\n",
       "    <tr>\n",
       "      <th>cant_moras_30_ult_12_meses</th>\n",
       "      <td>9.52719e+06</td>\n",
       "      <td>NaN</td>\n",
       "      <td>NaN</td>\n",
       "      <td>NaN</td>\n",
       "      <td>0.0505194</td>\n",
       "      <td>0.472796</td>\n",
       "      <td>0</td>\n",
       "      <td>0</td>\n",
       "      <td>0</td>\n",
       "      <td>0</td>\n",
       "      <td>12</td>\n",
       "    </tr>\n",
       "    <tr>\n",
       "      <th>cant_moras_60_ult_12_meses</th>\n",
       "      <td>9.52719e+06</td>\n",
       "      <td>NaN</td>\n",
       "      <td>NaN</td>\n",
       "      <td>NaN</td>\n",
       "      <td>0.0255511</td>\n",
       "      <td>0.356678</td>\n",
       "      <td>0</td>\n",
       "      <td>0</td>\n",
       "      <td>0</td>\n",
       "      <td>0</td>\n",
       "      <td>12</td>\n",
       "    </tr>\n",
       "    <tr>\n",
       "      <th>cant_moras_90_ult_12_meses</th>\n",
       "      <td>9.52719e+06</td>\n",
       "      <td>NaN</td>\n",
       "      <td>NaN</td>\n",
       "      <td>NaN</td>\n",
       "      <td>0.0167688</td>\n",
       "      <td>0.292358</td>\n",
       "      <td>0</td>\n",
       "      <td>0</td>\n",
       "      <td>0</td>\n",
       "      <td>0</td>\n",
       "      <td>12</td>\n",
       "    </tr>\n",
       "    <tr>\n",
       "      <th>cupo_total_tc</th>\n",
       "      <td>9.52719e+06</td>\n",
       "      <td>NaN</td>\n",
       "      <td>NaN</td>\n",
       "      <td>NaN</td>\n",
       "      <td>6.28941e+06</td>\n",
       "      <td>1.31279e+07</td>\n",
       "      <td>0</td>\n",
       "      <td>0</td>\n",
       "      <td>0</td>\n",
       "      <td>7.7e+06</td>\n",
       "      <td>9.662e+08</td>\n",
       "    </tr>\n",
       "    <tr>\n",
       "      <th>tenencia_tc</th>\n",
       "      <td>9527193</td>\n",
       "      <td>2</td>\n",
       "      <td>False</td>\n",
       "      <td>4910367</td>\n",
       "      <td>NaN</td>\n",
       "      <td>NaN</td>\n",
       "      <td>NaN</td>\n",
       "      <td>NaN</td>\n",
       "      <td>NaN</td>\n",
       "      <td>NaN</td>\n",
       "      <td>NaN</td>\n",
       "    </tr>\n",
       "    <tr>\n",
       "      <th>cuota_tc_bancolombia</th>\n",
       "      <td>9.52719e+06</td>\n",
       "      <td>NaN</td>\n",
       "      <td>NaN</td>\n",
       "      <td>NaN</td>\n",
       "      <td>268202</td>\n",
       "      <td>699790</td>\n",
       "      <td>0</td>\n",
       "      <td>0</td>\n",
       "      <td>0</td>\n",
       "      <td>296000</td>\n",
       "      <td>1.18706e+08</td>\n",
       "    </tr>\n",
       "    <tr>\n",
       "      <th>tiene_consumo</th>\n",
       "      <td>9527193</td>\n",
       "      <td>2</td>\n",
       "      <td>False</td>\n",
       "      <td>7767426</td>\n",
       "      <td>NaN</td>\n",
       "      <td>NaN</td>\n",
       "      <td>NaN</td>\n",
       "      <td>NaN</td>\n",
       "      <td>NaN</td>\n",
       "      <td>NaN</td>\n",
       "      <td>NaN</td>\n",
       "    </tr>\n",
       "    <tr>\n",
       "      <th>tiene_crediagil</th>\n",
       "      <td>9527193</td>\n",
       "      <td>2</td>\n",
       "      <td>False</td>\n",
       "      <td>7609822</td>\n",
       "      <td>NaN</td>\n",
       "      <td>NaN</td>\n",
       "      <td>NaN</td>\n",
       "      <td>NaN</td>\n",
       "      <td>NaN</td>\n",
       "      <td>NaN</td>\n",
       "      <td>NaN</td>\n",
       "    </tr>\n",
       "    <tr>\n",
       "      <th>nro_tot_cuentas</th>\n",
       "      <td>9.52719e+06</td>\n",
       "      <td>NaN</td>\n",
       "      <td>NaN</td>\n",
       "      <td>NaN</td>\n",
       "      <td>1.10458</td>\n",
       "      <td>0.459495</td>\n",
       "      <td>0</td>\n",
       "      <td>1</td>\n",
       "      <td>1</td>\n",
       "      <td>1</td>\n",
       "      <td>36</td>\n",
       "    </tr>\n",
       "    <tr>\n",
       "      <th>ctas_activas</th>\n",
       "      <td>9.52719e+06</td>\n",
       "      <td>NaN</td>\n",
       "      <td>NaN</td>\n",
       "      <td>NaN</td>\n",
       "      <td>1.03458</td>\n",
       "      <td>0.409644</td>\n",
       "      <td>0</td>\n",
       "      <td>1</td>\n",
       "      <td>1</td>\n",
       "      <td>1</td>\n",
       "      <td>36</td>\n",
       "    </tr>\n",
       "    <tr>\n",
       "      <th>tiene_ctas_activas</th>\n",
       "      <td>9527193</td>\n",
       "      <td>2</td>\n",
       "      <td>True</td>\n",
       "      <td>8973732</td>\n",
       "      <td>NaN</td>\n",
       "      <td>NaN</td>\n",
       "      <td>NaN</td>\n",
       "      <td>NaN</td>\n",
       "      <td>NaN</td>\n",
       "      <td>NaN</td>\n",
       "      <td>NaN</td>\n",
       "    </tr>\n",
       "    <tr>\n",
       "      <th>ctas_embargadas</th>\n",
       "      <td>9.52719e+06</td>\n",
       "      <td>NaN</td>\n",
       "      <td>NaN</td>\n",
       "      <td>NaN</td>\n",
       "      <td>0.00305337</td>\n",
       "      <td>0.057891</td>\n",
       "      <td>0</td>\n",
       "      <td>0</td>\n",
       "      <td>0</td>\n",
       "      <td>0</td>\n",
       "      <td>4</td>\n",
       "    </tr>\n",
       "    <tr>\n",
       "      <th>tiene_ctas_embargadas</th>\n",
       "      <td>9527193</td>\n",
       "      <td>2</td>\n",
       "      <td>False</td>\n",
       "      <td>9203902</td>\n",
       "      <td>NaN</td>\n",
       "      <td>NaN</td>\n",
       "      <td>NaN</td>\n",
       "      <td>NaN</td>\n",
       "      <td>NaN</td>\n",
       "      <td>NaN</td>\n",
       "      <td>NaN</td>\n",
       "    </tr>\n",
       "    <tr>\n",
       "      <th>pension_fopep</th>\n",
       "      <td>9527193</td>\n",
       "      <td>2</td>\n",
       "      <td>False</td>\n",
       "      <td>8963825</td>\n",
       "      <td>NaN</td>\n",
       "      <td>NaN</td>\n",
       "      <td>NaN</td>\n",
       "      <td>NaN</td>\n",
       "      <td>NaN</td>\n",
       "      <td>NaN</td>\n",
       "      <td>NaN</td>\n",
       "    </tr>\n",
       "    <tr>\n",
       "      <th>tiene_cred_hipo_1</th>\n",
       "      <td>9527193</td>\n",
       "      <td>2</td>\n",
       "      <td>False</td>\n",
       "      <td>9228426</td>\n",
       "      <td>NaN</td>\n",
       "      <td>NaN</td>\n",
       "      <td>NaN</td>\n",
       "      <td>NaN</td>\n",
       "      <td>NaN</td>\n",
       "      <td>NaN</td>\n",
       "      <td>NaN</td>\n",
       "    </tr>\n",
       "    <tr>\n",
       "      <th>tiene_cred_hipo_2</th>\n",
       "      <td>9527193</td>\n",
       "      <td>2</td>\n",
       "      <td>False</td>\n",
       "      <td>9228426</td>\n",
       "      <td>NaN</td>\n",
       "      <td>NaN</td>\n",
       "      <td>NaN</td>\n",
       "      <td>NaN</td>\n",
       "      <td>NaN</td>\n",
       "      <td>NaN</td>\n",
       "      <td>NaN</td>\n",
       "    </tr>\n",
       "    <tr>\n",
       "      <th>mediana_nom3</th>\n",
       "      <td>9.52719e+06</td>\n",
       "      <td>NaN</td>\n",
       "      <td>NaN</td>\n",
       "      <td>NaN</td>\n",
       "      <td>1.43265e+06</td>\n",
       "      <td>2.92597e+06</td>\n",
       "      <td>0</td>\n",
       "      <td>0</td>\n",
       "      <td>0</td>\n",
       "      <td>2.1248e+06</td>\n",
       "      <td>5.8263e+08</td>\n",
       "    </tr>\n",
       "    <tr>\n",
       "      <th>mediana_pen3</th>\n",
       "      <td>9.52719e+06</td>\n",
       "      <td>NaN</td>\n",
       "      <td>NaN</td>\n",
       "      <td>NaN</td>\n",
       "      <td>217806</td>\n",
       "      <td>1.09923e+06</td>\n",
       "      <td>0</td>\n",
       "      <td>0</td>\n",
       "      <td>0</td>\n",
       "      <td>0</td>\n",
       "      <td>8.25295e+08</td>\n",
       "    </tr>\n",
       "    <tr>\n",
       "      <th>ingreso_nompen</th>\n",
       "      <td>9.52719e+06</td>\n",
       "      <td>NaN</td>\n",
       "      <td>NaN</td>\n",
       "      <td>NaN</td>\n",
       "      <td>1.65045e+06</td>\n",
       "      <td>3.04974e+06</td>\n",
       "      <td>0</td>\n",
       "      <td>0</td>\n",
       "      <td>0</td>\n",
       "      <td>2.44629e+06</td>\n",
       "      <td>8.25295e+08</td>\n",
       "    </tr>\n",
       "    <tr>\n",
       "      <th>ingreso_final</th>\n",
       "      <td>9.52719e+06</td>\n",
       "      <td>NaN</td>\n",
       "      <td>NaN</td>\n",
       "      <td>NaN</td>\n",
       "      <td>4.79009e+06</td>\n",
       "      <td>7.57905e+06</td>\n",
       "      <td>0</td>\n",
       "      <td>1.902e+06</td>\n",
       "      <td>3.1162e+06</td>\n",
       "      <td>5.3e+06</td>\n",
       "      <td>6.67855e+09</td>\n",
       "    </tr>\n",
       "    <tr>\n",
       "      <th>cant_mora_30_tdc_ult_3m_sf</th>\n",
       "      <td>9.52719e+06</td>\n",
       "      <td>NaN</td>\n",
       "      <td>NaN</td>\n",
       "      <td>NaN</td>\n",
       "      <td>0.0214512</td>\n",
       "      <td>0.187086</td>\n",
       "      <td>0</td>\n",
       "      <td>0</td>\n",
       "      <td>0</td>\n",
       "      <td>0</td>\n",
       "      <td>11</td>\n",
       "    </tr>\n",
       "    <tr>\n",
       "      <th>cant_mora_30_consum_ult_3m_sf</th>\n",
       "      <td>9.52719e+06</td>\n",
       "      <td>NaN</td>\n",
       "      <td>NaN</td>\n",
       "      <td>NaN</td>\n",
       "      <td>0.101464</td>\n",
       "      <td>0.747179</td>\n",
       "      <td>0</td>\n",
       "      <td>0</td>\n",
       "      <td>0</td>\n",
       "      <td>0</td>\n",
       "      <td>150</td>\n",
       "    </tr>\n",
       "    <tr>\n",
       "      <th>cuota_de_vivienda</th>\n",
       "      <td>9.52719e+06</td>\n",
       "      <td>NaN</td>\n",
       "      <td>NaN</td>\n",
       "      <td>NaN</td>\n",
       "      <td>161156</td>\n",
       "      <td>1.14352e+06</td>\n",
       "      <td>0</td>\n",
       "      <td>0</td>\n",
       "      <td>0</td>\n",
       "      <td>0</td>\n",
       "      <td>5.72309e+08</td>\n",
       "    </tr>\n",
       "    <tr>\n",
       "      <th>cuota_de_consumo</th>\n",
       "      <td>9.52719e+06</td>\n",
       "      <td>NaN</td>\n",
       "      <td>NaN</td>\n",
       "      <td>NaN</td>\n",
       "      <td>897852</td>\n",
       "      <td>5.42493e+06</td>\n",
       "      <td>-4.1104e+08</td>\n",
       "      <td>0</td>\n",
       "      <td>97000</td>\n",
       "      <td>786000</td>\n",
       "      <td>2.46071e+09</td>\n",
       "    </tr>\n",
       "    <tr>\n",
       "      <th>cuota_rotativos</th>\n",
       "      <td>9.52719e+06</td>\n",
       "      <td>NaN</td>\n",
       "      <td>NaN</td>\n",
       "      <td>NaN</td>\n",
       "      <td>44968.2</td>\n",
       "      <td>1.31786e+06</td>\n",
       "      <td>0</td>\n",
       "      <td>0</td>\n",
       "      <td>0</td>\n",
       "      <td>0</td>\n",
       "      <td>1.0083e+09</td>\n",
       "    </tr>\n",
       "    <tr>\n",
       "      <th>cuota_tarjeta_de_credito</th>\n",
       "      <td>9.52719e+06</td>\n",
       "      <td>NaN</td>\n",
       "      <td>NaN</td>\n",
       "      <td>NaN</td>\n",
       "      <td>578636</td>\n",
       "      <td>2.84137e+06</td>\n",
       "      <td>0</td>\n",
       "      <td>0</td>\n",
       "      <td>244000</td>\n",
       "      <td>629000</td>\n",
       "      <td>4.39692e+09</td>\n",
       "    </tr>\n",
       "    <tr>\n",
       "      <th>cuota_de_sector_solidario</th>\n",
       "      <td>9.52719e+06</td>\n",
       "      <td>NaN</td>\n",
       "      <td>NaN</td>\n",
       "      <td>NaN</td>\n",
       "      <td>79590</td>\n",
       "      <td>4.51803e+06</td>\n",
       "      <td>0</td>\n",
       "      <td>0</td>\n",
       "      <td>0</td>\n",
       "      <td>0</td>\n",
       "      <td>5.14661e+09</td>\n",
       "    </tr>\n",
       "    <tr>\n",
       "      <th>cuota_sector_real_comercio</th>\n",
       "      <td>9.52719e+06</td>\n",
       "      <td>NaN</td>\n",
       "      <td>NaN</td>\n",
       "      <td>NaN</td>\n",
       "      <td>434842</td>\n",
       "      <td>3.51279e+07</td>\n",
       "      <td>0</td>\n",
       "      <td>0</td>\n",
       "      <td>0</td>\n",
       "      <td>46000</td>\n",
       "      <td>4.995e+10</td>\n",
       "    </tr>\n",
       "    <tr>\n",
       "      <th>cupo_tc_mdo</th>\n",
       "      <td>9.52719e+06</td>\n",
       "      <td>NaN</td>\n",
       "      <td>NaN</td>\n",
       "      <td>NaN</td>\n",
       "      <td>1.11498e+07</td>\n",
       "      <td>3.57042e+07</td>\n",
       "      <td>0</td>\n",
       "      <td>0</td>\n",
       "      <td>3.08e+06</td>\n",
       "      <td>1.2152e+07</td>\n",
       "      <td>5.00216e+10</td>\n",
       "    </tr>\n",
       "    <tr>\n",
       "      <th>saldo_prom3_tdc_mdo</th>\n",
       "      <td>9.52719e+06</td>\n",
       "      <td>NaN</td>\n",
       "      <td>NaN</td>\n",
       "      <td>NaN</td>\n",
       "      <td>3.12894e+06</td>\n",
       "      <td>3.56571e+07</td>\n",
       "      <td>0</td>\n",
       "      <td>0</td>\n",
       "      <td>14666.7</td>\n",
       "      <td>2.664e+06</td>\n",
       "      <td>3.90032e+10</td>\n",
       "    </tr>\n",
       "    <tr>\n",
       "      <th>cuota_tc_mdo</th>\n",
       "      <td>9.52719e+06</td>\n",
       "      <td>NaN</td>\n",
       "      <td>NaN</td>\n",
       "      <td>NaN</td>\n",
       "      <td>641201</td>\n",
       "      <td>6.1406e+06</td>\n",
       "      <td>0</td>\n",
       "      <td>0</td>\n",
       "      <td>0</td>\n",
       "      <td>405000</td>\n",
       "      <td>9.77094e+09</td>\n",
       "    </tr>\n",
       "    <tr>\n",
       "      <th>saldo_no_rot_mdo</th>\n",
       "      <td>9.52719e+06</td>\n",
       "      <td>NaN</td>\n",
       "      <td>NaN</td>\n",
       "      <td>NaN</td>\n",
       "      <td>3.03602e+07</td>\n",
       "      <td>9.68545e+07</td>\n",
       "      <td>0</td>\n",
       "      <td>0</td>\n",
       "      <td>1.782e+06</td>\n",
       "      <td>2.8725e+07</td>\n",
       "      <td>4.66118e+10</td>\n",
       "    </tr>\n",
       "    <tr>\n",
       "      <th>cuota_libranza_sf</th>\n",
       "      <td>9.52719e+06</td>\n",
       "      <td>NaN</td>\n",
       "      <td>NaN</td>\n",
       "      <td>NaN</td>\n",
       "      <td>107628</td>\n",
       "      <td>1.25162e+06</td>\n",
       "      <td>0</td>\n",
       "      <td>0</td>\n",
       "      <td>0</td>\n",
       "      <td>0</td>\n",
       "      <td>3.00125e+08</td>\n",
       "    </tr>\n",
       "    <tr>\n",
       "      <th>cant_oblig_tot_sf</th>\n",
       "      <td>9.52719e+06</td>\n",
       "      <td>NaN</td>\n",
       "      <td>NaN</td>\n",
       "      <td>NaN</td>\n",
       "      <td>3.77411</td>\n",
       "      <td>3.75018</td>\n",
       "      <td>0</td>\n",
       "      <td>1</td>\n",
       "      <td>3</td>\n",
       "      <td>5</td>\n",
       "      <td>139</td>\n",
       "    </tr>\n",
       "    <tr>\n",
       "      <th>cant_cast_ult_12m_sr</th>\n",
       "      <td>9.52719e+06</td>\n",
       "      <td>NaN</td>\n",
       "      <td>NaN</td>\n",
       "      <td>NaN</td>\n",
       "      <td>0.179757</td>\n",
       "      <td>1.79651</td>\n",
       "      <td>0</td>\n",
       "      <td>0</td>\n",
       "      <td>0</td>\n",
       "      <td>0</td>\n",
       "      <td>528</td>\n",
       "    </tr>\n",
       "    <tr>\n",
       "      <th>ind</th>\n",
       "      <td>9.52718e+06</td>\n",
       "      <td>NaN</td>\n",
       "      <td>NaN</td>\n",
       "      <td>NaN</td>\n",
       "      <td>579880</td>\n",
       "      <td>4.10846e+07</td>\n",
       "      <td>-4.99424e+10</td>\n",
       "      <td>31351.9</td>\n",
       "      <td>766900</td>\n",
       "      <td>1.9416e+06</td>\n",
       "      <td>5.58683e+08</td>\n",
       "    </tr>\n",
       "    <tr>\n",
       "      <th>rep_calif_cred</th>\n",
       "      <td>9527193</td>\n",
       "      <td>9</td>\n",
       "      <td>A</td>\n",
       "      <td>2693172</td>\n",
       "      <td>NaN</td>\n",
       "      <td>NaN</td>\n",
       "      <td>NaN</td>\n",
       "      <td>NaN</td>\n",
       "      <td>NaN</td>\n",
       "      <td>NaN</td>\n",
       "      <td>NaN</td>\n",
       "    </tr>\n",
       "    <tr>\n",
       "      <th>pol_centr_ext</th>\n",
       "      <td>9.50455e+06</td>\n",
       "      <td>NaN</td>\n",
       "      <td>NaN</td>\n",
       "      <td>NaN</td>\n",
       "      <td>1.25699</td>\n",
       "      <td>3.07267</td>\n",
       "      <td>0</td>\n",
       "      <td>0</td>\n",
       "      <td>0</td>\n",
       "      <td>0</td>\n",
       "      <td>24</td>\n",
       "    </tr>\n",
       "    <tr>\n",
       "      <th>gasto_familiar</th>\n",
       "      <td>9.24553e+06</td>\n",
       "      <td>NaN</td>\n",
       "      <td>NaN</td>\n",
       "      <td>NaN</td>\n",
       "      <td>777723</td>\n",
       "      <td>1.53433e+06</td>\n",
       "      <td>-9.3e+06</td>\n",
       "      <td>186929</td>\n",
       "      <td>432153</td>\n",
       "      <td>895900</td>\n",
       "      <td>7.19017e+08</td>\n",
       "    </tr>\n",
       "  </tbody>\n",
       "</table>\n",
       "</div>"
      ]
     },
     "execution_count": 70,
     "metadata": {},
     "output_type": "execute_result"
    }
   ],
   "source": [
    "inputs.describe(include = 'all').T"
   ]
  },
  {
   "cell_type": "code",
   "execution_count": 71,
   "metadata": {},
   "outputs": [
    {
     "data": {
      "text/plain": [
       "id_registro                       object\n",
       "periodo                            int64\n",
       "id_cli                             int64\n",
       "fecha_nacimiento                 float64\n",
       "edad                             float64\n",
       "genero                            object\n",
       "estado_civil                      object\n",
       "nivel_academico                   object\n",
       "profesion                         object\n",
       "ocupacion                         object\n",
       "ult_actual                       float64\n",
       "categoria                        float64\n",
       "codigo_ciiu                      float64\n",
       "ind_mora_vigente                    bool\n",
       "cartera_castigada                   bool\n",
       "ciudad_residencia                 object\n",
       "mora_max                         float64\n",
       "cant_moras_30_ult_12_meses       float64\n",
       "cant_moras_60_ult_12_meses       float64\n",
       "cant_moras_90_ult_12_meses       float64\n",
       "cupo_total_tc                    float64\n",
       "tenencia_tc                         bool\n",
       "cuota_tc_bancolombia             float64\n",
       "tiene_consumo                       bool\n",
       "tiene_crediagil                     bool\n",
       "nro_tot_cuentas                  float64\n",
       "ctas_activas                     float64\n",
       "tiene_ctas_activas                  bool\n",
       "ctas_embargadas                  float64\n",
       "tiene_ctas_embargadas               bool\n",
       "pension_fopep                       bool\n",
       "tiene_cred_hipo_1                   bool\n",
       "tiene_cred_hipo_2                   bool\n",
       "mediana_nom3                     float64\n",
       "mediana_pen3                     float64\n",
       "ingreso_nompen                   float64\n",
       "ingreso_final                    float64\n",
       "cant_mora_30_tdc_ult_3m_sf       float64\n",
       "cant_mora_30_consum_ult_3m_sf    float64\n",
       "cuota_de_vivienda                float64\n",
       "cuota_de_consumo                 float64\n",
       "cuota_rotativos                  float64\n",
       "cuota_tarjeta_de_credito         float64\n",
       "cuota_de_sector_solidario        float64\n",
       "cuota_sector_real_comercio       float64\n",
       "cupo_tc_mdo                      float64\n",
       "saldo_prom3_tdc_mdo              float64\n",
       "cuota_tc_mdo                     float64\n",
       "saldo_no_rot_mdo                 float64\n",
       "cuota_libranza_sf                float64\n",
       "cant_oblig_tot_sf                float64\n",
       "cant_cast_ult_12m_sr             float64\n",
       "ind                              float64\n",
       "rep_calif_cred                    object\n",
       "pol_centr_ext                    float64\n",
       "gasto_familiar                   float64\n",
       "dtype: object"
      ]
     },
     "execution_count": 71,
     "metadata": {},
     "output_type": "execute_result"
    }
   ],
   "source": [
    "inputs.dtypes"
   ]
  },
  {
   "cell_type": "code",
   "execution_count": 72,
   "metadata": {
    "scrolled": true
   },
   "outputs": [
    {
     "name": "stderr",
     "output_type": "stream",
     "text": [
      "UserWarning: Distributing <class 'int'> object. This may take some time.\n"
     ]
    },
    {
     "name": "stdout",
     "output_type": "stream",
     "text": [
      "<class 'modin.pandas.dataframe.DataFrame'>\n",
      "Int64Index: 9527193 entries, 0 to 9527192\n",
      "Data columns (total 56 columns):\n",
      " #   Column                         Non-Null Count    Dtype  \n",
      "---  -----------------------------  ----------------  -----  \n",
      " 0   id_registro                    9527193 non-null  object\n",
      " 1   periodo                        9527193 non-null  int64\n",
      " 2   id_cli                         9527193 non-null  int64\n",
      " 3   fecha_nacimiento               9527193 non-null  float64\n",
      " 4   edad                           9527193 non-null  float64\n",
      " 5   genero                         9527193 non-null  object\n",
      " 6   estado_civil                   9526675 non-null  object\n",
      " 7   nivel_academico                9527193 non-null  object\n",
      " 8   profesion                      9477607 non-null  object\n",
      " 9   ocupacion                      9527177 non-null  object\n",
      " 10  ult_actual                     9527193 non-null  float64\n",
      " 11  categoria                      9523869 non-null  float64\n",
      " 12  codigo_ciiu                    9527193 non-null  float64\n",
      " 13  ind_mora_vigente               9527193 non-null  bool \n",
      " 14  cartera_castigada              9527193 non-null  bool \n",
      " 15  ciudad_residencia              9526350 non-null  object\n",
      " 16  mora_max                       9527193 non-null  float64\n",
      " 17  cant_moras_30_ult_12_meses     9527193 non-null  float64\n",
      " 18  cant_moras_60_ult_12_meses     9527193 non-null  float64\n",
      " 19  cant_moras_90_ult_12_meses     9527193 non-null  float64\n",
      " 20  cupo_total_tc                  9527193 non-null  float64\n",
      " 21  tenencia_tc                    9527193 non-null  bool \n",
      " 22  cuota_tc_bancolombia           9527193 non-null  float64\n",
      " 23  tiene_consumo                  9527193 non-null  bool \n",
      " 24  tiene_crediagil                9527193 non-null  bool \n",
      " 25  nro_tot_cuentas                9527193 non-null  float64\n",
      " 26  ctas_activas                   9527193 non-null  float64\n",
      " 27  tiene_ctas_activas             9527193 non-null  bool \n",
      " 28  ctas_embargadas                9527193 non-null  float64\n",
      " 29  tiene_ctas_embargadas          9527193 non-null  bool \n",
      " 30  pension_fopep                  9527193 non-null  bool \n",
      " 31  tiene_cred_hipo_1              9527193 non-null  bool \n",
      " 32  tiene_cred_hipo_2              9527193 non-null  bool \n",
      " 33  mediana_nom3                   9527193 non-null  float64\n",
      " 34  mediana_pen3                   9527193 non-null  float64\n",
      " 35  ingreso_nompen                 9527193 non-null  float64\n",
      " 36  ingreso_final                  9527193 non-null  float64\n",
      " 37  cant_mora_30_tdc_ult_3m_sf     9527193 non-null  float64\n",
      " 38  cant_mora_30_consum_ult_3m_sf  9527193 non-null  float64\n",
      " 39  cuota_de_vivienda              9527193 non-null  float64\n",
      " 40  cuota_de_consumo               9527193 non-null  float64\n",
      " 41  cuota_rotativos                9527193 non-null  float64\n",
      " 42  cuota_tarjeta_de_credito       9527193 non-null  float64\n",
      " 43  cuota_de_sector_solidario      9527193 non-null  float64\n",
      " 44  cuota_sector_real_comercio     9527193 non-null  float64\n",
      " 45  cupo_tc_mdo                    9527193 non-null  float64\n",
      " 46  saldo_prom3_tdc_mdo            9527193 non-null  float64\n",
      " 47  cuota_tc_mdo                   9527193 non-null  float64\n",
      " 48  saldo_no_rot_mdo               9527193 non-null  float64\n",
      " 49  cuota_libranza_sf              9527193 non-null  float64\n",
      " 50  cant_oblig_tot_sf              9527193 non-null  float64\n",
      " 51  cant_cast_ult_12m_sr           9527193 non-null  float64\n",
      " 52  ind                            9527176 non-null  float64\n",
      " 53  rep_calif_cred                 9527193 non-null  object\n",
      " 54  pol_centr_ext                  9504554 non-null  float64\n",
      " 55  gasto_familiar                 9245527 non-null  float64\n",
      "dtypes: float64(36), bool(10), object(8), int64(2)\n",
      "memory usage: 3.4 GB\n"
     ]
    }
   ],
   "source": [
    "inputs.info()"
   ]
  },
  {
   "cell_type": "code",
   "execution_count": 73,
   "metadata": {},
   "outputs": [
    {
     "name": "stderr",
     "output_type": "stream",
     "text": [
      "UserWarning: `DataFrame.to_csv` defaulting to pandas implementation.\n",
      "UserWarning: Distributing <class 'pandas.core.frame.DataFrame'> object. This may take some time.\n"
     ]
    }
   ],
   "source": [
    "inputs.to_csv('/mnt/workstation/data/Alomarrano/test_inputs3.csv')"
   ]
  },
  {
   "cell_type": "code",
   "execution_count": null,
   "metadata": {},
   "outputs": [],
   "source": []
  }
 ],
 "metadata": {
  "kernelspec": {
   "display_name": "Python 3",
   "language": "python",
   "name": "python3"
  },
  "language_info": {
   "codemirror_mode": {
    "name": "ipython",
    "version": 3
   },
   "file_extension": ".py",
   "mimetype": "text/x-python",
   "name": "python",
   "nbconvert_exporter": "python",
   "pygments_lexer": "ipython3",
   "version": "3.6.3"
  }
 },
 "nbformat": 4,
 "nbformat_minor": 4
}
